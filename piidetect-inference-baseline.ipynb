{
 "cells": [
  {
   "cell_type": "markdown",
   "id": "e21a5415",
   "metadata": {
    "papermill": {
     "duration": 0.004374,
     "end_time": "2024-03-05T17:49:14.508008",
     "exception": false,
     "start_time": "2024-03-05T17:49:14.503634",
     "status": "completed"
    },
    "tags": []
   },
   "source": [
    "## Training Notebook\n",
    "​\n",
    "# Overview\n",
    "    - Ran on kaggle CPU\n",
    "    - Model fined using https://www.kaggle.com/code/jonathankasprisin/piidetect-training-baseline/edit\n",
    "# To try\n",
    "I retrained the model with new data selection and data cleaning\n",
    "Doing this brought the LB score to .888 - Trained in Kaggle Notebook, no tricks or secrets.\n",
    "I got .890 by adding the trick decscribed here: https://www.kaggle.com/competitions/pii-detection-removal-from-educational-data/discussion/470978 https://www.kaggle.com/competitions/pii-detection-removal-from-educational-data/discussion/470978\n",
    "Adding more data by PJ Mathematician (https://www.kaggle.com/competitions/pii-detection-removal-from-educational-data/discussion/470921) increased to .893\n",
    "\n",
    "changing lr to 2e-5 (before 5e-5) increased to .903\n",
    "\n",
    "# Credit\n",
    "- https://www.kaggle.com/code/valentinwerner/915-deberta3base-inference"
   ]
  },
  {
   "cell_type": "markdown",
   "id": "5b58f36d",
   "metadata": {
    "papermill": {
     "duration": 0.00344,
     "end_time": "2024-03-05T17:49:14.515516",
     "exception": false,
     "start_time": "2024-03-05T17:49:14.512076",
     "status": "completed"
    },
    "tags": []
   },
   "source": [
    "## Config and import"
   ]
  },
  {
   "cell_type": "code",
   "execution_count": 1,
   "id": "12f6968c",
   "metadata": {
    "execution": {
     "iopub.execute_input": "2024-03-05T17:49:14.525080Z",
     "iopub.status.busy": "2024-03-05T17:49:14.524082Z",
     "iopub.status.idle": "2024-03-05T17:49:14.535186Z",
     "shell.execute_reply": "2024-03-05T17:49:14.534373Z"
    },
    "papermill": {
     "duration": 0.017963,
     "end_time": "2024-03-05T17:49:14.537113",
     "exception": false,
     "start_time": "2024-03-05T17:49:14.519150",
     "status": "completed"
    },
    "tags": []
   },
   "outputs": [],
   "source": [
    "#Submission vs Cross Validation Flag\n",
    "SUBMISSION = False"
   ]
  },
  {
   "cell_type": "code",
   "execution_count": 2,
   "id": "0fd48c64",
   "metadata": {
    "execution": {
     "iopub.execute_input": "2024-03-05T17:49:14.547709Z",
     "iopub.status.busy": "2024-03-05T17:49:14.546213Z",
     "iopub.status.idle": "2024-03-05T17:49:37.644138Z",
     "shell.execute_reply": "2024-03-05T17:49:37.643075Z"
    },
    "papermill": {
     "duration": 23.105387,
     "end_time": "2024-03-05T17:49:37.646587",
     "exception": false,
     "start_time": "2024-03-05T17:49:14.541200",
     "status": "completed"
    },
    "tags": []
   },
   "outputs": [
    {
     "name": "stderr",
     "output_type": "stream",
     "text": [
      "2024-03-05 17:49:26.526159: E external/local_xla/xla/stream_executor/cuda/cuda_dnn.cc:9261] Unable to register cuDNN factory: Attempting to register factory for plugin cuDNN when one has already been registered\n",
      "2024-03-05 17:49:26.526299: E external/local_xla/xla/stream_executor/cuda/cuda_fft.cc:607] Unable to register cuFFT factory: Attempting to register factory for plugin cuFFT when one has already been registered\n",
      "2024-03-05 17:49:26.709474: E external/local_xla/xla/stream_executor/cuda/cuda_blas.cc:1515] Unable to register cuBLAS factory: Attempting to register factory for plugin cuBLAS when one has already been registered\n"
     ]
    }
   ],
   "source": [
    "from pathlib import Path\n",
    "import os\n",
    "\n",
    "import json\n",
    "import argparse\n",
    "from itertools import chain\n",
    "from functools import partial\n",
    "\n",
    "import torch\n",
    "from transformers import AutoTokenizer, Trainer, TrainingArguments\n",
    "from transformers import AutoModelForTokenClassification, DataCollatorForTokenClassification\n",
    "from datasets import Dataset, features\n",
    "import numpy as np\n",
    "import pandas as pd"
   ]
  },
  {
   "cell_type": "code",
   "execution_count": 3,
   "id": "fc0c7aef",
   "metadata": {
    "execution": {
     "iopub.execute_input": "2024-03-05T17:49:37.666074Z",
     "iopub.status.busy": "2024-03-05T17:49:37.665368Z",
     "iopub.status.idle": "2024-03-05T17:49:37.672212Z",
     "shell.execute_reply": "2024-03-05T17:49:37.671430Z"
    },
    "papermill": {
     "duration": 0.015705,
     "end_time": "2024-03-05T17:49:37.674293",
     "exception": false,
     "start_time": "2024-03-05T17:49:37.658588",
     "status": "completed"
    },
    "tags": []
   },
   "outputs": [
    {
     "name": "stdout",
     "output_type": "stream",
     "text": [
      "../input/pii-detection-removal-from-educational-data/sample_submission.csv\n",
      "../input/pii-detection-removal-from-educational-data/train.json\n",
      "../input/pii-detection-removal-from-educational-data/test.json\n"
     ]
    }
   ],
   "source": [
    "DATA_PATH = '../input/pii-detection-removal-from-educational-data'\n",
    "INFERENCE_MODEL_PATH = \"/kaggle/input/piidetect-training-baseline/deberta3base_pii2d_1024_v1\"\n",
    "INFERENCE_MAX_LENGTH = 1024\n",
    "OUTPUT_DIR = \"/kaggle/working/\"\n",
    "\n",
    "#print files with pathname\n",
    "for dirname, _, filenames in os.walk(DATA_PATH):\n",
    "    for filename in filenames:\n",
    "        print(os.path.join(dirname, filename))"
   ]
  },
  {
   "cell_type": "markdown",
   "id": "5bf56c46",
   "metadata": {
    "papermill": {
     "duration": 0.003699,
     "end_time": "2024-03-05T17:49:37.682063",
     "exception": false,
     "start_time": "2024-03-05T17:49:37.678364",
     "status": "completed"
    },
    "tags": []
   },
   "source": [
    "## Helper functions"
   ]
  },
  {
   "cell_type": "markdown",
   "id": "4b6473a0",
   "metadata": {
    "papermill": {
     "duration": 0.003692,
     "end_time": "2024-03-05T17:49:37.689552",
     "exception": false,
     "start_time": "2024-03-05T17:49:37.685860",
     "status": "completed"
    },
    "tags": []
   },
   "source": [
    "## Competition functions"
   ]
  },
  {
   "cell_type": "code",
   "execution_count": 4,
   "id": "8638e812",
   "metadata": {
    "execution": {
     "iopub.execute_input": "2024-03-05T17:49:37.699304Z",
     "iopub.status.busy": "2024-03-05T17:49:37.698680Z",
     "iopub.status.idle": "2024-03-05T17:49:37.706194Z",
     "shell.execute_reply": "2024-03-05T17:49:37.705162Z"
    },
    "papermill": {
     "duration": 0.015003,
     "end_time": "2024-03-05T17:49:37.708383",
     "exception": false,
     "start_time": "2024-03-05T17:49:37.693380",
     "status": "completed"
    },
    "tags": []
   },
   "outputs": [],
   "source": [
    "def infer_tokenize(example, tokenizer):\n",
    "    \"\"\"\n",
    "    Tokenize an example for NER using the given tokenizer.\n",
    "\n",
    "    Args:\n",
    "        example (dict): A dictionary containing \"tokens\" and \"trailing_whitespace\" lists.\n",
    "            - \"tokens\": A list of token strings.\n",
    "            - \"trailing_whitespace\": A list of boolean values indicating whether each token has trailing whitespace.\n",
    "        tokenizer: The tokenizer to use for tokenization.\n",
    "\n",
    "    Returns:\n",
    "        dict: A dictionary containing tokenized output, including offsets mapping and token map.\n",
    "            - \"input_ids\": List of token IDs.\n",
    "            - \"attention_mask\": List of attention mask values.\n",
    "            - \"offset_mapping\": List of character offsets for each token.\n",
    "            - \"token_map\": List mapping each input token to its original position in the example.\n",
    "            \n",
    "    Reference: https://www.kaggle.com/code/valentinwerner/893-deberta3base-Inference\n",
    "    \"\"\"\n",
    "    #empty list to store text and tokens in respective map\n",
    "    text = []\n",
    "    token_map = []\n",
    "    \n",
    "    #keep track of tokens\n",
    "    idx = 0\n",
    "    \n",
    "    #for the example go through tokens and whitespace\n",
    "    for t, ws in zip(example[\"tokens\"], example[\"trailing_whitespace\"]):\n",
    "        \n",
    "        #add token to text\n",
    "        text.append(t)\n",
    "        #extend token length number of idx\n",
    "        token_map.extend([idx]*len(t))\n",
    "        #for whitespace add a space to text and label -1 in token map\n",
    "        if ws:\n",
    "            text.append(\" \")\n",
    "            token_map.append(-1)\n",
    "            \n",
    "        idx += 1\n",
    "        \n",
    "    #Tokenize the text and return offset mapping with the token map    \n",
    "    tokenized = tokenizer(\"\".join(text), return_offsets_mapping=True, truncation=True, max_length=INFERENCE_MAX_LENGTH)\n",
    "    \n",
    "        \n",
    "    return {\n",
    "        **tokenized,\n",
    "        \"token_map\": token_map,\n",
    "    }"
   ]
  },
  {
   "cell_type": "markdown",
   "id": "90127aba",
   "metadata": {
    "papermill": {
     "duration": 0.003924,
     "end_time": "2024-03-05T17:49:37.716631",
     "exception": false,
     "start_time": "2024-03-05T17:49:37.712707",
     "status": "completed"
    },
    "tags": []
   },
   "source": [
    "# Tokenizer from Training"
   ]
  },
  {
   "cell_type": "markdown",
   "id": "5c9f3eb4",
   "metadata": {
    "papermill": {
     "duration": 0.003861,
     "end_time": "2024-03-05T17:49:37.724632",
     "exception": false,
     "start_time": "2024-03-05T17:49:37.720771",
     "status": "completed"
    },
    "tags": []
   },
   "source": [
    "# Load Data and Model"
   ]
  },
  {
   "cell_type": "code",
   "execution_count": 5,
   "id": "cfbeb3a7",
   "metadata": {
    "execution": {
     "iopub.execute_input": "2024-03-05T17:49:37.734742Z",
     "iopub.status.busy": "2024-03-05T17:49:37.734139Z",
     "iopub.status.idle": "2024-03-05T17:49:43.898446Z",
     "shell.execute_reply": "2024-03-05T17:49:43.897515Z"
    },
    "papermill": {
     "duration": 6.171956,
     "end_time": "2024-03-05T17:49:43.900670",
     "exception": false,
     "start_time": "2024-03-05T17:49:37.728714",
     "status": "completed"
    },
    "tags": []
   },
   "outputs": [],
   "source": [
    "tokenizer = AutoTokenizer.from_pretrained(INFERENCE_MODEL_PATH)\n",
    "\n",
    "model = AutoModelForTokenClassification.from_pretrained(INFERENCE_MODEL_PATH)\n",
    "collator = DataCollatorForTokenClassification(tokenizer, pad_to_multiple_of=16)"
   ]
  },
  {
   "cell_type": "code",
   "execution_count": 6,
   "id": "a5827228",
   "metadata": {
    "execution": {
     "iopub.execute_input": "2024-03-05T17:49:43.911951Z",
     "iopub.status.busy": "2024-03-05T17:49:43.910203Z",
     "iopub.status.idle": "2024-03-05T17:51:55.508043Z",
     "shell.execute_reply": "2024-03-05T17:51:55.506980Z"
    },
    "papermill": {
     "duration": 131.605545,
     "end_time": "2024-03-05T17:51:55.510482",
     "exception": false,
     "start_time": "2024-03-05T17:49:43.904937",
     "status": "completed"
    },
    "tags": []
   },
   "outputs": [
    {
     "data": {
      "application/vnd.jupyter.widget-view+json": {
       "model_id": "bc059bc67f4f4131a982c995e8818fd2",
       "version_major": 2,
       "version_minor": 0
      },
      "text/plain": [
       "  0%|          | 0/6807 [00:00<?, ?ex/s]"
      ]
     },
     "metadata": {},
     "output_type": "display_data"
    }
   ],
   "source": [
    "\n",
    "#data from orginal training json\n",
    "if SUBMISSION:\n",
    "    data = json.load(open(DATA_PATH+ \"/test.json\"))\n",
    "else: \n",
    "    #TODO: make validation set \"/validation.json\"\n",
    "    data = json.load(open(DATA_PATH+\"/train.json\"))\n",
    "\n",
    "#convert to hugging face Dataset object\n",
    "ds = Dataset.from_dict({\n",
    "    \"full_text\": [x[\"full_text\"] for x in data],\n",
    "    \"document\": [str(x[\"document\"]) for x in data],\n",
    "    \"tokens\": [x[\"tokens\"] for x in data],\n",
    "    \"trailing_whitespace\": [x[\"trailing_whitespace\"] for x in data]\n",
    "})\n",
    "\n",
    "# Map the tokenize function to your dataset\n",
    "ds = ds.map(\n",
    "    infer_tokenize,\n",
    "    fn_kwargs={      # pass keyword args\n",
    "        \"tokenizer\": tokenizer\n",
    "    }, \n",
    "    num_proc=1   #issue with multithreading so went with 1\n",
    ")"
   ]
  },
  {
   "cell_type": "code",
   "execution_count": 7,
   "id": "ff974518",
   "metadata": {
    "execution": {
     "iopub.execute_input": "2024-03-05T17:51:55.521698Z",
     "iopub.status.busy": "2024-03-05T17:51:55.520801Z",
     "iopub.status.idle": "2024-03-05T17:51:55.550676Z",
     "shell.execute_reply": "2024-03-05T17:51:55.549255Z"
    },
    "papermill": {
     "duration": 0.038191,
     "end_time": "2024-03-05T17:51:55.553202",
     "exception": false,
     "start_time": "2024-03-05T17:51:55.515011",
     "status": "completed"
    },
    "tags": []
   },
   "outputs": [],
   "source": [
    "#Configure trainer\n",
    "training_args = TrainingArguments(\n",
    "    output_dir= OUTPUT_DIR,  # Directory to save checkpoints and logs\n",
    "    #fp16 =True,               #mix-precision training on 16 bit to reduce memory and speed up training\n",
    "    #learning_rate=2e-5,       # intial learning rate\n",
    "    gradient_accumulation_steps=2,  #how many batches to acculumate gradient before optimization if batch size limited by GPU memory\n",
    "    report_to=\"none\",        #where training report progress, \"none\" prevents wandb login\n",
    "    num_train_epochs=3,      # Number of training epochs\n",
    "    #per_device_train_batch_size=4,  # Batch size based per GPU\n",
    "    per_device_eval_batch_size=1,\n",
    "    #save_steps=500,          # Save model checkpoints every X steps\n",
    "    do_eval = False,          #whether or not to perform eval during training\n",
    "    evaluation_strategy=\"no\",    # When to evaluate during training {no, steps or epoch}\n",
    "    #eval_steps=100,          # Evaluate every X steps if stretegy is \"steps\"\n",
    "    #logging_dir=OUTPUT_DIR+\"/logs\",    # Directory to save training logs\n",
    "    logging_steps=100,       # Log training progress every X steps\n",
    "    #load_best_model_at_end=True,   # Load the best model at the end of training\n",
    "    metric_for_best_model=\"f5\",  # Metric to determine the best model (\"accuracy\", f1...)\n",
    "    #greater_is_better=True,      # if higher eval metric is better. True for f1 and acc\n",
    "    save_total_limit=1,      # how many checkpoints to keep at end (1 means most recent)\n",
    "    #lr_scheduler_type='cosine', #\n",
    "    #warmup_ratio=0.1,           #steps to gradually increase learning rate. can help stabalize training at begining\n",
    "    #weight_decay=0.01,          # l2 regularization to prevent overfitting\n",
    "    \n",
    ")\n",
    "\n",
    "#inialize trainer for training and evaluation interface\n",
    "trainer = Trainer(\n",
    "    model=model, \n",
    "    args=training_args, \n",
    "    data_collator=collator, \n",
    "    tokenizer=tokenizer,\n",
    ")"
   ]
  },
  {
   "cell_type": "markdown",
   "id": "e70a22b8",
   "metadata": {
    "papermill": {
     "duration": 0.00401,
     "end_time": "2024-03-05T17:51:55.561739",
     "exception": false,
     "start_time": "2024-03-05T17:51:55.557729",
     "status": "completed"
    },
    "tags": []
   },
   "source": [
    "# Prediction"
   ]
  },
  {
   "cell_type": "code",
   "execution_count": 8,
   "id": "d3e16333",
   "metadata": {
    "execution": {
     "iopub.execute_input": "2024-03-05T17:51:55.571681Z",
     "iopub.status.busy": "2024-03-05T17:51:55.571325Z",
     "iopub.status.idle": "2024-03-05T17:51:55.578384Z",
     "shell.execute_reply": "2024-03-05T17:51:55.577388Z"
    },
    "papermill": {
     "duration": 0.014541,
     "end_time": "2024-03-05T17:51:55.580402",
     "exception": true,
     "start_time": "2024-03-05T17:51:55.565861",
     "status": "failed"
    },
    "tags": []
   },
   "outputs": [
    {
     "name": "stderr",
     "output_type": "stream",
     "text": [
      "UsageError: Line magic function `%%time` not found.\n"
     ]
    }
   ],
   "source": [
    "from scipy.special import softmax\n",
    "\n",
    "#magic command to time the cell execution\n",
    "%%time\n",
    "#get predictions from model\n",
    "predictions = trainer.predict(ds).predictions\n",
    "\n",
    "#scale long last dimension to probilities for interpretability\n",
    "pred_softmax = softmax(predictions, axis = -1)\n",
    "\n",
    "#load id2label configuration from model\n",
    "config = json.load(open(INFERENCE_MODEL_PATH + \"/config.json\"))\n",
    "id2label = config[\"id2label\"]\n",
    "\n",
    "#Choose label with max probability\n",
    "preds_final = predictions.argmax(-1)\n",
    "\n",
    "#To try\n",
    "# #split predictions of entity to outside entity\n",
    "# preds = predictions.argmax(-1)\n",
    "# preds_without_O = pred_softmax[:,:,:12].argmax(-1)\n",
    "# O_preds = pred_softmax[:,:,12]\n",
    "\n",
    "# #include NER label if O probability is less than threshold\n",
    "# threshold = 0.9\n",
    "# preds_final = np.where(O_preds < threshold, preds_without_O , preds)"
   ]
  },
  {
   "cell_type": "markdown",
   "id": "8a0db96d",
   "metadata": {
    "papermill": {
     "duration": null,
     "end_time": null,
     "exception": null,
     "start_time": null,
     "status": "pending"
    },
    "tags": []
   },
   "source": [
    "# Process preditions and submit"
   ]
  },
  {
   "cell_type": "code",
   "execution_count": null,
   "id": "76359a67",
   "metadata": {
    "papermill": {
     "duration": null,
     "end_time": null,
     "exception": null,
     "start_time": null,
     "status": "pending"
    },
    "tags": []
   },
   "outputs": [],
   "source": [
    "#Create lists of submission information \n",
    "triplets = []\n",
    "document, token, label, token_str = [], [], [], []\n",
    "\n",
    "for p, token_map, offsets, tokens, doc in zip(preds_final, ds[\"token_map\"], ds[\"offset_mapping\"], ds[\"tokens\"], ds[\"document\"]):\n",
    "\n",
    "    # iterate through each prediction and its offset\n",
    "    for token_pred, (start_idx, end_idx) in zip(p, offsets):\n",
    "        label_pred = id2label[str(token_pred)]  #predicted label\n",
    "\n",
    "        if start_idx + end_idx == 0: continue   #for special token or padding token\n",
    "\n",
    "        if token_map[start_idx] == -1:  #label is for ws so go to next\n",
    "            start_idx += 1\n",
    "\n",
    "        # ignore leading white space token \"\\n\\n\"\n",
    "        while start_idx < len(token_map) and tokens[token_map[start_idx]].isspace():\n",
    "            start_idx += 1\n",
    "            \n",
    "        #break if index exceeds the length of token mapping\n",
    "        if start_idx >= len(token_map): break\n",
    "        \n",
    "        token_id = token_map[start_idx]  #token ID at start of index\n",
    "\n",
    "        # ignore \"O\" predictions and whitespace preds\n",
    "        if label_pred != \"O\" and token_id != -1:\n",
    "            triplet = (label_pred, token_id, tokens[token_id])\n",
    "\n",
    "            #add triplet if not in list of triplets\n",
    "            if triplet not in triplets:\n",
    "                document.append(doc)\n",
    "                token.append(token_id)\n",
    "                label.append(label_pred)\n",
    "                token_str.append(tokens[token_id])\n",
    "                triplets.append(triplet)"
   ]
  },
  {
   "cell_type": "code",
   "execution_count": null,
   "id": "f9873ff0",
   "metadata": {
    "papermill": {
     "duration": null,
     "end_time": null,
     "exception": null,
     "start_time": null,
     "status": "pending"
    },
    "tags": []
   },
   "outputs": [],
   "source": [
    "df = pd.DataFrame({\n",
    "    \"document\": document,\n",
    "    \"token\": token,\n",
    "    \"label\": label,\n",
    "    \"token_str\": token_str\n",
    "})\n",
    "\n",
    "#assign each row a unique row id\n",
    "df[\"row_id\"] = list(range(len(df)))\n",
    "display(df.head(10))\n"
   ]
  },
  {
   "cell_type": "code",
   "execution_count": null,
   "id": "a6a5bc58",
   "metadata": {
    "papermill": {
     "duration": null,
     "end_time": null,
     "exception": null,
     "start_time": null,
     "status": "pending"
    },
    "tags": []
   },
   "outputs": [],
   "source": [
    "if SUBMISSION:\n",
    "    #send to csv for submission or further work\n",
    "    df[[\"row_id\", \"document\", \"token\", \"label\"]].to_csv(\"submission.csv\", index=False)"
   ]
  }
 ],
 "metadata": {
  "kaggle": {
   "accelerator": "none",
   "dataSources": [
    {
     "databundleVersionId": 7500999,
     "sourceId": 66653,
     "sourceType": "competition"
    },
    {
     "sourceId": 164326253,
     "sourceType": "kernelVersion"
    }
   ],
   "dockerImageVersionId": 30664,
   "isGpuEnabled": false,
   "isInternetEnabled": true,
   "language": "python",
   "sourceType": "notebook"
  },
  "kernelspec": {
   "display_name": "Python 3",
   "language": "python",
   "name": "python3"
  },
  "language_info": {
   "codemirror_mode": {
    "name": "ipython",
    "version": 3
   },
   "file_extension": ".py",
   "mimetype": "text/x-python",
   "name": "python",
   "nbconvert_exporter": "python",
   "pygments_lexer": "ipython3",
   "version": "3.10.13"
  },
  "papermill": {
   "default_parameters": {},
   "duration": 167.087705,
   "end_time": "2024-03-05T17:51:58.962961",
   "environment_variables": {},
   "exception": true,
   "input_path": "__notebook__.ipynb",
   "output_path": "__notebook__.ipynb",
   "parameters": {},
   "start_time": "2024-03-05T17:49:11.875256",
   "version": "2.5.0"
  },
  "widgets": {
   "application/vnd.jupyter.widget-state+json": {
    "state": {
     "32811991066943969aa600dce2a19d65": {
      "model_module": "@jupyter-widgets/base",
      "model_module_version": "1.2.0",
      "model_name": "LayoutModel",
      "state": {
       "_model_module": "@jupyter-widgets/base",
       "_model_module_version": "1.2.0",
       "_model_name": "LayoutModel",
       "_view_count": null,
       "_view_module": "@jupyter-widgets/base",
       "_view_module_version": "1.2.0",
       "_view_name": "LayoutView",
       "align_content": null,
       "align_items": null,
       "align_self": null,
       "border": null,
       "bottom": null,
       "display": null,
       "flex": null,
       "flex_flow": null,
       "grid_area": null,
       "grid_auto_columns": null,
       "grid_auto_flow": null,
       "grid_auto_rows": null,
       "grid_column": null,
       "grid_gap": null,
       "grid_row": null,
       "grid_template_areas": null,
       "grid_template_columns": null,
       "grid_template_rows": null,
       "height": null,
       "justify_content": null,
       "justify_items": null,
       "left": null,
       "margin": null,
       "max_height": null,
       "max_width": null,
       "min_height": null,
       "min_width": null,
       "object_fit": null,
       "object_position": null,
       "order": null,
       "overflow": null,
       "overflow_x": null,
       "overflow_y": null,
       "padding": null,
       "right": null,
       "top": null,
       "visibility": null,
       "width": null
      }
     },
     "41e5f0c8524441a38fa54062553b1fd3": {
      "model_module": "@jupyter-widgets/base",
      "model_module_version": "1.2.0",
      "model_name": "LayoutModel",
      "state": {
       "_model_module": "@jupyter-widgets/base",
       "_model_module_version": "1.2.0",
       "_model_name": "LayoutModel",
       "_view_count": null,
       "_view_module": "@jupyter-widgets/base",
       "_view_module_version": "1.2.0",
       "_view_name": "LayoutView",
       "align_content": null,
       "align_items": null,
       "align_self": null,
       "border": null,
       "bottom": null,
       "display": null,
       "flex": null,
       "flex_flow": null,
       "grid_area": null,
       "grid_auto_columns": null,
       "grid_auto_flow": null,
       "grid_auto_rows": null,
       "grid_column": null,
       "grid_gap": null,
       "grid_row": null,
       "grid_template_areas": null,
       "grid_template_columns": null,
       "grid_template_rows": null,
       "height": null,
       "justify_content": null,
       "justify_items": null,
       "left": null,
       "margin": null,
       "max_height": null,
       "max_width": null,
       "min_height": null,
       "min_width": null,
       "object_fit": null,
       "object_position": null,
       "order": null,
       "overflow": null,
       "overflow_x": null,
       "overflow_y": null,
       "padding": null,
       "right": null,
       "top": null,
       "visibility": null,
       "width": null
      }
     },
     "6536bd033f6448b1bfd1db4be8dbd2b8": {
      "model_module": "@jupyter-widgets/base",
      "model_module_version": "1.2.0",
      "model_name": "LayoutModel",
      "state": {
       "_model_module": "@jupyter-widgets/base",
       "_model_module_version": "1.2.0",
       "_model_name": "LayoutModel",
       "_view_count": null,
       "_view_module": "@jupyter-widgets/base",
       "_view_module_version": "1.2.0",
       "_view_name": "LayoutView",
       "align_content": null,
       "align_items": null,
       "align_self": null,
       "border": null,
       "bottom": null,
       "display": null,
       "flex": null,
       "flex_flow": null,
       "grid_area": null,
       "grid_auto_columns": null,
       "grid_auto_flow": null,
       "grid_auto_rows": null,
       "grid_column": null,
       "grid_gap": null,
       "grid_row": null,
       "grid_template_areas": null,
       "grid_template_columns": null,
       "grid_template_rows": null,
       "height": null,
       "justify_content": null,
       "justify_items": null,
       "left": null,
       "margin": null,
       "max_height": null,
       "max_width": null,
       "min_height": null,
       "min_width": null,
       "object_fit": null,
       "object_position": null,
       "order": null,
       "overflow": null,
       "overflow_x": null,
       "overflow_y": null,
       "padding": null,
       "right": null,
       "top": null,
       "visibility": null,
       "width": null
      }
     },
     "74443a6db6294e9ca48b579e34877dc6": {
      "model_module": "@jupyter-widgets/controls",
      "model_module_version": "1.5.0",
      "model_name": "DescriptionStyleModel",
      "state": {
       "_model_module": "@jupyter-widgets/controls",
       "_model_module_version": "1.5.0",
       "_model_name": "DescriptionStyleModel",
       "_view_count": null,
       "_view_module": "@jupyter-widgets/base",
       "_view_module_version": "1.2.0",
       "_view_name": "StyleView",
       "description_width": ""
      }
     },
     "7a079ddb6e9249219087674de7884952": {
      "model_module": "@jupyter-widgets/controls",
      "model_module_version": "1.5.0",
      "model_name": "FloatProgressModel",
      "state": {
       "_dom_classes": [],
       "_model_module": "@jupyter-widgets/controls",
       "_model_module_version": "1.5.0",
       "_model_name": "FloatProgressModel",
       "_view_count": null,
       "_view_module": "@jupyter-widgets/controls",
       "_view_module_version": "1.5.0",
       "_view_name": "ProgressView",
       "bar_style": "success",
       "description": "",
       "description_tooltip": null,
       "layout": "IPY_MODEL_32811991066943969aa600dce2a19d65",
       "max": 6807.0,
       "min": 0.0,
       "orientation": "horizontal",
       "style": "IPY_MODEL_e27c59fafff445628ff85913e35c3f77",
       "value": 6807.0
      }
     },
     "a52ac0b15da74c1a8bdb25f61c4334f6": {
      "model_module": "@jupyter-widgets/controls",
      "model_module_version": "1.5.0",
      "model_name": "HTMLModel",
      "state": {
       "_dom_classes": [],
       "_model_module": "@jupyter-widgets/controls",
       "_model_module_version": "1.5.0",
       "_model_name": "HTMLModel",
       "_view_count": null,
       "_view_module": "@jupyter-widgets/controls",
       "_view_module_version": "1.5.0",
       "_view_name": "HTMLView",
       "description": "",
       "description_tooltip": null,
       "layout": "IPY_MODEL_6536bd033f6448b1bfd1db4be8dbd2b8",
       "placeholder": "​",
       "style": "IPY_MODEL_74443a6db6294e9ca48b579e34877dc6",
       "value": "100%"
      }
     },
     "aaad435a94774296b58d38340c9bf33a": {
      "model_module": "@jupyter-widgets/controls",
      "model_module_version": "1.5.0",
      "model_name": "DescriptionStyleModel",
      "state": {
       "_model_module": "@jupyter-widgets/controls",
       "_model_module_version": "1.5.0",
       "_model_name": "DescriptionStyleModel",
       "_view_count": null,
       "_view_module": "@jupyter-widgets/base",
       "_view_module_version": "1.2.0",
       "_view_name": "StyleView",
       "description_width": ""
      }
     },
     "bc059bc67f4f4131a982c995e8818fd2": {
      "model_module": "@jupyter-widgets/controls",
      "model_module_version": "1.5.0",
      "model_name": "HBoxModel",
      "state": {
       "_dom_classes": [],
       "_model_module": "@jupyter-widgets/controls",
       "_model_module_version": "1.5.0",
       "_model_name": "HBoxModel",
       "_view_count": null,
       "_view_module": "@jupyter-widgets/controls",
       "_view_module_version": "1.5.0",
       "_view_name": "HBoxView",
       "box_style": "",
       "children": [
        "IPY_MODEL_a52ac0b15da74c1a8bdb25f61c4334f6",
        "IPY_MODEL_7a079ddb6e9249219087674de7884952",
        "IPY_MODEL_f18ef92b02754c9b85624b6779570a05"
       ],
       "layout": "IPY_MODEL_ca6e150bb3be49c49449925ef0043bfb"
      }
     },
     "ca6e150bb3be49c49449925ef0043bfb": {
      "model_module": "@jupyter-widgets/base",
      "model_module_version": "1.2.0",
      "model_name": "LayoutModel",
      "state": {
       "_model_module": "@jupyter-widgets/base",
       "_model_module_version": "1.2.0",
       "_model_name": "LayoutModel",
       "_view_count": null,
       "_view_module": "@jupyter-widgets/base",
       "_view_module_version": "1.2.0",
       "_view_name": "LayoutView",
       "align_content": null,
       "align_items": null,
       "align_self": null,
       "border": null,
       "bottom": null,
       "display": null,
       "flex": null,
       "flex_flow": null,
       "grid_area": null,
       "grid_auto_columns": null,
       "grid_auto_flow": null,
       "grid_auto_rows": null,
       "grid_column": null,
       "grid_gap": null,
       "grid_row": null,
       "grid_template_areas": null,
       "grid_template_columns": null,
       "grid_template_rows": null,
       "height": null,
       "justify_content": null,
       "justify_items": null,
       "left": null,
       "margin": null,
       "max_height": null,
       "max_width": null,
       "min_height": null,
       "min_width": null,
       "object_fit": null,
       "object_position": null,
       "order": null,
       "overflow": null,
       "overflow_x": null,
       "overflow_y": null,
       "padding": null,
       "right": null,
       "top": null,
       "visibility": null,
       "width": null
      }
     },
     "e27c59fafff445628ff85913e35c3f77": {
      "model_module": "@jupyter-widgets/controls",
      "model_module_version": "1.5.0",
      "model_name": "ProgressStyleModel",
      "state": {
       "_model_module": "@jupyter-widgets/controls",
       "_model_module_version": "1.5.0",
       "_model_name": "ProgressStyleModel",
       "_view_count": null,
       "_view_module": "@jupyter-widgets/base",
       "_view_module_version": "1.2.0",
       "_view_name": "StyleView",
       "bar_color": null,
       "description_width": ""
      }
     },
     "f18ef92b02754c9b85624b6779570a05": {
      "model_module": "@jupyter-widgets/controls",
      "model_module_version": "1.5.0",
      "model_name": "HTMLModel",
      "state": {
       "_dom_classes": [],
       "_model_module": "@jupyter-widgets/controls",
       "_model_module_version": "1.5.0",
       "_model_name": "HTMLModel",
       "_view_count": null,
       "_view_module": "@jupyter-widgets/controls",
       "_view_module_version": "1.5.0",
       "_view_name": "HTMLView",
       "description": "",
       "description_tooltip": null,
       "layout": "IPY_MODEL_41e5f0c8524441a38fa54062553b1fd3",
       "placeholder": "​",
       "style": "IPY_MODEL_aaad435a94774296b58d38340c9bf33a",
       "value": " 6807/6807 [01:57&lt;00:00, 247.62ex/s]"
      }
     }
    },
    "version_major": 2,
    "version_minor": 0
   }
  }
 },
 "nbformat": 4,
 "nbformat_minor": 5
}
