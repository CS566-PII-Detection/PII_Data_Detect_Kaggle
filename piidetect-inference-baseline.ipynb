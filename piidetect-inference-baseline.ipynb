{
 "cells": [
  {
   "cell_type": "markdown",
   "id": "e413a66d",
   "metadata": {
    "papermill": {
     "duration": 0.00703,
     "end_time": "2024-03-06T06:54:47.821718",
     "exception": false,
     "start_time": "2024-03-06T06:54:47.814688",
     "status": "completed"
    },
    "tags": []
   },
   "source": [
    "## Training Notebook\n",
    "​\n",
    "# Overview\n",
    "    - Ran on kaggle CPU\n",
    "    - Model fined using https://www.kaggle.com/code/jonathankasprisin/piidetect-training-baseline/edit\n",
    "# To try\n",
    "I retrained the model with new data selection and data cleaning\n",
    "Doing this brought the LB score to .888 - Trained in Kaggle Notebook, no tricks or secrets.\n",
    "I got .890 by adding the trick decscribed here: https://www.kaggle.com/competitions/pii-detection-removal-from-educational-data/discussion/470978 https://www.kaggle.com/competitions/pii-detection-removal-from-educational-data/discussion/470978\n",
    "Adding more data by PJ Mathematician (https://www.kaggle.com/competitions/pii-detection-removal-from-educational-data/discussion/470921) increased to .893\n",
    "\n",
    "changing lr to 2e-5 (before 5e-5) increased to .903\n",
    "\n",
    "# Credit\n",
    "- https://www.kaggle.com/code/valentinwerner/915-deberta3base-inference"
   ]
  },
  {
   "cell_type": "markdown",
   "id": "add2723d",
   "metadata": {
    "papermill": {
     "duration": 0.005882,
     "end_time": "2024-03-06T06:54:47.833894",
     "exception": false,
     "start_time": "2024-03-06T06:54:47.828012",
     "status": "completed"
    },
    "tags": []
   },
   "source": [
    "## Config and import"
   ]
  },
  {
   "cell_type": "code",
   "execution_count": 1,
   "id": "06c9528d",
   "metadata": {
    "execution": {
     "iopub.execute_input": "2024-03-06T06:54:47.847201Z",
     "iopub.status.busy": "2024-03-06T06:54:47.846907Z",
     "iopub.status.idle": "2024-03-06T06:55:24.335610Z",
     "shell.execute_reply": "2024-03-06T06:55:24.334578Z"
    },
    "papermill": {
     "duration": 36.497863,
     "end_time": "2024-03-06T06:55:24.337868",
     "exception": false,
     "start_time": "2024-03-06T06:54:47.840005",
     "status": "completed"
    },
    "tags": []
   },
   "outputs": [],
   "source": [
    "#offline installs (need to have from training notebook)\n",
    "!pip install /kaggle/input/piidetect-training-2/seqeval-1.2.2.tar.gz -q\n",
    "\n"
   ]
  },
  {
   "cell_type": "code",
   "execution_count": 2,
   "id": "51deeca2",
   "metadata": {
    "execution": {
     "iopub.execute_input": "2024-03-06T06:55:24.352427Z",
     "iopub.status.busy": "2024-03-06T06:55:24.352140Z",
     "iopub.status.idle": "2024-03-06T06:55:45.424812Z",
     "shell.execute_reply": "2024-03-06T06:55:45.423902Z"
    },
    "papermill": {
     "duration": 21.082461,
     "end_time": "2024-03-06T06:55:45.427240",
     "exception": false,
     "start_time": "2024-03-06T06:55:24.344779",
     "status": "completed"
    },
    "tags": []
   },
   "outputs": [
    {
     "name": "stderr",
     "output_type": "stream",
     "text": [
      "2024-03-06 06:55:35.702690: E external/local_xla/xla/stream_executor/cuda/cuda_dnn.cc:9261] Unable to register cuDNN factory: Attempting to register factory for plugin cuDNN when one has already been registered\n",
      "2024-03-06 06:55:35.702782: E external/local_xla/xla/stream_executor/cuda/cuda_fft.cc:607] Unable to register cuFFT factory: Attempting to register factory for plugin cuFFT when one has already been registered\n",
      "2024-03-06 06:55:35.871751: E external/local_xla/xla/stream_executor/cuda/cuda_blas.cc:1515] Unable to register cuBLAS factory: Attempting to register factory for plugin cuBLAS when one has already been registered\n"
     ]
    }
   ],
   "source": [
    "from pathlib import Path\n",
    "import os\n",
    "\n",
    "import json\n",
    "import argparse\n",
    "from itertools import chain\n",
    "from functools import partial\n",
    "\n",
    "import torch\n",
    "from transformers import AutoTokenizer, Trainer, TrainingArguments\n",
    "from transformers import AutoModelForTokenClassification, DataCollatorForTokenClassification\n",
    "from datasets import Dataset, features\n",
    "import numpy as np\n",
    "import pandas as pd"
   ]
  },
  {
   "cell_type": "code",
   "execution_count": 3,
   "id": "72f62397",
   "metadata": {
    "execution": {
     "iopub.execute_input": "2024-03-06T06:55:45.441710Z",
     "iopub.status.busy": "2024-03-06T06:55:45.441178Z",
     "iopub.status.idle": "2024-03-06T06:55:45.448239Z",
     "shell.execute_reply": "2024-03-06T06:55:45.447312Z"
    },
    "papermill": {
     "duration": 0.016129,
     "end_time": "2024-03-06T06:55:45.450020",
     "exception": false,
     "start_time": "2024-03-06T06:55:45.433891",
     "status": "completed"
    },
    "tags": []
   },
   "outputs": [
    {
     "name": "stdout",
     "output_type": "stream",
     "text": [
      "../input/pii-detection-removal-from-educational-data/sample_submission.csv\n",
      "../input/pii-detection-removal-from-educational-data/train.json\n",
      "../input/pii-detection-removal-from-educational-data/test.json\n"
     ]
    }
   ],
   "source": [
    "DATA_PATH = '../input/pii-detection-removal-from-educational-data'\n",
    "VAL_PATH = '/kaggle/input/piidetect-training-2/val.json'\n",
    "INFERENCE_MODEL_PATH = \"/kaggle/input/piidetect-training-2/deberta3base_pii2d_1024_v1\"\n",
    "INFERENCE_MAX_LENGTH = 1024\n",
    "OUTPUT_DIR = \"/kaggle/working/\"\n",
    "VAL = True\n",
    "\n",
    "#print files with pathname\n",
    "for dirname, _, filenames in os.walk(DATA_PATH):\n",
    "    for filename in filenames:\n",
    "        print(os.path.join(dirname, filename))"
   ]
  },
  {
   "cell_type": "markdown",
   "id": "fd5ca930",
   "metadata": {
    "papermill": {
     "duration": 0.006108,
     "end_time": "2024-03-06T06:55:45.462470",
     "exception": false,
     "start_time": "2024-03-06T06:55:45.456362",
     "status": "completed"
    },
    "tags": []
   },
   "source": [
    "## Helper functions"
   ]
  },
  {
   "cell_type": "markdown",
   "id": "93dea025",
   "metadata": {
    "papermill": {
     "duration": 0.006019,
     "end_time": "2024-03-06T06:55:45.474742",
     "exception": false,
     "start_time": "2024-03-06T06:55:45.468723",
     "status": "completed"
    },
    "tags": []
   },
   "source": [
    "# Tokenizer from Training"
   ]
  },
  {
   "cell_type": "code",
   "execution_count": 4,
   "id": "c19bac2d",
   "metadata": {
    "execution": {
     "iopub.execute_input": "2024-03-06T06:55:45.488343Z",
     "iopub.status.busy": "2024-03-06T06:55:45.488036Z",
     "iopub.status.idle": "2024-03-06T06:55:45.495487Z",
     "shell.execute_reply": "2024-03-06T06:55:45.494673Z"
    },
    "papermill": {
     "duration": 0.016325,
     "end_time": "2024-03-06T06:55:45.497317",
     "exception": false,
     "start_time": "2024-03-06T06:55:45.480992",
     "status": "completed"
    },
    "tags": []
   },
   "outputs": [],
   "source": [
    "def infer_tokenize(example, tokenizer):\n",
    "    \"\"\"\n",
    "    Tokenize an example for NER using the given tokenizer.\n",
    "\n",
    "    Args:\n",
    "        example (dict): A dictionary containing \"tokens\" and \"trailing_whitespace\" lists.\n",
    "            - \"tokens\": A list of token strings.\n",
    "            - \"trailing_whitespace\": A list of boolean values indicating whether each token has trailing whitespace.\n",
    "        tokenizer: The tokenizer to use for tokenization.\n",
    "\n",
    "    Returns:\n",
    "        dict: A dictionary containing tokenized output, including offsets mapping and token map.\n",
    "            - \"input_ids\": List of token IDs.\n",
    "            - \"attention_mask\": List of attention mask values.\n",
    "            - \"offset_mapping\": List of character offsets for each token.\n",
    "            - \"token_map\": List mapping each input token to its original position in the example.\n",
    "            \n",
    "    Reference: https://www.kaggle.com/code/valentinwerner/893-deberta3base-Inference\n",
    "    \"\"\"\n",
    "    #empty list to store text and tokens in respective map\n",
    "    text = []\n",
    "    token_map = []\n",
    "    \n",
    "    #keep track of tokens\n",
    "    idx = 0\n",
    "    \n",
    "    #for the example go through tokens and whitespace\n",
    "    for t, ws in zip(example[\"tokens\"], example[\"trailing_whitespace\"]):\n",
    "        \n",
    "        #add token to text\n",
    "        text.append(t)\n",
    "        #extend token length number of idx\n",
    "        token_map.extend([idx]*len(t))\n",
    "        #for whitespace add a space to text and label -1 in token map\n",
    "        if ws:\n",
    "            text.append(\" \")\n",
    "            token_map.append(-1)\n",
    "            \n",
    "        idx += 1\n",
    "        \n",
    "    #Tokenize the text and return offset mapping with the token map    \n",
    "    tokenized = tokenizer(\"\".join(text), return_offsets_mapping=True, truncation=True, max_length=INFERENCE_MAX_LENGTH)\n",
    "    \n",
    "        \n",
    "    return {\n",
    "        **tokenized,\n",
    "        \"token_map\": token_map,\n",
    "    }"
   ]
  },
  {
   "cell_type": "markdown",
   "id": "47bf5652",
   "metadata": {
    "papermill": {
     "duration": 0.00702,
     "end_time": "2024-03-06T06:55:45.510606",
     "exception": false,
     "start_time": "2024-03-06T06:55:45.503586",
     "status": "completed"
    },
    "tags": []
   },
   "source": [
    "# Load Data and Model"
   ]
  },
  {
   "cell_type": "code",
   "execution_count": 5,
   "id": "4197beee",
   "metadata": {
    "execution": {
     "iopub.execute_input": "2024-03-06T06:55:45.524105Z",
     "iopub.status.busy": "2024-03-06T06:55:45.523828Z",
     "iopub.status.idle": "2024-03-06T06:55:45.531824Z",
     "shell.execute_reply": "2024-03-06T06:55:45.531016Z"
    },
    "papermill": {
     "duration": 0.016858,
     "end_time": "2024-03-06T06:55:45.533732",
     "exception": false,
     "start_time": "2024-03-06T06:55:45.516874",
     "status": "completed"
    },
    "tags": []
   },
   "outputs": [],
   "source": [
    "#helper function for loading to dataset\n",
    "def load_process_ds_helper(json_path, tokenizer,val = False):\n",
    "    # Load data from JSON file\n",
    "    data = json.load(open(json_path))\n",
    "\n",
    "    if not val:\n",
    "        # Convert data to Hugging Face Dataset object\n",
    "        ds = Dataset.from_dict({\n",
    "            \"full_text\": [x[\"full_text\"] for x in data],\n",
    "            \"document\": [str(x[\"document\"]) for x in data],\n",
    "            \"tokens\": [x[\"tokens\"] for x in data],\n",
    "            \"trailing_whitespace\": [x[\"trailing_whitespace\"] for x in data]\n",
    "        })\n",
    "    #inlcude provided lables if val\n",
    "    else:\n",
    "        ds = Dataset.from_dict({\n",
    "            \"full_text\": [x[\"full_text\"] for x in data],\n",
    "            \"document\": [str(x[\"document\"]) for x in data],\n",
    "            \"tokens\": [x[\"tokens\"] for x in data],\n",
    "            \"trailing_whitespace\": [x[\"trailing_whitespace\"] for x in data],\n",
    "            \"provided_labels\": [x[\"provided_labels\"] for x in data]\n",
    "        })\n",
    "\n",
    "    # Map the tokenize function to the Dataset\n",
    "    ds = ds.map(\n",
    "        infer_tokenize,\n",
    "        fn_kwargs={      # pass keyword args\n",
    "            \"tokenizer\": tokenizer\n",
    "        }, \n",
    "        num_proc=2   #issue with multithreading so went with 2\n",
    "    )\n",
    "\n",
    "    return ds"
   ]
  },
  {
   "cell_type": "code",
   "execution_count": 6,
   "id": "dd6c4a26",
   "metadata": {
    "execution": {
     "iopub.execute_input": "2024-03-06T06:55:45.547475Z",
     "iopub.status.busy": "2024-03-06T06:55:45.547220Z",
     "iopub.status.idle": "2024-03-06T06:55:51.062634Z",
     "shell.execute_reply": "2024-03-06T06:55:51.061664Z"
    },
    "papermill": {
     "duration": 5.524877,
     "end_time": "2024-03-06T06:55:51.064975",
     "exception": false,
     "start_time": "2024-03-06T06:55:45.540098",
     "status": "completed"
    },
    "tags": []
   },
   "outputs": [],
   "source": [
    "tokenizer = AutoTokenizer.from_pretrained(INFERENCE_MODEL_PATH)\n",
    "\n",
    "model = AutoModelForTokenClassification.from_pretrained(INFERENCE_MODEL_PATH)\n",
    "collator = DataCollatorForTokenClassification(tokenizer, pad_to_multiple_of=16)\n",
    "\n",
    "# Load id2label configuration from model\n",
    "config = json.load(open(INFERENCE_MODEL_PATH + \"/config.json\"))\n",
    "id2label = config[\"id2label\"]"
   ]
  },
  {
   "cell_type": "code",
   "execution_count": 7,
   "id": "02c1323d",
   "metadata": {
    "execution": {
     "iopub.execute_input": "2024-03-06T06:55:51.081377Z",
     "iopub.status.busy": "2024-03-06T06:55:51.080615Z",
     "iopub.status.idle": "2024-03-06T06:56:47.937605Z",
     "shell.execute_reply": "2024-03-06T06:56:47.936429Z"
    },
    "papermill": {
     "duration": 56.867385,
     "end_time": "2024-03-06T06:56:47.940093",
     "exception": false,
     "start_time": "2024-03-06T06:55:51.072708",
     "status": "completed"
    },
    "tags": []
   },
   "outputs": [
    {
     "name": "stdout",
     "output_type": "stream",
     "text": [
      "   "
     ]
    },
    {
     "data": {
      "application/vnd.jupyter.widget-view+json": {
       "model_id": "13e1975cceb64a7385a8f75c21ba2533",
       "version_major": 2,
       "version_minor": 0
      },
      "text/plain": [
       "#0:   0%|          | 0/5 [00:00<?, ?ex/s]"
      ]
     },
     "metadata": {},
     "output_type": "display_data"
    },
    {
     "name": "stdout",
     "output_type": "stream",
     "text": [
      " "
     ]
    },
    {
     "data": {
      "application/vnd.jupyter.widget-view+json": {
       "model_id": "be62e8bfda14485a871ea70e9ba290c2",
       "version_major": 2,
       "version_minor": 0
      },
      "text/plain": [
       "#1:   0%|          | 0/5 [00:00<?, ?ex/s]"
      ]
     },
     "metadata": {},
     "output_type": "display_data"
    },
    {
     "name": "stdout",
     "output_type": "stream",
     "text": [
      "   "
     ]
    },
    {
     "data": {
      "application/vnd.jupyter.widget-view+json": {
       "model_id": "41bfbd029c334dc68c70a253def61e38",
       "version_major": 2,
       "version_minor": 0
      },
      "text/plain": [
       "#0:   0%|          | 0/1702 [00:00<?, ?ex/s]"
      ]
     },
     "metadata": {},
     "output_type": "display_data"
    },
    {
     "name": "stdout",
     "output_type": "stream",
     "text": [
      " "
     ]
    },
    {
     "data": {
      "application/vnd.jupyter.widget-view+json": {
       "model_id": "656ccae28f034bb8ab92c9322d666d75",
       "version_major": 2,
       "version_minor": 0
      },
      "text/plain": [
       "#1:   0%|          | 0/1702 [00:00<?, ?ex/s]"
      ]
     },
     "metadata": {},
     "output_type": "display_data"
    }
   ],
   "source": [
    "#load and proces (tokenize) data to dataset\n",
    "\n",
    "sub_ds =load_process_ds_helper((DATA_PATH+ \"/test.json\"), tokenizer)\n",
    "if VAL:\n",
    "    val_ds =load_process_ds_helper(VAL_PATH, tokenizer, True)\n",
    "    val_labels = val_ds[\"provided_labels\"]\n",
    "    val_ds[\"provided_labels\"]"
   ]
  },
  {
   "cell_type": "code",
   "execution_count": 8,
   "id": "602489ff",
   "metadata": {
    "execution": {
     "iopub.execute_input": "2024-03-06T06:56:47.957436Z",
     "iopub.status.busy": "2024-03-06T06:56:47.957102Z",
     "iopub.status.idle": "2024-03-06T06:56:48.404270Z",
     "shell.execute_reply": "2024-03-06T06:56:48.403457Z"
    },
    "papermill": {
     "duration": 0.458246,
     "end_time": "2024-03-06T06:56:48.406499",
     "exception": false,
     "start_time": "2024-03-06T06:56:47.948253",
     "status": "completed"
    },
    "tags": []
   },
   "outputs": [],
   "source": [
    "#Configure trainer\n",
    "training_args = TrainingArguments(\n",
    "    output_dir= OUTPUT_DIR,  # Directory to save checkpoints and logs\n",
    "    fp16 =False,               #mix-precision training on 16 bit to reduce memory and speed up training\n",
    "    report_to=\"none\",        #where training report progress, \"none\" prevents wandb login\n",
    "    per_device_eval_batch_size=1,\n",
    "    do_eval = False,          #whether or not to perform eval during training\n",
    "    evaluation_strategy=\"no\",    # When to evaluate during training {no, steps or epoch}  \n",
    ")\n",
    "\n",
    "#inialize trainer for training and evaluation interface\n",
    "trainer = Trainer(\n",
    "    model=model, \n",
    "    args=training_args, \n",
    "    data_collator=collator, \n",
    "    tokenizer=tokenizer,\n",
    ")"
   ]
  },
  {
   "cell_type": "markdown",
   "id": "b7951eda",
   "metadata": {
    "papermill": {
     "duration": 0.007481,
     "end_time": "2024-03-06T06:56:48.421865",
     "exception": false,
     "start_time": "2024-03-06T06:56:48.414384",
     "status": "completed"
    },
    "tags": []
   },
   "source": [
    "# Prediction"
   ]
  },
  {
   "cell_type": "code",
   "execution_count": 9,
   "id": "dbd57a0b",
   "metadata": {
    "execution": {
     "iopub.execute_input": "2024-03-06T06:56:48.438430Z",
     "iopub.status.busy": "2024-03-06T06:56:48.438128Z",
     "iopub.status.idle": "2024-03-06T06:56:48.443707Z",
     "shell.execute_reply": "2024-03-06T06:56:48.442878Z"
    },
    "papermill": {
     "duration": 0.015962,
     "end_time": "2024-03-06T06:56:48.445490",
     "exception": false,
     "start_time": "2024-03-06T06:56:48.429528",
     "status": "completed"
    },
    "tags": []
   },
   "outputs": [],
   "source": [
    "#prediction helper function\n",
    "from scipy.special import softmax\n",
    "import json\n",
    "import numpy as np\n",
    "\n",
    "def predict_helper(trainer, ds, model_path, threshold=0.9):\n",
    "    # Get predictions from model\n",
    "    predictions = trainer.predict(ds).predictions\n",
    "\n",
    "    # Scale long last dimension to probabilities for interpretability\n",
    "    pred_softmax = softmax(predictions, axis=-1)\n",
    "\n",
    "    #Choose label with max probability\n",
    "    preds_final = predictions.argmax(-1)\n",
    "\n",
    "    return preds_final"
   ]
  },
  {
   "cell_type": "code",
   "execution_count": 10,
   "id": "ebc5bcca",
   "metadata": {
    "execution": {
     "iopub.execute_input": "2024-03-06T06:56:48.461613Z",
     "iopub.status.busy": "2024-03-06T06:56:48.461375Z",
     "iopub.status.idle": "2024-03-06T07:01:52.207602Z",
     "shell.execute_reply": "2024-03-06T07:01:52.206666Z"
    },
    "papermill": {
     "duration": 303.756772,
     "end_time": "2024-03-06T07:01:52.209797",
     "exception": false,
     "start_time": "2024-03-06T06:56:48.453025",
     "status": "completed"
    },
    "tags": []
   },
   "outputs": [
    {
     "data": {
      "text/html": [],
      "text/plain": [
       "<IPython.core.display.HTML object>"
      ]
     },
     "metadata": {},
     "output_type": "display_data"
    },
    {
     "name": "stdout",
     "output_type": "stream",
     "text": [
      "CPU times: user 6min 51s, sys: 15.5 s, total: 7min 7s\n",
      "Wall time: 5min 3s\n"
     ]
    }
   ],
   "source": [
    "%%time\n",
    "#validation\n",
    "if VAL:\n",
    "    preds_final_val = predict_helper(\n",
    "        trainer,\n",
    "        val_ds,\n",
    "        INFERENCE_MODEL_PATH, \n",
    "        threshold=0.9\n",
    ")"
   ]
  },
  {
   "cell_type": "code",
   "execution_count": 11,
   "id": "bdb8180c",
   "metadata": {
    "execution": {
     "iopub.execute_input": "2024-03-06T07:01:52.227431Z",
     "iopub.status.busy": "2024-03-06T07:01:52.226899Z",
     "iopub.status.idle": "2024-03-06T07:02:21.513820Z",
     "shell.execute_reply": "2024-03-06T07:02:21.512794Z"
    },
    "papermill": {
     "duration": 29.2982,
     "end_time": "2024-03-06T07:02:21.516109",
     "exception": false,
     "start_time": "2024-03-06T07:01:52.217909",
     "status": "completed"
    },
    "tags": []
   },
   "outputs": [
    {
     "name": "stdout",
     "output_type": "stream",
     "text": [
      "Validation scores: \n",
      "recall:  0.3780487804878049\n",
      "precision:  0.08418194161575017\n",
      "f5:  0.3332988731386474\n"
     ]
    }
   ],
   "source": [
    "from seqeval.metrics import recall_score, precision_score\n",
    "from seqeval.metrics import classification_report\n",
    "from seqeval.metrics import f1_score\n",
    "\n",
    "#validation results\n",
    "if VAL:\n",
    "    possible_labels = [\n",
    "        'B-NAME_STUDENT', 'B-EMAIL','B-USERNAME', 'B-ID_NUM', 'B-PHONE_NUM',\n",
    "        'B-URL_PERSONAL', 'B-STREET_ADDRESS',\n",
    "        'I-NAME_STUDENT', 'I-EMAIL','B-USERNAME', 'I-ID_NUM', 'I-PHONE_NUM',\n",
    "        'I-URL_PERSONAL', 'I-STREET_ADDRESS', 'O'\n",
    "    ]\n",
    "\n",
    "    \n",
    "    \n",
    "preds_str = []\n",
    "true_labels_str = []\n",
    "\n",
    "for p, true_labels_seq, token_map, offsets, tokens, doc in zip(preds_final_val, val_labels, val_ds[\"token_map\"], val_ds[\"offset_mapping\"], val_ds[\"tokens\"], val_ds[\"document\"]):\n",
    "    preds_str_doc = []\n",
    "    true_labels_str_doc = []\n",
    "\n",
    "    # iterate through each prediction, true label and its offset\n",
    "    for token_pred, true_label, (start_idx, end_idx) in zip(p, true_labels_seq, offsets):\n",
    "        label_pred = id2label[str(token_pred)]  #predicted label\n",
    "\n",
    "        if start_idx + end_idx == 0: continue   #for special token or padding token\n",
    "\n",
    "        if token_map[start_idx] == -1:  #label is for ws so go to next\n",
    "            start_idx += 1\n",
    "\n",
    "        # ignore leading white space token \"\\n\\n\"\n",
    "        while start_idx < len(token_map) and tokens[token_map[start_idx]].isspace():\n",
    "            start_idx += 1\n",
    "            \n",
    "        #break if index exceeds the length of token mapping\n",
    "        if start_idx >= len(token_map): break\n",
    "        \n",
    "        token_id = token_map[start_idx]  #token ID at start of index\n",
    "\n",
    "        # ignore \"O\" predictions and whitespace preds\n",
    "        if label_pred != \"O\" and token_id != -1:\n",
    "            preds_str_doc.append(label_pred)\n",
    "            true_labels_str_doc.append(true_label)\n",
    "\n",
    "    preds_str.append(preds_str_doc)\n",
    "    true_labels_str.append(true_labels_str_doc)\n",
    "    \n",
    "\n",
    "# Calculate precision and recall\n",
    "precision = precision_score(true_labels_str, preds_str)\n",
    "recall = recall_score(true_labels_str, preds_str)\n",
    "\n",
    "# Calculate F5 score\n",
    "f5_score = (1 + 5*5) * recall * precision / (5*5*precision + recall + 1e-10)  # add a small constant to prevent division by zero\n",
    "\n",
    "print(\"Validation scores: \")\n",
    "print(\"recall: \", recall)\n",
    "print('precision: ', precision)    \n",
    "print('f5: ', f5_score)    \n"
   ]
  },
  {
   "cell_type": "code",
   "execution_count": 12,
   "id": "05c648b1",
   "metadata": {
    "execution": {
     "iopub.execute_input": "2024-03-06T07:02:21.533735Z",
     "iopub.status.busy": "2024-03-06T07:02:21.533441Z",
     "iopub.status.idle": "2024-03-06T07:02:22.526431Z",
     "shell.execute_reply": "2024-03-06T07:02:22.525372Z"
    },
    "papermill": {
     "duration": 1.004155,
     "end_time": "2024-03-06T07:02:22.528466",
     "exception": false,
     "start_time": "2024-03-06T07:02:21.524311",
     "status": "completed"
    },
    "tags": []
   },
   "outputs": [
    {
     "data": {
      "text/html": [],
      "text/plain": [
       "<IPython.core.display.HTML object>"
      ]
     },
     "metadata": {},
     "output_type": "display_data"
    },
    {
     "name": "stdout",
     "output_type": "stream",
     "text": [
      "CPU times: user 1.31 s, sys: 35.9 ms, total: 1.35 s\n",
      "Wall time: 988 ms\n"
     ]
    }
   ],
   "source": [
    "%%time\n",
    "#compitition\n",
    "preds_final_sub = predict_helper(\n",
    "    trainer,\n",
    "    sub_ds,\n",
    "    INFERENCE_MODEL_PATH,\n",
    "    threshold=0.9\n",
    ")"
   ]
  },
  {
   "cell_type": "code",
   "execution_count": 13,
   "id": "ac1c58a9",
   "metadata": {
    "execution": {
     "iopub.execute_input": "2024-03-06T07:02:22.546504Z",
     "iopub.status.busy": "2024-03-06T07:02:22.546220Z",
     "iopub.status.idle": "2024-03-06T07:02:22.550842Z",
     "shell.execute_reply": "2024-03-06T07:02:22.549898Z"
    },
    "papermill": {
     "duration": 0.0156,
     "end_time": "2024-03-06T07:02:22.552846",
     "exception": false,
     "start_time": "2024-03-06T07:02:22.537246",
     "status": "completed"
    },
    "tags": []
   },
   "outputs": [
    {
     "name": "stdout",
     "output_type": "stream",
     "text": [
      "10\n",
      "3404\n"
     ]
    }
   ],
   "source": [
    "print(len(sub_ds))\n",
    "print(len(val_ds))"
   ]
  },
  {
   "cell_type": "markdown",
   "id": "d50d5462",
   "metadata": {
    "papermill": {
     "duration": 0.008495,
     "end_time": "2024-03-06T07:02:22.569426",
     "exception": false,
     "start_time": "2024-03-06T07:02:22.560931",
     "status": "completed"
    },
    "tags": []
   },
   "source": [
    "# Process preditions and submit"
   ]
  },
  {
   "cell_type": "code",
   "execution_count": 14,
   "id": "840a2850",
   "metadata": {
    "execution": {
     "iopub.execute_input": "2024-03-06T07:02:22.587009Z",
     "iopub.status.busy": "2024-03-06T07:02:22.586334Z",
     "iopub.status.idle": "2024-03-06T07:02:22.673755Z",
     "shell.execute_reply": "2024-03-06T07:02:22.673100Z"
    },
    "papermill": {
     "duration": 0.097987,
     "end_time": "2024-03-06T07:02:22.675531",
     "exception": false,
     "start_time": "2024-03-06T07:02:22.577544",
     "status": "completed"
    },
    "tags": []
   },
   "outputs": [],
   "source": [
    "#Create lists of submission information \n",
    "triplets = []\n",
    "document, token, label, token_str = [], [], [], []\n",
    "\n",
    "for p, token_map, offsets, tokens, doc in zip(preds_final_sub, sub_ds[\"token_map\"], sub_ds[\"offset_mapping\"], sub_ds[\"tokens\"], sub_ds[\"document\"]):\n",
    "\n",
    "    # iterate through each prediction and its offset\n",
    "    for token_pred, (start_idx, end_idx) in zip(p, offsets):\n",
    "        label_pred = id2label[str(token_pred)]  #predicted label\n",
    "\n",
    "        if start_idx + end_idx == 0: continue   #for special token or padding token\n",
    "\n",
    "        if token_map[start_idx] == -1:  #label is for ws so go to next\n",
    "            start_idx += 1\n",
    "\n",
    "        # ignore leading white space token \"\\n\\n\"\n",
    "        while start_idx < len(token_map) and tokens[token_map[start_idx]].isspace():\n",
    "            start_idx += 1\n",
    "            \n",
    "        #break if index exceeds the length of token mapping\n",
    "        if start_idx >= len(token_map): break\n",
    "        \n",
    "        token_id = token_map[start_idx]  #token ID at start of index\n",
    "\n",
    "        # ignore \"O\" predictions and whitespace preds\n",
    "        if label_pred != \"O\" and token_id != -1:\n",
    "            triplet = (label_pred, token_id, tokens[token_id])\n",
    "\n",
    "            #add triplet if not in list of triplets\n",
    "            if triplet not in triplets:\n",
    "                document.append(doc)\n",
    "                token.append(token_id)\n",
    "                label.append(label_pred)\n",
    "                token_str.append(tokens[token_id])\n",
    "                triplets.append(triplet)"
   ]
  },
  {
   "cell_type": "code",
   "execution_count": 15,
   "id": "6c36679b",
   "metadata": {
    "execution": {
     "iopub.execute_input": "2024-03-06T07:02:22.692885Z",
     "iopub.status.busy": "2024-03-06T07:02:22.692634Z",
     "iopub.status.idle": "2024-03-06T07:02:22.716561Z",
     "shell.execute_reply": "2024-03-06T07:02:22.715740Z"
    },
    "papermill": {
     "duration": 0.034697,
     "end_time": "2024-03-06T07:02:22.718447",
     "exception": false,
     "start_time": "2024-03-06T07:02:22.683750",
     "status": "completed"
    },
    "tags": []
   },
   "outputs": [
    {
     "data": {
      "text/html": [
       "<div>\n",
       "<style scoped>\n",
       "    .dataframe tbody tr th:only-of-type {\n",
       "        vertical-align: middle;\n",
       "    }\n",
       "\n",
       "    .dataframe tbody tr th {\n",
       "        vertical-align: top;\n",
       "    }\n",
       "\n",
       "    .dataframe thead th {\n",
       "        text-align: right;\n",
       "    }\n",
       "</style>\n",
       "<table border=\"1\" class=\"dataframe\">\n",
       "  <thead>\n",
       "    <tr style=\"text-align: right;\">\n",
       "      <th></th>\n",
       "      <th>document</th>\n",
       "      <th>token</th>\n",
       "      <th>label</th>\n",
       "      <th>token_str</th>\n",
       "      <th>row_id</th>\n",
       "    </tr>\n",
       "  </thead>\n",
       "  <tbody>\n",
       "    <tr>\n",
       "      <th>0</th>\n",
       "      <td>7</td>\n",
       "      <td>9</td>\n",
       "      <td>B-NAME_STUDENT</td>\n",
       "      <td>Nathalie</td>\n",
       "      <td>0</td>\n",
       "    </tr>\n",
       "    <tr>\n",
       "      <th>1</th>\n",
       "      <td>7</td>\n",
       "      <td>10</td>\n",
       "      <td>I-NAME_STUDENT</td>\n",
       "      <td>Sylla</td>\n",
       "      <td>1</td>\n",
       "    </tr>\n",
       "    <tr>\n",
       "      <th>2</th>\n",
       "      <td>7</td>\n",
       "      <td>482</td>\n",
       "      <td>B-NAME_STUDENT</td>\n",
       "      <td>Nathalie</td>\n",
       "      <td>2</td>\n",
       "    </tr>\n",
       "    <tr>\n",
       "      <th>3</th>\n",
       "      <td>7</td>\n",
       "      <td>483</td>\n",
       "      <td>I-NAME_STUDENT</td>\n",
       "      <td>Sylla</td>\n",
       "      <td>3</td>\n",
       "    </tr>\n",
       "    <tr>\n",
       "      <th>4</th>\n",
       "      <td>7</td>\n",
       "      <td>741</td>\n",
       "      <td>B-NAME_STUDENT</td>\n",
       "      <td>Nathalie</td>\n",
       "      <td>4</td>\n",
       "    </tr>\n",
       "    <tr>\n",
       "      <th>5</th>\n",
       "      <td>7</td>\n",
       "      <td>742</td>\n",
       "      <td>I-NAME_STUDENT</td>\n",
       "      <td>Sylla</td>\n",
       "      <td>5</td>\n",
       "    </tr>\n",
       "    <tr>\n",
       "      <th>6</th>\n",
       "      <td>10</td>\n",
       "      <td>0</td>\n",
       "      <td>B-NAME_STUDENT</td>\n",
       "      <td>Diego</td>\n",
       "      <td>6</td>\n",
       "    </tr>\n",
       "    <tr>\n",
       "      <th>7</th>\n",
       "      <td>10</td>\n",
       "      <td>1</td>\n",
       "      <td>I-NAME_STUDENT</td>\n",
       "      <td>Estrada</td>\n",
       "      <td>7</td>\n",
       "    </tr>\n",
       "    <tr>\n",
       "      <th>8</th>\n",
       "      <td>10</td>\n",
       "      <td>464</td>\n",
       "      <td>B-NAME_STUDENT</td>\n",
       "      <td>Diego</td>\n",
       "      <td>8</td>\n",
       "    </tr>\n",
       "    <tr>\n",
       "      <th>9</th>\n",
       "      <td>10</td>\n",
       "      <td>465</td>\n",
       "      <td>I-NAME_STUDENT</td>\n",
       "      <td>Estrada</td>\n",
       "      <td>9</td>\n",
       "    </tr>\n",
       "  </tbody>\n",
       "</table>\n",
       "</div>"
      ],
      "text/plain": [
       "  document  token           label token_str  row_id\n",
       "0        7      9  B-NAME_STUDENT  Nathalie       0\n",
       "1        7     10  I-NAME_STUDENT     Sylla       1\n",
       "2        7    482  B-NAME_STUDENT  Nathalie       2\n",
       "3        7    483  I-NAME_STUDENT     Sylla       3\n",
       "4        7    741  B-NAME_STUDENT  Nathalie       4\n",
       "5        7    742  I-NAME_STUDENT     Sylla       5\n",
       "6       10      0  B-NAME_STUDENT     Diego       6\n",
       "7       10      1  I-NAME_STUDENT   Estrada       7\n",
       "8       10    464  B-NAME_STUDENT     Diego       8\n",
       "9       10    465  I-NAME_STUDENT   Estrada       9"
      ]
     },
     "metadata": {},
     "output_type": "display_data"
    }
   ],
   "source": [
    "df = pd.DataFrame({\n",
    "    \"document\": document,\n",
    "    \"token\": token,\n",
    "    \"label\": label,\n",
    "    \"token_str\": token_str\n",
    "})\n",
    "\n",
    "#assign each row a unique row id\n",
    "df[\"row_id\"] = list(range(len(df)))\n",
    "display(df.head(10))\n"
   ]
  },
  {
   "cell_type": "code",
   "execution_count": 16,
   "id": "35a34e2d",
   "metadata": {
    "execution": {
     "iopub.execute_input": "2024-03-06T07:02:22.736509Z",
     "iopub.status.busy": "2024-03-06T07:02:22.735958Z",
     "iopub.status.idle": "2024-03-06T07:02:22.752099Z",
     "shell.execute_reply": "2024-03-06T07:02:22.751281Z"
    },
    "papermill": {
     "duration": 0.027141,
     "end_time": "2024-03-06T07:02:22.753913",
     "exception": false,
     "start_time": "2024-03-06T07:02:22.726772",
     "status": "completed"
    },
    "tags": []
   },
   "outputs": [],
   "source": [
    "df[[\"row_id\", \"document\", \"token\", \"label\"]].to_csv(\"submission.csv\", index=False)"
   ]
  }
 ],
 "metadata": {
  "kaggle": {
   "accelerator": "nvidiaTeslaT4",
   "dataSources": [
    {
     "databundleVersionId": 7500999,
     "sourceId": 66653,
     "sourceType": "competition"
    },
    {
     "sourceId": 165651788,
     "sourceType": "kernelVersion"
    }
   ],
   "dockerImageVersionId": 30664,
   "isGpuEnabled": true,
   "isInternetEnabled": false,
   "language": "python",
   "sourceType": "notebook"
  },
  "kernelspec": {
   "display_name": "Python 3",
   "language": "python",
   "name": "python3"
  },
  "language_info": {
   "codemirror_mode": {
    "name": "ipython",
    "version": 3
   },
   "file_extension": ".py",
   "mimetype": "text/x-python",
   "name": "python",
   "nbconvert_exporter": "python",
   "pygments_lexer": "ipython3",
   "version": "3.10.13"
  },
  "papermill": {
   "default_parameters": {},
   "duration": 461.382157,
   "end_time": "2024-03-06T07:02:26.387000",
   "environment_variables": {},
   "exception": null,
   "input_path": "__notebook__.ipynb",
   "output_path": "__notebook__.ipynb",
   "parameters": {},
   "start_time": "2024-03-06T06:54:45.004843",
   "version": "2.5.0"
  },
  "widgets": {
   "application/vnd.jupyter.widget-state+json": {
    "state": {
     "0797f64df52944aba58cd33f7a5b94d4": {
      "model_module": "@jupyter-widgets/base",
      "model_module_version": "1.2.0",
      "model_name": "LayoutModel",
      "state": {
       "_model_module": "@jupyter-widgets/base",
       "_model_module_version": "1.2.0",
       "_model_name": "LayoutModel",
       "_view_count": null,
       "_view_module": "@jupyter-widgets/base",
       "_view_module_version": "1.2.0",
       "_view_name": "LayoutView",
       "align_content": null,
       "align_items": null,
       "align_self": null,
       "border": null,
       "bottom": null,
       "display": null,
       "flex": null,
       "flex_flow": null,
       "grid_area": null,
       "grid_auto_columns": null,
       "grid_auto_flow": null,
       "grid_auto_rows": null,
       "grid_column": null,
       "grid_gap": null,
       "grid_row": null,
       "grid_template_areas": null,
       "grid_template_columns": null,
       "grid_template_rows": null,
       "height": null,
       "justify_content": null,
       "justify_items": null,
       "left": null,
       "margin": null,
       "max_height": null,
       "max_width": null,
       "min_height": null,
       "min_width": null,
       "object_fit": null,
       "object_position": null,
       "order": null,
       "overflow": null,
       "overflow_x": null,
       "overflow_y": null,
       "padding": null,
       "right": null,
       "top": null,
       "visibility": null,
       "width": null
      }
     },
     "0ed4e01c0825489fb62c044250b2bf3e": {
      "model_module": "@jupyter-widgets/controls",
      "model_module_version": "1.5.0",
      "model_name": "DescriptionStyleModel",
      "state": {
       "_model_module": "@jupyter-widgets/controls",
       "_model_module_version": "1.5.0",
       "_model_name": "DescriptionStyleModel",
       "_view_count": null,
       "_view_module": "@jupyter-widgets/base",
       "_view_module_version": "1.2.0",
       "_view_name": "StyleView",
       "description_width": ""
      }
     },
     "128700e2409a47b4b6a11998d254e52e": {
      "model_module": "@jupyter-widgets/controls",
      "model_module_version": "1.5.0",
      "model_name": "HTMLModel",
      "state": {
       "_dom_classes": [],
       "_model_module": "@jupyter-widgets/controls",
       "_model_module_version": "1.5.0",
       "_model_name": "HTMLModel",
       "_view_count": null,
       "_view_module": "@jupyter-widgets/controls",
       "_view_module_version": "1.5.0",
       "_view_name": "HTMLView",
       "description": "",
       "description_tooltip": null,
       "layout": "IPY_MODEL_4408db0b746a46eaa5f21ec0ae7f9962",
       "placeholder": "​",
       "style": "IPY_MODEL_57aa6fce9a644d03af33ba6cf5e8e723",
       "value": " 5/5 [00:00&lt;00:00, 71.39ex/s]"
      }
     },
     "13e1975cceb64a7385a8f75c21ba2533": {
      "model_module": "@jupyter-widgets/controls",
      "model_module_version": "1.5.0",
      "model_name": "HBoxModel",
      "state": {
       "_dom_classes": [],
       "_model_module": "@jupyter-widgets/controls",
       "_model_module_version": "1.5.0",
       "_model_name": "HBoxModel",
       "_view_count": null,
       "_view_module": "@jupyter-widgets/controls",
       "_view_module_version": "1.5.0",
       "_view_name": "HBoxView",
       "box_style": "",
       "children": [
        "IPY_MODEL_2ab274876dec4e6f977bc30295ef1c02",
        "IPY_MODEL_eded9e1fdb7b4623af7071a0838513f6",
        "IPY_MODEL_c0651ccd02c34a34be76eb83579ff77b"
       ],
       "layout": "IPY_MODEL_149edb1de73247c49c1f2cf7656fcfa5"
      }
     },
     "149edb1de73247c49c1f2cf7656fcfa5": {
      "model_module": "@jupyter-widgets/base",
      "model_module_version": "1.2.0",
      "model_name": "LayoutModel",
      "state": {
       "_model_module": "@jupyter-widgets/base",
       "_model_module_version": "1.2.0",
       "_model_name": "LayoutModel",
       "_view_count": null,
       "_view_module": "@jupyter-widgets/base",
       "_view_module_version": "1.2.0",
       "_view_name": "LayoutView",
       "align_content": null,
       "align_items": null,
       "align_self": null,
       "border": null,
       "bottom": null,
       "display": null,
       "flex": null,
       "flex_flow": null,
       "grid_area": null,
       "grid_auto_columns": null,
       "grid_auto_flow": null,
       "grid_auto_rows": null,
       "grid_column": null,
       "grid_gap": null,
       "grid_row": null,
       "grid_template_areas": null,
       "grid_template_columns": null,
       "grid_template_rows": null,
       "height": null,
       "justify_content": null,
       "justify_items": null,
       "left": null,
       "margin": null,
       "max_height": null,
       "max_width": null,
       "min_height": null,
       "min_width": null,
       "object_fit": null,
       "object_position": null,
       "order": null,
       "overflow": null,
       "overflow_x": null,
       "overflow_y": null,
       "padding": null,
       "right": null,
       "top": null,
       "visibility": null,
       "width": null
      }
     },
     "238d65d393ad4cef8817e3abc349c81a": {
      "model_module": "@jupyter-widgets/controls",
      "model_module_version": "1.5.0",
      "model_name": "HTMLModel",
      "state": {
       "_dom_classes": [],
       "_model_module": "@jupyter-widgets/controls",
       "_model_module_version": "1.5.0",
       "_model_name": "HTMLModel",
       "_view_count": null,
       "_view_module": "@jupyter-widgets/controls",
       "_view_module_version": "1.5.0",
       "_view_name": "HTMLView",
       "description": "",
       "description_tooltip": null,
       "layout": "IPY_MODEL_6d511c8e8bb34bf59230b369f4707fdc",
       "placeholder": "​",
       "style": "IPY_MODEL_cc55a2bfcf154c0982b77aac778ff5ce",
       "value": "#1: 100%"
      }
     },
     "23cc274ece2c4127a0bb8f9d1068d82a": {
      "model_module": "@jupyter-widgets/controls",
      "model_module_version": "1.5.0",
      "model_name": "FloatProgressModel",
      "state": {
       "_dom_classes": [],
       "_model_module": "@jupyter-widgets/controls",
       "_model_module_version": "1.5.0",
       "_model_name": "FloatProgressModel",
       "_view_count": null,
       "_view_module": "@jupyter-widgets/controls",
       "_view_module_version": "1.5.0",
       "_view_name": "ProgressView",
       "bar_style": "success",
       "description": "",
       "description_tooltip": null,
       "layout": "IPY_MODEL_d88288cbe07544dc8a00e38e5498b519",
       "max": 1702.0,
       "min": 0.0,
       "orientation": "horizontal",
       "style": "IPY_MODEL_ff3122a8935b4966a4e7d2fe502961e3",
       "value": 1702.0
      }
     },
     "2ab274876dec4e6f977bc30295ef1c02": {
      "model_module": "@jupyter-widgets/controls",
      "model_module_version": "1.5.0",
      "model_name": "HTMLModel",
      "state": {
       "_dom_classes": [],
       "_model_module": "@jupyter-widgets/controls",
       "_model_module_version": "1.5.0",
       "_model_name": "HTMLModel",
       "_view_count": null,
       "_view_module": "@jupyter-widgets/controls",
       "_view_module_version": "1.5.0",
       "_view_name": "HTMLView",
       "description": "",
       "description_tooltip": null,
       "layout": "IPY_MODEL_584529184c224f6d93ce2120abaa4742",
       "placeholder": "​",
       "style": "IPY_MODEL_d7fb5c602a8f44ce87852c81d16aa0b2",
       "value": "#0: 100%"
      }
     },
     "40d6fd9950d44f198b10f8aca3b54421": {
      "model_module": "@jupyter-widgets/base",
      "model_module_version": "1.2.0",
      "model_name": "LayoutModel",
      "state": {
       "_model_module": "@jupyter-widgets/base",
       "_model_module_version": "1.2.0",
       "_model_name": "LayoutModel",
       "_view_count": null,
       "_view_module": "@jupyter-widgets/base",
       "_view_module_version": "1.2.0",
       "_view_name": "LayoutView",
       "align_content": null,
       "align_items": null,
       "align_self": null,
       "border": null,
       "bottom": null,
       "display": null,
       "flex": null,
       "flex_flow": null,
       "grid_area": null,
       "grid_auto_columns": null,
       "grid_auto_flow": null,
       "grid_auto_rows": null,
       "grid_column": null,
       "grid_gap": null,
       "grid_row": null,
       "grid_template_areas": null,
       "grid_template_columns": null,
       "grid_template_rows": null,
       "height": null,
       "justify_content": null,
       "justify_items": null,
       "left": null,
       "margin": null,
       "max_height": null,
       "max_width": null,
       "min_height": null,
       "min_width": null,
       "object_fit": null,
       "object_position": null,
       "order": null,
       "overflow": null,
       "overflow_x": null,
       "overflow_y": null,
       "padding": null,
       "right": null,
       "top": null,
       "visibility": null,
       "width": null
      }
     },
     "41bfbd029c334dc68c70a253def61e38": {
      "model_module": "@jupyter-widgets/controls",
      "model_module_version": "1.5.0",
      "model_name": "HBoxModel",
      "state": {
       "_dom_classes": [],
       "_model_module": "@jupyter-widgets/controls",
       "_model_module_version": "1.5.0",
       "_model_name": "HBoxModel",
       "_view_count": null,
       "_view_module": "@jupyter-widgets/controls",
       "_view_module_version": "1.5.0",
       "_view_name": "HBoxView",
       "box_style": "",
       "children": [
        "IPY_MODEL_a0d30b87e5924847ac5ef2ffe9b5215c",
        "IPY_MODEL_a71f9ef20cb6483594b53239c30a6ae3",
        "IPY_MODEL_d10a4e483e784cf294baa9ce3f715972"
       ],
       "layout": "IPY_MODEL_ebe90fbd63e840d3969150c372696382"
      }
     },
     "4408db0b746a46eaa5f21ec0ae7f9962": {
      "model_module": "@jupyter-widgets/base",
      "model_module_version": "1.2.0",
      "model_name": "LayoutModel",
      "state": {
       "_model_module": "@jupyter-widgets/base",
       "_model_module_version": "1.2.0",
       "_model_name": "LayoutModel",
       "_view_count": null,
       "_view_module": "@jupyter-widgets/base",
       "_view_module_version": "1.2.0",
       "_view_name": "LayoutView",
       "align_content": null,
       "align_items": null,
       "align_self": null,
       "border": null,
       "bottom": null,
       "display": null,
       "flex": null,
       "flex_flow": null,
       "grid_area": null,
       "grid_auto_columns": null,
       "grid_auto_flow": null,
       "grid_auto_rows": null,
       "grid_column": null,
       "grid_gap": null,
       "grid_row": null,
       "grid_template_areas": null,
       "grid_template_columns": null,
       "grid_template_rows": null,
       "height": null,
       "justify_content": null,
       "justify_items": null,
       "left": null,
       "margin": null,
       "max_height": null,
       "max_width": null,
       "min_height": null,
       "min_width": null,
       "object_fit": null,
       "object_position": null,
       "order": null,
       "overflow": null,
       "overflow_x": null,
       "overflow_y": null,
       "padding": null,
       "right": null,
       "top": null,
       "visibility": null,
       "width": null
      }
     },
     "57aa6fce9a644d03af33ba6cf5e8e723": {
      "model_module": "@jupyter-widgets/controls",
      "model_module_version": "1.5.0",
      "model_name": "DescriptionStyleModel",
      "state": {
       "_model_module": "@jupyter-widgets/controls",
       "_model_module_version": "1.5.0",
       "_model_name": "DescriptionStyleModel",
       "_view_count": null,
       "_view_module": "@jupyter-widgets/base",
       "_view_module_version": "1.2.0",
       "_view_name": "StyleView",
       "description_width": ""
      }
     },
     "584529184c224f6d93ce2120abaa4742": {
      "model_module": "@jupyter-widgets/base",
      "model_module_version": "1.2.0",
      "model_name": "LayoutModel",
      "state": {
       "_model_module": "@jupyter-widgets/base",
       "_model_module_version": "1.2.0",
       "_model_name": "LayoutModel",
       "_view_count": null,
       "_view_module": "@jupyter-widgets/base",
       "_view_module_version": "1.2.0",
       "_view_name": "LayoutView",
       "align_content": null,
       "align_items": null,
       "align_self": null,
       "border": null,
       "bottom": null,
       "display": null,
       "flex": null,
       "flex_flow": null,
       "grid_area": null,
       "grid_auto_columns": null,
       "grid_auto_flow": null,
       "grid_auto_rows": null,
       "grid_column": null,
       "grid_gap": null,
       "grid_row": null,
       "grid_template_areas": null,
       "grid_template_columns": null,
       "grid_template_rows": null,
       "height": null,
       "justify_content": null,
       "justify_items": null,
       "left": null,
       "margin": null,
       "max_height": null,
       "max_width": null,
       "min_height": null,
       "min_width": null,
       "object_fit": null,
       "object_position": null,
       "order": null,
       "overflow": null,
       "overflow_x": null,
       "overflow_y": null,
       "padding": null,
       "right": null,
       "top": null,
       "visibility": null,
       "width": null
      }
     },
     "6408d15c304f43a99c23170e83f38cfd": {
      "model_module": "@jupyter-widgets/base",
      "model_module_version": "1.2.0",
      "model_name": "LayoutModel",
      "state": {
       "_model_module": "@jupyter-widgets/base",
       "_model_module_version": "1.2.0",
       "_model_name": "LayoutModel",
       "_view_count": null,
       "_view_module": "@jupyter-widgets/base",
       "_view_module_version": "1.2.0",
       "_view_name": "LayoutView",
       "align_content": null,
       "align_items": null,
       "align_self": null,
       "border": null,
       "bottom": null,
       "display": null,
       "flex": null,
       "flex_flow": null,
       "grid_area": null,
       "grid_auto_columns": null,
       "grid_auto_flow": null,
       "grid_auto_rows": null,
       "grid_column": null,
       "grid_gap": null,
       "grid_row": null,
       "grid_template_areas": null,
       "grid_template_columns": null,
       "grid_template_rows": null,
       "height": null,
       "justify_content": null,
       "justify_items": null,
       "left": null,
       "margin": null,
       "max_height": null,
       "max_width": null,
       "min_height": null,
       "min_width": null,
       "object_fit": null,
       "object_position": null,
       "order": null,
       "overflow": null,
       "overflow_x": null,
       "overflow_y": null,
       "padding": null,
       "right": null,
       "top": null,
       "visibility": null,
       "width": null
      }
     },
     "656ccae28f034bb8ab92c9322d666d75": {
      "model_module": "@jupyter-widgets/controls",
      "model_module_version": "1.5.0",
      "model_name": "HBoxModel",
      "state": {
       "_dom_classes": [],
       "_model_module": "@jupyter-widgets/controls",
       "_model_module_version": "1.5.0",
       "_model_name": "HBoxModel",
       "_view_count": null,
       "_view_module": "@jupyter-widgets/controls",
       "_view_module_version": "1.5.0",
       "_view_name": "HBoxView",
       "box_style": "",
       "children": [
        "IPY_MODEL_238d65d393ad4cef8817e3abc349c81a",
        "IPY_MODEL_23cc274ece2c4127a0bb8f9d1068d82a",
        "IPY_MODEL_7bf054ef21f74a6c901ff20636e12975"
       ],
       "layout": "IPY_MODEL_c582ae7c14334c3e96b6d5bf7cf7a711"
      }
     },
     "6d511c8e8bb34bf59230b369f4707fdc": {
      "model_module": "@jupyter-widgets/base",
      "model_module_version": "1.2.0",
      "model_name": "LayoutModel",
      "state": {
       "_model_module": "@jupyter-widgets/base",
       "_model_module_version": "1.2.0",
       "_model_name": "LayoutModel",
       "_view_count": null,
       "_view_module": "@jupyter-widgets/base",
       "_view_module_version": "1.2.0",
       "_view_name": "LayoutView",
       "align_content": null,
       "align_items": null,
       "align_self": null,
       "border": null,
       "bottom": null,
       "display": null,
       "flex": null,
       "flex_flow": null,
       "grid_area": null,
       "grid_auto_columns": null,
       "grid_auto_flow": null,
       "grid_auto_rows": null,
       "grid_column": null,
       "grid_gap": null,
       "grid_row": null,
       "grid_template_areas": null,
       "grid_template_columns": null,
       "grid_template_rows": null,
       "height": null,
       "justify_content": null,
       "justify_items": null,
       "left": null,
       "margin": null,
       "max_height": null,
       "max_width": null,
       "min_height": null,
       "min_width": null,
       "object_fit": null,
       "object_position": null,
       "order": null,
       "overflow": null,
       "overflow_x": null,
       "overflow_y": null,
       "padding": null,
       "right": null,
       "top": null,
       "visibility": null,
       "width": null
      }
     },
     "7acb456366db4bf393588b612b9445b1": {
      "model_module": "@jupyter-widgets/controls",
      "model_module_version": "1.5.0",
      "model_name": "ProgressStyleModel",
      "state": {
       "_model_module": "@jupyter-widgets/controls",
       "_model_module_version": "1.5.0",
       "_model_name": "ProgressStyleModel",
       "_view_count": null,
       "_view_module": "@jupyter-widgets/base",
       "_view_module_version": "1.2.0",
       "_view_name": "StyleView",
       "bar_color": null,
       "description_width": ""
      }
     },
     "7bf054ef21f74a6c901ff20636e12975": {
      "model_module": "@jupyter-widgets/controls",
      "model_module_version": "1.5.0",
      "model_name": "HTMLModel",
      "state": {
       "_dom_classes": [],
       "_model_module": "@jupyter-widgets/controls",
       "_model_module_version": "1.5.0",
       "_model_name": "HTMLModel",
       "_view_count": null,
       "_view_module": "@jupyter-widgets/controls",
       "_view_module_version": "1.5.0",
       "_view_name": "HTMLView",
       "description": "",
       "description_tooltip": null,
       "layout": "IPY_MODEL_d12cad3fea874088b945851fb7c6a1de",
       "placeholder": "​",
       "style": "IPY_MODEL_a7dc16ec057f45a2bb89e97c7e74cfdc",
       "value": " 1702/1702 [00:31&lt;00:00, 177.56ex/s]"
      }
     },
     "8046b5ca87874b42862c17df9aefa730": {
      "model_module": "@jupyter-widgets/base",
      "model_module_version": "1.2.0",
      "model_name": "LayoutModel",
      "state": {
       "_model_module": "@jupyter-widgets/base",
       "_model_module_version": "1.2.0",
       "_model_name": "LayoutModel",
       "_view_count": null,
       "_view_module": "@jupyter-widgets/base",
       "_view_module_version": "1.2.0",
       "_view_name": "LayoutView",
       "align_content": null,
       "align_items": null,
       "align_self": null,
       "border": null,
       "bottom": null,
       "display": null,
       "flex": null,
       "flex_flow": null,
       "grid_area": null,
       "grid_auto_columns": null,
       "grid_auto_flow": null,
       "grid_auto_rows": null,
       "grid_column": null,
       "grid_gap": null,
       "grid_row": null,
       "grid_template_areas": null,
       "grid_template_columns": null,
       "grid_template_rows": null,
       "height": null,
       "justify_content": null,
       "justify_items": null,
       "left": null,
       "margin": null,
       "max_height": null,
       "max_width": null,
       "min_height": null,
       "min_width": null,
       "object_fit": null,
       "object_position": null,
       "order": null,
       "overflow": null,
       "overflow_x": null,
       "overflow_y": null,
       "padding": null,
       "right": null,
       "top": null,
       "visibility": null,
       "width": null
      }
     },
     "856a5ac6c762419b80eb3774c49bd9fb": {
      "model_module": "@jupyter-widgets/controls",
      "model_module_version": "1.5.0",
      "model_name": "ProgressStyleModel",
      "state": {
       "_model_module": "@jupyter-widgets/controls",
       "_model_module_version": "1.5.0",
       "_model_name": "ProgressStyleModel",
       "_view_count": null,
       "_view_module": "@jupyter-widgets/base",
       "_view_module_version": "1.2.0",
       "_view_name": "StyleView",
       "bar_color": null,
       "description_width": ""
      }
     },
     "859a41db08bc425e8bda43b33b85250d": {
      "model_module": "@jupyter-widgets/base",
      "model_module_version": "1.2.0",
      "model_name": "LayoutModel",
      "state": {
       "_model_module": "@jupyter-widgets/base",
       "_model_module_version": "1.2.0",
       "_model_name": "LayoutModel",
       "_view_count": null,
       "_view_module": "@jupyter-widgets/base",
       "_view_module_version": "1.2.0",
       "_view_name": "LayoutView",
       "align_content": null,
       "align_items": null,
       "align_self": null,
       "border": null,
       "bottom": null,
       "display": null,
       "flex": null,
       "flex_flow": null,
       "grid_area": null,
       "grid_auto_columns": null,
       "grid_auto_flow": null,
       "grid_auto_rows": null,
       "grid_column": null,
       "grid_gap": null,
       "grid_row": null,
       "grid_template_areas": null,
       "grid_template_columns": null,
       "grid_template_rows": null,
       "height": null,
       "justify_content": null,
       "justify_items": null,
       "left": null,
       "margin": null,
       "max_height": null,
       "max_width": null,
       "min_height": null,
       "min_width": null,
       "object_fit": null,
       "object_position": null,
       "order": null,
       "overflow": null,
       "overflow_x": null,
       "overflow_y": null,
       "padding": null,
       "right": null,
       "top": null,
       "visibility": null,
       "width": null
      }
     },
     "9e0bf0bac4dd40b9b96ecc474f2a8101": {
      "model_module": "@jupyter-widgets/controls",
      "model_module_version": "1.5.0",
      "model_name": "FloatProgressModel",
      "state": {
       "_dom_classes": [],
       "_model_module": "@jupyter-widgets/controls",
       "_model_module_version": "1.5.0",
       "_model_name": "FloatProgressModel",
       "_view_count": null,
       "_view_module": "@jupyter-widgets/controls",
       "_view_module_version": "1.5.0",
       "_view_name": "ProgressView",
       "bar_style": "success",
       "description": "",
       "description_tooltip": null,
       "layout": "IPY_MODEL_b380aeac15d9463c8abbcf86f45cd27c",
       "max": 5.0,
       "min": 0.0,
       "orientation": "horizontal",
       "style": "IPY_MODEL_856a5ac6c762419b80eb3774c49bd9fb",
       "value": 5.0
      }
     },
     "a0d30b87e5924847ac5ef2ffe9b5215c": {
      "model_module": "@jupyter-widgets/controls",
      "model_module_version": "1.5.0",
      "model_name": "HTMLModel",
      "state": {
       "_dom_classes": [],
       "_model_module": "@jupyter-widgets/controls",
       "_model_module_version": "1.5.0",
       "_model_name": "HTMLModel",
       "_view_count": null,
       "_view_module": "@jupyter-widgets/controls",
       "_view_module_version": "1.5.0",
       "_view_name": "HTMLView",
       "description": "",
       "description_tooltip": null,
       "layout": "IPY_MODEL_0797f64df52944aba58cd33f7a5b94d4",
       "placeholder": "​",
       "style": "IPY_MODEL_f93c3e3d111c4ff2bc98c5cc0b3683d7",
       "value": "#0: 100%"
      }
     },
     "a71f9ef20cb6483594b53239c30a6ae3": {
      "model_module": "@jupyter-widgets/controls",
      "model_module_version": "1.5.0",
      "model_name": "FloatProgressModel",
      "state": {
       "_dom_classes": [],
       "_model_module": "@jupyter-widgets/controls",
       "_model_module_version": "1.5.0",
       "_model_name": "FloatProgressModel",
       "_view_count": null,
       "_view_module": "@jupyter-widgets/controls",
       "_view_module_version": "1.5.0",
       "_view_name": "ProgressView",
       "bar_style": "success",
       "description": "",
       "description_tooltip": null,
       "layout": "IPY_MODEL_859a41db08bc425e8bda43b33b85250d",
       "max": 1702.0,
       "min": 0.0,
       "orientation": "horizontal",
       "style": "IPY_MODEL_d25a286128f74ee6bc42b29870b9b850",
       "value": 1702.0
      }
     },
     "a7dc16ec057f45a2bb89e97c7e74cfdc": {
      "model_module": "@jupyter-widgets/controls",
      "model_module_version": "1.5.0",
      "model_name": "DescriptionStyleModel",
      "state": {
       "_model_module": "@jupyter-widgets/controls",
       "_model_module_version": "1.5.0",
       "_model_name": "DescriptionStyleModel",
       "_view_count": null,
       "_view_module": "@jupyter-widgets/base",
       "_view_module_version": "1.2.0",
       "_view_name": "StyleView",
       "description_width": ""
      }
     },
     "b311a2011ae446f3906fb8488862fc80": {
      "model_module": "@jupyter-widgets/base",
      "model_module_version": "1.2.0",
      "model_name": "LayoutModel",
      "state": {
       "_model_module": "@jupyter-widgets/base",
       "_model_module_version": "1.2.0",
       "_model_name": "LayoutModel",
       "_view_count": null,
       "_view_module": "@jupyter-widgets/base",
       "_view_module_version": "1.2.0",
       "_view_name": "LayoutView",
       "align_content": null,
       "align_items": null,
       "align_self": null,
       "border": null,
       "bottom": null,
       "display": null,
       "flex": null,
       "flex_flow": null,
       "grid_area": null,
       "grid_auto_columns": null,
       "grid_auto_flow": null,
       "grid_auto_rows": null,
       "grid_column": null,
       "grid_gap": null,
       "grid_row": null,
       "grid_template_areas": null,
       "grid_template_columns": null,
       "grid_template_rows": null,
       "height": null,
       "justify_content": null,
       "justify_items": null,
       "left": null,
       "margin": null,
       "max_height": null,
       "max_width": null,
       "min_height": null,
       "min_width": null,
       "object_fit": null,
       "object_position": null,
       "order": null,
       "overflow": null,
       "overflow_x": null,
       "overflow_y": null,
       "padding": null,
       "right": null,
       "top": null,
       "visibility": null,
       "width": null
      }
     },
     "b380aeac15d9463c8abbcf86f45cd27c": {
      "model_module": "@jupyter-widgets/base",
      "model_module_version": "1.2.0",
      "model_name": "LayoutModel",
      "state": {
       "_model_module": "@jupyter-widgets/base",
       "_model_module_version": "1.2.0",
       "_model_name": "LayoutModel",
       "_view_count": null,
       "_view_module": "@jupyter-widgets/base",
       "_view_module_version": "1.2.0",
       "_view_name": "LayoutView",
       "align_content": null,
       "align_items": null,
       "align_self": null,
       "border": null,
       "bottom": null,
       "display": null,
       "flex": null,
       "flex_flow": null,
       "grid_area": null,
       "grid_auto_columns": null,
       "grid_auto_flow": null,
       "grid_auto_rows": null,
       "grid_column": null,
       "grid_gap": null,
       "grid_row": null,
       "grid_template_areas": null,
       "grid_template_columns": null,
       "grid_template_rows": null,
       "height": null,
       "justify_content": null,
       "justify_items": null,
       "left": null,
       "margin": null,
       "max_height": null,
       "max_width": null,
       "min_height": null,
       "min_width": null,
       "object_fit": null,
       "object_position": null,
       "order": null,
       "overflow": null,
       "overflow_x": null,
       "overflow_y": null,
       "padding": null,
       "right": null,
       "top": null,
       "visibility": null,
       "width": null
      }
     },
     "be62e8bfda14485a871ea70e9ba290c2": {
      "model_module": "@jupyter-widgets/controls",
      "model_module_version": "1.5.0",
      "model_name": "HBoxModel",
      "state": {
       "_dom_classes": [],
       "_model_module": "@jupyter-widgets/controls",
       "_model_module_version": "1.5.0",
       "_model_name": "HBoxModel",
       "_view_count": null,
       "_view_module": "@jupyter-widgets/controls",
       "_view_module_version": "1.5.0",
       "_view_name": "HBoxView",
       "box_style": "",
       "children": [
        "IPY_MODEL_eda294dfbe0a468fa08b5ec7cf6360ad",
        "IPY_MODEL_9e0bf0bac4dd40b9b96ecc474f2a8101",
        "IPY_MODEL_128700e2409a47b4b6a11998d254e52e"
       ],
       "layout": "IPY_MODEL_40d6fd9950d44f198b10f8aca3b54421"
      }
     },
     "c0651ccd02c34a34be76eb83579ff77b": {
      "model_module": "@jupyter-widgets/controls",
      "model_module_version": "1.5.0",
      "model_name": "HTMLModel",
      "state": {
       "_dom_classes": [],
       "_model_module": "@jupyter-widgets/controls",
       "_model_module_version": "1.5.0",
       "_model_name": "HTMLModel",
       "_view_count": null,
       "_view_module": "@jupyter-widgets/controls",
       "_view_module_version": "1.5.0",
       "_view_name": "HTMLView",
       "description": "",
       "description_tooltip": null,
       "layout": "IPY_MODEL_b311a2011ae446f3906fb8488862fc80",
       "placeholder": "​",
       "style": "IPY_MODEL_d70eaa75f9cd46b8873b9ea0ae202fa3",
       "value": " 5/5 [00:00&lt;00:00, 61.30ex/s]"
      }
     },
     "c582ae7c14334c3e96b6d5bf7cf7a711": {
      "model_module": "@jupyter-widgets/base",
      "model_module_version": "1.2.0",
      "model_name": "LayoutModel",
      "state": {
       "_model_module": "@jupyter-widgets/base",
       "_model_module_version": "1.2.0",
       "_model_name": "LayoutModel",
       "_view_count": null,
       "_view_module": "@jupyter-widgets/base",
       "_view_module_version": "1.2.0",
       "_view_name": "LayoutView",
       "align_content": null,
       "align_items": null,
       "align_self": null,
       "border": null,
       "bottom": null,
       "display": null,
       "flex": null,
       "flex_flow": null,
       "grid_area": null,
       "grid_auto_columns": null,
       "grid_auto_flow": null,
       "grid_auto_rows": null,
       "grid_column": null,
       "grid_gap": null,
       "grid_row": null,
       "grid_template_areas": null,
       "grid_template_columns": null,
       "grid_template_rows": null,
       "height": null,
       "justify_content": null,
       "justify_items": null,
       "left": null,
       "margin": null,
       "max_height": null,
       "max_width": null,
       "min_height": null,
       "min_width": null,
       "object_fit": null,
       "object_position": null,
       "order": null,
       "overflow": null,
       "overflow_x": null,
       "overflow_y": null,
       "padding": null,
       "right": null,
       "top": null,
       "visibility": null,
       "width": null
      }
     },
     "cc55a2bfcf154c0982b77aac778ff5ce": {
      "model_module": "@jupyter-widgets/controls",
      "model_module_version": "1.5.0",
      "model_name": "DescriptionStyleModel",
      "state": {
       "_model_module": "@jupyter-widgets/controls",
       "_model_module_version": "1.5.0",
       "_model_name": "DescriptionStyleModel",
       "_view_count": null,
       "_view_module": "@jupyter-widgets/base",
       "_view_module_version": "1.2.0",
       "_view_name": "StyleView",
       "description_width": ""
      }
     },
     "d10a4e483e784cf294baa9ce3f715972": {
      "model_module": "@jupyter-widgets/controls",
      "model_module_version": "1.5.0",
      "model_name": "HTMLModel",
      "state": {
       "_dom_classes": [],
       "_model_module": "@jupyter-widgets/controls",
       "_model_module_version": "1.5.0",
       "_model_name": "HTMLModel",
       "_view_count": null,
       "_view_module": "@jupyter-widgets/controls",
       "_view_module_version": "1.5.0",
       "_view_name": "HTMLView",
       "description": "",
       "description_tooltip": null,
       "layout": "IPY_MODEL_de339433da26450687dc79aa44a6ec40",
       "placeholder": "​",
       "style": "IPY_MODEL_0ed4e01c0825489fb62c044250b2bf3e",
       "value": " 1702/1702 [00:30&lt;00:00, 179.19ex/s]"
      }
     },
     "d12cad3fea874088b945851fb7c6a1de": {
      "model_module": "@jupyter-widgets/base",
      "model_module_version": "1.2.0",
      "model_name": "LayoutModel",
      "state": {
       "_model_module": "@jupyter-widgets/base",
       "_model_module_version": "1.2.0",
       "_model_name": "LayoutModel",
       "_view_count": null,
       "_view_module": "@jupyter-widgets/base",
       "_view_module_version": "1.2.0",
       "_view_name": "LayoutView",
       "align_content": null,
       "align_items": null,
       "align_self": null,
       "border": null,
       "bottom": null,
       "display": null,
       "flex": null,
       "flex_flow": null,
       "grid_area": null,
       "grid_auto_columns": null,
       "grid_auto_flow": null,
       "grid_auto_rows": null,
       "grid_column": null,
       "grid_gap": null,
       "grid_row": null,
       "grid_template_areas": null,
       "grid_template_columns": null,
       "grid_template_rows": null,
       "height": null,
       "justify_content": null,
       "justify_items": null,
       "left": null,
       "margin": null,
       "max_height": null,
       "max_width": null,
       "min_height": null,
       "min_width": null,
       "object_fit": null,
       "object_position": null,
       "order": null,
       "overflow": null,
       "overflow_x": null,
       "overflow_y": null,
       "padding": null,
       "right": null,
       "top": null,
       "visibility": null,
       "width": null
      }
     },
     "d25a286128f74ee6bc42b29870b9b850": {
      "model_module": "@jupyter-widgets/controls",
      "model_module_version": "1.5.0",
      "model_name": "ProgressStyleModel",
      "state": {
       "_model_module": "@jupyter-widgets/controls",
       "_model_module_version": "1.5.0",
       "_model_name": "ProgressStyleModel",
       "_view_count": null,
       "_view_module": "@jupyter-widgets/base",
       "_view_module_version": "1.2.0",
       "_view_name": "StyleView",
       "bar_color": null,
       "description_width": ""
      }
     },
     "d70eaa75f9cd46b8873b9ea0ae202fa3": {
      "model_module": "@jupyter-widgets/controls",
      "model_module_version": "1.5.0",
      "model_name": "DescriptionStyleModel",
      "state": {
       "_model_module": "@jupyter-widgets/controls",
       "_model_module_version": "1.5.0",
       "_model_name": "DescriptionStyleModel",
       "_view_count": null,
       "_view_module": "@jupyter-widgets/base",
       "_view_module_version": "1.2.0",
       "_view_name": "StyleView",
       "description_width": ""
      }
     },
     "d7fb5c602a8f44ce87852c81d16aa0b2": {
      "model_module": "@jupyter-widgets/controls",
      "model_module_version": "1.5.0",
      "model_name": "DescriptionStyleModel",
      "state": {
       "_model_module": "@jupyter-widgets/controls",
       "_model_module_version": "1.5.0",
       "_model_name": "DescriptionStyleModel",
       "_view_count": null,
       "_view_module": "@jupyter-widgets/base",
       "_view_module_version": "1.2.0",
       "_view_name": "StyleView",
       "description_width": ""
      }
     },
     "d88288cbe07544dc8a00e38e5498b519": {
      "model_module": "@jupyter-widgets/base",
      "model_module_version": "1.2.0",
      "model_name": "LayoutModel",
      "state": {
       "_model_module": "@jupyter-widgets/base",
       "_model_module_version": "1.2.0",
       "_model_name": "LayoutModel",
       "_view_count": null,
       "_view_module": "@jupyter-widgets/base",
       "_view_module_version": "1.2.0",
       "_view_name": "LayoutView",
       "align_content": null,
       "align_items": null,
       "align_self": null,
       "border": null,
       "bottom": null,
       "display": null,
       "flex": null,
       "flex_flow": null,
       "grid_area": null,
       "grid_auto_columns": null,
       "grid_auto_flow": null,
       "grid_auto_rows": null,
       "grid_column": null,
       "grid_gap": null,
       "grid_row": null,
       "grid_template_areas": null,
       "grid_template_columns": null,
       "grid_template_rows": null,
       "height": null,
       "justify_content": null,
       "justify_items": null,
       "left": null,
       "margin": null,
       "max_height": null,
       "max_width": null,
       "min_height": null,
       "min_width": null,
       "object_fit": null,
       "object_position": null,
       "order": null,
       "overflow": null,
       "overflow_x": null,
       "overflow_y": null,
       "padding": null,
       "right": null,
       "top": null,
       "visibility": null,
       "width": null
      }
     },
     "de339433da26450687dc79aa44a6ec40": {
      "model_module": "@jupyter-widgets/base",
      "model_module_version": "1.2.0",
      "model_name": "LayoutModel",
      "state": {
       "_model_module": "@jupyter-widgets/base",
       "_model_module_version": "1.2.0",
       "_model_name": "LayoutModel",
       "_view_count": null,
       "_view_module": "@jupyter-widgets/base",
       "_view_module_version": "1.2.0",
       "_view_name": "LayoutView",
       "align_content": null,
       "align_items": null,
       "align_self": null,
       "border": null,
       "bottom": null,
       "display": null,
       "flex": null,
       "flex_flow": null,
       "grid_area": null,
       "grid_auto_columns": null,
       "grid_auto_flow": null,
       "grid_auto_rows": null,
       "grid_column": null,
       "grid_gap": null,
       "grid_row": null,
       "grid_template_areas": null,
       "grid_template_columns": null,
       "grid_template_rows": null,
       "height": null,
       "justify_content": null,
       "justify_items": null,
       "left": null,
       "margin": null,
       "max_height": null,
       "max_width": null,
       "min_height": null,
       "min_width": null,
       "object_fit": null,
       "object_position": null,
       "order": null,
       "overflow": null,
       "overflow_x": null,
       "overflow_y": null,
       "padding": null,
       "right": null,
       "top": null,
       "visibility": null,
       "width": null
      }
     },
     "e41d368bee004279acede43e047dc9cd": {
      "model_module": "@jupyter-widgets/controls",
      "model_module_version": "1.5.0",
      "model_name": "DescriptionStyleModel",
      "state": {
       "_model_module": "@jupyter-widgets/controls",
       "_model_module_version": "1.5.0",
       "_model_name": "DescriptionStyleModel",
       "_view_count": null,
       "_view_module": "@jupyter-widgets/base",
       "_view_module_version": "1.2.0",
       "_view_name": "StyleView",
       "description_width": ""
      }
     },
     "ebe90fbd63e840d3969150c372696382": {
      "model_module": "@jupyter-widgets/base",
      "model_module_version": "1.2.0",
      "model_name": "LayoutModel",
      "state": {
       "_model_module": "@jupyter-widgets/base",
       "_model_module_version": "1.2.0",
       "_model_name": "LayoutModel",
       "_view_count": null,
       "_view_module": "@jupyter-widgets/base",
       "_view_module_version": "1.2.0",
       "_view_name": "LayoutView",
       "align_content": null,
       "align_items": null,
       "align_self": null,
       "border": null,
       "bottom": null,
       "display": null,
       "flex": null,
       "flex_flow": null,
       "grid_area": null,
       "grid_auto_columns": null,
       "grid_auto_flow": null,
       "grid_auto_rows": null,
       "grid_column": null,
       "grid_gap": null,
       "grid_row": null,
       "grid_template_areas": null,
       "grid_template_columns": null,
       "grid_template_rows": null,
       "height": null,
       "justify_content": null,
       "justify_items": null,
       "left": null,
       "margin": null,
       "max_height": null,
       "max_width": null,
       "min_height": null,
       "min_width": null,
       "object_fit": null,
       "object_position": null,
       "order": null,
       "overflow": null,
       "overflow_x": null,
       "overflow_y": null,
       "padding": null,
       "right": null,
       "top": null,
       "visibility": null,
       "width": null
      }
     },
     "eda294dfbe0a468fa08b5ec7cf6360ad": {
      "model_module": "@jupyter-widgets/controls",
      "model_module_version": "1.5.0",
      "model_name": "HTMLModel",
      "state": {
       "_dom_classes": [],
       "_model_module": "@jupyter-widgets/controls",
       "_model_module_version": "1.5.0",
       "_model_name": "HTMLModel",
       "_view_count": null,
       "_view_module": "@jupyter-widgets/controls",
       "_view_module_version": "1.5.0",
       "_view_name": "HTMLView",
       "description": "",
       "description_tooltip": null,
       "layout": "IPY_MODEL_8046b5ca87874b42862c17df9aefa730",
       "placeholder": "​",
       "style": "IPY_MODEL_e41d368bee004279acede43e047dc9cd",
       "value": "#1: 100%"
      }
     },
     "eded9e1fdb7b4623af7071a0838513f6": {
      "model_module": "@jupyter-widgets/controls",
      "model_module_version": "1.5.0",
      "model_name": "FloatProgressModel",
      "state": {
       "_dom_classes": [],
       "_model_module": "@jupyter-widgets/controls",
       "_model_module_version": "1.5.0",
       "_model_name": "FloatProgressModel",
       "_view_count": null,
       "_view_module": "@jupyter-widgets/controls",
       "_view_module_version": "1.5.0",
       "_view_name": "ProgressView",
       "bar_style": "success",
       "description": "",
       "description_tooltip": null,
       "layout": "IPY_MODEL_6408d15c304f43a99c23170e83f38cfd",
       "max": 5.0,
       "min": 0.0,
       "orientation": "horizontal",
       "style": "IPY_MODEL_7acb456366db4bf393588b612b9445b1",
       "value": 5.0
      }
     },
     "f93c3e3d111c4ff2bc98c5cc0b3683d7": {
      "model_module": "@jupyter-widgets/controls",
      "model_module_version": "1.5.0",
      "model_name": "DescriptionStyleModel",
      "state": {
       "_model_module": "@jupyter-widgets/controls",
       "_model_module_version": "1.5.0",
       "_model_name": "DescriptionStyleModel",
       "_view_count": null,
       "_view_module": "@jupyter-widgets/base",
       "_view_module_version": "1.2.0",
       "_view_name": "StyleView",
       "description_width": ""
      }
     },
     "ff3122a8935b4966a4e7d2fe502961e3": {
      "model_module": "@jupyter-widgets/controls",
      "model_module_version": "1.5.0",
      "model_name": "ProgressStyleModel",
      "state": {
       "_model_module": "@jupyter-widgets/controls",
       "_model_module_version": "1.5.0",
       "_model_name": "ProgressStyleModel",
       "_view_count": null,
       "_view_module": "@jupyter-widgets/base",
       "_view_module_version": "1.2.0",
       "_view_name": "StyleView",
       "bar_color": null,
       "description_width": ""
      }
     }
    },
    "version_major": 2,
    "version_minor": 0
   }
  }
 },
 "nbformat": 4,
 "nbformat_minor": 5
}
