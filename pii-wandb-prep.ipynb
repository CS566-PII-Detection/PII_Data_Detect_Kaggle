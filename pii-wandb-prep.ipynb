{
 "cells": [
  {
   "cell_type": "markdown",
   "id": "13129e9a",
   "metadata": {
    "papermill": {
     "duration": 0.009855,
     "end_time": "2024-04-18T16:52:21.639718",
     "exception": false,
     "start_time": "2024-04-18T16:52:21.629863",
     "status": "completed"
    },
    "tags": []
   },
   "source": [
    "# PII Data Prep with W and B\n",
    "\n",
    "## Reference\n",
    "https://www.kaggle.com/code/thedrcat/pii-data-preparation-cv-stride-viz-and-w-b#Share-your-findings"
   ]
  },
  {
   "cell_type": "markdown",
   "id": "c300320c",
   "metadata": {
    "papermill": {
     "duration": 0.008998,
     "end_time": "2024-04-18T16:52:21.658187",
     "exception": false,
     "start_time": "2024-04-18T16:52:21.649189",
     "status": "completed"
    },
    "tags": []
   },
   "source": [
    "# Config and Import"
   ]
  },
  {
   "cell_type": "code",
   "execution_count": 1,
   "id": "a8b17aa9",
   "metadata": {
    "execution": {
     "iopub.execute_input": "2024-04-18T16:52:21.680961Z",
     "iopub.status.busy": "2024-04-18T16:52:21.680285Z",
     "iopub.status.idle": "2024-04-18T16:52:38.549145Z",
     "shell.execute_reply": "2024-04-18T16:52:38.547384Z"
    },
    "papermill": {
     "duration": 16.884859,
     "end_time": "2024-04-18T16:52:38.552685",
     "exception": false,
     "start_time": "2024-04-18T16:52:21.667826",
     "status": "completed"
    },
    "tags": []
   },
   "outputs": [],
   "source": [
    "!pip install wandb -q"
   ]
  },
  {
   "cell_type": "code",
   "execution_count": 2,
   "id": "bbb0c6e7",
   "metadata": {
    "_cell_guid": "b1076dfc-b9ad-4769-8c92-a6c4dae69d19",
    "_uuid": "8f2839f25d086af736a60e9eeb907d3b93b6e0e5",
    "execution": {
     "iopub.execute_input": "2024-04-18T16:52:38.575921Z",
     "iopub.status.busy": "2024-04-18T16:52:38.575450Z",
     "iopub.status.idle": "2024-04-18T16:52:39.597734Z",
     "shell.execute_reply": "2024-04-18T16:52:39.596508Z"
    },
    "papermill": {
     "duration": 1.037225,
     "end_time": "2024-04-18T16:52:39.600687",
     "exception": false,
     "start_time": "2024-04-18T16:52:38.563462",
     "status": "completed"
    },
    "tags": []
   },
   "outputs": [],
   "source": [
    "from pathlib import Path\n",
    "import os\n",
    "\n",
    "import json\n",
    "import itertools\n",
    "import numpy as np\n",
    "import pandas as pd\n",
    "import matplotlib.pyplot as plt\n",
    "\n",
    "import warnings"
   ]
  },
  {
   "cell_type": "code",
   "execution_count": 3,
   "id": "9257f74b",
   "metadata": {
    "execution": {
     "iopub.execute_input": "2024-04-18T16:52:39.621301Z",
     "iopub.status.busy": "2024-04-18T16:52:39.620769Z",
     "iopub.status.idle": "2024-04-18T16:52:39.627420Z",
     "shell.execute_reply": "2024-04-18T16:52:39.626257Z"
    },
    "papermill": {
     "duration": 0.020005,
     "end_time": "2024-04-18T16:52:39.630066",
     "exception": false,
     "start_time": "2024-04-18T16:52:39.610061",
     "status": "completed"
    },
    "tags": []
   },
   "outputs": [],
   "source": [
    "DATA_PATH = '../input/pii-detection-removal-from-educational-data'\n",
    "OUTPUT_DIR = '/kaggle/working/'"
   ]
  },
  {
   "cell_type": "markdown",
   "id": "8733eb85",
   "metadata": {
    "papermill": {
     "duration": 0.009005,
     "end_time": "2024-04-18T16:52:39.648423",
     "exception": false,
     "start_time": "2024-04-18T16:52:39.639418",
     "status": "completed"
    },
    "tags": []
   },
   "source": [
    "# Helper functions"
   ]
  },
  {
   "cell_type": "code",
   "execution_count": 4,
   "id": "5953be91",
   "metadata": {
    "execution": {
     "iopub.execute_input": "2024-04-18T16:52:39.669801Z",
     "iopub.status.busy": "2024-04-18T16:52:39.669420Z",
     "iopub.status.idle": "2024-04-18T16:52:39.677633Z",
     "shell.execute_reply": "2024-04-18T16:52:39.676397Z"
    },
    "papermill": {
     "duration": 0.022641,
     "end_time": "2024-04-18T16:52:39.680300",
     "exception": false,
     "start_time": "2024-04-18T16:52:39.657659",
     "status": "completed"
    },
    "tags": []
   },
   "outputs": [],
   "source": [
    "#split data into training and validation set\n",
    "def PIId2_split_by_sampling(df, test_ratio):\n",
    "    \"\"\"Split PII data into training and test set. \n",
    "\n",
    "    Args:\n",
    "        df (pd.DataFrame): The input DataFrame.\n",
    "        test_ratio (float, default=0.2): \n",
    "            The proportion of the dataset to include in the test split.\n",
    "\n",
    "    Returns:\n",
    "        train_df, test_df: Training and test splits of the input DataFrame.\n",
    "    \"\"\"\n",
    "    # Get the number of rows in the DataFrame\n",
    "    num_rows = len(df)\n",
    "    \n",
    "    # Get the split index\n",
    "    split_idx = int(num_rows * test_ratio)\n",
    "    \n",
    "    # Shuffle the DataFrame rows\n",
    "    df_shuffled = df.sample(frac=1, random_state=42)\n",
    "    \n",
    "    # Split the DataFrame into train and test\n",
    "    train_df = df_shuffled.iloc[split_idx:]\n",
    "    test_df = df_shuffled.iloc[:split_idx]\n",
    "    \n",
    "#     #TEMP to test\n",
    "#     # Add a new column 'valid' with boolean values - need to modify the move missing if want to keep\n",
    "#     train_df['valid'] = False\n",
    "#     test_df['valid'] = True\n",
    "    \n",
    "    return train_df, test_df"
   ]
  },
  {
   "cell_type": "code",
   "execution_count": 5,
   "id": "afda7830",
   "metadata": {
    "execution": {
     "iopub.execute_input": "2024-04-18T16:52:39.701510Z",
     "iopub.status.busy": "2024-04-18T16:52:39.701118Z",
     "iopub.status.idle": "2024-04-18T16:52:39.710075Z",
     "shell.execute_reply": "2024-04-18T16:52:39.708866Z"
    },
    "papermill": {
     "duration": 0.023107,
     "end_time": "2024-04-18T16:52:39.712667",
     "exception": false,
     "start_time": "2024-04-18T16:52:39.689560",
     "status": "completed"
    },
    "tags": []
   },
   "outputs": [],
   "source": [
    "def move_missing_labels(to_df, from_df):\n",
    "    \"\"\"\n",
    "    Move documents containing missing labels from the extra DataFrame to the desired DataFrame.\n",
    "\n",
    "    Parameters:\n",
    "    - to_df (DataFrame): DataFrame where the documents should be moved to.\n",
    "    - from_df (DataFrame): DataFrame where the documents should be moved from.\n",
    "\n",
    "    Returns:\n",
    "    - desired_df, extra_df: Updated DataFrames.\n",
    "    \"\"\"\n",
    "    # Find the labels that are missing from the to_df DataFrame\n",
    "    missing_labels = set(from_df['labels'].explode().unique()) - set(to_df['labels'].explode().unique())\n",
    "\n",
    "    # For each missing label, move a document from the extra DataFrame to the desired DataFrame\n",
    "    for label in missing_labels:\n",
    "        if label in from_df['labels'].explode().unique():\n",
    "            document = from_df[from_df['labels'].apply(lambda x: label in x)].sample(n=1)\n",
    "            to_df = pd.concat([to_df, document])\n",
    "            from_df = from_df.drop(document.index)\n",
    "\n",
    "    return to_df, from_df"
   ]
  },
  {
   "cell_type": "markdown",
   "id": "2a0e24c4",
   "metadata": {
    "papermill": {
     "duration": 0.009164,
     "end_time": "2024-04-18T16:52:39.731679",
     "exception": false,
     "start_time": "2024-04-18T16:52:39.722515",
     "status": "completed"
    },
    "tags": []
   },
   "source": [
    "# Validation set and Miniset"
   ]
  },
  {
   "cell_type": "code",
   "execution_count": 6,
   "id": "4cfb9f3f",
   "metadata": {
    "execution": {
     "iopub.execute_input": "2024-04-18T16:52:39.752614Z",
     "iopub.status.busy": "2024-04-18T16:52:39.752182Z",
     "iopub.status.idle": "2024-04-18T16:52:43.052286Z",
     "shell.execute_reply": "2024-04-18T16:52:43.050900Z"
    },
    "papermill": {
     "duration": 3.314187,
     "end_time": "2024-04-18T16:52:43.055178",
     "exception": false,
     "start_time": "2024-04-18T16:52:39.740991",
     "status": "completed"
    },
    "tags": []
   },
   "outputs": [],
   "source": [
    "comp_train= json.load(open(DATA_PATH +'/train.json'))\n",
    "\n",
    "#Convert to df for EDA\n",
    "base_df= pd.DataFrame(comp_train)"
   ]
  },
  {
   "cell_type": "code",
   "execution_count": 7,
   "id": "cdf728b0",
   "metadata": {
    "execution": {
     "iopub.execute_input": "2024-04-18T16:52:43.076937Z",
     "iopub.status.busy": "2024-04-18T16:52:43.076544Z",
     "iopub.status.idle": "2024-04-18T16:52:43.340360Z",
     "shell.execute_reply": "2024-04-18T16:52:43.339088Z"
    },
    "papermill": {
     "duration": 0.278238,
     "end_time": "2024-04-18T16:52:43.343664",
     "exception": false,
     "start_time": "2024-04-18T16:52:43.065426",
     "status": "completed"
    },
    "tags": []
   },
   "outputs": [],
   "source": [
    "#TODO see if can remove since only needed for stride, \n",
    "#note if remove adjust create_dataset in https://www.kaggle.com/code/jonathankasprisin/pii-wandb-training/edit\n",
    "def add_token_indices(doc_tokens):\n",
    "    token_indices = list(range(len(doc_tokens)))\n",
    "    return token_indices\n",
    "\n",
    "base_df['token_indices'] = base_df['tokens'].apply(add_token_indices)"
   ]
  },
  {
   "cell_type": "code",
   "execution_count": 8,
   "id": "68051a7d",
   "metadata": {
    "execution": {
     "iopub.execute_input": "2024-04-18T16:52:43.364391Z",
     "iopub.status.busy": "2024-04-18T16:52:43.363959Z",
     "iopub.status.idle": "2024-04-18T16:52:48.437345Z",
     "shell.execute_reply": "2024-04-18T16:52:48.436141Z"
    },
    "papermill": {
     "duration": 5.086961,
     "end_time": "2024-04-18T16:52:48.440247",
     "exception": false,
     "start_time": "2024-04-18T16:52:43.353286",
     "status": "completed"
    },
    "tags": []
   },
   "outputs": [],
   "source": [
    "train_df, val_df = PIId2_split_by_sampling(base_df, .1)\n",
    "train_df_overlap = train_df\n",
    "\n",
    "val_df, train_df = move_missing_labels(val_df, train_df)"
   ]
  },
  {
   "cell_type": "code",
   "execution_count": 9,
   "id": "da00edb4",
   "metadata": {
    "execution": {
     "iopub.execute_input": "2024-04-18T16:52:48.461431Z",
     "iopub.status.busy": "2024-04-18T16:52:48.461019Z",
     "iopub.status.idle": "2024-04-18T16:52:54.286702Z",
     "shell.execute_reply": "2024-04-18T16:52:54.285166Z"
    },
    "papermill": {
     "duration": 5.839784,
     "end_time": "2024-04-18T16:52:54.289715",
     "exception": false,
     "start_time": "2024-04-18T16:52:48.449931",
     "status": "completed"
    },
    "tags": []
   },
   "outputs": [
    {
     "name": "stdout",
     "output_type": "stream",
     "text": [
      "size of base:  6807\n",
      "size of val_df:  688\n"
     ]
    }
   ],
   "source": [
    "# Save the DataFrame to a JSON file \n",
    "val_df.to_json(OUTPUT_DIR + \"/val.json\", orient=\"records\")\n",
    "train_df.to_json(OUTPUT_DIR + \"/train_df_fromval.json\", orient=\"records\")\n",
    "train_df_overlap.to_json(OUTPUT_DIR + \"/train_df_overlap_fromval.json\", orient=\"records\")\n",
    "\n",
    "print(\"size of base: \", len(base_df))\n",
    "print(\"size of val_df: \", len(val_df))"
   ]
  },
  {
   "cell_type": "code",
   "execution_count": 10,
   "id": "3a43eb8d",
   "metadata": {
    "execution": {
     "iopub.execute_input": "2024-04-18T16:52:54.310662Z",
     "iopub.status.busy": "2024-04-18T16:52:54.310116Z",
     "iopub.status.idle": "2024-04-18T16:52:58.845140Z",
     "shell.execute_reply": "2024-04-18T16:52:58.843800Z"
    },
    "papermill": {
     "duration": 4.548513,
     "end_time": "2024-04-18T16:52:58.847956",
     "exception": false,
     "start_time": "2024-04-18T16:52:54.299443",
     "status": "completed"
    },
    "tags": []
   },
   "outputs": [
    {
     "name": "stdout",
     "output_type": "stream",
     "text": [
      "size of base:  6807\n",
      "size of mini_overlap:  3066\n",
      "size of mini_no_overlap:  3061\n"
     ]
    }
   ],
   "source": [
    "mini_overlap, overlap_extra = PIId2_split_by_sampling(train_df_overlap, .5)\n",
    "mini_no_overlap, no_overlap_extra= PIId2_split_by_sampling(train_df, .5)\n",
    "\n",
    "\n",
    "mini_overlap, overlap_extra = move_missing_labels(mini_overlap, overlap_extra)\n",
    "mini_no_overlap, no_overlap_extra= move_missing_labels(mini_no_overlap, no_overlap_extra)\n",
    "\n",
    "# Save the DataFrame to a JSON file \n",
    "mini_overlap.to_json(OUTPUT_DIR + \"/mini_overlap.json\", orient=\"records\")\n",
    "mini_no_overlap.to_json(OUTPUT_DIR + \"/mini_no_overlap.json\", orient=\"records\")\n",
    "\n",
    "print(\"size of base: \", len(base_df))\n",
    "print(\"size of mini_overlap: \", len(mini_overlap))\n",
    "print(\"size of mini_no_overlap: \", len(mini_no_overlap))"
   ]
  },
  {
   "cell_type": "code",
   "execution_count": 11,
   "id": "9ff4d8ad",
   "metadata": {
    "execution": {
     "iopub.execute_input": "2024-04-18T16:52:58.869275Z",
     "iopub.status.busy": "2024-04-18T16:52:58.868706Z",
     "iopub.status.idle": "2024-04-18T16:52:58.937400Z",
     "shell.execute_reply": "2024-04-18T16:52:58.935976Z"
    },
    "papermill": {
     "duration": 0.082681,
     "end_time": "2024-04-18T16:52:58.940860",
     "exception": false,
     "start_time": "2024-04-18T16:52:58.858179",
     "status": "completed"
    },
    "tags": []
   },
   "outputs": [
    {
     "name": "stdout",
     "output_type": "stream",
     "text": [
      "<class 'pandas.core.frame.DataFrame'>\n",
      "Index: 688 entries, 4624 to 405\n",
      "Data columns (total 6 columns):\n",
      " #   Column               Non-Null Count  Dtype \n",
      "---  ------               --------------  ----- \n",
      " 0   document             688 non-null    int64 \n",
      " 1   full_text            688 non-null    object\n",
      " 2   tokens               688 non-null    object\n",
      " 3   trailing_whitespace  688 non-null    object\n",
      " 4   labels               688 non-null    object\n",
      " 5   token_indices        688 non-null    object\n",
      "dtypes: int64(1), object(5)\n",
      "memory usage: 53.8+ KB\n",
      "total labels 519423 \n",
      " entity labels 333\n",
      "O: 519090\n",
      "B-NAME_STUDENT: 139\n",
      "I-NAME_STUDENT: 129\n",
      "B-URL_PERSONAL: 15\n",
      "B-ID_NUM: 2\n",
      "I-URL_PERSONAL: 1\n",
      "B-PHONE_NUM: 5\n",
      "I-PHONE_NUM: 12\n",
      "B-EMAIL: 6\n",
      "B-STREET_ADDRESS: 2\n",
      "I-STREET_ADDRESS: 20\n",
      "I-ID_NUM: 1\n",
      "B-USERNAME: 1\n"
     ]
    }
   ],
   "source": [
    "from collections import Counter\n",
    "from itertools import chain\n",
    "#Val set analysis\n",
    "val_df.info()\n",
    "df = val_df\n",
    "total_count = df['labels'].apply(len).sum()\n",
    "# Flatten the list of labels\n",
    "all_labels_flat = list(chain(* val_df.labels.values))\n",
    "\n",
    "# Count the occurrences of each unique label\n",
    "label_counts = Counter(all_labels_flat)\n",
    "\n",
    "entity_count = total_count - label_counts['O']\n",
    "\n",
    "print(f'total labels {total_count} \\n entity labels {entity_count}')\n",
    "# Print the counts\n",
    "for label, count in label_counts.items():\n",
    "    print(f'{label}: {count}')"
   ]
  },
  {
   "cell_type": "markdown",
   "id": "60a06c15",
   "metadata": {
    "papermill": {
     "duration": 0.009692,
     "end_time": "2024-04-18T16:52:58.963960",
     "exception": false,
     "start_time": "2024-04-18T16:52:58.954268",
     "status": "completed"
    },
    "tags": []
   },
   "source": [
    "# More data\n",
    "https://www.kaggle.com/code/valentinwerner/fix-punctuation-tokenization-external-dataset/output\n",
    "\n",
    "valentinwerner fix of \n",
    "https://www.kaggle.com/datasets/alejopaullier/pii-external-dataset/data?select=pii_dataset.csv\n",
    "https://www.kaggle.com/datasets/pjmathematician/pii-detection-dataset-gpt\n",
    "\n",
    "thoughts- https://www.kaggle.com/competitions/pii-detection-removal-from-educational-data/discussion/472560"
   ]
  },
  {
   "cell_type": "code",
   "execution_count": 12,
   "id": "1f21c3a3",
   "metadata": {
    "execution": {
     "iopub.execute_input": "2024-04-18T16:52:58.986334Z",
     "iopub.status.busy": "2024-04-18T16:52:58.985480Z",
     "iopub.status.idle": "2024-04-18T16:53:01.043054Z",
     "shell.execute_reply": "2024-04-18T16:53:01.041696Z"
    },
    "papermill": {
     "duration": 2.071827,
     "end_time": "2024-04-18T16:53:01.045931",
     "exception": false,
     "start_time": "2024-04-18T16:52:58.974104",
     "status": "completed"
    },
    "tags": []
   },
   "outputs": [],
   "source": [
    "train_df\n",
    "\n",
    "#TODO make into pipeline/function\n",
    "moredata_dataset_fixed= json.load(open('/kaggle/input/fix-punctuation-tokenization-external-dataset/moredata_dataset_fixed.json'))\n",
    "pii_dataset_fixed= json.load(open('/kaggle/input/fix-punctuation-tokenization-external-dataset/pii_dataset_fixed.json'))\n",
    "\n",
    "# Convert to df for EDA\n",
    "moredata_dataset_fixed_df = pd.DataFrame(moredata_dataset_fixed)\n",
    "pii_dataset_fixed_df = pd.DataFrame(pii_dataset_fixed)\n",
    "\n",
    "# Convert and standardize documents and add indices\n",
    "ext_dfs = [moredata_dataset_fixed_df, pii_dataset_fixed_df]\n",
    "ext_doc_numbering_seed = [100000 * (i + 1) for i in range(len(ext_dfs))]\n",
    "for df, seed in zip(ext_dfs, ext_doc_numbering_seed):\n",
    "    # Add token indices\n",
    "    df['token_indices'] = df['tokens'].apply(add_token_indices)\n",
    "    # Convert documents to int\n",
    "    df['document'] = range(seed, seed + len(df['document']))"
   ]
  },
  {
   "cell_type": "code",
   "execution_count": 13,
   "id": "0cd8f0cb",
   "metadata": {
    "execution": {
     "iopub.execute_input": "2024-04-18T16:53:01.066957Z",
     "iopub.status.busy": "2024-04-18T16:53:01.066513Z",
     "iopub.status.idle": "2024-04-18T16:53:01.075682Z",
     "shell.execute_reply": "2024-04-18T16:53:01.074372Z"
    },
    "papermill": {
     "duration": 0.02337,
     "end_time": "2024-04-18T16:53:01.078942",
     "exception": false,
     "start_time": "2024-04-18T16:53:01.055572",
     "status": "completed"
    },
    "tags": []
   },
   "outputs": [
    {
     "name": "stdout",
     "output_type": "stream",
     "text": [
      "token pii_dataset type <class 'str'>\n",
      "token moredata type <class 'str'>\n",
      "token train type <class 'str'>\n"
     ]
    }
   ],
   "source": [
    "# Get the type of the first non-null element in the 'tokens' column\n",
    "first_non_null_element = next(item for item in pii_dataset_fixed_df['tokens'] if item is not None)\n",
    "print(\"token pii_dataset type\", type(first_non_null_element[0]))\n",
    "\n",
    "first_non_null_element = next(item for item in moredata_dataset_fixed_df['tokens'] if item is not None)\n",
    "print(\"token moredata type\", type(first_non_null_element[0]))\n",
    "\n",
    "first_non_null_element = next(item for item in train_df['tokens'] if item is not None)\n",
    "print(\"token train type\", type(first_non_null_element[0]))\n"
   ]
  },
  {
   "cell_type": "code",
   "execution_count": 14,
   "id": "77d7cf15",
   "metadata": {
    "execution": {
     "iopub.execute_input": "2024-04-18T16:53:01.101134Z",
     "iopub.status.busy": "2024-04-18T16:53:01.100717Z",
     "iopub.status.idle": "2024-04-18T16:53:01.109828Z",
     "shell.execute_reply": "2024-04-18T16:53:01.108507Z"
    },
    "papermill": {
     "duration": 0.022941,
     "end_time": "2024-04-18T16:53:01.112385",
     "exception": false,
     "start_time": "2024-04-18T16:53:01.089444",
     "status": "completed"
    },
    "tags": []
   },
   "outputs": [
    {
     "name": "stdout",
     "output_type": "stream",
     "text": [
      "token pii_dataset type <class 'str'>\n",
      "token moredata type <class 'str'>\n",
      "token train type <class 'str'>\n"
     ]
    }
   ],
   "source": [
    "# Get the type of the first non-null element in the 'tokens' column\n",
    "first_non_null_element = next(item for item in pii_dataset_fixed_df['tokens'] if item is not None)\n",
    "print(\"token pii_dataset type\", type(first_non_null_element[0]))\n",
    "\n",
    "first_non_null_element = next(item for item in moredata_dataset_fixed_df['tokens'] if item is not None)\n",
    "print(\"token moredata type\", type(first_non_null_element[0]))\n",
    "\n",
    "first_non_null_element = next(item for item in train_df['tokens'] if item is not None)\n",
    "print(\"token train type\", type(first_non_null_element[0]))"
   ]
  },
  {
   "cell_type": "code",
   "execution_count": 15,
   "id": "b8338574",
   "metadata": {
    "execution": {
     "iopub.execute_input": "2024-04-18T16:53:01.134471Z",
     "iopub.status.busy": "2024-04-18T16:53:01.134068Z",
     "iopub.status.idle": "2024-04-18T16:53:01.172673Z",
     "shell.execute_reply": "2024-04-18T16:53:01.170884Z"
    },
    "papermill": {
     "duration": 0.053397,
     "end_time": "2024-04-18T16:53:01.175547",
     "exception": false,
     "start_time": "2024-04-18T16:53:01.122150",
     "status": "completed"
    },
    "tags": []
   },
   "outputs": [
    {
     "name": "stdout",
     "output_type": "stream",
     "text": [
      "<class 'pandas.core.frame.DataFrame'>\n",
      "Index: 6119 entries, 2447 to 860\n",
      "Data columns (total 6 columns):\n",
      " #   Column               Non-Null Count  Dtype \n",
      "---  ------               --------------  ----- \n",
      " 0   document             6119 non-null   int64 \n",
      " 1   full_text            6119 non-null   object\n",
      " 2   tokens               6119 non-null   object\n",
      " 3   trailing_whitespace  6119 non-null   object\n",
      " 4   labels               6119 non-null   object\n",
      " 5   token_indices        6119 non-null   object\n",
      "dtypes: int64(1), object(5)\n",
      "memory usage: 463.7+ KB\n",
      "train info None\n",
      "<class 'pandas.core.frame.DataFrame'>\n",
      "RangeIndex: 4434 entries, 0 to 4433\n",
      "Data columns (total 6 columns):\n",
      " #   Column               Non-Null Count  Dtype \n",
      "---  ------               --------------  ----- \n",
      " 0   document             4434 non-null   int64 \n",
      " 1   full_text            4434 non-null   object\n",
      " 2   tokens               4434 non-null   object\n",
      " 3   trailing_whitespace  4434 non-null   object\n",
      " 4   labels               4434 non-null   object\n",
      " 5   token_indices        4434 non-null   object\n",
      "dtypes: int64(1), object(5)\n",
      "memory usage: 208.0+ KB\n",
      "piifixed info None\n",
      "<class 'pandas.core.frame.DataFrame'>\n",
      "RangeIndex: 2000 entries, 0 to 1999\n",
      "Data columns (total 6 columns):\n",
      " #   Column               Non-Null Count  Dtype \n",
      "---  ------               --------------  ----- \n",
      " 0   document             2000 non-null   int64 \n",
      " 1   full_text            2000 non-null   object\n",
      " 2   tokens               2000 non-null   object\n",
      " 3   trailing_whitespace  2000 non-null   object\n",
      " 4   labels               2000 non-null   object\n",
      " 5   token_indices        2000 non-null   object\n",
      "dtypes: int64(1), object(5)\n",
      "memory usage: 93.9+ KB\n",
      "moredata info None\n"
     ]
    }
   ],
   "source": [
    "print(\"train info\", train_df.info())\n",
    "print(\"piifixed info\", pii_dataset_fixed_df.info())\n",
    "print(\"moredata info\", moredata_dataset_fixed_df.info())"
   ]
  },
  {
   "cell_type": "markdown",
   "id": "70653281",
   "metadata": {
    "papermill": {
     "duration": 0.009682,
     "end_time": "2024-04-18T16:53:01.195373",
     "exception": false,
     "start_time": "2024-04-18T16:53:01.185691",
     "status": "completed"
    },
    "tags": []
   },
   "source": [
    "# Visualization of an Essay\n",
    "credit : https://www.kaggle.com/code/sinchir0/visualization-code-using-displacy"
   ]
  },
  {
   "cell_type": "code",
   "execution_count": 16,
   "id": "288695d7",
   "metadata": {
    "execution": {
     "iopub.execute_input": "2024-04-18T16:53:01.217463Z",
     "iopub.status.busy": "2024-04-18T16:53:01.217072Z",
     "iopub.status.idle": "2024-04-18T16:53:08.549126Z",
     "shell.execute_reply": "2024-04-18T16:53:08.547692Z"
    },
    "papermill": {
     "duration": 7.346795,
     "end_time": "2024-04-18T16:53:08.552111",
     "exception": false,
     "start_time": "2024-04-18T16:53:01.205316",
     "status": "completed"
    },
    "tags": []
   },
   "outputs": [],
   "source": [
    "#https://www.kaggle.com/code/sinchir0/visualization-code-using-displacy\n",
    "import spacy\n",
    "from spacy.tokens import Span\n",
    "from spacy import displacy\n",
    "\n",
    "nlp = spacy.blank(\"en\")\n",
    "\n",
    "options = {\n",
    "    \"colors\": {\n",
    "        \"B-NAME_STUDENT\": \"aqua\",\n",
    "        \"I-NAME_STUDENT\": \"skyblue\",\n",
    "        \"B-EMAIL\": \"limegreen\",\n",
    "        \"I-EMAIL\": \"lime\",\n",
    "        \"B-USERNAME\": \"hotpink\",\n",
    "        \"I-USERNAME\": \"lightpink\",\n",
    "        \"B-ID_NUM\": \"purple\",\n",
    "        \"I-ID_NUM\": \"rebeccapurple\",\n",
    "        \"B-PHONE_NUM\": \"red\",\n",
    "        \"I-PHONE_NUM\": \"salmon\",\n",
    "        \"B-URL_PERSONAL\": \"silver\",\n",
    "        \"I-URL_PERSONAL\": \"lightgray\",\n",
    "        \"B-STREET_ADDRESS\": \"brown\",\n",
    "        \"I-STREET_ADDRESS\": \"chocolate\",\n",
    "    }\n",
    "}\n",
    "\n",
    "def visualize(row):\n",
    "    doc = nlp(row.full_text)\n",
    "    doc.ents = [\n",
    "        Span(doc, idx, idx + 1, label=label)\n",
    "        for idx, label in enumerate(row.labels)\n",
    "        if label != \"O\"\n",
    "    ]\n",
    "    html = displacy.render(doc, style=\"ent\", jupyter=False, options=options)\n",
    "    return html"
   ]
  },
  {
   "cell_type": "code",
   "execution_count": 17,
   "id": "6b3a0977",
   "metadata": {
    "execution": {
     "iopub.execute_input": "2024-04-18T16:53:08.576038Z",
     "iopub.status.busy": "2024-04-18T16:53:08.575409Z",
     "iopub.status.idle": "2024-04-18T16:53:08.581215Z",
     "shell.execute_reply": "2024-04-18T16:53:08.580108Z"
    },
    "papermill": {
     "duration": 0.021091,
     "end_time": "2024-04-18T16:53:08.584375",
     "exception": false,
     "start_time": "2024-04-18T16:53:08.563284",
     "status": "completed"
    },
    "tags": []
   },
   "outputs": [
    {
     "name": "stderr",
     "output_type": "stream",
     "text": [
      "/tmp/ipykernel_17/2933016516.py:1: DeprecationWarning: Importing display from IPython.core.display is deprecated since IPython 7.14, please import from IPython display\n",
      "  from IPython.core.display import display, HTML\n"
     ]
    }
   ],
   "source": [
    "from IPython.core.display import display, HTML\n",
    "# html = visualize(base_df.loc[0])\n",
    "# display(HTML(html))"
   ]
  },
  {
   "cell_type": "markdown",
   "id": "4c3355bd",
   "metadata": {
    "papermill": {
     "duration": 0.010246,
     "end_time": "2024-04-18T16:53:08.604836",
     "exception": false,
     "start_time": "2024-04-18T16:53:08.594590",
     "status": "completed"
    },
    "tags": []
   },
   "source": [
    "# Save to W and B\n",
    "\n",
    "Running code below needs to have WANDB_API_KEY secret in kaggle secrets. Access api token through add-ons in notebook\n",
    "\n"
   ]
  },
  {
   "cell_type": "code",
   "execution_count": 18,
   "id": "998736f5",
   "metadata": {
    "execution": {
     "iopub.execute_input": "2024-04-18T16:53:08.627239Z",
     "iopub.status.busy": "2024-04-18T16:53:08.626822Z",
     "iopub.status.idle": "2024-04-18T16:53:28.245550Z",
     "shell.execute_reply": "2024-04-18T16:53:28.244345Z"
    },
    "papermill": {
     "duration": 19.633208,
     "end_time": "2024-04-18T16:53:28.248313",
     "exception": false,
     "start_time": "2024-04-18T16:53:08.615105",
     "status": "completed"
    },
    "tags": []
   },
   "outputs": [
    {
     "name": "stderr",
     "output_type": "stream",
     "text": [
      "\u001b[34m\u001b[1mwandb\u001b[0m: W&B API key is configured. Use \u001b[1m`wandb login --relogin`\u001b[0m to force relogin\n",
      "\u001b[34m\u001b[1mwandb\u001b[0m: \u001b[33mWARNING\u001b[0m If you're specifying your api key in code, ensure this code is not shared publicly.\n",
      "\u001b[34m\u001b[1mwandb\u001b[0m: \u001b[33mWARNING\u001b[0m Consider setting the WANDB_API_KEY environment variable, or running `wandb login` from the command line.\n",
      "\u001b[34m\u001b[1mwandb\u001b[0m: Appending key for api.wandb.ai to your netrc file: /root/.netrc\n",
      "\u001b[34m\u001b[1mwandb\u001b[0m: Currently logged in as: \u001b[33mkasprisi\u001b[0m (\u001b[33mcsci566sp24\u001b[0m). Use \u001b[1m`wandb login --relogin`\u001b[0m to force relogin\n",
      "\u001b[34m\u001b[1mwandb\u001b[0m: wandb version 0.16.6 is available!  To upgrade, please run:\n",
      "\u001b[34m\u001b[1mwandb\u001b[0m:  $ pip install wandb --upgrade\n",
      "\u001b[34m\u001b[1mwandb\u001b[0m: Tracking run with wandb version 0.16.5\n",
      "\u001b[34m\u001b[1mwandb\u001b[0m: Run data is saved locally in \u001b[35m\u001b[1m/kaggle/working/wandb/run-20240418_165311-zw067dbi\u001b[0m\n",
      "\u001b[34m\u001b[1mwandb\u001b[0m: Run \u001b[1m`wandb offline`\u001b[0m to turn off syncing.\n",
      "\u001b[34m\u001b[1mwandb\u001b[0m: Syncing run \u001b[33msparkling-feather-47\u001b[0m\n",
      "\u001b[34m\u001b[1mwandb\u001b[0m: ⭐️ View project at \u001b[34m\u001b[4mhttps://wandb.ai/csci566sp24/pii\u001b[0m\n",
      "\u001b[34m\u001b[1mwandb\u001b[0m: 🚀 View run at \u001b[34m\u001b[4mhttps://wandb.ai/csci566sp24/pii/runs/zw067dbi/workspace\u001b[0m\n"
     ]
    },
    {
     "data": {
      "text/html": [
       "<button onClick=\"this.nextSibling.style.display='block';this.style.display='none';\">Display W&B run</button><iframe src='https://wandb.ai/csci566sp24/pii/runs/zw067dbi?jupyter=true' style='border:none;width:100%;height:420px;display:none;'></iframe>"
      ],
      "text/plain": [
       "<wandb.sdk.wandb_run.Run at 0x7b5e5c13c9d0>"
      ]
     },
     "execution_count": 18,
     "metadata": {},
     "output_type": "execute_result"
    }
   ],
   "source": [
    "from kaggle_secrets import UserSecretsClient\n",
    "user_secrets = UserSecretsClient()\n",
    "wandb_api_key = user_secrets.get_secret(\"WANDB_API_KEY\")\n",
    "\n",
    "\n",
    "\n",
    "import wandb\n",
    "wandb.login(key=wandb_api_key)\n",
    "wandb.init(project='pii', job_type='preprocessing')"
   ]
  },
  {
   "cell_type": "code",
   "execution_count": 19,
   "id": "8be7754a",
   "metadata": {
    "execution": {
     "iopub.execute_input": "2024-04-18T16:53:28.273853Z",
     "iopub.status.busy": "2024-04-18T16:53:28.273431Z",
     "iopub.status.idle": "2024-04-18T16:53:33.555708Z",
     "shell.execute_reply": "2024-04-18T16:53:33.554679Z"
    },
    "papermill": {
     "duration": 5.298221,
     "end_time": "2024-04-18T16:53:33.558309",
     "exception": false,
     "start_time": "2024-04-18T16:53:28.260088",
     "status": "completed"
    },
    "tags": []
   },
   "outputs": [
    {
     "data": {
      "text/plain": [
       "<Artifact val_data>"
      ]
     },
     "execution_count": 19,
     "metadata": {},
     "output_type": "execute_result"
    }
   ],
   "source": [
    "#log data as artifacts\n",
    "\n",
    "#Parquet is a columnar storage file format that is optimized for use with big data processing frameworks.\n",
    "#Steps\n",
    "# Save the base dataframe 'df' to a parquet file named 'base_data.parquet'\n",
    "# Create a new Weights & Biases artifact named 'base_data' of type 'dataset'\n",
    "# Create a new Weights & Biases artifact named 'base_data' of type 'dataset'\n",
    "# Add the 'base_data.parquet' file to the 'base_data' artifact\n",
    "# Log the 'raw_data' artifact to Weights & Biases, this will upload the artifact to the Weights & Biases servers\n",
    "\n",
    "#base data\n",
    "base_df.to_parquet('base_data.parquet', index=False)\n",
    "base_data = wandb.Artifact(name=\"base_data\", type=\"dataset\")\n",
    "base_data.add_file('base_data.parquet')\n",
    "wandb.log_artifact(base_data)\n",
    "\n",
    "#miniset data dataframe 'mini_no_overlap' \n",
    "mini_no_overlap.to_parquet('mini_no_overlap.parquet', index=False)\n",
    "mini_no_overlap_data = wandb.Artifact(name=\"mini_no_overlap_data\", type=\"dataset\")\n",
    "mini_no_overlap_data.add_file('mini_no_overlap.parquet')\n",
    "wandb.log_artifact(mini_no_overlap_data)\n",
    "\n",
    "#validation set dataframe 'val_df'\n",
    "val_df.to_parquet('val_data.parquet', index=False)\n",
    "val_data = wandb.Artifact(name=\"val_data\", type=\"dataset\")\n",
    "val_data.add_file('val_data.parquet')\n",
    "wandb.log_artifact(val_data)"
   ]
  },
  {
   "cell_type": "code",
   "execution_count": 20,
   "id": "526f7959",
   "metadata": {
    "execution": {
     "iopub.execute_input": "2024-04-18T16:53:33.583925Z",
     "iopub.status.busy": "2024-04-18T16:53:33.583497Z",
     "iopub.status.idle": "2024-04-18T16:53:38.173867Z",
     "shell.execute_reply": "2024-04-18T16:53:38.172582Z"
    },
    "papermill": {
     "duration": 4.60614,
     "end_time": "2024-04-18T16:53:38.176599",
     "exception": false,
     "start_time": "2024-04-18T16:53:33.570459",
     "status": "completed"
    },
    "tags": []
   },
   "outputs": [
    {
     "data": {
      "text/plain": [
       "<Artifact train_df>"
      ]
     },
     "execution_count": 20,
     "metadata": {},
     "output_type": "execute_result"
    }
   ],
   "source": [
    "#more data logging - moth or nbroad?\n",
    "moredata_dataset_fixed_df.to_parquet('moredata_dataset_fixed.parquet', index=False)\n",
    "moredata_dataset_fixed_artifact = wandb.Artifact(name=\"moredata_dataset_fixed\", type=\"dataset\")\n",
    "moredata_dataset_fixed_artifact.add_file('moredata_dataset_fixed.parquet')\n",
    "wandb.log_artifact(moredata_dataset_fixed_artifact)\n",
    "\n",
    "# pii_dataset_fixed - moth or nbroad\n",
    "pii_dataset_fixed_df.to_parquet('pii_dataset_fixed.parquet', index=False)\n",
    "pii_dataset_fixed_artifact = wandb.Artifact(name=\"pii_dataset_fixed\", type=\"dataset\")\n",
    "pii_dataset_fixed_artifact.add_file('pii_dataset_fixed.parquet')\n",
    "wandb.log_artifact(pii_dataset_fixed_artifact)\n",
    "\n",
    "# train_df - 100% comp data - val set\n",
    "train_df.to_parquet('train_df.parquet', index=False)\n",
    "train_df_artifact = wandb.Artifact(name=\"train_df\", type=\"dataset\")\n",
    "train_df_artifact.add_file('train_df.parquet')\n",
    "wandb.log_artifact(train_df_artifact)"
   ]
  },
  {
   "cell_type": "code",
   "execution_count": 21,
   "id": "e7d4db10",
   "metadata": {
    "execution": {
     "iopub.execute_input": "2024-04-18T16:53:38.205909Z",
     "iopub.status.busy": "2024-04-18T16:53:38.204888Z",
     "iopub.status.idle": "2024-04-18T16:53:38.209794Z",
     "shell.execute_reply": "2024-04-18T16:53:38.208596Z"
    },
    "papermill": {
     "duration": 0.023716,
     "end_time": "2024-04-18T16:53:38.212678",
     "exception": false,
     "start_time": "2024-04-18T16:53:38.188962",
     "status": "completed"
    },
    "tags": []
   },
   "outputs": [],
   "source": [
    "#TODO troubleshoot\n",
    "\n",
    "# # We will generate html viz for every mini_no_overlap essay, wrap it up in `wandb.Html` and create a W&B table to inspect it\n",
    "# df=mini_no_overlap\n",
    "\n",
    "# wandb_htmls = [wandb.Html(visualize(row)) for _, row in df.iterrows()]\n",
    "# df['visualization'] = wandb_htmls\n",
    "# table = wandb.Table(dataframe=df)\n",
    "# wandb.log({'original_dataset': table})"
   ]
  },
  {
   "cell_type": "code",
   "execution_count": 22,
   "id": "65c5fe7b",
   "metadata": {
    "execution": {
     "iopub.execute_input": "2024-04-18T16:53:38.240666Z",
     "iopub.status.busy": "2024-04-18T16:53:38.240038Z",
     "iopub.status.idle": "2024-04-18T16:53:42.925606Z",
     "shell.execute_reply": "2024-04-18T16:53:42.924704Z"
    },
    "papermill": {
     "duration": 4.702349,
     "end_time": "2024-04-18T16:53:42.928421",
     "exception": false,
     "start_time": "2024-04-18T16:53:38.226072",
     "status": "completed"
    },
    "tags": []
   },
   "outputs": [
    {
     "name": "stderr",
     "output_type": "stream",
     "text": [
      "\u001b[34m\u001b[1mwandb\u001b[0m:                                                                                \n",
      "\u001b[34m\u001b[1mwandb\u001b[0m: 🚀 View run \u001b[33msparkling-feather-47\u001b[0m at: \u001b[34m\u001b[4mhttps://wandb.ai/csci566sp24/pii/runs/zw067dbi/workspace\u001b[0m\n",
      "\u001b[34m\u001b[1mwandb\u001b[0m: Synced 4 W&B file(s), 0 media file(s), 5 artifact file(s) and 0 other file(s)\n",
      "\u001b[34m\u001b[1mwandb\u001b[0m: Find logs at: \u001b[35m\u001b[1m./wandb/run-20240418_165311-zw067dbi/logs\u001b[0m\n"
     ]
    }
   ],
   "source": [
    "# Finish W&B run\n",
    "wandb.finish()"
   ]
  },
  {
   "cell_type": "markdown",
   "id": "f9c50e17",
   "metadata": {
    "papermill": {
     "duration": 0.01274,
     "end_time": "2024-04-18T16:53:42.953614",
     "exception": false,
     "start_time": "2024-04-18T16:53:42.940874",
     "status": "completed"
    },
    "tags": []
   },
   "source": [
    "# TO DOs\n",
    "- Truncation with Stride, tokenizers striding method?\n",
    "- add hyperparameters to config wandb.config.update"
   ]
  }
 ],
 "metadata": {
  "kaggle": {
   "accelerator": "none",
   "dataSources": [
    {
     "databundleVersionId": 7500999,
     "sourceId": 66653,
     "sourceType": "competition"
    },
    {
     "sourceId": 163088908,
     "sourceType": "kernelVersion"
    }
   ],
   "dockerImageVersionId": 30684,
   "isGpuEnabled": false,
   "isInternetEnabled": true,
   "language": "python",
   "sourceType": "notebook"
  },
  "kernelspec": {
   "display_name": "Python 3",
   "language": "python",
   "name": "python3"
  },
  "language_info": {
   "codemirror_mode": {
    "name": "ipython",
    "version": 3
   },
   "file_extension": ".py",
   "mimetype": "text/x-python",
   "name": "python",
   "nbconvert_exporter": "python",
   "pygments_lexer": "ipython3",
   "version": "3.10.13"
  },
  "papermill": {
   "default_parameters": {},
   "duration": 87.193274,
   "end_time": "2024-04-18T16:53:45.587530",
   "environment_variables": {},
   "exception": null,
   "input_path": "__notebook__.ipynb",
   "output_path": "__notebook__.ipynb",
   "parameters": {},
   "start_time": "2024-04-18T16:52:18.394256",
   "version": "2.5.0"
  }
 },
 "nbformat": 4,
 "nbformat_minor": 5
}
