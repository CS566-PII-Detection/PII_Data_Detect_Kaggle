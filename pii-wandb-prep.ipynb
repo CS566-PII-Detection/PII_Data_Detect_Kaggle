{
 "cells": [
  {
   "cell_type": "markdown",
   "id": "28a9ce31",
   "metadata": {
    "papermill": {
     "duration": 0.005962,
     "end_time": "2024-04-09T22:40:27.202074",
     "exception": false,
     "start_time": "2024-04-09T22:40:27.196112",
     "status": "completed"
    },
    "tags": []
   },
   "source": [
    "# PII Data Prep with W and B\n",
    "\n",
    "## Reference\n",
    "https://www.kaggle.com/code/thedrcat/pii-data-preparation-cv-stride-viz-and-w-b#Share-your-findings"
   ]
  },
  {
   "cell_type": "markdown",
   "id": "64cffffb",
   "metadata": {
    "papermill": {
     "duration": 0.004896,
     "end_time": "2024-04-09T22:40:27.212669",
     "exception": false,
     "start_time": "2024-04-09T22:40:27.207773",
     "status": "completed"
    },
    "tags": []
   },
   "source": [
    "# Config and Import"
   ]
  },
  {
   "cell_type": "code",
   "execution_count": 1,
   "id": "60b4c483",
   "metadata": {
    "execution": {
     "iopub.execute_input": "2024-04-09T22:40:27.225502Z",
     "iopub.status.busy": "2024-04-09T22:40:27.224711Z",
     "iopub.status.idle": "2024-04-09T22:40:39.839530Z",
     "shell.execute_reply": "2024-04-09T22:40:39.837887Z"
    },
    "papermill": {
     "duration": 12.624412,
     "end_time": "2024-04-09T22:40:39.842310",
     "exception": false,
     "start_time": "2024-04-09T22:40:27.217898",
     "status": "completed"
    },
    "tags": []
   },
   "outputs": [],
   "source": [
    "!pip install wandb -q"
   ]
  },
  {
   "cell_type": "code",
   "execution_count": 2,
   "id": "3a2b783d",
   "metadata": {
    "_cell_guid": "b1076dfc-b9ad-4769-8c92-a6c4dae69d19",
    "_uuid": "8f2839f25d086af736a60e9eeb907d3b93b6e0e5",
    "execution": {
     "iopub.execute_input": "2024-04-09T22:40:39.855569Z",
     "iopub.status.busy": "2024-04-09T22:40:39.855133Z",
     "iopub.status.idle": "2024-04-09T22:40:40.621806Z",
     "shell.execute_reply": "2024-04-09T22:40:40.620987Z"
    },
    "papermill": {
     "duration": 0.776272,
     "end_time": "2024-04-09T22:40:40.624039",
     "exception": false,
     "start_time": "2024-04-09T22:40:39.847767",
     "status": "completed"
    },
    "tags": []
   },
   "outputs": [],
   "source": [
    "from pathlib import Path\n",
    "import os\n",
    "\n",
    "import json\n",
    "import itertools\n",
    "import numpy as np\n",
    "import pandas as pd\n",
    "import matplotlib.pyplot as plt\n",
    "\n",
    "import warnings"
   ]
  },
  {
   "cell_type": "code",
   "execution_count": 3,
   "id": "71775c52",
   "metadata": {
    "execution": {
     "iopub.execute_input": "2024-04-09T22:40:40.636229Z",
     "iopub.status.busy": "2024-04-09T22:40:40.635227Z",
     "iopub.status.idle": "2024-04-09T22:40:40.639784Z",
     "shell.execute_reply": "2024-04-09T22:40:40.638851Z"
    },
    "papermill": {
     "duration": 0.012448,
     "end_time": "2024-04-09T22:40:40.641619",
     "exception": false,
     "start_time": "2024-04-09T22:40:40.629171",
     "status": "completed"
    },
    "tags": []
   },
   "outputs": [],
   "source": [
    "DATA_PATH = '../input/pii-detection-removal-from-educational-data'\n",
    "OUTPUT_DIR = '/kaggle/working/'"
   ]
  },
  {
   "cell_type": "markdown",
   "id": "4cbeed2d",
   "metadata": {
    "papermill": {
     "duration": 0.004936,
     "end_time": "2024-04-09T22:40:40.652242",
     "exception": false,
     "start_time": "2024-04-09T22:40:40.647306",
     "status": "completed"
    },
    "tags": []
   },
   "source": [
    "# Helper functions"
   ]
  },
  {
   "cell_type": "code",
   "execution_count": 4,
   "id": "545519e9",
   "metadata": {
    "execution": {
     "iopub.execute_input": "2024-04-09T22:40:40.664004Z",
     "iopub.status.busy": "2024-04-09T22:40:40.663643Z",
     "iopub.status.idle": "2024-04-09T22:40:40.669801Z",
     "shell.execute_reply": "2024-04-09T22:40:40.668892Z"
    },
    "papermill": {
     "duration": 0.014369,
     "end_time": "2024-04-09T22:40:40.671715",
     "exception": false,
     "start_time": "2024-04-09T22:40:40.657346",
     "status": "completed"
    },
    "tags": []
   },
   "outputs": [],
   "source": [
    "#split data into training and validation set\n",
    "def PIId2_split_by_sampling(df, test_ratio):\n",
    "    \"\"\"Split PII data into training and test set. \n",
    "\n",
    "    Args:\n",
    "        df (pd.DataFrame): The input DataFrame.\n",
    "        test_ratio (float, default=0.2): \n",
    "            The proportion of the dataset to include in the test split.\n",
    "\n",
    "    Returns:\n",
    "        train_df, test_df: Training and test splits of the input DataFrame.\n",
    "    \"\"\"\n",
    "    # Get the number of rows in the DataFrame\n",
    "    num_rows = len(df)\n",
    "    \n",
    "    # Get the split index\n",
    "    split_idx = int(num_rows * test_ratio)\n",
    "    \n",
    "    # Shuffle the DataFrame rows\n",
    "    df_shuffled = df.sample(frac=1, random_state=42)\n",
    "    \n",
    "    # Split the DataFrame into train and test\n",
    "    train_df = df_shuffled.iloc[split_idx:]\n",
    "    test_df = df_shuffled.iloc[:split_idx]\n",
    "    \n",
    "#     #TEMP to test\n",
    "#     # Add a new column 'valid' with boolean values - need to modify the move missing if want to keep\n",
    "#     train_df['valid'] = False\n",
    "#     test_df['valid'] = True\n",
    "    \n",
    "    return train_df, test_df"
   ]
  },
  {
   "cell_type": "code",
   "execution_count": 5,
   "id": "f598dfe6",
   "metadata": {
    "execution": {
     "iopub.execute_input": "2024-04-09T22:40:40.683864Z",
     "iopub.status.busy": "2024-04-09T22:40:40.683240Z",
     "iopub.status.idle": "2024-04-09T22:40:40.689822Z",
     "shell.execute_reply": "2024-04-09T22:40:40.688899Z"
    },
    "papermill": {
     "duration": 0.014914,
     "end_time": "2024-04-09T22:40:40.691861",
     "exception": false,
     "start_time": "2024-04-09T22:40:40.676947",
     "status": "completed"
    },
    "tags": []
   },
   "outputs": [],
   "source": [
    "def move_missing_labels(to_df, from_df):\n",
    "    \"\"\"\n",
    "    Move documents containing missing labels from the extra DataFrame to the desired DataFrame.\n",
    "\n",
    "    Parameters:\n",
    "    - to_df (DataFrame): DataFrame where the documents should be moved to.\n",
    "    - from_df (DataFrame): DataFrame where the documents should be moved from.\n",
    "\n",
    "    Returns:\n",
    "    - desired_df, extra_df: Updated DataFrames.\n",
    "    \"\"\"\n",
    "    # Find the labels that are missing from the to_df DataFrame\n",
    "    missing_labels = set(from_df['labels'].explode().unique()) - set(to_df['labels'].explode().unique())\n",
    "\n",
    "    # For each missing label, move a document from the extra DataFrame to the desired DataFrame\n",
    "    for label in missing_labels:\n",
    "        if label in from_df['labels'].explode().unique():\n",
    "            document = from_df[from_df['labels'].apply(lambda x: label in x)].sample(n=1)\n",
    "            to_df = pd.concat([to_df, document])\n",
    "            from_df = from_df.drop(document.index)\n",
    "\n",
    "    return to_df, from_df"
   ]
  },
  {
   "cell_type": "markdown",
   "id": "b26eb34e",
   "metadata": {
    "papermill": {
     "duration": 0.004784,
     "end_time": "2024-04-09T22:40:40.701772",
     "exception": false,
     "start_time": "2024-04-09T22:40:40.696988",
     "status": "completed"
    },
    "tags": []
   },
   "source": [
    "# Validation set and Miniset"
   ]
  },
  {
   "cell_type": "code",
   "execution_count": 6,
   "id": "abff6be0",
   "metadata": {
    "execution": {
     "iopub.execute_input": "2024-04-09T22:40:40.714767Z",
     "iopub.status.busy": "2024-04-09T22:40:40.714348Z",
     "iopub.status.idle": "2024-04-09T22:40:43.247068Z",
     "shell.execute_reply": "2024-04-09T22:40:43.245922Z"
    },
    "papermill": {
     "duration": 2.542796,
     "end_time": "2024-04-09T22:40:43.249571",
     "exception": false,
     "start_time": "2024-04-09T22:40:40.706775",
     "status": "completed"
    },
    "tags": []
   },
   "outputs": [],
   "source": [
    "comp_train= json.load(open(DATA_PATH +'/train.json'))\n",
    "\n",
    "#Convert to df for EDA\n",
    "base_df= pd.DataFrame(comp_train)"
   ]
  },
  {
   "cell_type": "code",
   "execution_count": 7,
   "id": "75aed9d3",
   "metadata": {
    "execution": {
     "iopub.execute_input": "2024-04-09T22:40:43.262076Z",
     "iopub.status.busy": "2024-04-09T22:40:43.261140Z",
     "iopub.status.idle": "2024-04-09T22:40:43.507223Z",
     "shell.execute_reply": "2024-04-09T22:40:43.506133Z"
    },
    "papermill": {
     "duration": 0.254883,
     "end_time": "2024-04-09T22:40:43.509878",
     "exception": false,
     "start_time": "2024-04-09T22:40:43.254995",
     "status": "completed"
    },
    "tags": []
   },
   "outputs": [],
   "source": [
    "#TODO see if can remove since only needed for stride, \n",
    "#note if remove adjust create_dataset in https://www.kaggle.com/code/jonathankasprisin/pii-wandb-training/edit\n",
    "def add_token_indices(doc_tokens):\n",
    "    token_indices = list(range(len(doc_tokens)))\n",
    "    return token_indices\n",
    "\n",
    "base_df['token_indices'] = base_df['tokens'].apply(add_token_indices)"
   ]
  },
  {
   "cell_type": "code",
   "execution_count": 8,
   "id": "e116c38c",
   "metadata": {
    "execution": {
     "iopub.execute_input": "2024-04-09T22:40:43.522121Z",
     "iopub.status.busy": "2024-04-09T22:40:43.521742Z",
     "iopub.status.idle": "2024-04-09T22:40:47.450091Z",
     "shell.execute_reply": "2024-04-09T22:40:47.448974Z"
    },
    "papermill": {
     "duration": 3.937282,
     "end_time": "2024-04-09T22:40:47.452475",
     "exception": false,
     "start_time": "2024-04-09T22:40:43.515193",
     "status": "completed"
    },
    "tags": []
   },
   "outputs": [],
   "source": [
    "train_df, val_df = PIId2_split_by_sampling(base_df, .1)\n",
    "train_df_overlap = train_df\n",
    "\n",
    "val_df, train_df = move_missing_labels(val_df, train_df)"
   ]
  },
  {
   "cell_type": "code",
   "execution_count": 9,
   "id": "fd6752fd",
   "metadata": {
    "execution": {
     "iopub.execute_input": "2024-04-09T22:40:47.464722Z",
     "iopub.status.busy": "2024-04-09T22:40:47.464342Z",
     "iopub.status.idle": "2024-04-09T22:40:50.611533Z",
     "shell.execute_reply": "2024-04-09T22:40:50.610495Z"
    },
    "papermill": {
     "duration": 3.155896,
     "end_time": "2024-04-09T22:40:50.613717",
     "exception": false,
     "start_time": "2024-04-09T22:40:47.457821",
     "status": "completed"
    },
    "tags": []
   },
   "outputs": [
    {
     "name": "stdout",
     "output_type": "stream",
     "text": [
      "size of base:  6807\n",
      "size of val_df:  688\n"
     ]
    }
   ],
   "source": [
    "# Save the DataFrame to a JSON file \n",
    "val_df.to_json(OUTPUT_DIR + \"/val.json\", orient=\"records\")\n",
    "train_df.to_json(OUTPUT_DIR + \"/train_df_fromval.json\", orient=\"records\")\n",
    "train_df_overlap.to_json(OUTPUT_DIR + \"/train_df_overlap_fromval.json\", orient=\"records\")\n",
    "\n",
    "print(\"size of base: \", len(base_df))\n",
    "print(\"size of val_df: \", len(val_df))"
   ]
  },
  {
   "cell_type": "code",
   "execution_count": 10,
   "id": "df2c0121",
   "metadata": {
    "execution": {
     "iopub.execute_input": "2024-04-09T22:40:50.626112Z",
     "iopub.status.busy": "2024-04-09T22:40:50.625315Z",
     "iopub.status.idle": "2024-04-09T22:40:53.942024Z",
     "shell.execute_reply": "2024-04-09T22:40:53.941275Z"
    },
    "papermill": {
     "duration": 3.325006,
     "end_time": "2024-04-09T22:40:53.944072",
     "exception": false,
     "start_time": "2024-04-09T22:40:50.619066",
     "status": "completed"
    },
    "tags": []
   },
   "outputs": [
    {
     "name": "stdout",
     "output_type": "stream",
     "text": [
      "size of base:  6807\n",
      "size of mini_overlap:  1843\n",
      "size of mini_no_overlap:  1837\n"
     ]
    }
   ],
   "source": [
    "mini_overlap, overlap_extra = PIId2_split_by_sampling(train_df_overlap, .7)\n",
    "mini_no_overlap, no_overlap_extra= PIId2_split_by_sampling(train_df, .7)\n",
    "\n",
    "\n",
    "mini_overlap, overlap_extra = move_missing_labels(mini_overlap, overlap_extra)\n",
    "mini_no_overlap, no_overlap_extra= move_missing_labels(mini_no_overlap, no_overlap_extra)\n",
    "\n",
    "# Save the DataFrame to a JSON file \n",
    "mini_overlap.to_json(OUTPUT_DIR + \"/mini_overlap.json\", orient=\"records\")\n",
    "mini_no_overlap.to_json(OUTPUT_DIR + \"/mini_no_overlap.json\", orient=\"records\")\n",
    "\n",
    "print(\"size of base: \", len(base_df))\n",
    "print(\"size of mini_overlap: \", len(mini_overlap))\n",
    "print(\"size of mini_no_overlap: \", len(mini_no_overlap))"
   ]
  },
  {
   "cell_type": "markdown",
   "id": "7ac32e9a",
   "metadata": {
    "papermill": {
     "duration": 0.005144,
     "end_time": "2024-04-09T22:40:53.954704",
     "exception": false,
     "start_time": "2024-04-09T22:40:53.949560",
     "status": "completed"
    },
    "tags": []
   },
   "source": [
    "# Visualization of an Essay\n",
    "credit : https://www.kaggle.com/code/sinchir0/visualization-code-using-displacy"
   ]
  },
  {
   "cell_type": "code",
   "execution_count": 11,
   "id": "6f444194",
   "metadata": {
    "execution": {
     "iopub.execute_input": "2024-04-09T22:40:53.967552Z",
     "iopub.status.busy": "2024-04-09T22:40:53.966670Z",
     "iopub.status.idle": "2024-04-09T22:40:59.270358Z",
     "shell.execute_reply": "2024-04-09T22:40:59.269192Z"
    },
    "papermill": {
     "duration": 5.312946,
     "end_time": "2024-04-09T22:40:59.272940",
     "exception": false,
     "start_time": "2024-04-09T22:40:53.959994",
     "status": "completed"
    },
    "tags": []
   },
   "outputs": [],
   "source": [
    "#https://www.kaggle.com/code/sinchir0/visualization-code-using-displacy\n",
    "import spacy\n",
    "from spacy.tokens import Span\n",
    "from spacy import displacy\n",
    "\n",
    "nlp = spacy.blank(\"en\")\n",
    "\n",
    "options = {\n",
    "    \"colors\": {\n",
    "        \"B-NAME_STUDENT\": \"aqua\",\n",
    "        \"I-NAME_STUDENT\": \"skyblue\",\n",
    "        \"B-EMAIL\": \"limegreen\",\n",
    "        \"I-EMAIL\": \"lime\",\n",
    "        \"B-USERNAME\": \"hotpink\",\n",
    "        \"I-USERNAME\": \"lightpink\",\n",
    "        \"B-ID_NUM\": \"purple\",\n",
    "        \"I-ID_NUM\": \"rebeccapurple\",\n",
    "        \"B-PHONE_NUM\": \"red\",\n",
    "        \"I-PHONE_NUM\": \"salmon\",\n",
    "        \"B-URL_PERSONAL\": \"silver\",\n",
    "        \"I-URL_PERSONAL\": \"lightgray\",\n",
    "        \"B-STREET_ADDRESS\": \"brown\",\n",
    "        \"I-STREET_ADDRESS\": \"chocolate\",\n",
    "    }\n",
    "}\n",
    "\n",
    "def visualize(row):\n",
    "    doc = nlp(row.full_text)\n",
    "    doc.ents = [\n",
    "        Span(doc, idx, idx + 1, label=label)\n",
    "        for idx, label in enumerate(row.labels)\n",
    "        if label != \"O\"\n",
    "    ]\n",
    "    html = displacy.render(doc, style=\"ent\", jupyter=False, options=options)\n",
    "    return html"
   ]
  },
  {
   "cell_type": "code",
   "execution_count": 12,
   "id": "fb5a151b",
   "metadata": {
    "execution": {
     "iopub.execute_input": "2024-04-09T22:40:59.286229Z",
     "iopub.status.busy": "2024-04-09T22:40:59.285665Z",
     "iopub.status.idle": "2024-04-09T22:40:59.291282Z",
     "shell.execute_reply": "2024-04-09T22:40:59.290134Z"
    },
    "papermill": {
     "duration": 0.015169,
     "end_time": "2024-04-09T22:40:59.293661",
     "exception": false,
     "start_time": "2024-04-09T22:40:59.278492",
     "status": "completed"
    },
    "tags": []
   },
   "outputs": [
    {
     "name": "stderr",
     "output_type": "stream",
     "text": [
      "/tmp/ipykernel_18/2933016516.py:1: DeprecationWarning: Importing display from IPython.core.display is deprecated since IPython 7.14, please import from IPython display\n",
      "  from IPython.core.display import display, HTML\n"
     ]
    }
   ],
   "source": [
    "from IPython.core.display import display, HTML\n",
    "# html = visualize(base_df.loc[0])\n",
    "# display(HTML(html))"
   ]
  },
  {
   "cell_type": "markdown",
   "id": "46fc7e74",
   "metadata": {
    "papermill": {
     "duration": 0.005152,
     "end_time": "2024-04-09T22:40:59.304363",
     "exception": false,
     "start_time": "2024-04-09T22:40:59.299211",
     "status": "completed"
    },
    "tags": []
   },
   "source": [
    "# Save to W and B\n",
    "\n",
    "Running code below needs to have WANDB_API_KEY secret in kaggle secrets. Access api token through add-ons in notebook\n",
    "\n"
   ]
  },
  {
   "cell_type": "code",
   "execution_count": 13,
   "id": "c42bf045",
   "metadata": {
    "execution": {
     "iopub.execute_input": "2024-04-09T22:40:59.317227Z",
     "iopub.status.busy": "2024-04-09T22:40:59.316484Z",
     "iopub.status.idle": "2024-04-09T22:41:19.451791Z",
     "shell.execute_reply": "2024-04-09T22:41:19.451030Z"
    },
    "papermill": {
     "duration": 20.143993,
     "end_time": "2024-04-09T22:41:19.453785",
     "exception": false,
     "start_time": "2024-04-09T22:40:59.309792",
     "status": "completed"
    },
    "tags": []
   },
   "outputs": [
    {
     "name": "stderr",
     "output_type": "stream",
     "text": [
      "\u001b[34m\u001b[1mwandb\u001b[0m: W&B API key is configured. Use \u001b[1m`wandb login --relogin`\u001b[0m to force relogin\n",
      "\u001b[34m\u001b[1mwandb\u001b[0m: \u001b[33mWARNING\u001b[0m If you're specifying your api key in code, ensure this code is not shared publicly.\n",
      "\u001b[34m\u001b[1mwandb\u001b[0m: \u001b[33mWARNING\u001b[0m Consider setting the WANDB_API_KEY environment variable, or running `wandb login` from the command line.\n",
      "\u001b[34m\u001b[1mwandb\u001b[0m: Appending key for api.wandb.ai to your netrc file: /root/.netrc\n",
      "\u001b[34m\u001b[1mwandb\u001b[0m: Currently logged in as: \u001b[33mkasprisi\u001b[0m (\u001b[33mcsci566sp24\u001b[0m). Use \u001b[1m`wandb login --relogin`\u001b[0m to force relogin\n",
      "\u001b[34m\u001b[1mwandb\u001b[0m: wandb version 0.16.6 is available!  To upgrade, please run:\n",
      "\u001b[34m\u001b[1mwandb\u001b[0m:  $ pip install wandb --upgrade\n",
      "\u001b[34m\u001b[1mwandb\u001b[0m: Tracking run with wandb version 0.16.5\n",
      "\u001b[34m\u001b[1mwandb\u001b[0m: Run data is saved locally in \u001b[35m\u001b[1m/kaggle/working/wandb/run-20240409_224103-spbw6fsi\u001b[0m\n",
      "\u001b[34m\u001b[1mwandb\u001b[0m: Run \u001b[1m`wandb offline`\u001b[0m to turn off syncing.\n",
      "\u001b[34m\u001b[1mwandb\u001b[0m: Syncing run \u001b[33mkind-elevator-15\u001b[0m\n",
      "\u001b[34m\u001b[1mwandb\u001b[0m: ⭐️ View project at \u001b[34m\u001b[4mhttps://wandb.ai/csci566sp24/pii\u001b[0m\n",
      "\u001b[34m\u001b[1mwandb\u001b[0m: 🚀 View run at \u001b[34m\u001b[4mhttps://wandb.ai/csci566sp24/pii/runs/spbw6fsi/workspace\u001b[0m\n"
     ]
    },
    {
     "data": {
      "text/html": [
       "<button onClick=\"this.nextSibling.style.display='block';this.style.display='none';\">Display W&B run</button><iframe src='https://wandb.ai/csci566sp24/pii/runs/spbw6fsi?jupyter=true' style='border:none;width:100%;height:420px;display:none;'></iframe>"
      ],
      "text/plain": [
       "<wandb.sdk.wandb_run.Run at 0x7f5ba3bb6860>"
      ]
     },
     "execution_count": 13,
     "metadata": {},
     "output_type": "execute_result"
    }
   ],
   "source": [
    "from kaggle_secrets import UserSecretsClient\n",
    "user_secrets = UserSecretsClient()\n",
    "wandb_api_key = user_secrets.get_secret(\"WANDB_API_KEY\")\n",
    "\n",
    "\n",
    "\n",
    "import wandb\n",
    "wandb.login(key=wandb_api_key)\n",
    "wandb.init(project='pii', job_type='preprocessing')"
   ]
  },
  {
   "cell_type": "code",
   "execution_count": 14,
   "id": "5a1ce5de",
   "metadata": {
    "execution": {
     "iopub.execute_input": "2024-04-09T22:41:19.468307Z",
     "iopub.status.busy": "2024-04-09T22:41:19.467752Z",
     "iopub.status.idle": "2024-04-09T22:41:23.616544Z",
     "shell.execute_reply": "2024-04-09T22:41:23.615563Z"
    },
    "papermill": {
     "duration": 4.158439,
     "end_time": "2024-04-09T22:41:23.618638",
     "exception": false,
     "start_time": "2024-04-09T22:41:19.460199",
     "status": "completed"
    },
    "tags": []
   },
   "outputs": [
    {
     "data": {
      "text/plain": [
       "<Artifact val_data>"
      ]
     },
     "execution_count": 14,
     "metadata": {},
     "output_type": "execute_result"
    }
   ],
   "source": [
    "#log data as artifacts\n",
    "\n",
    "#Parquet is a columnar storage file format that is optimized for use with big data processing frameworks.\n",
    "#Steps\n",
    "# Save the base dataframe 'df' to a parquet file named 'base_data.parquet'\n",
    "# Create a new Weights & Biases artifact named 'base_data' of type 'dataset'\n",
    "# Create a new Weights & Biases artifact named 'base_data' of type 'dataset'\n",
    "# Add the 'base_data.parquet' file to the 'base_data' artifact\n",
    "# Log the 'raw_data' artifact to Weights & Biases, this will upload the artifact to the Weights & Biases servers\n",
    "\n",
    "#base data\n",
    "base_df.to_parquet('base_data.parquet', index=False)\n",
    "base_data = wandb.Artifact(name=\"base_data\", type=\"dataset\")\n",
    "base_data.add_file('base_data.parquet')\n",
    "wandb.log_artifact(base_data)\n",
    "\n",
    "#miniset data dataframe 'mini_no_overlap' \n",
    "mini_no_overlap.to_parquet('mini_no_overlap.parquet', index=False)\n",
    "mini_no_overlap_data = wandb.Artifact(name=\"mini_no_overlap_data\", type=\"dataset\")\n",
    "mini_no_overlap_data.add_file('mini_no_overlap.parquet')\n",
    "wandb.log_artifact(mini_no_overlap_data)\n",
    "\n",
    "#validation set dataframe 'val_df'\n",
    "val_df.to_parquet('val_data.parquet', index=False)\n",
    "val_data = wandb.Artifact(name=\"val_data\", type=\"dataset\")\n",
    "val_data.add_file('val_data.parquet')\n",
    "wandb.log_artifact(val_data)"
   ]
  },
  {
   "cell_type": "code",
   "execution_count": 15,
   "id": "884b47de",
   "metadata": {
    "execution": {
     "iopub.execute_input": "2024-04-09T22:41:23.633942Z",
     "iopub.status.busy": "2024-04-09T22:41:23.633302Z",
     "iopub.status.idle": "2024-04-09T22:41:23.637716Z",
     "shell.execute_reply": "2024-04-09T22:41:23.636661Z"
    },
    "papermill": {
     "duration": 0.014555,
     "end_time": "2024-04-09T22:41:23.639738",
     "exception": false,
     "start_time": "2024-04-09T22:41:23.625183",
     "status": "completed"
    },
    "tags": []
   },
   "outputs": [],
   "source": [
    "#TODO troubleshoot\n",
    "\n",
    "# # We will generate html viz for every mini_no_overlap essay, wrap it up in `wandb.Html` and create a W&B table to inspect it\n",
    "# df=mini_no_overlap\n",
    "\n",
    "# wandb_htmls = [wandb.Html(visualize(row)) for _, row in df.iterrows()]\n",
    "# df['visualization'] = wandb_htmls\n",
    "# table = wandb.Table(dataframe=df)\n",
    "# wandb.log({'original_dataset': table})"
   ]
  },
  {
   "cell_type": "code",
   "execution_count": 16,
   "id": "b6e81a4f",
   "metadata": {
    "execution": {
     "iopub.execute_input": "2024-04-09T22:41:23.655347Z",
     "iopub.status.busy": "2024-04-09T22:41:23.654979Z",
     "iopub.status.idle": "2024-04-09T22:41:37.333981Z",
     "shell.execute_reply": "2024-04-09T22:41:37.332992Z"
    },
    "papermill": {
     "duration": 13.690254,
     "end_time": "2024-04-09T22:41:37.336660",
     "exception": false,
     "start_time": "2024-04-09T22:41:23.646406",
     "status": "completed"
    },
    "tags": []
   },
   "outputs": [
    {
     "name": "stderr",
     "output_type": "stream",
     "text": [
      "\u001b[34m\u001b[1mwandb\u001b[0m:                                                                                \n",
      "\u001b[34m\u001b[1mwandb\u001b[0m: 🚀 View run \u001b[33mkind-elevator-15\u001b[0m at: \u001b[34m\u001b[4mhttps://wandb.ai/csci566sp24/pii/runs/spbw6fsi/workspace\u001b[0m\n",
      "\u001b[34m\u001b[1mwandb\u001b[0m: Synced 4 W&B file(s), 0 media file(s), 3 artifact file(s) and 0 other file(s)\n",
      "\u001b[34m\u001b[1mwandb\u001b[0m: Find logs at: \u001b[35m\u001b[1m./wandb/run-20240409_224103-spbw6fsi/logs\u001b[0m\n"
     ]
    }
   ],
   "source": [
    "# Finish W&B run\n",
    "wandb.finish()"
   ]
  },
  {
   "cell_type": "markdown",
   "id": "ccdcb002",
   "metadata": {
    "papermill": {
     "duration": 0.00703,
     "end_time": "2024-04-09T22:41:37.351008",
     "exception": false,
     "start_time": "2024-04-09T22:41:37.343978",
     "status": "completed"
    },
    "tags": []
   },
   "source": [
    "# TO DOs\n",
    "- Truncation with Stride, tokenizers striding method?\n",
    "- add hyperparameters to config wandb.config.update"
   ]
  }
 ],
 "metadata": {
  "kaggle": {
   "accelerator": "none",
   "dataSources": [
    {
     "databundleVersionId": 7500999,
     "sourceId": 66653,
     "sourceType": "competition"
    }
   ],
   "dockerImageVersionId": 30684,
   "isGpuEnabled": false,
   "isInternetEnabled": true,
   "language": "python",
   "sourceType": "notebook"
  },
  "kernelspec": {
   "display_name": "Python 3",
   "language": "python",
   "name": "python3"
  },
  "language_info": {
   "codemirror_mode": {
    "name": "ipython",
    "version": 3
   },
   "file_extension": ".py",
   "mimetype": "text/x-python",
   "name": "python",
   "nbconvert_exporter": "python",
   "pygments_lexer": "ipython3",
   "version": "3.10.13"
  },
  "papermill": {
   "default_parameters": {},
   "duration": 75.387109,
   "end_time": "2024-04-09T22:41:39.977255",
   "environment_variables": {},
   "exception": null,
   "input_path": "__notebook__.ipynb",
   "output_path": "__notebook__.ipynb",
   "parameters": {},
   "start_time": "2024-04-09T22:40:24.590146",
   "version": "2.5.0"
  }
 },
 "nbformat": 4,
 "nbformat_minor": 5
}
