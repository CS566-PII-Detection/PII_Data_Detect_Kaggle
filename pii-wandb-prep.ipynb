{
 "cells": [
  {
   "cell_type": "markdown",
   "id": "5f3df2f7",
   "metadata": {
    "papermill": {
     "duration": 0.009596,
     "end_time": "2024-04-17T20:57:17.593061",
     "exception": false,
     "start_time": "2024-04-17T20:57:17.583465",
     "status": "completed"
    },
    "tags": []
   },
   "source": [
    "# PII Data Prep with W and B\n",
    "\n",
    "## Reference\n",
    "https://www.kaggle.com/code/thedrcat/pii-data-preparation-cv-stride-viz-and-w-b#Share-your-findings"
   ]
  },
  {
   "cell_type": "markdown",
   "id": "1adc47c8",
   "metadata": {
    "papermill": {
     "duration": 0.010923,
     "end_time": "2024-04-17T20:57:17.612731",
     "exception": false,
     "start_time": "2024-04-17T20:57:17.601808",
     "status": "completed"
    },
    "tags": []
   },
   "source": [
    "# Config and Import"
   ]
  },
  {
   "cell_type": "code",
   "execution_count": 1,
   "id": "97bd40df",
   "metadata": {
    "execution": {
     "iopub.execute_input": "2024-04-17T20:57:17.632000Z",
     "iopub.status.busy": "2024-04-17T20:57:17.631621Z",
     "iopub.status.idle": "2024-04-17T20:57:34.118877Z",
     "shell.execute_reply": "2024-04-17T20:57:34.117630Z"
    },
    "papermill": {
     "duration": 16.500353,
     "end_time": "2024-04-17T20:57:34.121857",
     "exception": false,
     "start_time": "2024-04-17T20:57:17.621504",
     "status": "completed"
    },
    "tags": []
   },
   "outputs": [],
   "source": [
    "!pip install wandb -q"
   ]
  },
  {
   "cell_type": "code",
   "execution_count": 2,
   "id": "2cdaaa75",
   "metadata": {
    "_cell_guid": "b1076dfc-b9ad-4769-8c92-a6c4dae69d19",
    "_uuid": "8f2839f25d086af736a60e9eeb907d3b93b6e0e5",
    "execution": {
     "iopub.execute_input": "2024-04-17T20:57:34.141791Z",
     "iopub.status.busy": "2024-04-17T20:57:34.141347Z",
     "iopub.status.idle": "2024-04-17T20:57:35.178400Z",
     "shell.execute_reply": "2024-04-17T20:57:35.177366Z"
    },
    "papermill": {
     "duration": 1.050263,
     "end_time": "2024-04-17T20:57:35.181295",
     "exception": false,
     "start_time": "2024-04-17T20:57:34.131032",
     "status": "completed"
    },
    "tags": []
   },
   "outputs": [],
   "source": [
    "from pathlib import Path\n",
    "import os\n",
    "\n",
    "import json\n",
    "import itertools\n",
    "import numpy as np\n",
    "import pandas as pd\n",
    "import matplotlib.pyplot as plt\n",
    "\n",
    "import warnings"
   ]
  },
  {
   "cell_type": "code",
   "execution_count": 3,
   "id": "037c9fad",
   "metadata": {
    "execution": {
     "iopub.execute_input": "2024-04-17T20:57:35.200928Z",
     "iopub.status.busy": "2024-04-17T20:57:35.200383Z",
     "iopub.status.idle": "2024-04-17T20:57:35.205482Z",
     "shell.execute_reply": "2024-04-17T20:57:35.204372Z"
    },
    "papermill": {
     "duration": 0.017589,
     "end_time": "2024-04-17T20:57:35.207952",
     "exception": false,
     "start_time": "2024-04-17T20:57:35.190363",
     "status": "completed"
    },
    "tags": []
   },
   "outputs": [],
   "source": [
    "DATA_PATH = '../input/pii-detection-removal-from-educational-data'\n",
    "OUTPUT_DIR = '/kaggle/working/'"
   ]
  },
  {
   "cell_type": "markdown",
   "id": "42c9e4df",
   "metadata": {
    "papermill": {
     "duration": 0.008308,
     "end_time": "2024-04-17T20:57:35.224794",
     "exception": false,
     "start_time": "2024-04-17T20:57:35.216486",
     "status": "completed"
    },
    "tags": []
   },
   "source": [
    "# Helper functions"
   ]
  },
  {
   "cell_type": "code",
   "execution_count": 4,
   "id": "c85bea82",
   "metadata": {
    "execution": {
     "iopub.execute_input": "2024-04-17T20:57:35.244124Z",
     "iopub.status.busy": "2024-04-17T20:57:35.243419Z",
     "iopub.status.idle": "2024-04-17T20:57:35.251894Z",
     "shell.execute_reply": "2024-04-17T20:57:35.250716Z"
    },
    "papermill": {
     "duration": 0.020814,
     "end_time": "2024-04-17T20:57:35.254346",
     "exception": false,
     "start_time": "2024-04-17T20:57:35.233532",
     "status": "completed"
    },
    "tags": []
   },
   "outputs": [],
   "source": [
    "#split data into training and validation set\n",
    "def PIId2_split_by_sampling(df, test_ratio):\n",
    "    \"\"\"Split PII data into training and test set. \n",
    "\n",
    "    Args:\n",
    "        df (pd.DataFrame): The input DataFrame.\n",
    "        test_ratio (float, default=0.2): \n",
    "            The proportion of the dataset to include in the test split.\n",
    "\n",
    "    Returns:\n",
    "        train_df, test_df: Training and test splits of the input DataFrame.\n",
    "    \"\"\"\n",
    "    # Get the number of rows in the DataFrame\n",
    "    num_rows = len(df)\n",
    "    \n",
    "    # Get the split index\n",
    "    split_idx = int(num_rows * test_ratio)\n",
    "    \n",
    "    # Shuffle the DataFrame rows\n",
    "    df_shuffled = df.sample(frac=1, random_state=42)\n",
    "    \n",
    "    # Split the DataFrame into train and test\n",
    "    train_df = df_shuffled.iloc[split_idx:]\n",
    "    test_df = df_shuffled.iloc[:split_idx]\n",
    "    \n",
    "#     #TEMP to test\n",
    "#     # Add a new column 'valid' with boolean values - need to modify the move missing if want to keep\n",
    "#     train_df['valid'] = False\n",
    "#     test_df['valid'] = True\n",
    "    \n",
    "    return train_df, test_df"
   ]
  },
  {
   "cell_type": "code",
   "execution_count": 5,
   "id": "490e1a58",
   "metadata": {
    "execution": {
     "iopub.execute_input": "2024-04-17T20:57:35.274287Z",
     "iopub.status.busy": "2024-04-17T20:57:35.273648Z",
     "iopub.status.idle": "2024-04-17T20:57:35.281312Z",
     "shell.execute_reply": "2024-04-17T20:57:35.280323Z"
    },
    "papermill": {
     "duration": 0.020603,
     "end_time": "2024-04-17T20:57:35.283731",
     "exception": false,
     "start_time": "2024-04-17T20:57:35.263128",
     "status": "completed"
    },
    "tags": []
   },
   "outputs": [],
   "source": [
    "def move_missing_labels(to_df, from_df):\n",
    "    \"\"\"\n",
    "    Move documents containing missing labels from the extra DataFrame to the desired DataFrame.\n",
    "\n",
    "    Parameters:\n",
    "    - to_df (DataFrame): DataFrame where the documents should be moved to.\n",
    "    - from_df (DataFrame): DataFrame where the documents should be moved from.\n",
    "\n",
    "    Returns:\n",
    "    - desired_df, extra_df: Updated DataFrames.\n",
    "    \"\"\"\n",
    "    # Find the labels that are missing from the to_df DataFrame\n",
    "    missing_labels = set(from_df['labels'].explode().unique()) - set(to_df['labels'].explode().unique())\n",
    "\n",
    "    # For each missing label, move a document from the extra DataFrame to the desired DataFrame\n",
    "    for label in missing_labels:\n",
    "        if label in from_df['labels'].explode().unique():\n",
    "            document = from_df[from_df['labels'].apply(lambda x: label in x)].sample(n=1)\n",
    "            to_df = pd.concat([to_df, document])\n",
    "            from_df = from_df.drop(document.index)\n",
    "\n",
    "    return to_df, from_df"
   ]
  },
  {
   "cell_type": "markdown",
   "id": "ef1393dd",
   "metadata": {
    "papermill": {
     "duration": 0.008641,
     "end_time": "2024-04-17T20:57:35.301412",
     "exception": false,
     "start_time": "2024-04-17T20:57:35.292771",
     "status": "completed"
    },
    "tags": []
   },
   "source": [
    "# Validation set and Miniset"
   ]
  },
  {
   "cell_type": "code",
   "execution_count": 6,
   "id": "05636418",
   "metadata": {
    "execution": {
     "iopub.execute_input": "2024-04-17T20:57:35.321551Z",
     "iopub.status.busy": "2024-04-17T20:57:35.321144Z",
     "iopub.status.idle": "2024-04-17T20:57:38.306716Z",
     "shell.execute_reply": "2024-04-17T20:57:38.305466Z"
    },
    "papermill": {
     "duration": 2.998508,
     "end_time": "2024-04-17T20:57:38.309599",
     "exception": false,
     "start_time": "2024-04-17T20:57:35.311091",
     "status": "completed"
    },
    "tags": []
   },
   "outputs": [],
   "source": [
    "comp_train= json.load(open(DATA_PATH +'/train.json'))\n",
    "\n",
    "#Convert to df for EDA\n",
    "base_df= pd.DataFrame(comp_train)"
   ]
  },
  {
   "cell_type": "code",
   "execution_count": 7,
   "id": "12db9bbb",
   "metadata": {
    "execution": {
     "iopub.execute_input": "2024-04-17T20:57:38.328521Z",
     "iopub.status.busy": "2024-04-17T20:57:38.328099Z",
     "iopub.status.idle": "2024-04-17T20:57:38.591933Z",
     "shell.execute_reply": "2024-04-17T20:57:38.590674Z"
    },
    "papermill": {
     "duration": 0.276491,
     "end_time": "2024-04-17T20:57:38.594676",
     "exception": false,
     "start_time": "2024-04-17T20:57:38.318185",
     "status": "completed"
    },
    "tags": []
   },
   "outputs": [],
   "source": [
    "#TODO see if can remove since only needed for stride, \n",
    "#note if remove adjust create_dataset in https://www.kaggle.com/code/jonathankasprisin/pii-wandb-training/edit\n",
    "def add_token_indices(doc_tokens):\n",
    "    token_indices = list(range(len(doc_tokens)))\n",
    "    return token_indices\n",
    "\n",
    "base_df['token_indices'] = base_df['tokens'].apply(add_token_indices)"
   ]
  },
  {
   "cell_type": "code",
   "execution_count": 8,
   "id": "bc99d568",
   "metadata": {
    "execution": {
     "iopub.execute_input": "2024-04-17T20:57:38.615023Z",
     "iopub.status.busy": "2024-04-17T20:57:38.614100Z",
     "iopub.status.idle": "2024-04-17T20:57:43.670495Z",
     "shell.execute_reply": "2024-04-17T20:57:43.669288Z"
    },
    "papermill": {
     "duration": 5.069654,
     "end_time": "2024-04-17T20:57:43.673765",
     "exception": false,
     "start_time": "2024-04-17T20:57:38.604111",
     "status": "completed"
    },
    "tags": []
   },
   "outputs": [],
   "source": [
    "train_df, val_df = PIId2_split_by_sampling(base_df, .1)\n",
    "train_df_overlap = train_df\n",
    "\n",
    "val_df, train_df = move_missing_labels(val_df, train_df)"
   ]
  },
  {
   "cell_type": "code",
   "execution_count": 9,
   "id": "731455e1",
   "metadata": {
    "execution": {
     "iopub.execute_input": "2024-04-17T20:57:43.701443Z",
     "iopub.status.busy": "2024-04-17T20:57:43.700189Z",
     "iopub.status.idle": "2024-04-17T20:57:49.492863Z",
     "shell.execute_reply": "2024-04-17T20:57:49.491730Z"
    },
    "papermill": {
     "duration": 5.809948,
     "end_time": "2024-04-17T20:57:49.495409",
     "exception": false,
     "start_time": "2024-04-17T20:57:43.685461",
     "status": "completed"
    },
    "tags": []
   },
   "outputs": [
    {
     "name": "stdout",
     "output_type": "stream",
     "text": [
      "size of base:  6807\n",
      "size of val_df:  688\n"
     ]
    }
   ],
   "source": [
    "# Save the DataFrame to a JSON file \n",
    "val_df.to_json(OUTPUT_DIR + \"/val.json\", orient=\"records\")\n",
    "train_df.to_json(OUTPUT_DIR + \"/train_df_fromval.json\", orient=\"records\")\n",
    "train_df_overlap.to_json(OUTPUT_DIR + \"/train_df_overlap_fromval.json\", orient=\"records\")\n",
    "\n",
    "print(\"size of base: \", len(base_df))\n",
    "print(\"size of val_df: \", len(val_df))"
   ]
  },
  {
   "cell_type": "code",
   "execution_count": 10,
   "id": "79f2438a",
   "metadata": {
    "execution": {
     "iopub.execute_input": "2024-04-17T20:57:49.514787Z",
     "iopub.status.busy": "2024-04-17T20:57:49.514365Z",
     "iopub.status.idle": "2024-04-17T20:57:53.748686Z",
     "shell.execute_reply": "2024-04-17T20:57:53.747295Z"
    },
    "papermill": {
     "duration": 4.247483,
     "end_time": "2024-04-17T20:57:53.751629",
     "exception": false,
     "start_time": "2024-04-17T20:57:49.504146",
     "status": "completed"
    },
    "tags": []
   },
   "outputs": [
    {
     "name": "stdout",
     "output_type": "stream",
     "text": [
      "size of base:  6807\n",
      "size of mini_overlap:  3066\n",
      "size of mini_no_overlap:  3060\n"
     ]
    }
   ],
   "source": [
    "mini_overlap, overlap_extra = PIId2_split_by_sampling(train_df_overlap, .5)\n",
    "mini_no_overlap, no_overlap_extra= PIId2_split_by_sampling(train_df, .5)\n",
    "\n",
    "\n",
    "mini_overlap, overlap_extra = move_missing_labels(mini_overlap, overlap_extra)\n",
    "mini_no_overlap, no_overlap_extra= move_missing_labels(mini_no_overlap, no_overlap_extra)\n",
    "\n",
    "# Save the DataFrame to a JSON file \n",
    "mini_overlap.to_json(OUTPUT_DIR + \"/mini_overlap.json\", orient=\"records\")\n",
    "mini_no_overlap.to_json(OUTPUT_DIR + \"/mini_no_overlap.json\", orient=\"records\")\n",
    "\n",
    "print(\"size of base: \", len(base_df))\n",
    "print(\"size of mini_overlap: \", len(mini_overlap))\n",
    "print(\"size of mini_no_overlap: \", len(mini_no_overlap))"
   ]
  },
  {
   "cell_type": "code",
   "execution_count": 11,
   "id": "d18a9b9e",
   "metadata": {
    "execution": {
     "iopub.execute_input": "2024-04-17T20:57:53.776586Z",
     "iopub.status.busy": "2024-04-17T20:57:53.776158Z",
     "iopub.status.idle": "2024-04-17T20:57:53.835820Z",
     "shell.execute_reply": "2024-04-17T20:57:53.834532Z"
    },
    "papermill": {
     "duration": 0.07656,
     "end_time": "2024-04-17T20:57:53.839028",
     "exception": false,
     "start_time": "2024-04-17T20:57:53.762468",
     "status": "completed"
    },
    "tags": []
   },
   "outputs": [
    {
     "name": "stdout",
     "output_type": "stream",
     "text": [
      "<class 'pandas.core.frame.DataFrame'>\n",
      "Index: 688 entries, 4624 to 380\n",
      "Data columns (total 6 columns):\n",
      " #   Column               Non-Null Count  Dtype \n",
      "---  ------               --------------  ----- \n",
      " 0   document             688 non-null    int64 \n",
      " 1   full_text            688 non-null    object\n",
      " 2   tokens               688 non-null    object\n",
      " 3   trailing_whitespace  688 non-null    object\n",
      " 4   labels               688 non-null    object\n",
      " 5   token_indices        688 non-null    object\n",
      "dtypes: int64(1), object(5)\n",
      "memory usage: 53.8+ KB\n",
      "total labels 519391 \n",
      " entity labels 335\n",
      "O: 519056\n",
      "B-NAME_STUDENT: 139\n",
      "I-NAME_STUDENT: 130\n",
      "B-URL_PERSONAL: 16\n",
      "B-ID_NUM: 2\n",
      "I-ID_NUM: 1\n",
      "B-EMAIL: 6\n",
      "B-PHONE_NUM: 5\n",
      "I-PHONE_NUM: 12\n",
      "B-USERNAME: 1\n",
      "B-STREET_ADDRESS: 2\n",
      "I-STREET_ADDRESS: 20\n",
      "I-URL_PERSONAL: 1\n"
     ]
    }
   ],
   "source": [
    "from collections import Counter\n",
    "from itertools import chain\n",
    "#Val set analysis\n",
    "val_df.info()\n",
    "df = val_df\n",
    "total_count = df['labels'].apply(len).sum()\n",
    "# Flatten the list of labels\n",
    "all_labels_flat = list(chain(* val_df.labels.values))\n",
    "\n",
    "# Count the occurrences of each unique label\n",
    "label_counts = Counter(all_labels_flat)\n",
    "\n",
    "entity_count = total_count - label_counts['O']\n",
    "\n",
    "print(f'total labels {total_count} \\n entity labels {entity_count}')\n",
    "# Print the counts\n",
    "for label, count in label_counts.items():\n",
    "    print(f'{label}: {count}')"
   ]
  },
  {
   "cell_type": "markdown",
   "id": "47cad5ca",
   "metadata": {
    "papermill": {
     "duration": 0.008906,
     "end_time": "2024-04-17T20:57:53.857219",
     "exception": false,
     "start_time": "2024-04-17T20:57:53.848313",
     "status": "completed"
    },
    "tags": []
   },
   "source": [
    "# More data\n",
    "https://www.kaggle.com/code/valentinwerner/fix-punctuation-tokenization-external-dataset/output\n",
    "\n",
    "valentinwerner fix of \n",
    "https://www.kaggle.com/datasets/alejopaullier/pii-external-dataset/data?select=pii_dataset.csv\n",
    "https://www.kaggle.com/datasets/pjmathematician/pii-detection-dataset-gpt\n",
    "\n",
    "thoughts- https://www.kaggle.com/competitions/pii-detection-removal-from-educational-data/discussion/472560"
   ]
  },
  {
   "cell_type": "code",
   "execution_count": 12,
   "id": "f91d8edc",
   "metadata": {
    "execution": {
     "iopub.execute_input": "2024-04-17T20:57:53.877521Z",
     "iopub.status.busy": "2024-04-17T20:57:53.877120Z",
     "iopub.status.idle": "2024-04-17T20:57:55.575513Z",
     "shell.execute_reply": "2024-04-17T20:57:55.574223Z"
    },
    "papermill": {
     "duration": 1.711684,
     "end_time": "2024-04-17T20:57:55.578395",
     "exception": false,
     "start_time": "2024-04-17T20:57:53.866711",
     "status": "completed"
    },
    "tags": []
   },
   "outputs": [],
   "source": [
    "train_df\n",
    "\n",
    "moredata_dataset_fixed= json.load(open('/kaggle/input/fix-punctuation-tokenization-external-dataset/moredata_dataset_fixed.json'))\n",
    "pii_dataset_fixed= json.load(open('/kaggle/input/fix-punctuation-tokenization-external-dataset/pii_dataset_fixed.json'))\n",
    "\n",
    "#Convert to df for EDA\n",
    "moredata_dataset_fixed_df= pd.DataFrame(moredata_dataset_fixed)\n",
    "pii_dataset_fixed_df = pd.DataFrame(pii_dataset_fixed)"
   ]
  },
  {
   "cell_type": "markdown",
   "id": "efc30890",
   "metadata": {
    "papermill": {
     "duration": 0.008611,
     "end_time": "2024-04-17T20:57:55.596522",
     "exception": false,
     "start_time": "2024-04-17T20:57:55.587911",
     "status": "completed"
    },
    "tags": []
   },
   "source": [
    "# Visualization of an Essay\n",
    "credit : https://www.kaggle.com/code/sinchir0/visualization-code-using-displacy"
   ]
  },
  {
   "cell_type": "code",
   "execution_count": 13,
   "id": "49febd24",
   "metadata": {
    "execution": {
     "iopub.execute_input": "2024-04-17T20:57:55.616202Z",
     "iopub.status.busy": "2024-04-17T20:57:55.615786Z",
     "iopub.status.idle": "2024-04-17T20:58:02.803961Z",
     "shell.execute_reply": "2024-04-17T20:58:02.802737Z"
    },
    "papermill": {
     "duration": 7.201341,
     "end_time": "2024-04-17T20:58:02.806747",
     "exception": false,
     "start_time": "2024-04-17T20:57:55.605406",
     "status": "completed"
    },
    "tags": []
   },
   "outputs": [],
   "source": [
    "#https://www.kaggle.com/code/sinchir0/visualization-code-using-displacy\n",
    "import spacy\n",
    "from spacy.tokens import Span\n",
    "from spacy import displacy\n",
    "\n",
    "nlp = spacy.blank(\"en\")\n",
    "\n",
    "options = {\n",
    "    \"colors\": {\n",
    "        \"B-NAME_STUDENT\": \"aqua\",\n",
    "        \"I-NAME_STUDENT\": \"skyblue\",\n",
    "        \"B-EMAIL\": \"limegreen\",\n",
    "        \"I-EMAIL\": \"lime\",\n",
    "        \"B-USERNAME\": \"hotpink\",\n",
    "        \"I-USERNAME\": \"lightpink\",\n",
    "        \"B-ID_NUM\": \"purple\",\n",
    "        \"I-ID_NUM\": \"rebeccapurple\",\n",
    "        \"B-PHONE_NUM\": \"red\",\n",
    "        \"I-PHONE_NUM\": \"salmon\",\n",
    "        \"B-URL_PERSONAL\": \"silver\",\n",
    "        \"I-URL_PERSONAL\": \"lightgray\",\n",
    "        \"B-STREET_ADDRESS\": \"brown\",\n",
    "        \"I-STREET_ADDRESS\": \"chocolate\",\n",
    "    }\n",
    "}\n",
    "\n",
    "def visualize(row):\n",
    "    doc = nlp(row.full_text)\n",
    "    doc.ents = [\n",
    "        Span(doc, idx, idx + 1, label=label)\n",
    "        for idx, label in enumerate(row.labels)\n",
    "        if label != \"O\"\n",
    "    ]\n",
    "    html = displacy.render(doc, style=\"ent\", jupyter=False, options=options)\n",
    "    return html"
   ]
  },
  {
   "cell_type": "code",
   "execution_count": 14,
   "id": "03ae36bf",
   "metadata": {
    "execution": {
     "iopub.execute_input": "2024-04-17T20:58:02.826903Z",
     "iopub.status.busy": "2024-04-17T20:58:02.826286Z",
     "iopub.status.idle": "2024-04-17T20:58:02.831974Z",
     "shell.execute_reply": "2024-04-17T20:58:02.830870Z"
    },
    "papermill": {
     "duration": 0.018677,
     "end_time": "2024-04-17T20:58:02.834477",
     "exception": false,
     "start_time": "2024-04-17T20:58:02.815800",
     "status": "completed"
    },
    "tags": []
   },
   "outputs": [
    {
     "name": "stderr",
     "output_type": "stream",
     "text": [
      "/tmp/ipykernel_18/2933016516.py:1: DeprecationWarning: Importing display from IPython.core.display is deprecated since IPython 7.14, please import from IPython display\n",
      "  from IPython.core.display import display, HTML\n"
     ]
    }
   ],
   "source": [
    "from IPython.core.display import display, HTML\n",
    "# html = visualize(base_df.loc[0])\n",
    "# display(HTML(html))"
   ]
  },
  {
   "cell_type": "markdown",
   "id": "464254e6",
   "metadata": {
    "papermill": {
     "duration": 0.008983,
     "end_time": "2024-04-17T20:58:02.852697",
     "exception": false,
     "start_time": "2024-04-17T20:58:02.843714",
     "status": "completed"
    },
    "tags": []
   },
   "source": [
    "# Save to W and B\n",
    "\n",
    "Running code below needs to have WANDB_API_KEY secret in kaggle secrets. Access api token through add-ons in notebook\n",
    "\n"
   ]
  },
  {
   "cell_type": "code",
   "execution_count": 15,
   "id": "f9b74cc9",
   "metadata": {
    "execution": {
     "iopub.execute_input": "2024-04-17T20:58:02.873115Z",
     "iopub.status.busy": "2024-04-17T20:58:02.872706Z",
     "iopub.status.idle": "2024-04-17T20:58:24.619159Z",
     "shell.execute_reply": "2024-04-17T20:58:24.617964Z"
    },
    "papermill": {
     "duration": 21.759637,
     "end_time": "2024-04-17T20:58:24.621842",
     "exception": false,
     "start_time": "2024-04-17T20:58:02.862205",
     "status": "completed"
    },
    "tags": []
   },
   "outputs": [
    {
     "name": "stderr",
     "output_type": "stream",
     "text": [
      "\u001b[34m\u001b[1mwandb\u001b[0m: W&B API key is configured. Use \u001b[1m`wandb login --relogin`\u001b[0m to force relogin\n",
      "\u001b[34m\u001b[1mwandb\u001b[0m: \u001b[33mWARNING\u001b[0m If you're specifying your api key in code, ensure this code is not shared publicly.\n",
      "\u001b[34m\u001b[1mwandb\u001b[0m: \u001b[33mWARNING\u001b[0m Consider setting the WANDB_API_KEY environment variable, or running `wandb login` from the command line.\n",
      "\u001b[34m\u001b[1mwandb\u001b[0m: Appending key for api.wandb.ai to your netrc file: /root/.netrc\n",
      "\u001b[34m\u001b[1mwandb\u001b[0m: Currently logged in as: \u001b[33mkasprisi\u001b[0m (\u001b[33mcsci566sp24\u001b[0m). Use \u001b[1m`wandb login --relogin`\u001b[0m to force relogin\n",
      "\u001b[34m\u001b[1mwandb\u001b[0m: wandb version 0.16.6 is available!  To upgrade, please run:\n",
      "\u001b[34m\u001b[1mwandb\u001b[0m:  $ pip install wandb --upgrade\n",
      "\u001b[34m\u001b[1mwandb\u001b[0m: Tracking run with wandb version 0.16.5\n",
      "\u001b[34m\u001b[1mwandb\u001b[0m: Run data is saved locally in \u001b[35m\u001b[1m/kaggle/working/wandb/run-20240417_205806-4o3u6dep\u001b[0m\n",
      "\u001b[34m\u001b[1mwandb\u001b[0m: Run \u001b[1m`wandb offline`\u001b[0m to turn off syncing.\n",
      "\u001b[34m\u001b[1mwandb\u001b[0m: Syncing run \u001b[33mswept-star-88\u001b[0m\n",
      "\u001b[34m\u001b[1mwandb\u001b[0m: ⭐️ View project at \u001b[34m\u001b[4mhttps://wandb.ai/csci566sp24/pii\u001b[0m\n",
      "\u001b[34m\u001b[1mwandb\u001b[0m: 🚀 View run at \u001b[34m\u001b[4mhttps://wandb.ai/csci566sp24/pii/runs/4o3u6dep/workspace\u001b[0m\n"
     ]
    },
    {
     "data": {
      "text/html": [
       "<button onClick=\"this.nextSibling.style.display='block';this.style.display='none';\">Display W&B run</button><iframe src='https://wandb.ai/csci566sp24/pii/runs/4o3u6dep?jupyter=true' style='border:none;width:100%;height:420px;display:none;'></iframe>"
      ],
      "text/plain": [
       "<wandb.sdk.wandb_run.Run at 0x7e34c421f670>"
      ]
     },
     "execution_count": 15,
     "metadata": {},
     "output_type": "execute_result"
    }
   ],
   "source": [
    "from kaggle_secrets import UserSecretsClient\n",
    "user_secrets = UserSecretsClient()\n",
    "wandb_api_key = user_secrets.get_secret(\"WANDB_API_KEY\")\n",
    "\n",
    "\n",
    "\n",
    "import wandb\n",
    "wandb.login(key=wandb_api_key)\n",
    "wandb.init(project='pii', job_type='preprocessing')"
   ]
  },
  {
   "cell_type": "code",
   "execution_count": 16,
   "id": "f6f71c1e",
   "metadata": {
    "execution": {
     "iopub.execute_input": "2024-04-17T20:58:24.645775Z",
     "iopub.status.busy": "2024-04-17T20:58:24.645373Z",
     "iopub.status.idle": "2024-04-17T20:58:30.622955Z",
     "shell.execute_reply": "2024-04-17T20:58:30.621753Z"
    },
    "papermill": {
     "duration": 5.993759,
     "end_time": "2024-04-17T20:58:30.626759",
     "exception": false,
     "start_time": "2024-04-17T20:58:24.633000",
     "status": "completed"
    },
    "tags": []
   },
   "outputs": [
    {
     "data": {
      "text/plain": [
       "<Artifact val_data>"
      ]
     },
     "execution_count": 16,
     "metadata": {},
     "output_type": "execute_result"
    }
   ],
   "source": [
    "#log data as artifacts\n",
    "\n",
    "#Parquet is a columnar storage file format that is optimized for use with big data processing frameworks.\n",
    "#Steps\n",
    "# Save the base dataframe 'df' to a parquet file named 'base_data.parquet'\n",
    "# Create a new Weights & Biases artifact named 'base_data' of type 'dataset'\n",
    "# Create a new Weights & Biases artifact named 'base_data' of type 'dataset'\n",
    "# Add the 'base_data.parquet' file to the 'base_data' artifact\n",
    "# Log the 'raw_data' artifact to Weights & Biases, this will upload the artifact to the Weights & Biases servers\n",
    "\n",
    "#base data\n",
    "base_df.to_parquet('base_data.parquet', index=False)\n",
    "base_data = wandb.Artifact(name=\"base_data\", type=\"dataset\")\n",
    "base_data.add_file('base_data.parquet')\n",
    "wandb.log_artifact(base_data)\n",
    "\n",
    "#miniset data dataframe 'mini_no_overlap' \n",
    "mini_no_overlap.to_parquet('mini_no_overlap.parquet', index=False)\n",
    "mini_no_overlap_data = wandb.Artifact(name=\"mini_no_overlap_data\", type=\"dataset\")\n",
    "mini_no_overlap_data.add_file('mini_no_overlap.parquet')\n",
    "wandb.log_artifact(mini_no_overlap_data)\n",
    "\n",
    "#validation set dataframe 'val_df'\n",
    "val_df.to_parquet('val_data.parquet', index=False)\n",
    "val_data = wandb.Artifact(name=\"val_data\", type=\"dataset\")\n",
    "val_data.add_file('val_data.parquet')\n",
    "wandb.log_artifact(val_data)"
   ]
  },
  {
   "cell_type": "code",
   "execution_count": 17,
   "id": "4af6b648",
   "metadata": {
    "execution": {
     "iopub.execute_input": "2024-04-17T20:58:30.655283Z",
     "iopub.status.busy": "2024-04-17T20:58:30.654007Z",
     "iopub.status.idle": "2024-04-17T20:58:35.297866Z",
     "shell.execute_reply": "2024-04-17T20:58:35.296531Z"
    },
    "papermill": {
     "duration": 4.661112,
     "end_time": "2024-04-17T20:58:35.300469",
     "exception": false,
     "start_time": "2024-04-17T20:58:30.639357",
     "status": "completed"
    },
    "tags": []
   },
   "outputs": [
    {
     "data": {
      "text/plain": [
       "<Artifact train_df>"
      ]
     },
     "execution_count": 17,
     "metadata": {},
     "output_type": "execute_result"
    }
   ],
   "source": [
    "#more data logging - moth or nbroad?\n",
    "moredata_dataset_fixed_df.to_parquet('moredata_dataset_fixed.parquet', index=False)\n",
    "moredata_dataset_fixed_artifact = wandb.Artifact(name=\"moredata_dataset_fixed\", type=\"dataset\")\n",
    "moredata_dataset_fixed_artifact.add_file('moredata_dataset_fixed.parquet')\n",
    "wandb.log_artifact(moredata_dataset_fixed_artifact)\n",
    "\n",
    "# pii_dataset_fixed - moth or nbroad\n",
    "pii_dataset_fixed_df.to_parquet('pii_dataset_fixed.parquet', index=False)\n",
    "pii_dataset_fixed_artifact = wandb.Artifact(name=\"pii_dataset_fixed\", type=\"dataset\")\n",
    "pii_dataset_fixed_artifact.add_file('pii_dataset_fixed.parquet')\n",
    "wandb.log_artifact(pii_dataset_fixed_artifact)\n",
    "\n",
    "# train_df - 100% comp data - val set\n",
    "train_df.to_parquet('train_df.parquet', index=False)\n",
    "train_df_artifact = wandb.Artifact(name=\"train_df\", type=\"dataset\")\n",
    "train_df_artifact.add_file('train_df.parquet')\n",
    "wandb.log_artifact(train_df_artifact)"
   ]
  },
  {
   "cell_type": "code",
   "execution_count": 18,
   "id": "f4b2d79f",
   "metadata": {
    "execution": {
     "iopub.execute_input": "2024-04-17T20:58:35.326145Z",
     "iopub.status.busy": "2024-04-17T20:58:35.325288Z",
     "iopub.status.idle": "2024-04-17T20:58:35.330651Z",
     "shell.execute_reply": "2024-04-17T20:58:35.329481Z"
    },
    "papermill": {
     "duration": 0.020587,
     "end_time": "2024-04-17T20:58:35.332956",
     "exception": false,
     "start_time": "2024-04-17T20:58:35.312369",
     "status": "completed"
    },
    "tags": []
   },
   "outputs": [],
   "source": [
    "#TODO troubleshoot\n",
    "\n",
    "# # We will generate html viz for every mini_no_overlap essay, wrap it up in `wandb.Html` and create a W&B table to inspect it\n",
    "# df=mini_no_overlap\n",
    "\n",
    "# wandb_htmls = [wandb.Html(visualize(row)) for _, row in df.iterrows()]\n",
    "# df['visualization'] = wandb_htmls\n",
    "# table = wandb.Table(dataframe=df)\n",
    "# wandb.log({'original_dataset': table})"
   ]
  },
  {
   "cell_type": "code",
   "execution_count": 19,
   "id": "27bae33f",
   "metadata": {
    "execution": {
     "iopub.execute_input": "2024-04-17T20:58:35.357628Z",
     "iopub.status.busy": "2024-04-17T20:58:35.357178Z",
     "iopub.status.idle": "2024-04-17T20:58:52.909547Z",
     "shell.execute_reply": "2024-04-17T20:58:52.908510Z"
    },
    "papermill": {
     "duration": 17.567301,
     "end_time": "2024-04-17T20:58:52.912464",
     "exception": false,
     "start_time": "2024-04-17T20:58:35.345163",
     "status": "completed"
    },
    "tags": []
   },
   "outputs": [
    {
     "name": "stderr",
     "output_type": "stream",
     "text": [
      "\u001b[34m\u001b[1mwandb\u001b[0m:                                                                                \n",
      "\u001b[34m\u001b[1mwandb\u001b[0m: 🚀 View run \u001b[33mswept-star-88\u001b[0m at: \u001b[34m\u001b[4mhttps://wandb.ai/csci566sp24/pii/runs/4o3u6dep/workspace\u001b[0m\n",
      "\u001b[34m\u001b[1mwandb\u001b[0m: Synced 4 W&B file(s), 0 media file(s), 5 artifact file(s) and 0 other file(s)\n",
      "\u001b[34m\u001b[1mwandb\u001b[0m: Find logs at: \u001b[35m\u001b[1m./wandb/run-20240417_205806-4o3u6dep/logs\u001b[0m\n"
     ]
    }
   ],
   "source": [
    "# Finish W&B run\n",
    "wandb.finish()"
   ]
  },
  {
   "cell_type": "markdown",
   "id": "6f9b6ab4",
   "metadata": {
    "papermill": {
     "duration": 0.011467,
     "end_time": "2024-04-17T20:58:52.936212",
     "exception": false,
     "start_time": "2024-04-17T20:58:52.924745",
     "status": "completed"
    },
    "tags": []
   },
   "source": [
    "# TO DOs\n",
    "- Truncation with Stride, tokenizers striding method?\n",
    "- add hyperparameters to config wandb.config.update"
   ]
  }
 ],
 "metadata": {
  "kaggle": {
   "accelerator": "none",
   "dataSources": [
    {
     "databundleVersionId": 7500999,
     "sourceId": 66653,
     "sourceType": "competition"
    },
    {
     "sourceId": 163088908,
     "sourceType": "kernelVersion"
    }
   ],
   "dockerImageVersionId": 30684,
   "isGpuEnabled": false,
   "isInternetEnabled": true,
   "language": "python",
   "sourceType": "notebook"
  },
  "kernelspec": {
   "display_name": "Python 3",
   "language": "python",
   "name": "python3"
  },
  "language_info": {
   "codemirror_mode": {
    "name": "ipython",
    "version": 3
   },
   "file_extension": ".py",
   "mimetype": "text/x-python",
   "name": "python",
   "nbconvert_exporter": "python",
   "pygments_lexer": "ipython3",
   "version": "3.10.13"
  },
  "papermill": {
   "default_parameters": {},
   "duration": 101.308393,
   "end_time": "2024-04-17T20:58:55.567893",
   "environment_variables": {},
   "exception": null,
   "input_path": "__notebook__.ipynb",
   "output_path": "__notebook__.ipynb",
   "parameters": {},
   "start_time": "2024-04-17T20:57:14.259500",
   "version": "2.5.0"
  }
 },
 "nbformat": 4,
 "nbformat_minor": 5
}
