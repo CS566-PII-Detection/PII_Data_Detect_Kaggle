{
 "cells": [
  {
   "cell_type": "markdown",
   "id": "ee7f8a87",
   "metadata": {
    "papermill": {
     "duration": 0.008256,
     "end_time": "2024-04-10T19:33:54.952701",
     "exception": false,
     "start_time": "2024-04-10T19:33:54.944445",
     "status": "completed"
    },
    "tags": []
   },
   "source": [
    "# PII Data Prep with W and B\n",
    "\n",
    "## Reference\n",
    "https://www.kaggle.com/code/thedrcat/pii-data-preparation-cv-stride-viz-and-w-b#Share-your-findings"
   ]
  },
  {
   "cell_type": "markdown",
   "id": "848ec1c8",
   "metadata": {
    "papermill": {
     "duration": 0.005932,
     "end_time": "2024-04-10T19:33:54.964709",
     "exception": false,
     "start_time": "2024-04-10T19:33:54.958777",
     "status": "completed"
    },
    "tags": []
   },
   "source": [
    "# Config and Import"
   ]
  },
  {
   "cell_type": "code",
   "execution_count": 1,
   "id": "a91a9e53",
   "metadata": {
    "execution": {
     "iopub.execute_input": "2024-04-10T19:33:54.979886Z",
     "iopub.status.busy": "2024-04-10T19:33:54.979097Z",
     "iopub.status.idle": "2024-04-10T19:34:09.809822Z",
     "shell.execute_reply": "2024-04-10T19:34:09.807518Z"
    },
    "papermill": {
     "duration": 14.841667,
     "end_time": "2024-04-10T19:34:09.813615",
     "exception": false,
     "start_time": "2024-04-10T19:33:54.971948",
     "status": "completed"
    },
    "tags": []
   },
   "outputs": [],
   "source": [
    "!pip install wandb -q"
   ]
  },
  {
   "cell_type": "code",
   "execution_count": 2,
   "id": "f4a7c4ec",
   "metadata": {
    "_cell_guid": "b1076dfc-b9ad-4769-8c92-a6c4dae69d19",
    "_uuid": "8f2839f25d086af736a60e9eeb907d3b93b6e0e5",
    "execution": {
     "iopub.execute_input": "2024-04-10T19:34:09.829774Z",
     "iopub.status.busy": "2024-04-10T19:34:09.828228Z",
     "iopub.status.idle": "2024-04-10T19:34:11.082627Z",
     "shell.execute_reply": "2024-04-10T19:34:11.081532Z"
    },
    "papermill": {
     "duration": 1.265845,
     "end_time": "2024-04-10T19:34:11.086205",
     "exception": false,
     "start_time": "2024-04-10T19:34:09.820360",
     "status": "completed"
    },
    "tags": []
   },
   "outputs": [],
   "source": [
    "from pathlib import Path\n",
    "import os\n",
    "\n",
    "import json\n",
    "import itertools\n",
    "import numpy as np\n",
    "import pandas as pd\n",
    "import matplotlib.pyplot as plt\n",
    "\n",
    "import warnings"
   ]
  },
  {
   "cell_type": "code",
   "execution_count": 3,
   "id": "8b2eb2cd",
   "metadata": {
    "execution": {
     "iopub.execute_input": "2024-04-10T19:34:11.100642Z",
     "iopub.status.busy": "2024-04-10T19:34:11.100104Z",
     "iopub.status.idle": "2024-04-10T19:34:11.105364Z",
     "shell.execute_reply": "2024-04-10T19:34:11.103797Z"
    },
    "papermill": {
     "duration": 0.015817,
     "end_time": "2024-04-10T19:34:11.108170",
     "exception": false,
     "start_time": "2024-04-10T19:34:11.092353",
     "status": "completed"
    },
    "tags": []
   },
   "outputs": [],
   "source": [
    "DATA_PATH = '../input/pii-detection-removal-from-educational-data'\n",
    "OUTPUT_DIR = '/kaggle/working/'"
   ]
  },
  {
   "cell_type": "markdown",
   "id": "78be30c0",
   "metadata": {
    "papermill": {
     "duration": 0.004907,
     "end_time": "2024-04-10T19:34:11.118637",
     "exception": false,
     "start_time": "2024-04-10T19:34:11.113730",
     "status": "completed"
    },
    "tags": []
   },
   "source": [
    "# Helper functions"
   ]
  },
  {
   "cell_type": "code",
   "execution_count": 4,
   "id": "71265c3e",
   "metadata": {
    "execution": {
     "iopub.execute_input": "2024-04-10T19:34:11.131147Z",
     "iopub.status.busy": "2024-04-10T19:34:11.130704Z",
     "iopub.status.idle": "2024-04-10T19:34:11.136577Z",
     "shell.execute_reply": "2024-04-10T19:34:11.135908Z"
    },
    "papermill": {
     "duration": 0.01412,
     "end_time": "2024-04-10T19:34:11.138106",
     "exception": false,
     "start_time": "2024-04-10T19:34:11.123986",
     "status": "completed"
    },
    "tags": []
   },
   "outputs": [],
   "source": [
    "#split data into training and validation set\n",
    "def PIId2_split_by_sampling(df, test_ratio):\n",
    "    \"\"\"Split PII data into training and test set. \n",
    "\n",
    "    Args:\n",
    "        df (pd.DataFrame): The input DataFrame.\n",
    "        test_ratio (float, default=0.2): \n",
    "            The proportion of the dataset to include in the test split.\n",
    "\n",
    "    Returns:\n",
    "        train_df, test_df: Training and test splits of the input DataFrame.\n",
    "    \"\"\"\n",
    "    # Get the number of rows in the DataFrame\n",
    "    num_rows = len(df)\n",
    "    \n",
    "    # Get the split index\n",
    "    split_idx = int(num_rows * test_ratio)\n",
    "    \n",
    "    # Shuffle the DataFrame rows\n",
    "    df_shuffled = df.sample(frac=1, random_state=42)\n",
    "    \n",
    "    # Split the DataFrame into train and test\n",
    "    train_df = df_shuffled.iloc[split_idx:]\n",
    "    test_df = df_shuffled.iloc[:split_idx]\n",
    "    \n",
    "#     #TEMP to test\n",
    "#     # Add a new column 'valid' with boolean values - need to modify the move missing if want to keep\n",
    "#     train_df['valid'] = False\n",
    "#     test_df['valid'] = True\n",
    "    \n",
    "    return train_df, test_df"
   ]
  },
  {
   "cell_type": "code",
   "execution_count": 5,
   "id": "e71746ae",
   "metadata": {
    "execution": {
     "iopub.execute_input": "2024-04-10T19:34:11.152388Z",
     "iopub.status.busy": "2024-04-10T19:34:11.151484Z",
     "iopub.status.idle": "2024-04-10T19:34:11.159409Z",
     "shell.execute_reply": "2024-04-10T19:34:11.158502Z"
    },
    "papermill": {
     "duration": 0.017913,
     "end_time": "2024-04-10T19:34:11.161676",
     "exception": false,
     "start_time": "2024-04-10T19:34:11.143763",
     "status": "completed"
    },
    "tags": []
   },
   "outputs": [],
   "source": [
    "def move_missing_labels(to_df, from_df):\n",
    "    \"\"\"\n",
    "    Move documents containing missing labels from the extra DataFrame to the desired DataFrame.\n",
    "\n",
    "    Parameters:\n",
    "    - to_df (DataFrame): DataFrame where the documents should be moved to.\n",
    "    - from_df (DataFrame): DataFrame where the documents should be moved from.\n",
    "\n",
    "    Returns:\n",
    "    - desired_df, extra_df: Updated DataFrames.\n",
    "    \"\"\"\n",
    "    # Find the labels that are missing from the to_df DataFrame\n",
    "    missing_labels = set(from_df['labels'].explode().unique()) - set(to_df['labels'].explode().unique())\n",
    "\n",
    "    # For each missing label, move a document from the extra DataFrame to the desired DataFrame\n",
    "    for label in missing_labels:\n",
    "        if label in from_df['labels'].explode().unique():\n",
    "            document = from_df[from_df['labels'].apply(lambda x: label in x)].sample(n=1)\n",
    "            to_df = pd.concat([to_df, document])\n",
    "            from_df = from_df.drop(document.index)\n",
    "\n",
    "    return to_df, from_df"
   ]
  },
  {
   "cell_type": "markdown",
   "id": "cf26b0cc",
   "metadata": {
    "papermill": {
     "duration": 0.004806,
     "end_time": "2024-04-10T19:34:11.171945",
     "exception": false,
     "start_time": "2024-04-10T19:34:11.167139",
     "status": "completed"
    },
    "tags": []
   },
   "source": [
    "# Validation set and Miniset"
   ]
  },
  {
   "cell_type": "code",
   "execution_count": 6,
   "id": "bc5ae62a",
   "metadata": {
    "execution": {
     "iopub.execute_input": "2024-04-10T19:34:11.185723Z",
     "iopub.status.busy": "2024-04-10T19:34:11.185089Z",
     "iopub.status.idle": "2024-04-10T19:34:13.076588Z",
     "shell.execute_reply": "2024-04-10T19:34:13.074381Z"
    },
    "papermill": {
     "duration": 1.901258,
     "end_time": "2024-04-10T19:34:13.079720",
     "exception": false,
     "start_time": "2024-04-10T19:34:11.178462",
     "status": "completed"
    },
    "tags": []
   },
   "outputs": [],
   "source": [
    "comp_train= json.load(open(DATA_PATH +'/train.json'))\n",
    "\n",
    "#Convert to df for EDA\n",
    "base_df= pd.DataFrame(comp_train)"
   ]
  },
  {
   "cell_type": "code",
   "execution_count": 7,
   "id": "66e750a9",
   "metadata": {
    "execution": {
     "iopub.execute_input": "2024-04-10T19:34:13.094556Z",
     "iopub.status.busy": "2024-04-10T19:34:13.093658Z",
     "iopub.status.idle": "2024-04-10T19:34:13.302565Z",
     "shell.execute_reply": "2024-04-10T19:34:13.301089Z"
    },
    "papermill": {
     "duration": 0.219476,
     "end_time": "2024-04-10T19:34:13.305391",
     "exception": false,
     "start_time": "2024-04-10T19:34:13.085915",
     "status": "completed"
    },
    "tags": []
   },
   "outputs": [],
   "source": [
    "#TODO see if can remove since only needed for stride, \n",
    "#note if remove adjust create_dataset in https://www.kaggle.com/code/jonathankasprisin/pii-wandb-training/edit\n",
    "def add_token_indices(doc_tokens):\n",
    "    token_indices = list(range(len(doc_tokens)))\n",
    "    return token_indices\n",
    "\n",
    "base_df['token_indices'] = base_df['tokens'].apply(add_token_indices)"
   ]
  },
  {
   "cell_type": "code",
   "execution_count": 8,
   "id": "1498c5d4",
   "metadata": {
    "execution": {
     "iopub.execute_input": "2024-04-10T19:34:13.322323Z",
     "iopub.status.busy": "2024-04-10T19:34:13.321779Z",
     "iopub.status.idle": "2024-04-10T19:34:17.312783Z",
     "shell.execute_reply": "2024-04-10T19:34:17.311102Z"
    },
    "papermill": {
     "duration": 4.002839,
     "end_time": "2024-04-10T19:34:17.315781",
     "exception": false,
     "start_time": "2024-04-10T19:34:13.312942",
     "status": "completed"
    },
    "tags": []
   },
   "outputs": [],
   "source": [
    "train_df, val_df = PIId2_split_by_sampling(base_df, .1)\n",
    "train_df_overlap = train_df\n",
    "\n",
    "val_df, train_df = move_missing_labels(val_df, train_df)"
   ]
  },
  {
   "cell_type": "code",
   "execution_count": 9,
   "id": "af2e8ce9",
   "metadata": {
    "execution": {
     "iopub.execute_input": "2024-04-10T19:34:17.328663Z",
     "iopub.status.busy": "2024-04-10T19:34:17.328284Z",
     "iopub.status.idle": "2024-04-10T19:34:20.217281Z",
     "shell.execute_reply": "2024-04-10T19:34:20.214416Z"
    },
    "papermill": {
     "duration": 2.90004,
     "end_time": "2024-04-10T19:34:20.221329",
     "exception": false,
     "start_time": "2024-04-10T19:34:17.321289",
     "status": "completed"
    },
    "tags": []
   },
   "outputs": [
    {
     "name": "stdout",
     "output_type": "stream",
     "text": [
      "size of base:  6807\n",
      "size of val_df:  688\n"
     ]
    }
   ],
   "source": [
    "# Save the DataFrame to a JSON file \n",
    "val_df.to_json(OUTPUT_DIR + \"/val.json\", orient=\"records\")\n",
    "train_df.to_json(OUTPUT_DIR + \"/train_df_fromval.json\", orient=\"records\")\n",
    "train_df_overlap.to_json(OUTPUT_DIR + \"/train_df_overlap_fromval.json\", orient=\"records\")\n",
    "\n",
    "print(\"size of base: \", len(base_df))\n",
    "print(\"size of val_df: \", len(val_df))"
   ]
  },
  {
   "cell_type": "code",
   "execution_count": 10,
   "id": "a38c6b80",
   "metadata": {
    "execution": {
     "iopub.execute_input": "2024-04-10T19:34:20.236780Z",
     "iopub.status.busy": "2024-04-10T19:34:20.236044Z",
     "iopub.status.idle": "2024-04-10T19:34:23.438416Z",
     "shell.execute_reply": "2024-04-10T19:34:23.436600Z"
    },
    "papermill": {
     "duration": 3.212531,
     "end_time": "2024-04-10T19:34:23.441661",
     "exception": false,
     "start_time": "2024-04-10T19:34:20.229130",
     "status": "completed"
    },
    "tags": []
   },
   "outputs": [
    {
     "name": "stdout",
     "output_type": "stream",
     "text": [
      "size of base:  6807\n",
      "size of mini_overlap:  1843\n",
      "size of mini_no_overlap:  1837\n"
     ]
    }
   ],
   "source": [
    "mini_overlap, overlap_extra = PIId2_split_by_sampling(train_df_overlap, .7)\n",
    "mini_no_overlap, no_overlap_extra= PIId2_split_by_sampling(train_df, .7)\n",
    "\n",
    "\n",
    "mini_overlap, overlap_extra = move_missing_labels(mini_overlap, overlap_extra)\n",
    "mini_no_overlap, no_overlap_extra= move_missing_labels(mini_no_overlap, no_overlap_extra)\n",
    "\n",
    "# Save the DataFrame to a JSON file \n",
    "mini_overlap.to_json(OUTPUT_DIR + \"/mini_overlap.json\", orient=\"records\")\n",
    "mini_no_overlap.to_json(OUTPUT_DIR + \"/mini_no_overlap.json\", orient=\"records\")\n",
    "\n",
    "print(\"size of base: \", len(base_df))\n",
    "print(\"size of mini_overlap: \", len(mini_overlap))\n",
    "print(\"size of mini_no_overlap: \", len(mini_no_overlap))"
   ]
  },
  {
   "cell_type": "code",
   "execution_count": 11,
   "id": "1000aa8b",
   "metadata": {
    "execution": {
     "iopub.execute_input": "2024-04-10T19:34:23.456531Z",
     "iopub.status.busy": "2024-04-10T19:34:23.456120Z",
     "iopub.status.idle": "2024-04-10T19:34:23.514921Z",
     "shell.execute_reply": "2024-04-10T19:34:23.513048Z"
    },
    "papermill": {
     "duration": 0.069551,
     "end_time": "2024-04-10T19:34:23.517666",
     "exception": false,
     "start_time": "2024-04-10T19:34:23.448115",
     "status": "completed"
    },
    "tags": []
   },
   "outputs": [
    {
     "name": "stdout",
     "output_type": "stream",
     "text": [
      "<class 'pandas.core.frame.DataFrame'>\n",
      "Index: 688 entries, 4624 to 380\n",
      "Data columns (total 6 columns):\n",
      " #   Column               Non-Null Count  Dtype \n",
      "---  ------               --------------  ----- \n",
      " 0   document             688 non-null    int64 \n",
      " 1   full_text            688 non-null    object\n",
      " 2   tokens               688 non-null    object\n",
      " 3   trailing_whitespace  688 non-null    object\n",
      " 4   labels               688 non-null    object\n",
      " 5   token_indices        688 non-null    object\n",
      "dtypes: int64(1), object(5)\n",
      "memory usage: 53.8+ KB\n",
      "total labels 519242 \n",
      " entity labels 320\n",
      "O: 518922\n",
      "B-NAME_STUDENT: 137\n",
      "I-NAME_STUDENT: 128\n",
      "B-URL_PERSONAL: 16\n",
      "B-ID_NUM: 2\n",
      "B-STREET_ADDRESS: 2\n",
      "I-STREET_ADDRESS: 20\n",
      "B-USERNAME: 1\n",
      "B-PHONE_NUM: 3\n",
      "I-PHONE_NUM: 6\n",
      "B-EMAIL: 3\n",
      "I-ID_NUM: 1\n",
      "I-URL_PERSONAL: 1\n"
     ]
    }
   ],
   "source": [
    "from collections import Counter\n",
    "from itertools import chain\n",
    "#Val set analysis\n",
    "val_df.info()\n",
    "df = val_df\n",
    "total_count = df['labels'].apply(len).sum()\n",
    "# Flatten the list of labels\n",
    "all_labels_flat = list(chain(* val_df.labels.values))\n",
    "\n",
    "# Count the occurrences of each unique label\n",
    "label_counts = Counter(all_labels_flat)\n",
    "\n",
    "entity_count = total_count - label_counts['O']\n",
    "\n",
    "print(f'total labels {total_count} \\n entity labels {entity_count}')\n",
    "# Print the counts\n",
    "for label, count in label_counts.items():\n",
    "    print(f'{label}: {count}')"
   ]
  },
  {
   "cell_type": "markdown",
   "id": "63b6d601",
   "metadata": {
    "papermill": {
     "duration": 0.005799,
     "end_time": "2024-04-10T19:34:23.530439",
     "exception": false,
     "start_time": "2024-04-10T19:34:23.524640",
     "status": "completed"
    },
    "tags": []
   },
   "source": [
    "# Visualization of an Essay\n",
    "credit : https://www.kaggle.com/code/sinchir0/visualization-code-using-displacy"
   ]
  },
  {
   "cell_type": "code",
   "execution_count": 12,
   "id": "5541586a",
   "metadata": {
    "execution": {
     "iopub.execute_input": "2024-04-10T19:34:23.543050Z",
     "iopub.status.busy": "2024-04-10T19:34:23.542646Z",
     "iopub.status.idle": "2024-04-10T19:34:31.676421Z",
     "shell.execute_reply": "2024-04-10T19:34:31.674475Z"
    },
    "papermill": {
     "duration": 8.143422,
     "end_time": "2024-04-10T19:34:31.679252",
     "exception": false,
     "start_time": "2024-04-10T19:34:23.535830",
     "status": "completed"
    },
    "tags": []
   },
   "outputs": [],
   "source": [
    "#https://www.kaggle.com/code/sinchir0/visualization-code-using-displacy\n",
    "import spacy\n",
    "from spacy.tokens import Span\n",
    "from spacy import displacy\n",
    "\n",
    "nlp = spacy.blank(\"en\")\n",
    "\n",
    "options = {\n",
    "    \"colors\": {\n",
    "        \"B-NAME_STUDENT\": \"aqua\",\n",
    "        \"I-NAME_STUDENT\": \"skyblue\",\n",
    "        \"B-EMAIL\": \"limegreen\",\n",
    "        \"I-EMAIL\": \"lime\",\n",
    "        \"B-USERNAME\": \"hotpink\",\n",
    "        \"I-USERNAME\": \"lightpink\",\n",
    "        \"B-ID_NUM\": \"purple\",\n",
    "        \"I-ID_NUM\": \"rebeccapurple\",\n",
    "        \"B-PHONE_NUM\": \"red\",\n",
    "        \"I-PHONE_NUM\": \"salmon\",\n",
    "        \"B-URL_PERSONAL\": \"silver\",\n",
    "        \"I-URL_PERSONAL\": \"lightgray\",\n",
    "        \"B-STREET_ADDRESS\": \"brown\",\n",
    "        \"I-STREET_ADDRESS\": \"chocolate\",\n",
    "    }\n",
    "}\n",
    "\n",
    "def visualize(row):\n",
    "    doc = nlp(row.full_text)\n",
    "    doc.ents = [\n",
    "        Span(doc, idx, idx + 1, label=label)\n",
    "        for idx, label in enumerate(row.labels)\n",
    "        if label != \"O\"\n",
    "    ]\n",
    "    html = displacy.render(doc, style=\"ent\", jupyter=False, options=options)\n",
    "    return html"
   ]
  },
  {
   "cell_type": "code",
   "execution_count": 13,
   "id": "df1ad911",
   "metadata": {
    "execution": {
     "iopub.execute_input": "2024-04-10T19:34:31.693738Z",
     "iopub.status.busy": "2024-04-10T19:34:31.693106Z",
     "iopub.status.idle": "2024-04-10T19:34:31.701942Z",
     "shell.execute_reply": "2024-04-10T19:34:31.700077Z"
    },
    "papermill": {
     "duration": 0.019233,
     "end_time": "2024-04-10T19:34:31.704938",
     "exception": false,
     "start_time": "2024-04-10T19:34:31.685705",
     "status": "completed"
    },
    "tags": []
   },
   "outputs": [
    {
     "name": "stderr",
     "output_type": "stream",
     "text": [
      "/tmp/ipykernel_17/2933016516.py:1: DeprecationWarning: Importing display from IPython.core.display is deprecated since IPython 7.14, please import from IPython display\n",
      "  from IPython.core.display import display, HTML\n"
     ]
    }
   ],
   "source": [
    "from IPython.core.display import display, HTML\n",
    "# html = visualize(base_df.loc[0])\n",
    "# display(HTML(html))"
   ]
  },
  {
   "cell_type": "markdown",
   "id": "1365a5e3",
   "metadata": {
    "papermill": {
     "duration": 0.00536,
     "end_time": "2024-04-10T19:34:31.716071",
     "exception": false,
     "start_time": "2024-04-10T19:34:31.710711",
     "status": "completed"
    },
    "tags": []
   },
   "source": [
    "# Save to W and B\n",
    "\n",
    "Running code below needs to have WANDB_API_KEY secret in kaggle secrets. Access api token through add-ons in notebook\n",
    "\n"
   ]
  },
  {
   "cell_type": "code",
   "execution_count": 14,
   "id": "2ee6e23f",
   "metadata": {
    "execution": {
     "iopub.execute_input": "2024-04-10T19:34:31.728971Z",
     "iopub.status.busy": "2024-04-10T19:34:31.728307Z",
     "iopub.status.idle": "2024-04-10T19:34:51.164195Z",
     "shell.execute_reply": "2024-04-10T19:34:51.162290Z"
    },
    "papermill": {
     "duration": 19.444953,
     "end_time": "2024-04-10T19:34:51.166416",
     "exception": false,
     "start_time": "2024-04-10T19:34:31.721463",
     "status": "completed"
    },
    "tags": []
   },
   "outputs": [
    {
     "name": "stderr",
     "output_type": "stream",
     "text": [
      "\u001b[34m\u001b[1mwandb\u001b[0m: W&B API key is configured. Use \u001b[1m`wandb login --relogin`\u001b[0m to force relogin\n",
      "\u001b[34m\u001b[1mwandb\u001b[0m: \u001b[33mWARNING\u001b[0m If you're specifying your api key in code, ensure this code is not shared publicly.\n",
      "\u001b[34m\u001b[1mwandb\u001b[0m: \u001b[33mWARNING\u001b[0m Consider setting the WANDB_API_KEY environment variable, or running `wandb login` from the command line.\n",
      "\u001b[34m\u001b[1mwandb\u001b[0m: Appending key for api.wandb.ai to your netrc file: /root/.netrc\n",
      "\u001b[34m\u001b[1mwandb\u001b[0m: Currently logged in as: \u001b[33mkasprisi\u001b[0m (\u001b[33mcsci566sp24\u001b[0m). Use \u001b[1m`wandb login --relogin`\u001b[0m to force relogin\n",
      "\u001b[34m\u001b[1mwandb\u001b[0m: wandb version 0.16.6 is available!  To upgrade, please run:\n",
      "\u001b[34m\u001b[1mwandb\u001b[0m:  $ pip install wandb --upgrade\n",
      "\u001b[34m\u001b[1mwandb\u001b[0m: Tracking run with wandb version 0.16.5\n",
      "\u001b[34m\u001b[1mwandb\u001b[0m: Run data is saved locally in \u001b[35m\u001b[1m/kaggle/working/wandb/run-20240410_193434-uw83tac6\u001b[0m\n",
      "\u001b[34m\u001b[1mwandb\u001b[0m: Run \u001b[1m`wandb offline`\u001b[0m to turn off syncing.\n",
      "\u001b[34m\u001b[1mwandb\u001b[0m: Syncing run \u001b[33mdeft-fog-36\u001b[0m\n",
      "\u001b[34m\u001b[1mwandb\u001b[0m: ⭐️ View project at \u001b[34m\u001b[4mhttps://wandb.ai/csci566sp24/pii\u001b[0m\n",
      "\u001b[34m\u001b[1mwandb\u001b[0m: 🚀 View run at \u001b[34m\u001b[4mhttps://wandb.ai/csci566sp24/pii/runs/uw83tac6/workspace\u001b[0m\n"
     ]
    },
    {
     "data": {
      "text/html": [
       "<button onClick=\"this.nextSibling.style.display='block';this.style.display='none';\">Display W&B run</button><iframe src='https://wandb.ai/csci566sp24/pii/runs/uw83tac6?jupyter=true' style='border:none;width:100%;height:420px;display:none;'></iframe>"
      ],
      "text/plain": [
       "<wandb.sdk.wandb_run.Run at 0x7a12078b7190>"
      ]
     },
     "execution_count": 14,
     "metadata": {},
     "output_type": "execute_result"
    }
   ],
   "source": [
    "from kaggle_secrets import UserSecretsClient\n",
    "user_secrets = UserSecretsClient()\n",
    "wandb_api_key = user_secrets.get_secret(\"WANDB_API_KEY\")\n",
    "\n",
    "\n",
    "\n",
    "import wandb\n",
    "wandb.login(key=wandb_api_key)\n",
    "wandb.init(project='pii', job_type='preprocessing')"
   ]
  },
  {
   "cell_type": "code",
   "execution_count": 15,
   "id": "463e07a7",
   "metadata": {
    "execution": {
     "iopub.execute_input": "2024-04-10T19:34:51.183998Z",
     "iopub.status.busy": "2024-04-10T19:34:51.183526Z",
     "iopub.status.idle": "2024-04-10T19:34:54.442748Z",
     "shell.execute_reply": "2024-04-10T19:34:54.441155Z"
    },
    "papermill": {
     "duration": 3.271654,
     "end_time": "2024-04-10T19:34:54.446121",
     "exception": false,
     "start_time": "2024-04-10T19:34:51.174467",
     "status": "completed"
    },
    "tags": []
   },
   "outputs": [
    {
     "data": {
      "text/plain": [
       "<Artifact val_data>"
      ]
     },
     "execution_count": 15,
     "metadata": {},
     "output_type": "execute_result"
    }
   ],
   "source": [
    "#log data as artifacts\n",
    "\n",
    "#Parquet is a columnar storage file format that is optimized for use with big data processing frameworks.\n",
    "#Steps\n",
    "# Save the base dataframe 'df' to a parquet file named 'base_data.parquet'\n",
    "# Create a new Weights & Biases artifact named 'base_data' of type 'dataset'\n",
    "# Create a new Weights & Biases artifact named 'base_data' of type 'dataset'\n",
    "# Add the 'base_data.parquet' file to the 'base_data' artifact\n",
    "# Log the 'raw_data' artifact to Weights & Biases, this will upload the artifact to the Weights & Biases servers\n",
    "\n",
    "#base data\n",
    "base_df.to_parquet('base_data.parquet', index=False)\n",
    "base_data = wandb.Artifact(name=\"base_data\", type=\"dataset\")\n",
    "base_data.add_file('base_data.parquet')\n",
    "wandb.log_artifact(base_data)\n",
    "\n",
    "#miniset data dataframe 'mini_no_overlap' \n",
    "mini_no_overlap.to_parquet('mini_no_overlap.parquet', index=False)\n",
    "mini_no_overlap_data = wandb.Artifact(name=\"mini_no_overlap_data\", type=\"dataset\")\n",
    "mini_no_overlap_data.add_file('mini_no_overlap.parquet')\n",
    "wandb.log_artifact(mini_no_overlap_data)\n",
    "\n",
    "#validation set dataframe 'val_df'\n",
    "val_df.to_parquet('val_data.parquet', index=False)\n",
    "val_data = wandb.Artifact(name=\"val_data\", type=\"dataset\")\n",
    "val_data.add_file('val_data.parquet')\n",
    "wandb.log_artifact(val_data)"
   ]
  },
  {
   "cell_type": "code",
   "execution_count": 16,
   "id": "8f406607",
   "metadata": {
    "execution": {
     "iopub.execute_input": "2024-04-10T19:34:54.465500Z",
     "iopub.status.busy": "2024-04-10T19:34:54.464159Z",
     "iopub.status.idle": "2024-04-10T19:34:54.470232Z",
     "shell.execute_reply": "2024-04-10T19:34:54.468696Z"
    },
    "papermill": {
     "duration": 0.019236,
     "end_time": "2024-04-10T19:34:54.472994",
     "exception": false,
     "start_time": "2024-04-10T19:34:54.453758",
     "status": "completed"
    },
    "tags": []
   },
   "outputs": [],
   "source": [
    "#TODO troubleshoot\n",
    "\n",
    "# # We will generate html viz for every mini_no_overlap essay, wrap it up in `wandb.Html` and create a W&B table to inspect it\n",
    "# df=mini_no_overlap\n",
    "\n",
    "# wandb_htmls = [wandb.Html(visualize(row)) for _, row in df.iterrows()]\n",
    "# df['visualization'] = wandb_htmls\n",
    "# table = wandb.Table(dataframe=df)\n",
    "# wandb.log({'original_dataset': table})"
   ]
  },
  {
   "cell_type": "code",
   "execution_count": 17,
   "id": "4507d238",
   "metadata": {
    "execution": {
     "iopub.execute_input": "2024-04-10T19:34:54.491034Z",
     "iopub.status.busy": "2024-04-10T19:34:54.490501Z",
     "iopub.status.idle": "2024-04-10T19:34:59.023868Z",
     "shell.execute_reply": "2024-04-10T19:34:59.022252Z"
    },
    "papermill": {
     "duration": 4.545654,
     "end_time": "2024-04-10T19:34:59.027253",
     "exception": false,
     "start_time": "2024-04-10T19:34:54.481599",
     "status": "completed"
    },
    "tags": []
   },
   "outputs": [
    {
     "name": "stderr",
     "output_type": "stream",
     "text": [
      "\u001b[34m\u001b[1mwandb\u001b[0m:                                                                                \n",
      "\u001b[34m\u001b[1mwandb\u001b[0m: 🚀 View run \u001b[33mdeft-fog-36\u001b[0m at: \u001b[34m\u001b[4mhttps://wandb.ai/csci566sp24/pii/runs/uw83tac6/workspace\u001b[0m\n",
      "\u001b[34m\u001b[1mwandb\u001b[0m: Synced 4 W&B file(s), 0 media file(s), 2 artifact file(s) and 0 other file(s)\n",
      "\u001b[34m\u001b[1mwandb\u001b[0m: Find logs at: \u001b[35m\u001b[1m./wandb/run-20240410_193434-uw83tac6/logs\u001b[0m\n"
     ]
    }
   ],
   "source": [
    "# Finish W&B run\n",
    "wandb.finish()"
   ]
  },
  {
   "cell_type": "markdown",
   "id": "24764b5e",
   "metadata": {
    "papermill": {
     "duration": 0.007968,
     "end_time": "2024-04-10T19:34:59.043831",
     "exception": false,
     "start_time": "2024-04-10T19:34:59.035863",
     "status": "completed"
    },
    "tags": []
   },
   "source": [
    "# TO DOs\n",
    "- Truncation with Stride, tokenizers striding method?\n",
    "- add hyperparameters to config wandb.config.update"
   ]
  }
 ],
 "metadata": {
  "kaggle": {
   "accelerator": "none",
   "dataSources": [
    {
     "databundleVersionId": 7500999,
     "sourceId": 66653,
     "sourceType": "competition"
    }
   ],
   "dockerImageVersionId": 30684,
   "isGpuEnabled": false,
   "isInternetEnabled": true,
   "language": "python",
   "sourceType": "notebook"
  },
  "kernelspec": {
   "display_name": "Python 3",
   "language": "python",
   "name": "python3"
  },
  "language_info": {
   "codemirror_mode": {
    "name": "ipython",
    "version": 3
   },
   "file_extension": ".py",
   "mimetype": "text/x-python",
   "name": "python",
   "nbconvert_exporter": "python",
   "pygments_lexer": "ipython3",
   "version": "3.10.13"
  },
  "papermill": {
   "default_parameters": {},
   "duration": 69.821255,
   "end_time": "2024-04-10T19:35:01.774863",
   "environment_variables": {},
   "exception": null,
   "input_path": "__notebook__.ipynb",
   "output_path": "__notebook__.ipynb",
   "parameters": {},
   "start_time": "2024-04-10T19:33:51.953608",
   "version": "2.5.0"
  }
 },
 "nbformat": 4,
 "nbformat_minor": 5
}
