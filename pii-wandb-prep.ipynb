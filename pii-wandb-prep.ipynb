{
 "cells": [
  {
   "cell_type": "markdown",
   "id": "4cd5d9f7",
   "metadata": {
    "papermill": {
     "duration": 0.0064,
     "end_time": "2024-04-12T16:25:19.039384",
     "exception": false,
     "start_time": "2024-04-12T16:25:19.032984",
     "status": "completed"
    },
    "tags": []
   },
   "source": [
    "# PII Data Prep with W and B\n",
    "\n",
    "## Reference\n",
    "https://www.kaggle.com/code/thedrcat/pii-data-preparation-cv-stride-viz-and-w-b#Share-your-findings"
   ]
  },
  {
   "cell_type": "markdown",
   "id": "417ec36a",
   "metadata": {
    "papermill": {
     "duration": 0.005478,
     "end_time": "2024-04-12T16:25:19.050955",
     "exception": false,
     "start_time": "2024-04-12T16:25:19.045477",
     "status": "completed"
    },
    "tags": []
   },
   "source": [
    "# Config and Import"
   ]
  },
  {
   "cell_type": "code",
   "execution_count": 1,
   "id": "1c79adef",
   "metadata": {
    "execution": {
     "iopub.execute_input": "2024-04-12T16:25:19.064277Z",
     "iopub.status.busy": "2024-04-12T16:25:19.063874Z",
     "iopub.status.idle": "2024-04-12T16:25:32.643140Z",
     "shell.execute_reply": "2024-04-12T16:25:32.641716Z"
    },
    "papermill": {
     "duration": 13.589403,
     "end_time": "2024-04-12T16:25:32.646238",
     "exception": false,
     "start_time": "2024-04-12T16:25:19.056835",
     "status": "completed"
    },
    "tags": []
   },
   "outputs": [],
   "source": [
    "!pip install wandb -q"
   ]
  },
  {
   "cell_type": "code",
   "execution_count": 2,
   "id": "b0f347f5",
   "metadata": {
    "_cell_guid": "b1076dfc-b9ad-4769-8c92-a6c4dae69d19",
    "_uuid": "8f2839f25d086af736a60e9eeb907d3b93b6e0e5",
    "execution": {
     "iopub.execute_input": "2024-04-12T16:25:32.660275Z",
     "iopub.status.busy": "2024-04-12T16:25:32.659852Z",
     "iopub.status.idle": "2024-04-12T16:25:33.564167Z",
     "shell.execute_reply": "2024-04-12T16:25:33.562706Z"
    },
    "papermill": {
     "duration": 0.915244,
     "end_time": "2024-04-12T16:25:33.567376",
     "exception": false,
     "start_time": "2024-04-12T16:25:32.652132",
     "status": "completed"
    },
    "tags": []
   },
   "outputs": [],
   "source": [
    "from pathlib import Path\n",
    "import os\n",
    "\n",
    "import json\n",
    "import itertools\n",
    "import numpy as np\n",
    "import pandas as pd\n",
    "import matplotlib.pyplot as plt\n",
    "\n",
    "import warnings"
   ]
  },
  {
   "cell_type": "code",
   "execution_count": 3,
   "id": "1774f38c",
   "metadata": {
    "execution": {
     "iopub.execute_input": "2024-04-12T16:25:33.582085Z",
     "iopub.status.busy": "2024-04-12T16:25:33.580781Z",
     "iopub.status.idle": "2024-04-12T16:25:33.586536Z",
     "shell.execute_reply": "2024-04-12T16:25:33.585373Z"
    },
    "papermill": {
     "duration": 0.01549,
     "end_time": "2024-04-12T16:25:33.588814",
     "exception": false,
     "start_time": "2024-04-12T16:25:33.573324",
     "status": "completed"
    },
    "tags": []
   },
   "outputs": [],
   "source": [
    "DATA_PATH = '../input/pii-detection-removal-from-educational-data'\n",
    "OUTPUT_DIR = '/kaggle/working/'"
   ]
  },
  {
   "cell_type": "markdown",
   "id": "097d2991",
   "metadata": {
    "papermill": {
     "duration": 0.00545,
     "end_time": "2024-04-12T16:25:33.600116",
     "exception": false,
     "start_time": "2024-04-12T16:25:33.594666",
     "status": "completed"
    },
    "tags": []
   },
   "source": [
    "# Helper functions"
   ]
  },
  {
   "cell_type": "code",
   "execution_count": 4,
   "id": "8df32c45",
   "metadata": {
    "execution": {
     "iopub.execute_input": "2024-04-12T16:25:33.613640Z",
     "iopub.status.busy": "2024-04-12T16:25:33.613247Z",
     "iopub.status.idle": "2024-04-12T16:25:33.619745Z",
     "shell.execute_reply": "2024-04-12T16:25:33.618603Z"
    },
    "papermill": {
     "duration": 0.015854,
     "end_time": "2024-04-12T16:25:33.621788",
     "exception": false,
     "start_time": "2024-04-12T16:25:33.605934",
     "status": "completed"
    },
    "tags": []
   },
   "outputs": [],
   "source": [
    "#split data into training and validation set\n",
    "def PIId2_split_by_sampling(df, test_ratio):\n",
    "    \"\"\"Split PII data into training and test set. \n",
    "\n",
    "    Args:\n",
    "        df (pd.DataFrame): The input DataFrame.\n",
    "        test_ratio (float, default=0.2): \n",
    "            The proportion of the dataset to include in the test split.\n",
    "\n",
    "    Returns:\n",
    "        train_df, test_df: Training and test splits of the input DataFrame.\n",
    "    \"\"\"\n",
    "    # Get the number of rows in the DataFrame\n",
    "    num_rows = len(df)\n",
    "    \n",
    "    # Get the split index\n",
    "    split_idx = int(num_rows * test_ratio)\n",
    "    \n",
    "    # Shuffle the DataFrame rows\n",
    "    df_shuffled = df.sample(frac=1, random_state=42)\n",
    "    \n",
    "    # Split the DataFrame into train and test\n",
    "    train_df = df_shuffled.iloc[split_idx:]\n",
    "    test_df = df_shuffled.iloc[:split_idx]\n",
    "    \n",
    "#     #TEMP to test\n",
    "#     # Add a new column 'valid' with boolean values - need to modify the move missing if want to keep\n",
    "#     train_df['valid'] = False\n",
    "#     test_df['valid'] = True\n",
    "    \n",
    "    return train_df, test_df"
   ]
  },
  {
   "cell_type": "code",
   "execution_count": 5,
   "id": "4d185e76",
   "metadata": {
    "execution": {
     "iopub.execute_input": "2024-04-12T16:25:33.635379Z",
     "iopub.status.busy": "2024-04-12T16:25:33.634670Z",
     "iopub.status.idle": "2024-04-12T16:25:33.642087Z",
     "shell.execute_reply": "2024-04-12T16:25:33.641231Z"
    },
    "papermill": {
     "duration": 0.016775,
     "end_time": "2024-04-12T16:25:33.644260",
     "exception": false,
     "start_time": "2024-04-12T16:25:33.627485",
     "status": "completed"
    },
    "tags": []
   },
   "outputs": [],
   "source": [
    "def move_missing_labels(to_df, from_df):\n",
    "    \"\"\"\n",
    "    Move documents containing missing labels from the extra DataFrame to the desired DataFrame.\n",
    "\n",
    "    Parameters:\n",
    "    - to_df (DataFrame): DataFrame where the documents should be moved to.\n",
    "    - from_df (DataFrame): DataFrame where the documents should be moved from.\n",
    "\n",
    "    Returns:\n",
    "    - desired_df, extra_df: Updated DataFrames.\n",
    "    \"\"\"\n",
    "    # Find the labels that are missing from the to_df DataFrame\n",
    "    missing_labels = set(from_df['labels'].explode().unique()) - set(to_df['labels'].explode().unique())\n",
    "\n",
    "    # For each missing label, move a document from the extra DataFrame to the desired DataFrame\n",
    "    for label in missing_labels:\n",
    "        if label in from_df['labels'].explode().unique():\n",
    "            document = from_df[from_df['labels'].apply(lambda x: label in x)].sample(n=1)\n",
    "            to_df = pd.concat([to_df, document])\n",
    "            from_df = from_df.drop(document.index)\n",
    "\n",
    "    return to_df, from_df"
   ]
  },
  {
   "cell_type": "markdown",
   "id": "fb414a05",
   "metadata": {
    "papermill": {
     "duration": 0.005326,
     "end_time": "2024-04-12T16:25:33.655359",
     "exception": false,
     "start_time": "2024-04-12T16:25:33.650033",
     "status": "completed"
    },
    "tags": []
   },
   "source": [
    "# Validation set and Miniset"
   ]
  },
  {
   "cell_type": "code",
   "execution_count": 6,
   "id": "911fee83",
   "metadata": {
    "execution": {
     "iopub.execute_input": "2024-04-12T16:25:33.669888Z",
     "iopub.status.busy": "2024-04-12T16:25:33.669209Z",
     "iopub.status.idle": "2024-04-12T16:25:37.389030Z",
     "shell.execute_reply": "2024-04-12T16:25:37.387998Z"
    },
    "papermill": {
     "duration": 3.729519,
     "end_time": "2024-04-12T16:25:37.391610",
     "exception": false,
     "start_time": "2024-04-12T16:25:33.662091",
     "status": "completed"
    },
    "tags": []
   },
   "outputs": [],
   "source": [
    "comp_train= json.load(open(DATA_PATH +'/train.json'))\n",
    "\n",
    "#Convert to df for EDA\n",
    "base_df= pd.DataFrame(comp_train)"
   ]
  },
  {
   "cell_type": "code",
   "execution_count": 7,
   "id": "1bd6ce33",
   "metadata": {
    "execution": {
     "iopub.execute_input": "2024-04-12T16:25:37.406506Z",
     "iopub.status.busy": "2024-04-12T16:25:37.405564Z",
     "iopub.status.idle": "2024-04-12T16:25:37.663302Z",
     "shell.execute_reply": "2024-04-12T16:25:37.662133Z"
    },
    "papermill": {
     "duration": 0.268,
     "end_time": "2024-04-12T16:25:37.666107",
     "exception": false,
     "start_time": "2024-04-12T16:25:37.398107",
     "status": "completed"
    },
    "tags": []
   },
   "outputs": [],
   "source": [
    "#TODO see if can remove since only needed for stride, \n",
    "#note if remove adjust create_dataset in https://www.kaggle.com/code/jonathankasprisin/pii-wandb-training/edit\n",
    "def add_token_indices(doc_tokens):\n",
    "    token_indices = list(range(len(doc_tokens)))\n",
    "    return token_indices\n",
    "\n",
    "base_df['token_indices'] = base_df['tokens'].apply(add_token_indices)"
   ]
  },
  {
   "cell_type": "code",
   "execution_count": 8,
   "id": "2409ce82",
   "metadata": {
    "execution": {
     "iopub.execute_input": "2024-04-12T16:25:37.680521Z",
     "iopub.status.busy": "2024-04-12T16:25:37.680083Z",
     "iopub.status.idle": "2024-04-12T16:25:41.546061Z",
     "shell.execute_reply": "2024-04-12T16:25:41.544939Z"
    },
    "papermill": {
     "duration": 3.876313,
     "end_time": "2024-04-12T16:25:41.548925",
     "exception": false,
     "start_time": "2024-04-12T16:25:37.672612",
     "status": "completed"
    },
    "tags": []
   },
   "outputs": [],
   "source": [
    "train_df, val_df = PIId2_split_by_sampling(base_df, .1)\n",
    "train_df_overlap = train_df\n",
    "\n",
    "val_df, train_df = move_missing_labels(val_df, train_df)"
   ]
  },
  {
   "cell_type": "code",
   "execution_count": 9,
   "id": "caaa8211",
   "metadata": {
    "execution": {
     "iopub.execute_input": "2024-04-12T16:25:41.563538Z",
     "iopub.status.busy": "2024-04-12T16:25:41.562503Z",
     "iopub.status.idle": "2024-04-12T16:25:44.707669Z",
     "shell.execute_reply": "2024-04-12T16:25:44.705979Z"
    },
    "papermill": {
     "duration": 3.155567,
     "end_time": "2024-04-12T16:25:44.710481",
     "exception": false,
     "start_time": "2024-04-12T16:25:41.554914",
     "status": "completed"
    },
    "tags": []
   },
   "outputs": [
    {
     "name": "stdout",
     "output_type": "stream",
     "text": [
      "size of base:  6807\n",
      "size of val_df:  687\n"
     ]
    }
   ],
   "source": [
    "# Save the DataFrame to a JSON file \n",
    "val_df.to_json(OUTPUT_DIR + \"/val.json\", orient=\"records\")\n",
    "train_df.to_json(OUTPUT_DIR + \"/train_df_fromval.json\", orient=\"records\")\n",
    "train_df_overlap.to_json(OUTPUT_DIR + \"/train_df_overlap_fromval.json\", orient=\"records\")\n",
    "\n",
    "print(\"size of base: \", len(base_df))\n",
    "print(\"size of val_df: \", len(val_df))"
   ]
  },
  {
   "cell_type": "code",
   "execution_count": 10,
   "id": "8a99d5c3",
   "metadata": {
    "execution": {
     "iopub.execute_input": "2024-04-12T16:25:44.725495Z",
     "iopub.status.busy": "2024-04-12T16:25:44.724657Z",
     "iopub.status.idle": "2024-04-12T16:25:48.007932Z",
     "shell.execute_reply": "2024-04-12T16:25:48.006806Z"
    },
    "papermill": {
     "duration": 3.293935,
     "end_time": "2024-04-12T16:25:48.010618",
     "exception": false,
     "start_time": "2024-04-12T16:25:44.716683",
     "status": "completed"
    },
    "tags": []
   },
   "outputs": [
    {
     "name": "stdout",
     "output_type": "stream",
     "text": [
      "size of base:  6807\n",
      "size of mini_overlap:  3066\n",
      "size of mini_no_overlap:  3063\n"
     ]
    }
   ],
   "source": [
    "mini_overlap, overlap_extra = PIId2_split_by_sampling(train_df_overlap, .5)\n",
    "mini_no_overlap, no_overlap_extra= PIId2_split_by_sampling(train_df, .5)\n",
    "\n",
    "\n",
    "mini_overlap, overlap_extra = move_missing_labels(mini_overlap, overlap_extra)\n",
    "mini_no_overlap, no_overlap_extra= move_missing_labels(mini_no_overlap, no_overlap_extra)\n",
    "\n",
    "# Save the DataFrame to a JSON file \n",
    "mini_overlap.to_json(OUTPUT_DIR + \"/mini_overlap.json\", orient=\"records\")\n",
    "mini_no_overlap.to_json(OUTPUT_DIR + \"/mini_no_overlap.json\", orient=\"records\")\n",
    "\n",
    "print(\"size of base: \", len(base_df))\n",
    "print(\"size of mini_overlap: \", len(mini_overlap))\n",
    "print(\"size of mini_no_overlap: \", len(mini_no_overlap))"
   ]
  },
  {
   "cell_type": "code",
   "execution_count": 11,
   "id": "93541e40",
   "metadata": {
    "execution": {
     "iopub.execute_input": "2024-04-12T16:25:48.024520Z",
     "iopub.status.busy": "2024-04-12T16:25:48.023843Z",
     "iopub.status.idle": "2024-04-12T16:25:48.082132Z",
     "shell.execute_reply": "2024-04-12T16:25:48.080560Z"
    },
    "papermill": {
     "duration": 0.068362,
     "end_time": "2024-04-12T16:25:48.084957",
     "exception": false,
     "start_time": "2024-04-12T16:25:48.016595",
     "status": "completed"
    },
    "tags": []
   },
   "outputs": [
    {
     "name": "stdout",
     "output_type": "stream",
     "text": [
      "<class 'pandas.core.frame.DataFrame'>\n",
      "Index: 687 entries, 4624 to 1103\n",
      "Data columns (total 6 columns):\n",
      " #   Column               Non-Null Count  Dtype \n",
      "---  ------               --------------  ----- \n",
      " 0   document             687 non-null    int64 \n",
      " 1   full_text            687 non-null    object\n",
      " 2   tokens               687 non-null    object\n",
      " 3   trailing_whitespace  687 non-null    object\n",
      " 4   labels               687 non-null    object\n",
      " 5   token_indices        687 non-null    object\n",
      "dtypes: int64(1), object(5)\n",
      "memory usage: 53.7+ KB\n",
      "total labels 518432 \n",
      " entity labels 311\n",
      "O: 518121\n",
      "B-NAME_STUDENT: 135\n",
      "I-NAME_STUDENT: 126\n",
      "B-URL_PERSONAL: 15\n",
      "B-ID_NUM: 2\n",
      "B-PHONE_NUM: 2\n",
      "I-PHONE_NUM: 3\n",
      "B-EMAIL: 2\n",
      "I-ID_NUM: 1\n",
      "B-STREET_ADDRESS: 2\n",
      "I-STREET_ADDRESS: 20\n",
      "I-URL_PERSONAL: 1\n",
      "B-USERNAME: 2\n"
     ]
    }
   ],
   "source": [
    "from collections import Counter\n",
    "from itertools import chain\n",
    "#Val set analysis\n",
    "val_df.info()\n",
    "df = val_df\n",
    "total_count = df['labels'].apply(len).sum()\n",
    "# Flatten the list of labels\n",
    "all_labels_flat = list(chain(* val_df.labels.values))\n",
    "\n",
    "# Count the occurrences of each unique label\n",
    "label_counts = Counter(all_labels_flat)\n",
    "\n",
    "entity_count = total_count - label_counts['O']\n",
    "\n",
    "print(f'total labels {total_count} \\n entity labels {entity_count}')\n",
    "# Print the counts\n",
    "for label, count in label_counts.items():\n",
    "    print(f'{label}: {count}')"
   ]
  },
  {
   "cell_type": "markdown",
   "id": "9bf15ce9",
   "metadata": {
    "papermill": {
     "duration": 0.005996,
     "end_time": "2024-04-12T16:25:48.097645",
     "exception": false,
     "start_time": "2024-04-12T16:25:48.091649",
     "status": "completed"
    },
    "tags": []
   },
   "source": [
    "# Visualization of an Essay\n",
    "credit : https://www.kaggle.com/code/sinchir0/visualization-code-using-displacy"
   ]
  },
  {
   "cell_type": "code",
   "execution_count": 12,
   "id": "c081de45",
   "metadata": {
    "execution": {
     "iopub.execute_input": "2024-04-12T16:25:48.111602Z",
     "iopub.status.busy": "2024-04-12T16:25:48.111178Z",
     "iopub.status.idle": "2024-04-12T16:25:54.032903Z",
     "shell.execute_reply": "2024-04-12T16:25:54.031409Z"
    },
    "papermill": {
     "duration": 5.931995,
     "end_time": "2024-04-12T16:25:54.035764",
     "exception": false,
     "start_time": "2024-04-12T16:25:48.103769",
     "status": "completed"
    },
    "tags": []
   },
   "outputs": [],
   "source": [
    "#https://www.kaggle.com/code/sinchir0/visualization-code-using-displacy\n",
    "import spacy\n",
    "from spacy.tokens import Span\n",
    "from spacy import displacy\n",
    "\n",
    "nlp = spacy.blank(\"en\")\n",
    "\n",
    "options = {\n",
    "    \"colors\": {\n",
    "        \"B-NAME_STUDENT\": \"aqua\",\n",
    "        \"I-NAME_STUDENT\": \"skyblue\",\n",
    "        \"B-EMAIL\": \"limegreen\",\n",
    "        \"I-EMAIL\": \"lime\",\n",
    "        \"B-USERNAME\": \"hotpink\",\n",
    "        \"I-USERNAME\": \"lightpink\",\n",
    "        \"B-ID_NUM\": \"purple\",\n",
    "        \"I-ID_NUM\": \"rebeccapurple\",\n",
    "        \"B-PHONE_NUM\": \"red\",\n",
    "        \"I-PHONE_NUM\": \"salmon\",\n",
    "        \"B-URL_PERSONAL\": \"silver\",\n",
    "        \"I-URL_PERSONAL\": \"lightgray\",\n",
    "        \"B-STREET_ADDRESS\": \"brown\",\n",
    "        \"I-STREET_ADDRESS\": \"chocolate\",\n",
    "    }\n",
    "}\n",
    "\n",
    "def visualize(row):\n",
    "    doc = nlp(row.full_text)\n",
    "    doc.ents = [\n",
    "        Span(doc, idx, idx + 1, label=label)\n",
    "        for idx, label in enumerate(row.labels)\n",
    "        if label != \"O\"\n",
    "    ]\n",
    "    html = displacy.render(doc, style=\"ent\", jupyter=False, options=options)\n",
    "    return html"
   ]
  },
  {
   "cell_type": "code",
   "execution_count": 13,
   "id": "6bb5bb23",
   "metadata": {
    "execution": {
     "iopub.execute_input": "2024-04-12T16:25:54.051029Z",
     "iopub.status.busy": "2024-04-12T16:25:54.050022Z",
     "iopub.status.idle": "2024-04-12T16:25:54.056454Z",
     "shell.execute_reply": "2024-04-12T16:25:54.055133Z"
    },
    "papermill": {
     "duration": 0.016902,
     "end_time": "2024-04-12T16:25:54.059169",
     "exception": false,
     "start_time": "2024-04-12T16:25:54.042267",
     "status": "completed"
    },
    "tags": []
   },
   "outputs": [
    {
     "name": "stderr",
     "output_type": "stream",
     "text": [
      "/tmp/ipykernel_18/2933016516.py:1: DeprecationWarning: Importing display from IPython.core.display is deprecated since IPython 7.14, please import from IPython display\n",
      "  from IPython.core.display import display, HTML\n"
     ]
    }
   ],
   "source": [
    "from IPython.core.display import display, HTML\n",
    "# html = visualize(base_df.loc[0])\n",
    "# display(HTML(html))"
   ]
  },
  {
   "cell_type": "markdown",
   "id": "04c08b0d",
   "metadata": {
    "papermill": {
     "duration": 0.005698,
     "end_time": "2024-04-12T16:25:54.071313",
     "exception": false,
     "start_time": "2024-04-12T16:25:54.065615",
     "status": "completed"
    },
    "tags": []
   },
   "source": [
    "# Save to W and B\n",
    "\n",
    "Running code below needs to have WANDB_API_KEY secret in kaggle secrets. Access api token through add-ons in notebook\n",
    "\n"
   ]
  },
  {
   "cell_type": "code",
   "execution_count": 14,
   "id": "309327ba",
   "metadata": {
    "execution": {
     "iopub.execute_input": "2024-04-12T16:25:54.085430Z",
     "iopub.status.busy": "2024-04-12T16:25:54.084999Z",
     "iopub.status.idle": "2024-04-12T16:26:13.839092Z",
     "shell.execute_reply": "2024-04-12T16:26:13.837857Z"
    },
    "papermill": {
     "duration": 19.764124,
     "end_time": "2024-04-12T16:26:13.841521",
     "exception": false,
     "start_time": "2024-04-12T16:25:54.077397",
     "status": "completed"
    },
    "tags": []
   },
   "outputs": [
    {
     "name": "stderr",
     "output_type": "stream",
     "text": [
      "\u001b[34m\u001b[1mwandb\u001b[0m: W&B API key is configured. Use \u001b[1m`wandb login --relogin`\u001b[0m to force relogin\n",
      "\u001b[34m\u001b[1mwandb\u001b[0m: \u001b[33mWARNING\u001b[0m If you're specifying your api key in code, ensure this code is not shared publicly.\n",
      "\u001b[34m\u001b[1mwandb\u001b[0m: \u001b[33mWARNING\u001b[0m Consider setting the WANDB_API_KEY environment variable, or running `wandb login` from the command line.\n",
      "\u001b[34m\u001b[1mwandb\u001b[0m: Appending key for api.wandb.ai to your netrc file: /root/.netrc\n",
      "\u001b[34m\u001b[1mwandb\u001b[0m: Currently logged in as: \u001b[33mkasprisi\u001b[0m (\u001b[33mcsci566sp24\u001b[0m). Use \u001b[1m`wandb login --relogin`\u001b[0m to force relogin\n",
      "\u001b[34m\u001b[1mwandb\u001b[0m: wandb version 0.16.6 is available!  To upgrade, please run:\n",
      "\u001b[34m\u001b[1mwandb\u001b[0m:  $ pip install wandb --upgrade\n",
      "\u001b[34m\u001b[1mwandb\u001b[0m: Tracking run with wandb version 0.16.5\n",
      "\u001b[34m\u001b[1mwandb\u001b[0m: Run data is saved locally in \u001b[35m\u001b[1m/kaggle/working/wandb/run-20240412_162557-kh551j4l\u001b[0m\n",
      "\u001b[34m\u001b[1mwandb\u001b[0m: Run \u001b[1m`wandb offline`\u001b[0m to turn off syncing.\n",
      "\u001b[34m\u001b[1mwandb\u001b[0m: Syncing run \u001b[33mfine-shadow-49\u001b[0m\n",
      "\u001b[34m\u001b[1mwandb\u001b[0m: ⭐️ View project at \u001b[34m\u001b[4mhttps://wandb.ai/csci566sp24/pii\u001b[0m\n",
      "\u001b[34m\u001b[1mwandb\u001b[0m: 🚀 View run at \u001b[34m\u001b[4mhttps://wandb.ai/csci566sp24/pii/runs/kh551j4l/workspace\u001b[0m\n"
     ]
    },
    {
     "data": {
      "text/html": [
       "<button onClick=\"this.nextSibling.style.display='block';this.style.display='none';\">Display W&B run</button><iframe src='https://wandb.ai/csci566sp24/pii/runs/kh551j4l?jupyter=true' style='border:none;width:100%;height:420px;display:none;'></iframe>"
      ],
      "text/plain": [
       "<wandb.sdk.wandb_run.Run at 0x7f2f4491f100>"
      ]
     },
     "execution_count": 14,
     "metadata": {},
     "output_type": "execute_result"
    }
   ],
   "source": [
    "from kaggle_secrets import UserSecretsClient\n",
    "user_secrets = UserSecretsClient()\n",
    "wandb_api_key = user_secrets.get_secret(\"WANDB_API_KEY\")\n",
    "\n",
    "\n",
    "\n",
    "import wandb\n",
    "wandb.login(key=wandb_api_key)\n",
    "wandb.init(project='pii', job_type='preprocessing')"
   ]
  },
  {
   "cell_type": "code",
   "execution_count": 15,
   "id": "c478563c",
   "metadata": {
    "execution": {
     "iopub.execute_input": "2024-04-12T16:26:13.859151Z",
     "iopub.status.busy": "2024-04-12T16:26:13.858670Z",
     "iopub.status.idle": "2024-04-12T16:26:18.725836Z",
     "shell.execute_reply": "2024-04-12T16:26:18.724692Z"
    },
    "papermill": {
     "duration": 4.878313,
     "end_time": "2024-04-12T16:26:18.728518",
     "exception": false,
     "start_time": "2024-04-12T16:26:13.850205",
     "status": "completed"
    },
    "tags": []
   },
   "outputs": [
    {
     "data": {
      "text/plain": [
       "<Artifact val_data>"
      ]
     },
     "execution_count": 15,
     "metadata": {},
     "output_type": "execute_result"
    }
   ],
   "source": [
    "#log data as artifacts\n",
    "\n",
    "#Parquet is a columnar storage file format that is optimized for use with big data processing frameworks.\n",
    "#Steps\n",
    "# Save the base dataframe 'df' to a parquet file named 'base_data.parquet'\n",
    "# Create a new Weights & Biases artifact named 'base_data' of type 'dataset'\n",
    "# Create a new Weights & Biases artifact named 'base_data' of type 'dataset'\n",
    "# Add the 'base_data.parquet' file to the 'base_data' artifact\n",
    "# Log the 'raw_data' artifact to Weights & Biases, this will upload the artifact to the Weights & Biases servers\n",
    "\n",
    "#base data\n",
    "base_df.to_parquet('base_data.parquet', index=False)\n",
    "base_data = wandb.Artifact(name=\"base_data\", type=\"dataset\")\n",
    "base_data.add_file('base_data.parquet')\n",
    "wandb.log_artifact(base_data)\n",
    "\n",
    "#miniset data dataframe 'mini_no_overlap' \n",
    "mini_no_overlap.to_parquet('mini_no_overlap.parquet', index=False)\n",
    "mini_no_overlap_data = wandb.Artifact(name=\"mini_no_overlap_data\", type=\"dataset\")\n",
    "mini_no_overlap_data.add_file('mini_no_overlap.parquet')\n",
    "wandb.log_artifact(mini_no_overlap_data)\n",
    "\n",
    "#validation set dataframe 'val_df'\n",
    "val_df.to_parquet('val_data.parquet', index=False)\n",
    "val_data = wandb.Artifact(name=\"val_data\", type=\"dataset\")\n",
    "val_data.add_file('val_data.parquet')\n",
    "wandb.log_artifact(val_data)"
   ]
  },
  {
   "cell_type": "code",
   "execution_count": 16,
   "id": "48c806ea",
   "metadata": {
    "execution": {
     "iopub.execute_input": "2024-04-12T16:26:18.744638Z",
     "iopub.status.busy": "2024-04-12T16:26:18.744220Z",
     "iopub.status.idle": "2024-04-12T16:26:18.748737Z",
     "shell.execute_reply": "2024-04-12T16:26:18.747793Z"
    },
    "papermill": {
     "duration": 0.01521,
     "end_time": "2024-04-12T16:26:18.750918",
     "exception": false,
     "start_time": "2024-04-12T16:26:18.735708",
     "status": "completed"
    },
    "tags": []
   },
   "outputs": [],
   "source": [
    "#TODO troubleshoot\n",
    "\n",
    "# # We will generate html viz for every mini_no_overlap essay, wrap it up in `wandb.Html` and create a W&B table to inspect it\n",
    "# df=mini_no_overlap\n",
    "\n",
    "# wandb_htmls = [wandb.Html(visualize(row)) for _, row in df.iterrows()]\n",
    "# df['visualization'] = wandb_htmls\n",
    "# table = wandb.Table(dataframe=df)\n",
    "# wandb.log({'original_dataset': table})"
   ]
  },
  {
   "cell_type": "code",
   "execution_count": 17,
   "id": "3470ab9b",
   "metadata": {
    "execution": {
     "iopub.execute_input": "2024-04-12T16:26:18.768036Z",
     "iopub.status.busy": "2024-04-12T16:26:18.766920Z",
     "iopub.status.idle": "2024-04-12T16:26:28.986769Z",
     "shell.execute_reply": "2024-04-12T16:26:28.985583Z"
    },
    "papermill": {
     "duration": 10.231259,
     "end_time": "2024-04-12T16:26:28.989694",
     "exception": false,
     "start_time": "2024-04-12T16:26:18.758435",
     "status": "completed"
    },
    "tags": []
   },
   "outputs": [
    {
     "name": "stderr",
     "output_type": "stream",
     "text": [
      "\u001b[34m\u001b[1mwandb\u001b[0m:                                                                                \n",
      "\u001b[34m\u001b[1mwandb\u001b[0m: 🚀 View run \u001b[33mfine-shadow-49\u001b[0m at: \u001b[34m\u001b[4mhttps://wandb.ai/csci566sp24/pii/runs/kh551j4l/workspace\u001b[0m\n",
      "\u001b[34m\u001b[1mwandb\u001b[0m: Synced 4 W&B file(s), 0 media file(s), 2 artifact file(s) and 0 other file(s)\n",
      "\u001b[34m\u001b[1mwandb\u001b[0m: Find logs at: \u001b[35m\u001b[1m./wandb/run-20240412_162557-kh551j4l/logs\u001b[0m\n"
     ]
    }
   ],
   "source": [
    "# Finish W&B run\n",
    "wandb.finish()"
   ]
  },
  {
   "cell_type": "markdown",
   "id": "6942b9aa",
   "metadata": {
    "papermill": {
     "duration": 0.007454,
     "end_time": "2024-04-12T16:26:29.004975",
     "exception": false,
     "start_time": "2024-04-12T16:26:28.997521",
     "status": "completed"
    },
    "tags": []
   },
   "source": [
    "# TO DOs\n",
    "- Truncation with Stride, tokenizers striding method?\n",
    "- add hyperparameters to config wandb.config.update"
   ]
  }
 ],
 "metadata": {
  "kaggle": {
   "accelerator": "none",
   "dataSources": [
    {
     "databundleVersionId": 7500999,
     "sourceId": 66653,
     "sourceType": "competition"
    }
   ],
   "dockerImageVersionId": 30684,
   "isGpuEnabled": false,
   "isInternetEnabled": true,
   "language": "python",
   "sourceType": "notebook"
  },
  "kernelspec": {
   "display_name": "Python 3",
   "language": "python",
   "name": "python3"
  },
  "language_info": {
   "codemirror_mode": {
    "name": "ipython",
    "version": 3
   },
   "file_extension": ".py",
   "mimetype": "text/x-python",
   "name": "python",
   "nbconvert_exporter": "python",
   "pygments_lexer": "ipython3",
   "version": "3.10.13"
  },
  "papermill": {
   "default_parameters": {},
   "duration": 75.434773,
   "end_time": "2024-04-12T16:26:31.633266",
   "environment_variables": {},
   "exception": null,
   "input_path": "__notebook__.ipynb",
   "output_path": "__notebook__.ipynb",
   "parameters": {},
   "start_time": "2024-04-12T16:25:16.198493",
   "version": "2.5.0"
  }
 },
 "nbformat": 4,
 "nbformat_minor": 5
}
