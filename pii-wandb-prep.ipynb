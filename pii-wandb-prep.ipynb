{
 "cells": [
  {
   "cell_type": "markdown",
   "id": "c790e675",
   "metadata": {
    "papermill": {
     "duration": 0.005336,
     "end_time": "2024-04-09T04:00:36.935442",
     "exception": false,
     "start_time": "2024-04-09T04:00:36.930106",
     "status": "completed"
    },
    "tags": []
   },
   "source": [
    "# PII Data Prep with W and B\n",
    "\n",
    "## Reference\n",
    "https://www.kaggle.com/code/thedrcat/pii-data-preparation-cv-stride-viz-and-w-b#Share-your-findings"
   ]
  },
  {
   "cell_type": "markdown",
   "id": "6ad49093",
   "metadata": {
    "papermill": {
     "duration": 0.004371,
     "end_time": "2024-04-09T04:00:36.945083",
     "exception": false,
     "start_time": "2024-04-09T04:00:36.940712",
     "status": "completed"
    },
    "tags": []
   },
   "source": [
    "# Config and Import"
   ]
  },
  {
   "cell_type": "code",
   "execution_count": 1,
   "id": "0465d619",
   "metadata": {
    "execution": {
     "iopub.execute_input": "2024-04-09T04:00:36.956970Z",
     "iopub.status.busy": "2024-04-09T04:00:36.956143Z",
     "iopub.status.idle": "2024-04-09T04:00:49.262051Z",
     "shell.execute_reply": "2024-04-09T04:00:49.260850Z"
    },
    "papermill": {
     "duration": 12.314929,
     "end_time": "2024-04-09T04:00:49.264683",
     "exception": false,
     "start_time": "2024-04-09T04:00:36.949754",
     "status": "completed"
    },
    "tags": []
   },
   "outputs": [],
   "source": [
    "!pip install wandb -q"
   ]
  },
  {
   "cell_type": "code",
   "execution_count": 2,
   "id": "6ed65f4c",
   "metadata": {
    "_cell_guid": "b1076dfc-b9ad-4769-8c92-a6c4dae69d19",
    "_uuid": "8f2839f25d086af736a60e9eeb907d3b93b6e0e5",
    "execution": {
     "iopub.execute_input": "2024-04-09T04:00:49.276170Z",
     "iopub.status.busy": "2024-04-09T04:00:49.275777Z",
     "iopub.status.idle": "2024-04-09T04:00:50.032245Z",
     "shell.execute_reply": "2024-04-09T04:00:50.031351Z"
    },
    "papermill": {
     "duration": 0.764966,
     "end_time": "2024-04-09T04:00:50.034659",
     "exception": false,
     "start_time": "2024-04-09T04:00:49.269693",
     "status": "completed"
    },
    "tags": []
   },
   "outputs": [],
   "source": [
    "from pathlib import Path\n",
    "import os\n",
    "\n",
    "import json\n",
    "import itertools\n",
    "import numpy as np\n",
    "import pandas as pd\n",
    "import matplotlib.pyplot as plt\n",
    "\n",
    "import warnings"
   ]
  },
  {
   "cell_type": "code",
   "execution_count": 3,
   "id": "4c9724da",
   "metadata": {
    "execution": {
     "iopub.execute_input": "2024-04-09T04:00:50.046033Z",
     "iopub.status.busy": "2024-04-09T04:00:50.045302Z",
     "iopub.status.idle": "2024-04-09T04:00:50.049901Z",
     "shell.execute_reply": "2024-04-09T04:00:50.048930Z"
    },
    "papermill": {
     "duration": 0.012342,
     "end_time": "2024-04-09T04:00:50.051927",
     "exception": false,
     "start_time": "2024-04-09T04:00:50.039585",
     "status": "completed"
    },
    "tags": []
   },
   "outputs": [],
   "source": [
    "DATA_PATH = '../input/pii-detection-removal-from-educational-data'\n",
    "OUTPUT_DIR = '/kaggle/working/'"
   ]
  },
  {
   "cell_type": "markdown",
   "id": "30d7dd4a",
   "metadata": {
    "papermill": {
     "duration": 0.004493,
     "end_time": "2024-04-09T04:00:50.061139",
     "exception": false,
     "start_time": "2024-04-09T04:00:50.056646",
     "status": "completed"
    },
    "tags": []
   },
   "source": [
    "# Helper functions"
   ]
  },
  {
   "cell_type": "code",
   "execution_count": 4,
   "id": "bd57dc6d",
   "metadata": {
    "execution": {
     "iopub.execute_input": "2024-04-09T04:00:50.072095Z",
     "iopub.status.busy": "2024-04-09T04:00:50.071493Z",
     "iopub.status.idle": "2024-04-09T04:00:50.077829Z",
     "shell.execute_reply": "2024-04-09T04:00:50.076875Z"
    },
    "papermill": {
     "duration": 0.014107,
     "end_time": "2024-04-09T04:00:50.079834",
     "exception": false,
     "start_time": "2024-04-09T04:00:50.065727",
     "status": "completed"
    },
    "tags": []
   },
   "outputs": [],
   "source": [
    "#split data into training and validation set\n",
    "def PIId2_split_by_sampling(df, test_ratio):\n",
    "    \"\"\"Split PII data into training and test set. \n",
    "\n",
    "    Args:\n",
    "        df (pd.DataFrame): The input DataFrame.\n",
    "        test_ratio (float, default=0.2): \n",
    "            The proportion of the dataset to include in the test split.\n",
    "\n",
    "    Returns:\n",
    "        train_df, test_df: Training and test splits of the input DataFrame.\n",
    "    \"\"\"\n",
    "    # Get the number of rows in the DataFrame\n",
    "    num_rows = len(df)\n",
    "    \n",
    "    # Get the split index\n",
    "    split_idx = int(num_rows * test_ratio)\n",
    "    \n",
    "    # Shuffle the DataFrame rows\n",
    "    df_shuffled = df.sample(frac=1, random_state=42)\n",
    "    \n",
    "    # Split the DataFrame into train and test\n",
    "    train_df = df_shuffled.iloc[split_idx:]\n",
    "    test_df = df_shuffled.iloc[:split_idx]\n",
    "    \n",
    "#     #TEMP to test\n",
    "#     # Add a new column 'valid' with boolean values - need to modify the move missing if want to keep\n",
    "#     train_df['valid'] = False\n",
    "#     test_df['valid'] = True\n",
    "    \n",
    "    return train_df, test_df"
   ]
  },
  {
   "cell_type": "code",
   "execution_count": 5,
   "id": "8a7dbbe9",
   "metadata": {
    "execution": {
     "iopub.execute_input": "2024-04-09T04:00:50.090461Z",
     "iopub.status.busy": "2024-04-09T04:00:50.090155Z",
     "iopub.status.idle": "2024-04-09T04:00:50.096745Z",
     "shell.execute_reply": "2024-04-09T04:00:50.095839Z"
    },
    "papermill": {
     "duration": 0.014075,
     "end_time": "2024-04-09T04:00:50.098583",
     "exception": false,
     "start_time": "2024-04-09T04:00:50.084508",
     "status": "completed"
    },
    "tags": []
   },
   "outputs": [],
   "source": [
    "def move_missing_labels(to_df, from_df):\n",
    "    \"\"\"\n",
    "    Move documents containing missing labels from the extra DataFrame to the desired DataFrame.\n",
    "\n",
    "    Parameters:\n",
    "    - to_df (DataFrame): DataFrame where the documents should be moved to.\n",
    "    - from_df (DataFrame): DataFrame where the documents should be moved from.\n",
    "\n",
    "    Returns:\n",
    "    - desired_df, extra_df: Updated DataFrames.\n",
    "    \"\"\"\n",
    "    # Find the labels that are missing from the to_df DataFrame\n",
    "    missing_labels = set(from_df['labels'].explode().unique()) - set(to_df['labels'].explode().unique())\n",
    "\n",
    "    # For each missing label, move a document from the extra DataFrame to the desired DataFrame\n",
    "    for label in missing_labels:\n",
    "        if label in from_df['labels'].explode().unique():\n",
    "            document = from_df[from_df['labels'].apply(lambda x: label in x)].sample(n=1)\n",
    "            to_df = pd.concat([to_df, document])\n",
    "            from_df = from_df.drop(document.index)\n",
    "\n",
    "    return to_df, from_df"
   ]
  },
  {
   "cell_type": "markdown",
   "id": "b3647925",
   "metadata": {
    "papermill": {
     "duration": 0.004383,
     "end_time": "2024-04-09T04:00:50.107532",
     "exception": false,
     "start_time": "2024-04-09T04:00:50.103149",
     "status": "completed"
    },
    "tags": []
   },
   "source": [
    "# Validation set and Miniset"
   ]
  },
  {
   "cell_type": "code",
   "execution_count": 6,
   "id": "df66e1ff",
   "metadata": {
    "execution": {
     "iopub.execute_input": "2024-04-09T04:00:50.118017Z",
     "iopub.status.busy": "2024-04-09T04:00:50.117720Z",
     "iopub.status.idle": "2024-04-09T04:00:56.503640Z",
     "shell.execute_reply": "2024-04-09T04:00:56.502720Z"
    },
    "papermill": {
     "duration": 6.39441,
     "end_time": "2024-04-09T04:00:56.506426",
     "exception": false,
     "start_time": "2024-04-09T04:00:50.112016",
     "status": "completed"
    },
    "tags": []
   },
   "outputs": [],
   "source": [
    "comp_train= json.load(open(DATA_PATH +'/train.json'))\n",
    "\n",
    "#Convert to df for EDA\n",
    "base_df= pd.DataFrame(comp_train)\n",
    "\n",
    "train_df, val_df = PIId2_split_by_sampling(base_df, .1)\n",
    "train_df_overlap = train_df\n",
    "\n",
    "val_df, train_df = move_missing_labels(val_df, train_df)"
   ]
  },
  {
   "cell_type": "code",
   "execution_count": 7,
   "id": "a81061c2",
   "metadata": {
    "execution": {
     "iopub.execute_input": "2024-04-09T04:00:56.518026Z",
     "iopub.status.busy": "2024-04-09T04:00:56.517698Z",
     "iopub.status.idle": "2024-04-09T04:00:59.031160Z",
     "shell.execute_reply": "2024-04-09T04:00:59.030039Z"
    },
    "papermill": {
     "duration": 2.521672,
     "end_time": "2024-04-09T04:00:59.033431",
     "exception": false,
     "start_time": "2024-04-09T04:00:56.511759",
     "status": "completed"
    },
    "tags": []
   },
   "outputs": [
    {
     "name": "stdout",
     "output_type": "stream",
     "text": [
      "size of base:  6807\n",
      "size of val_df:  688\n"
     ]
    }
   ],
   "source": [
    "# Save the DataFrame to a JSON file \n",
    "val_df.to_json(OUTPUT_DIR + \"/val.json\", orient=\"records\")\n",
    "train_df.to_json(OUTPUT_DIR + \"/train_df_fromval.json\", orient=\"records\")\n",
    "train_df_overlap.to_json(OUTPUT_DIR + \"/train_df_overlap_fromval.json\", orient=\"records\")\n",
    "\n",
    "print(\"size of base: \", len(base_df))\n",
    "print(\"size of val_df: \", len(val_df))"
   ]
  },
  {
   "cell_type": "code",
   "execution_count": 8,
   "id": "c53986f9",
   "metadata": {
    "execution": {
     "iopub.execute_input": "2024-04-09T04:00:59.046909Z",
     "iopub.status.busy": "2024-04-09T04:00:59.046036Z",
     "iopub.status.idle": "2024-04-09T04:01:02.461002Z",
     "shell.execute_reply": "2024-04-09T04:01:02.459927Z"
    },
    "papermill": {
     "duration": 3.423335,
     "end_time": "2024-04-09T04:01:02.463255",
     "exception": false,
     "start_time": "2024-04-09T04:00:59.039920",
     "status": "completed"
    },
    "tags": []
   },
   "outputs": [
    {
     "name": "stdout",
     "output_type": "stream",
     "text": [
      "size of base:  6807\n",
      "size of mini_overlap:  1843\n",
      "size of mini_no_overlap:  1838\n"
     ]
    }
   ],
   "source": [
    "mini_overlap, overlap_extra = PIId2_split_by_sampling(train_df_overlap, .7)\n",
    "mini_no_overlap, no_overlap_extra= PIId2_split_by_sampling(train_df, .7)\n",
    "\n",
    "\n",
    "mini_overlap, overlap_extra = move_missing_labels(mini_overlap, overlap_extra)\n",
    "mini_no_overlap, no_overlap_extra= move_missing_labels(mini_no_overlap, no_overlap_extra)\n",
    "\n",
    "# Save the DataFrame to a JSON file \n",
    "mini_overlap.to_json(OUTPUT_DIR + \"/mini_overlap.json\", orient=\"records\")\n",
    "mini_no_overlap.to_json(OUTPUT_DIR + \"/mini_no_overlap.json\", orient=\"records\")\n",
    "\n",
    "print(\"size of base: \", len(base_df))\n",
    "print(\"size of mini_overlap: \", len(mini_overlap))\n",
    "print(\"size of mini_no_overlap: \", len(mini_no_overlap))"
   ]
  },
  {
   "cell_type": "markdown",
   "id": "ac2398d4",
   "metadata": {
    "papermill": {
     "duration": 0.004579,
     "end_time": "2024-04-09T04:01:02.472842",
     "exception": false,
     "start_time": "2024-04-09T04:01:02.468263",
     "status": "completed"
    },
    "tags": []
   },
   "source": [
    "# Visualization of an Essay\n",
    "credit : https://www.kaggle.com/code/sinchir0/visualization-code-using-displacy"
   ]
  },
  {
   "cell_type": "code",
   "execution_count": 9,
   "id": "0ff7472b",
   "metadata": {
    "execution": {
     "iopub.execute_input": "2024-04-09T04:01:02.483889Z",
     "iopub.status.busy": "2024-04-09T04:01:02.483584Z",
     "iopub.status.idle": "2024-04-09T04:01:07.603146Z",
     "shell.execute_reply": "2024-04-09T04:01:07.602211Z"
    },
    "papermill": {
     "duration": 5.128232,
     "end_time": "2024-04-09T04:01:07.605865",
     "exception": false,
     "start_time": "2024-04-09T04:01:02.477633",
     "status": "completed"
    },
    "tags": []
   },
   "outputs": [],
   "source": [
    "#https://www.kaggle.com/code/sinchir0/visualization-code-using-displacy\n",
    "import spacy\n",
    "from spacy.tokens import Span\n",
    "from spacy import displacy\n",
    "\n",
    "nlp = spacy.blank(\"en\")\n",
    "\n",
    "options = {\n",
    "    \"colors\": {\n",
    "        \"B-NAME_STUDENT\": \"aqua\",\n",
    "        \"I-NAME_STUDENT\": \"skyblue\",\n",
    "        \"B-EMAIL\": \"limegreen\",\n",
    "        \"I-EMAIL\": \"lime\",\n",
    "        \"B-USERNAME\": \"hotpink\",\n",
    "        \"I-USERNAME\": \"lightpink\",\n",
    "        \"B-ID_NUM\": \"purple\",\n",
    "        \"I-ID_NUM\": \"rebeccapurple\",\n",
    "        \"B-PHONE_NUM\": \"red\",\n",
    "        \"I-PHONE_NUM\": \"salmon\",\n",
    "        \"B-URL_PERSONAL\": \"silver\",\n",
    "        \"I-URL_PERSONAL\": \"lightgray\",\n",
    "        \"B-STREET_ADDRESS\": \"brown\",\n",
    "        \"I-STREET_ADDRESS\": \"chocolate\",\n",
    "    }\n",
    "}\n",
    "\n",
    "def visualize(row):\n",
    "    doc = nlp(row.full_text)\n",
    "    doc.ents = [\n",
    "        Span(doc, idx, idx + 1, label=label)\n",
    "        for idx, label in enumerate(row.labels)\n",
    "        if label != \"O\"\n",
    "    ]\n",
    "    html = displacy.render(doc, style=\"ent\", jupyter=False, options=options)\n",
    "    return html"
   ]
  },
  {
   "cell_type": "code",
   "execution_count": 10,
   "id": "66b0bb06",
   "metadata": {
    "execution": {
     "iopub.execute_input": "2024-04-09T04:01:07.618779Z",
     "iopub.status.busy": "2024-04-09T04:01:07.618297Z",
     "iopub.status.idle": "2024-04-09T04:01:07.623000Z",
     "shell.execute_reply": "2024-04-09T04:01:07.622049Z"
    },
    "papermill": {
     "duration": 0.013667,
     "end_time": "2024-04-09T04:01:07.625469",
     "exception": false,
     "start_time": "2024-04-09T04:01:07.611802",
     "status": "completed"
    },
    "tags": []
   },
   "outputs": [
    {
     "name": "stderr",
     "output_type": "stream",
     "text": [
      "/tmp/ipykernel_18/2933016516.py:1: DeprecationWarning: Importing display from IPython.core.display is deprecated since IPython 7.14, please import from IPython display\n",
      "  from IPython.core.display import display, HTML\n"
     ]
    }
   ],
   "source": [
    "from IPython.core.display import display, HTML\n",
    "# html = visualize(base_df.loc[0])\n",
    "# display(HTML(html))"
   ]
  },
  {
   "cell_type": "markdown",
   "id": "93fe496c",
   "metadata": {
    "papermill": {
     "duration": 0.004701,
     "end_time": "2024-04-09T04:01:07.635115",
     "exception": false,
     "start_time": "2024-04-09T04:01:07.630414",
     "status": "completed"
    },
    "tags": []
   },
   "source": [
    "# Save to W and B\n",
    "\n",
    "Running code below needs to have WANDB_API_KEY secret in kaggle secrets. Access api token through add-ons in notebook\n",
    "\n"
   ]
  },
  {
   "cell_type": "code",
   "execution_count": 11,
   "id": "a4da9e96",
   "metadata": {
    "execution": {
     "iopub.execute_input": "2024-04-09T04:01:07.646098Z",
     "iopub.status.busy": "2024-04-09T04:01:07.645811Z",
     "iopub.status.idle": "2024-04-09T04:01:26.967655Z",
     "shell.execute_reply": "2024-04-09T04:01:26.966859Z"
    },
    "papermill": {
     "duration": 19.329762,
     "end_time": "2024-04-09T04:01:26.969685",
     "exception": false,
     "start_time": "2024-04-09T04:01:07.639923",
     "status": "completed"
    },
    "tags": []
   },
   "outputs": [
    {
     "name": "stderr",
     "output_type": "stream",
     "text": [
      "\u001b[34m\u001b[1mwandb\u001b[0m: W&B API key is configured. Use \u001b[1m`wandb login --relogin`\u001b[0m to force relogin\n",
      "\u001b[34m\u001b[1mwandb\u001b[0m: \u001b[33mWARNING\u001b[0m If you're specifying your api key in code, ensure this code is not shared publicly.\n",
      "\u001b[34m\u001b[1mwandb\u001b[0m: \u001b[33mWARNING\u001b[0m Consider setting the WANDB_API_KEY environment variable, or running `wandb login` from the command line.\n",
      "\u001b[34m\u001b[1mwandb\u001b[0m: Appending key for api.wandb.ai to your netrc file: /root/.netrc\n",
      "\u001b[34m\u001b[1mwandb\u001b[0m: Currently logged in as: \u001b[33mkasprisi\u001b[0m (\u001b[33mcsci566sp24\u001b[0m). Use \u001b[1m`wandb login --relogin`\u001b[0m to force relogin\n",
      "\u001b[34m\u001b[1mwandb\u001b[0m: wandb version 0.16.6 is available!  To upgrade, please run:\n",
      "\u001b[34m\u001b[1mwandb\u001b[0m:  $ pip install wandb --upgrade\n",
      "\u001b[34m\u001b[1mwandb\u001b[0m: Tracking run with wandb version 0.16.5\n",
      "\u001b[34m\u001b[1mwandb\u001b[0m: Run data is saved locally in \u001b[35m\u001b[1m/kaggle/working/wandb/run-20240409_040110-7d3t7sfk\u001b[0m\n",
      "\u001b[34m\u001b[1mwandb\u001b[0m: Run \u001b[1m`wandb offline`\u001b[0m to turn off syncing.\n",
      "\u001b[34m\u001b[1mwandb\u001b[0m: Syncing run \u001b[33msnowy-violet-2\u001b[0m\n",
      "\u001b[34m\u001b[1mwandb\u001b[0m: ⭐️ View project at \u001b[34m\u001b[4mhttps://wandb.ai/csci566sp24/pii\u001b[0m\n",
      "\u001b[34m\u001b[1mwandb\u001b[0m: 🚀 View run at \u001b[34m\u001b[4mhttps://wandb.ai/csci566sp24/pii/runs/7d3t7sfk/workspace\u001b[0m\n"
     ]
    },
    {
     "data": {
      "text/html": [
       "<button onClick=\"this.nextSibling.style.display='block';this.style.display='none';\">Display W&B run</button><iframe src='https://wandb.ai/csci566sp24/pii/runs/7d3t7sfk?jupyter=true' style='border:none;width:100%;height:420px;display:none;'></iframe>"
      ],
      "text/plain": [
       "<wandb.sdk.wandb_run.Run at 0x7f072e9119c0>"
      ]
     },
     "execution_count": 11,
     "metadata": {},
     "output_type": "execute_result"
    }
   ],
   "source": [
    "from kaggle_secrets import UserSecretsClient\n",
    "user_secrets = UserSecretsClient()\n",
    "wandb_api_key = user_secrets.get_secret(\"WANDB_API_KEY\")\n",
    "\n",
    "\n",
    "\n",
    "import wandb\n",
    "wandb.login(key=wandb_api_key)\n",
    "wandb.init(project='pii', job_type='preprocessing')"
   ]
  },
  {
   "cell_type": "code",
   "execution_count": 12,
   "id": "baff39da",
   "metadata": {
    "execution": {
     "iopub.execute_input": "2024-04-09T04:01:26.983525Z",
     "iopub.status.busy": "2024-04-09T04:01:26.982600Z",
     "iopub.status.idle": "2024-04-09T04:01:30.421598Z",
     "shell.execute_reply": "2024-04-09T04:01:30.420878Z"
    },
    "papermill": {
     "duration": 3.447855,
     "end_time": "2024-04-09T04:01:30.423545",
     "exception": false,
     "start_time": "2024-04-09T04:01:26.975690",
     "status": "completed"
    },
    "tags": []
   },
   "outputs": [
    {
     "data": {
      "text/plain": [
       "<Artifact val_data>"
      ]
     },
     "execution_count": 12,
     "metadata": {},
     "output_type": "execute_result"
    }
   ],
   "source": [
    "#log data as artifacts\n",
    "\n",
    "#Parquet is a columnar storage file format that is optimized for use with big data processing frameworks.\n",
    "#Steps\n",
    "# Save the base dataframe 'df' to a parquet file named 'base_data.parquet'\n",
    "# Create a new Weights & Biases artifact named 'base_data' of type 'dataset'\n",
    "# Create a new Weights & Biases artifact named 'base_data' of type 'dataset'\n",
    "# Add the 'base_data.parquet' file to the 'base_data' artifact\n",
    "# Log the 'raw_data' artifact to Weights & Biases, this will upload the artifact to the Weights & Biases servers\n",
    "\n",
    "#base data\n",
    "base_df.to_parquet('base_data.parquet', index=False)\n",
    "base_data = wandb.Artifact(name=\"base_data\", type=\"dataset\")\n",
    "base_data.add_file('base_data.parquet')\n",
    "wandb.log_artifact(base_data)\n",
    "\n",
    "#miniset data dataframe 'mini_no_overlap' \n",
    "mini_no_overlap.to_parquet('mini_no_overlap.parquet', index=False)\n",
    "mini_no_overlap_data = wandb.Artifact(name=\"mini_no_overlap_data\", type=\"dataset\")\n",
    "mini_no_overlap_data.add_file('mini_no_overlap.parquet')\n",
    "wandb.log_artifact(mini_no_overlap_data)\n",
    "\n",
    "#validation set dataframe 'val_df'\n",
    "val_df.to_parquet('val_data.parquet', index=False)\n",
    "val_data = wandb.Artifact(name=\"val_data\", type=\"dataset\")\n",
    "val_data.add_file('val_data.parquet')\n",
    "wandb.log_artifact(val_data)"
   ]
  },
  {
   "cell_type": "code",
   "execution_count": 13,
   "id": "9622deb2",
   "metadata": {
    "execution": {
     "iopub.execute_input": "2024-04-09T04:01:30.437259Z",
     "iopub.status.busy": "2024-04-09T04:01:30.436490Z",
     "iopub.status.idle": "2024-04-09T04:01:30.440640Z",
     "shell.execute_reply": "2024-04-09T04:01:30.439709Z"
    },
    "papermill": {
     "duration": 0.012915,
     "end_time": "2024-04-09T04:01:30.442575",
     "exception": false,
     "start_time": "2024-04-09T04:01:30.429660",
     "status": "completed"
    },
    "tags": []
   },
   "outputs": [],
   "source": [
    "#TODO troubleshoot\n",
    "\n",
    "# # We will generate html viz for every mini_no_overlap essay, wrap it up in `wandb.Html` and create a W&B table to inspect it\n",
    "# df=mini_no_overlap\n",
    "\n",
    "# wandb_htmls = [wandb.Html(visualize(row)) for _, row in df.iterrows()]\n",
    "# df['visualization'] = wandb_htmls\n",
    "# table = wandb.Table(dataframe=df)\n",
    "# wandb.log({'original_dataset': table})"
   ]
  },
  {
   "cell_type": "code",
   "execution_count": 14,
   "id": "97ecd1e3",
   "metadata": {
    "execution": {
     "iopub.execute_input": "2024-04-09T04:01:30.455721Z",
     "iopub.status.busy": "2024-04-09T04:01:30.455419Z",
     "iopub.status.idle": "2024-04-09T04:01:39.542203Z",
     "shell.execute_reply": "2024-04-09T04:01:39.541352Z"
    },
    "papermill": {
     "duration": 9.096051,
     "end_time": "2024-04-09T04:01:39.544500",
     "exception": false,
     "start_time": "2024-04-09T04:01:30.448449",
     "status": "completed"
    },
    "tags": []
   },
   "outputs": [
    {
     "name": "stderr",
     "output_type": "stream",
     "text": [
      "\u001b[34m\u001b[1mwandb\u001b[0m:                                                                                \n",
      "\u001b[34m\u001b[1mwandb\u001b[0m: 🚀 View run \u001b[33msnowy-violet-2\u001b[0m at: \u001b[34m\u001b[4mhttps://wandb.ai/csci566sp24/pii/runs/7d3t7sfk/workspace\u001b[0m\n",
      "\u001b[34m\u001b[1mwandb\u001b[0m: Synced 4 W&B file(s), 0 media file(s), 2 artifact file(s) and 0 other file(s)\n",
      "\u001b[34m\u001b[1mwandb\u001b[0m: Find logs at: \u001b[35m\u001b[1m./wandb/run-20240409_040110-7d3t7sfk/logs\u001b[0m\n"
     ]
    }
   ],
   "source": [
    "# Finish W&B run\n",
    "wandb.finish()"
   ]
  },
  {
   "cell_type": "markdown",
   "id": "d6aaf7f8",
   "metadata": {
    "papermill": {
     "duration": 0.006059,
     "end_time": "2024-04-09T04:01:39.557239",
     "exception": false,
     "start_time": "2024-04-09T04:01:39.551180",
     "status": "completed"
    },
    "tags": []
   },
   "source": [
    "# TO DOs\n",
    "- Truncation with Stride, tokenizers striding method?\n",
    "- add hyperparameters to config wandb.config.update"
   ]
  }
 ],
 "metadata": {
  "kaggle": {
   "accelerator": "none",
   "dataSources": [
    {
     "databundleVersionId": 7500999,
     "sourceId": 66653,
     "sourceType": "competition"
    }
   ],
   "dockerImageVersionId": 30684,
   "isGpuEnabled": false,
   "isInternetEnabled": true,
   "language": "python",
   "sourceType": "notebook"
  },
  "kernelspec": {
   "display_name": "Python 3",
   "language": "python",
   "name": "python3"
  },
  "language_info": {
   "codemirror_mode": {
    "name": "ipython",
    "version": 3
   },
   "file_extension": ".py",
   "mimetype": "text/x-python",
   "name": "python",
   "nbconvert_exporter": "python",
   "pygments_lexer": "ipython3",
   "version": "3.10.13"
  },
  "papermill": {
   "default_parameters": {},
   "duration": 67.752169,
   "end_time": "2024-04-09T04:01:42.182315",
   "environment_variables": {},
   "exception": null,
   "input_path": "__notebook__.ipynb",
   "output_path": "__notebook__.ipynb",
   "parameters": {},
   "start_time": "2024-04-09T04:00:34.430146",
   "version": "2.5.0"
  }
 },
 "nbformat": 4,
 "nbformat_minor": 5
}
