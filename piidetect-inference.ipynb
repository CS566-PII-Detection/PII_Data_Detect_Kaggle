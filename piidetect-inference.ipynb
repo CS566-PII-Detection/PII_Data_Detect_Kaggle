{
 "cells": [
  {
   "cell_type": "markdown",
   "id": "4e537995",
   "metadata": {
    "papermill": {
     "duration": 0.008556,
     "end_time": "2024-03-07T18:52:37.527919",
     "exception": false,
     "start_time": "2024-03-07T18:52:37.519363",
     "status": "completed"
    },
    "tags": []
   },
   "source": [
    "## Training Notebook\n",
    "​\n",
    "# Overview\n",
    "    - Ran on kaggle GPU\n",
    "    - Model fined using Mini_no overlap\n",
    "# To try\n",
    "\n",
    "# Credit\n",
    "- https://www.kaggle.com/code/valentinwerner/915-deberta3base-inference"
   ]
  },
  {
   "cell_type": "markdown",
   "id": "144270a0",
   "metadata": {
    "papermill": {
     "duration": 0.007813,
     "end_time": "2024-03-07T18:52:37.543782",
     "exception": false,
     "start_time": "2024-03-07T18:52:37.535969",
     "status": "completed"
    },
    "tags": []
   },
   "source": [
    "## Config and import"
   ]
  },
  {
   "cell_type": "code",
   "execution_count": 1,
   "id": "dd18b90f",
   "metadata": {
    "execution": {
     "iopub.execute_input": "2024-03-07T18:52:37.560833Z",
     "iopub.status.busy": "2024-03-07T18:52:37.560533Z",
     "iopub.status.idle": "2024-03-07T18:53:14.506137Z",
     "shell.execute_reply": "2024-03-07T18:53:14.504992Z"
    },
    "papermill": {
     "duration": 36.956683,
     "end_time": "2024-03-07T18:53:14.508516",
     "exception": false,
     "start_time": "2024-03-07T18:52:37.551833",
     "status": "completed"
    },
    "tags": []
   },
   "outputs": [],
   "source": [
    "#offline installs (need to have from training notebook)\n",
    "!pip install /kaggle/input/piidetect-training-mini/seqeval-1.2.2.tar.gz -q"
   ]
  },
  {
   "cell_type": "code",
   "execution_count": 2,
   "id": "b25913c4",
   "metadata": {
    "execution": {
     "iopub.execute_input": "2024-03-07T18:53:14.527209Z",
     "iopub.status.busy": "2024-03-07T18:53:14.526915Z",
     "iopub.status.idle": "2024-03-07T18:53:36.503425Z",
     "shell.execute_reply": "2024-03-07T18:53:36.502675Z"
    },
    "papermill": {
     "duration": 21.988295,
     "end_time": "2024-03-07T18:53:36.505743",
     "exception": false,
     "start_time": "2024-03-07T18:53:14.517448",
     "status": "completed"
    },
    "tags": []
   },
   "outputs": [
    {
     "name": "stderr",
     "output_type": "stream",
     "text": [
      "2024-03-07 18:53:26.471238: E external/local_xla/xla/stream_executor/cuda/cuda_dnn.cc:9261] Unable to register cuDNN factory: Attempting to register factory for plugin cuDNN when one has already been registered\n",
      "2024-03-07 18:53:26.471347: E external/local_xla/xla/stream_executor/cuda/cuda_fft.cc:607] Unable to register cuFFT factory: Attempting to register factory for plugin cuFFT when one has already been registered\n",
      "2024-03-07 18:53:26.640737: E external/local_xla/xla/stream_executor/cuda/cuda_blas.cc:1515] Unable to register cuBLAS factory: Attempting to register factory for plugin cuBLAS when one has already been registered\n"
     ]
    }
   ],
   "source": [
    "from pathlib import Path\n",
    "import os\n",
    "\n",
    "import json\n",
    "import argparse\n",
    "from itertools import chain\n",
    "from functools import partial\n",
    "\n",
    "import torch\n",
    "from transformers import AutoTokenizer, Trainer, TrainingArguments\n",
    "from transformers import AutoModelForTokenClassification, DataCollatorForTokenClassification\n",
    "from datasets import Dataset, features\n",
    "import numpy as np\n",
    "import pandas as pd"
   ]
  },
  {
   "cell_type": "code",
   "execution_count": 3,
   "id": "37ed9115",
   "metadata": {
    "execution": {
     "iopub.execute_input": "2024-03-07T18:53:36.524451Z",
     "iopub.status.busy": "2024-03-07T18:53:36.523916Z",
     "iopub.status.idle": "2024-03-07T18:53:36.532134Z",
     "shell.execute_reply": "2024-03-07T18:53:36.531013Z"
    },
    "papermill": {
     "duration": 0.019584,
     "end_time": "2024-03-07T18:53:36.534133",
     "exception": false,
     "start_time": "2024-03-07T18:53:36.514549",
     "status": "completed"
    },
    "tags": []
   },
   "outputs": [
    {
     "name": "stdout",
     "output_type": "stream",
     "text": [
      "../input/pii-detection-removal-from-educational-data/sample_submission.csv\n",
      "../input/pii-detection-removal-from-educational-data/train.json\n",
      "../input/pii-detection-removal-from-educational-data/test.json\n"
     ]
    }
   ],
   "source": [
    "DATA_PATH = '../input/pii-detection-removal-from-educational-data'\n",
    "VAL_PATH = '/kaggle/input/pii-detect-miniset-and-validation-ds/val.json'\n",
    "INFERENCE_MODEL_PATH = \"/kaggle/input/piidetect-training-mini/deberta3base_pii2d_1024_miniv1\"\n",
    "INFERENCE_MAX_LENGTH = 1024\n",
    "OUTPUT_DIR = \"/kaggle/working/\"\n",
    "VAL = True\n",
    "\n",
    "#print files with pathname\n",
    "for dirname, _, filenames in os.walk(DATA_PATH):\n",
    "    for filename in filenames:\n",
    "        print(os.path.join(dirname, filename))"
   ]
  },
  {
   "cell_type": "markdown",
   "id": "4c44d335",
   "metadata": {
    "papermill": {
     "duration": 0.008523,
     "end_time": "2024-03-07T18:53:36.551888",
     "exception": false,
     "start_time": "2024-03-07T18:53:36.543365",
     "status": "completed"
    },
    "tags": []
   },
   "source": [
    "## Helper functions"
   ]
  },
  {
   "cell_type": "markdown",
   "id": "ba1db947",
   "metadata": {
    "papermill": {
     "duration": 0.008006,
     "end_time": "2024-03-07T18:53:36.569295",
     "exception": false,
     "start_time": "2024-03-07T18:53:36.561289",
     "status": "completed"
    },
    "tags": []
   },
   "source": [
    "# Tokenizer from Training"
   ]
  },
  {
   "cell_type": "code",
   "execution_count": 4,
   "id": "43e437e0",
   "metadata": {
    "execution": {
     "iopub.execute_input": "2024-03-07T18:53:36.587137Z",
     "iopub.status.busy": "2024-03-07T18:53:36.586832Z",
     "iopub.status.idle": "2024-03-07T18:53:36.595082Z",
     "shell.execute_reply": "2024-03-07T18:53:36.594216Z"
    },
    "papermill": {
     "duration": 0.019392,
     "end_time": "2024-03-07T18:53:36.597023",
     "exception": false,
     "start_time": "2024-03-07T18:53:36.577631",
     "status": "completed"
    },
    "tags": []
   },
   "outputs": [],
   "source": [
    "def infer_tokenize(example, tokenizer):\n",
    "    \"\"\"\n",
    "    Tokenize an example for NER using the given tokenizer.\n",
    "\n",
    "    Args:\n",
    "        example (dict): A dictionary containing \"tokens\" and \"trailing_whitespace\" lists.\n",
    "            - \"tokens\": A list of token strings.\n",
    "            - \"trailing_whitespace\": A list of boolean values indicating whether each token has trailing whitespace.\n",
    "        tokenizer: The tokenizer to use for tokenization.\n",
    "\n",
    "    Returns:\n",
    "        dict: A dictionary containing tokenized output, including offsets mapping and token map.\n",
    "            - \"input_ids\": List of token IDs.\n",
    "            - \"attention_mask\": List of attention mask values.\n",
    "            - \"offset_mapping\": List of character offsets for each token.\n",
    "            - \"token_map\": List mapping each input token to its original position in the example.\n",
    "            \n",
    "    Reference: https://www.kaggle.com/code/valentinwerner/893-deberta3base-Inference\n",
    "    \"\"\"\n",
    "    #empty list to store text and tokens in respective map\n",
    "    text = []\n",
    "    token_map = []\n",
    "    \n",
    "    #keep track of tokens\n",
    "    idx = 0\n",
    "    \n",
    "    #for the example go through tokens and whitespace\n",
    "    for t, ws in zip(example[\"tokens\"], example[\"trailing_whitespace\"]):\n",
    "        \n",
    "        #add token to text\n",
    "        text.append(t)\n",
    "        #extend token length number of idx\n",
    "        token_map.extend([idx]*len(t))\n",
    "        #for whitespace add a space to text and label -1 in token map\n",
    "        if ws:\n",
    "            text.append(\" \")\n",
    "            token_map.append(-1)\n",
    "            \n",
    "        idx += 1\n",
    "        \n",
    "    #Tokenize the text and return offset mapping with the token map    \n",
    "    tokenized = tokenizer(\"\".join(text), return_offsets_mapping=True, truncation=True, max_length=INFERENCE_MAX_LENGTH)\n",
    "    \n",
    "        \n",
    "    return {\n",
    "        **tokenized,\n",
    "        \"token_map\": token_map,\n",
    "    }"
   ]
  },
  {
   "cell_type": "markdown",
   "id": "ed987d9c",
   "metadata": {
    "papermill": {
     "duration": 0.008215,
     "end_time": "2024-03-07T18:53:36.613852",
     "exception": false,
     "start_time": "2024-03-07T18:53:36.605637",
     "status": "completed"
    },
    "tags": []
   },
   "source": [
    "# Load Data and Model"
   ]
  },
  {
   "cell_type": "code",
   "execution_count": 5,
   "id": "71838d24",
   "metadata": {
    "execution": {
     "iopub.execute_input": "2024-03-07T18:53:36.631420Z",
     "iopub.status.busy": "2024-03-07T18:53:36.631148Z",
     "iopub.status.idle": "2024-03-07T18:53:36.639720Z",
     "shell.execute_reply": "2024-03-07T18:53:36.638888Z"
    },
    "papermill": {
     "duration": 0.019727,
     "end_time": "2024-03-07T18:53:36.641642",
     "exception": false,
     "start_time": "2024-03-07T18:53:36.621915",
     "status": "completed"
    },
    "tags": []
   },
   "outputs": [],
   "source": [
    "#helper function for loading to dataset\n",
    "def load_process_ds_helper(json_path, tokenizer,val = False):\n",
    "    # Load data from JSON file\n",
    "    data = json.load(open(json_path))\n",
    "\n",
    "    if not val:\n",
    "        # Convert data to Hugging Face Dataset object\n",
    "        ds = Dataset.from_dict({\n",
    "            \"full_text\": [x[\"full_text\"] for x in data],\n",
    "            \"document\": [str(x[\"document\"]) for x in data],\n",
    "            \"tokens\": [x[\"tokens\"] for x in data],\n",
    "            \"trailing_whitespace\": [x[\"trailing_whitespace\"] for x in data]\n",
    "        })\n",
    "    #inlcude provided lables if val\n",
    "    else:\n",
    "        ds = Dataset.from_dict({\n",
    "            \"full_text\": [x[\"full_text\"] for x in data],\n",
    "            \"document\": [str(x[\"document\"]) for x in data],\n",
    "            \"tokens\": [x[\"tokens\"] for x in data],\n",
    "            \"trailing_whitespace\": [x[\"trailing_whitespace\"] for x in data],\n",
    "            \"provided_labels\": [x[\"provided_labels\"] for x in data]\n",
    "        })\n",
    "\n",
    "    # Map the tokenize function to the Dataset\n",
    "    ds = ds.map(\n",
    "        infer_tokenize,\n",
    "        fn_kwargs={      # pass keyword args\n",
    "            \"tokenizer\": tokenizer\n",
    "        }, \n",
    "        num_proc=2   #issue with multithreading so went with 2\n",
    "    )\n",
    "\n",
    "    return ds"
   ]
  },
  {
   "cell_type": "code",
   "execution_count": 6,
   "id": "c84d0b76",
   "metadata": {
    "execution": {
     "iopub.execute_input": "2024-03-07T18:53:36.659180Z",
     "iopub.status.busy": "2024-03-07T18:53:36.658890Z",
     "iopub.status.idle": "2024-03-07T18:53:41.800093Z",
     "shell.execute_reply": "2024-03-07T18:53:41.799264Z"
    },
    "papermill": {
     "duration": 5.152525,
     "end_time": "2024-03-07T18:53:41.802379",
     "exception": false,
     "start_time": "2024-03-07T18:53:36.649854",
     "status": "completed"
    },
    "tags": []
   },
   "outputs": [],
   "source": [
    "tokenizer = AutoTokenizer.from_pretrained(INFERENCE_MODEL_PATH)\n",
    "\n",
    "model = AutoModelForTokenClassification.from_pretrained(INFERENCE_MODEL_PATH)\n",
    "collator = DataCollatorForTokenClassification(tokenizer, pad_to_multiple_of=16)\n",
    "\n",
    "# Load id2label configuration from model\n",
    "config = json.load(open(INFERENCE_MODEL_PATH + \"/config.json\"))\n",
    "id2label = config[\"id2label\"]"
   ]
  },
  {
   "cell_type": "code",
   "execution_count": 7,
   "id": "781ae708",
   "metadata": {
    "execution": {
     "iopub.execute_input": "2024-03-07T18:53:41.821326Z",
     "iopub.status.busy": "2024-03-07T18:53:41.820788Z",
     "iopub.status.idle": "2024-03-07T18:53:54.252587Z",
     "shell.execute_reply": "2024-03-07T18:53:54.251663Z"
    },
    "papermill": {
     "duration": 12.44362,
     "end_time": "2024-03-07T18:53:54.254980",
     "exception": false,
     "start_time": "2024-03-07T18:53:41.811360",
     "status": "completed"
    },
    "tags": []
   },
   "outputs": [
    {
     "name": "stdout",
     "output_type": "stream",
     "text": [
      "   "
     ]
    },
    {
     "data": {
      "application/vnd.jupyter.widget-view+json": {
       "model_id": "acf7afa786ed4e1a97eabca211f3cde3",
       "version_major": 2,
       "version_minor": 0
      },
      "text/plain": [
       "#0:   0%|          | 0/5 [00:00<?, ?ex/s]"
      ]
     },
     "metadata": {},
     "output_type": "display_data"
    },
    {
     "name": "stdout",
     "output_type": "stream",
     "text": [
      " "
     ]
    },
    {
     "data": {
      "application/vnd.jupyter.widget-view+json": {
       "model_id": "7d476a70116845269874c5c1a2d790ea",
       "version_major": 2,
       "version_minor": 0
      },
      "text/plain": [
       "#1:   0%|          | 0/5 [00:00<?, ?ex/s]"
      ]
     },
     "metadata": {},
     "output_type": "display_data"
    },
    {
     "name": "stdout",
     "output_type": "stream",
     "text": [
      "   "
     ]
    },
    {
     "data": {
      "application/vnd.jupyter.widget-view+json": {
       "model_id": "d50d84bfc94748d4a3a583ffa3d2909e",
       "version_major": 2,
       "version_minor": 0
      },
      "text/plain": [
       "#0:   0%|          | 0/344 [00:00<?, ?ex/s]"
      ]
     },
     "metadata": {},
     "output_type": "display_data"
    },
    {
     "name": "stdout",
     "output_type": "stream",
     "text": [
      " "
     ]
    },
    {
     "data": {
      "application/vnd.jupyter.widget-view+json": {
       "model_id": "8430101f9c5d420e8034c050ca8f3b81",
       "version_major": 2,
       "version_minor": 0
      },
      "text/plain": [
       "#1:   0%|          | 0/344 [00:00<?, ?ex/s]"
      ]
     },
     "metadata": {},
     "output_type": "display_data"
    }
   ],
   "source": [
    "#load and proces (tokenize) data to dataset\n",
    "\n",
    "sub_ds =load_process_ds_helper((DATA_PATH+ \"/test.json\"), tokenizer)\n",
    "if VAL:\n",
    "    val_gt_ds =load_process_ds_helper(VAL_PATH, tokenizer, True)\n",
    "    val_labels = val_gt_ds[\"provided_labels\"]\n",
    "    # Create val_ds with everything except \"provided_labels\" ->TODO:check if it affects predicting vs training\n",
    "    val_ds = val_gt_ds.remove_columns(\"provided_labels\")"
   ]
  },
  {
   "cell_type": "code",
   "execution_count": 8,
   "id": "8b2cbc99",
   "metadata": {
    "execution": {
     "iopub.execute_input": "2024-03-07T18:53:54.276011Z",
     "iopub.status.busy": "2024-03-07T18:53:54.275695Z",
     "iopub.status.idle": "2024-03-07T18:53:54.725085Z",
     "shell.execute_reply": "2024-03-07T18:53:54.724081Z"
    },
    "papermill": {
     "duration": 0.462727,
     "end_time": "2024-03-07T18:53:54.727643",
     "exception": false,
     "start_time": "2024-03-07T18:53:54.264916",
     "status": "completed"
    },
    "tags": []
   },
   "outputs": [],
   "source": [
    "#Configure trainer\n",
    "training_args = TrainingArguments(\n",
    "    output_dir= OUTPUT_DIR,  # Directory to save checkpoints and logs\n",
    "    fp16 =False,               #mix-precision training on 16 bit to reduce memory and speed up training\n",
    "    report_to=\"none\",        #where training report progress, \"none\" prevents wandb login\n",
    "    per_device_eval_batch_size=1,\n",
    "    do_eval = False,          #whether or not to perform eval during training\n",
    "    evaluation_strategy=\"no\",    # When to evaluate during training {no, steps or epoch}  \n",
    ")\n",
    "\n",
    "#inialize trainer for training and evaluation interface\n",
    "trainer = Trainer(\n",
    "    model=model, \n",
    "    args=training_args, \n",
    "    data_collator=collator, \n",
    "    tokenizer=tokenizer,\n",
    ")"
   ]
  },
  {
   "cell_type": "markdown",
   "id": "b3e281bb",
   "metadata": {
    "papermill": {
     "duration": 0.009689,
     "end_time": "2024-03-07T18:53:54.747574",
     "exception": false,
     "start_time": "2024-03-07T18:53:54.737885",
     "status": "completed"
    },
    "tags": []
   },
   "source": [
    "# Prediction"
   ]
  },
  {
   "cell_type": "code",
   "execution_count": 9,
   "id": "9f98844c",
   "metadata": {
    "execution": {
     "iopub.execute_input": "2024-03-07T18:53:54.767723Z",
     "iopub.status.busy": "2024-03-07T18:53:54.767422Z",
     "iopub.status.idle": "2024-03-07T18:53:54.773175Z",
     "shell.execute_reply": "2024-03-07T18:53:54.772304Z"
    },
    "papermill": {
     "duration": 0.017959,
     "end_time": "2024-03-07T18:53:54.775127",
     "exception": false,
     "start_time": "2024-03-07T18:53:54.757168",
     "status": "completed"
    },
    "tags": []
   },
   "outputs": [],
   "source": [
    "#prediction helper function\n",
    "from scipy.special import softmax\n",
    "import json\n",
    "import numpy as np\n",
    "\n",
    "def predict_helper(trainer, ds, model_path, threshold=0.9):\n",
    "    # Get predictions from model\n",
    "    predictions = trainer.predict(ds).predictions\n",
    "\n",
    "    # Scale long last dimension to probabilities for interpretability\n",
    "    pred_softmax = softmax(predictions, axis=-1)\n",
    "\n",
    "    #Choose label with max probability\n",
    "    preds_final = predictions.argmax(-1)\n",
    "\n",
    "    return preds_final"
   ]
  },
  {
   "cell_type": "code",
   "execution_count": 10,
   "id": "806de369",
   "metadata": {
    "execution": {
     "iopub.execute_input": "2024-03-07T18:53:54.795554Z",
     "iopub.status.busy": "2024-03-07T18:53:54.795002Z",
     "iopub.status.idle": "2024-03-07T18:55:00.303171Z",
     "shell.execute_reply": "2024-03-07T18:55:00.302194Z"
    },
    "papermill": {
     "duration": 65.520712,
     "end_time": "2024-03-07T18:55:00.305406",
     "exception": false,
     "start_time": "2024-03-07T18:53:54.784694",
     "status": "completed"
    },
    "tags": []
   },
   "outputs": [
    {
     "data": {
      "text/html": [],
      "text/plain": [
       "<IPython.core.display.HTML object>"
      ]
     },
     "metadata": {},
     "output_type": "display_data"
    },
    {
     "name": "stdout",
     "output_type": "stream",
     "text": [
      "CPU times: user 1min 28s, sys: 4.68 s, total: 1min 33s\n",
      "Wall time: 1min 5s\n"
     ]
    }
   ],
   "source": [
    "%%time\n",
    "#validation\n",
    "if VAL:\n",
    "    preds_final_val = predict_helper(\n",
    "        trainer,\n",
    "        val_ds,\n",
    "        INFERENCE_MODEL_PATH, \n",
    "        threshold=0.9\n",
    ")"
   ]
  },
  {
   "cell_type": "code",
   "execution_count": 11,
   "id": "00dda39d",
   "metadata": {
    "execution": {
     "iopub.execute_input": "2024-03-07T18:55:00.327241Z",
     "iopub.status.busy": "2024-03-07T18:55:00.326941Z",
     "iopub.status.idle": "2024-03-07T18:55:06.267932Z",
     "shell.execute_reply": "2024-03-07T18:55:06.266978Z"
    },
    "papermill": {
     "duration": 5.954573,
     "end_time": "2024-03-07T18:55:06.270130",
     "exception": false,
     "start_time": "2024-03-07T18:55:00.315557",
     "status": "completed"
    },
    "tags": []
   },
   "outputs": [
    {
     "name": "stdout",
     "output_type": "stream",
     "text": [
      "Validation scores: \n",
      "recall:  0.26373626373626374\n",
      "precision:  0.03274215552523874\n",
      "f5:  0.20744680849147093\n"
     ]
    }
   ],
   "source": [
    "from seqeval.metrics import recall_score, precision_score\n",
    "from seqeval.metrics import classification_report\n",
    "from seqeval.metrics import f1_score\n",
    "\n",
    "#validation results\n",
    "if VAL:\n",
    "    possible_labels = [\n",
    "        'B-NAME_STUDENT', 'B-EMAIL','B-USERNAME', 'B-ID_NUM', 'B-PHONE_NUM',\n",
    "        'B-URL_PERSONAL', 'B-STREET_ADDRESS',\n",
    "        'I-NAME_STUDENT', 'I-EMAIL','B-USERNAME', 'I-ID_NUM', 'I-PHONE_NUM',\n",
    "        'I-URL_PERSONAL', 'I-STREET_ADDRESS', 'O'\n",
    "    ]\n",
    "\n",
    "    \n",
    "    \n",
    "preds_str = []\n",
    "true_labels_str = []\n",
    "\n",
    "for p, true_labels_seq, token_map, offsets, tokens, doc in zip(preds_final_val, val_labels, val_ds[\"token_map\"], val_ds[\"offset_mapping\"], val_ds[\"tokens\"], val_ds[\"document\"]):\n",
    "    preds_str_doc = []\n",
    "    true_labels_str_doc = []\n",
    "\n",
    "    # iterate through each prediction, true label and its offset\n",
    "    for token_pred, true_label, (start_idx, end_idx) in zip(p, true_labels_seq, offsets):\n",
    "        label_pred = id2label[str(token_pred)]  #predicted label\n",
    "\n",
    "        if start_idx + end_idx == 0: continue   #for special token or padding token\n",
    "\n",
    "        if token_map[start_idx] == -1:  #label is for ws so go to next\n",
    "            start_idx += 1\n",
    "\n",
    "        # ignore leading white space token \"\\n\\n\"\n",
    "        while start_idx < len(token_map) and tokens[token_map[start_idx]].isspace():\n",
    "            start_idx += 1\n",
    "            \n",
    "        #break if index exceeds the length of token mapping\n",
    "        if start_idx >= len(token_map): break\n",
    "        \n",
    "        token_id = token_map[start_idx]  #token ID at start of index\n",
    "\n",
    "        # ignore \"O\" predictions and whitespace preds\n",
    "        if label_pred != \"O\" and token_id != -1:\n",
    "            preds_str_doc.append(label_pred)\n",
    "            true_labels_str_doc.append(true_label)\n",
    "\n",
    "    preds_str.append(preds_str_doc)\n",
    "    true_labels_str.append(true_labels_str_doc)\n",
    "    \n",
    "\n",
    "# Calculate precision and recall\n",
    "precision = precision_score(true_labels_str, preds_str)\n",
    "recall = recall_score(true_labels_str, preds_str)\n",
    "\n",
    "# Calculate F5 score\n",
    "f5_score = (1 + 5*5) * recall * precision / (5*5*precision + recall + 1e-10)  # add a small constant to prevent division by zero\n",
    "\n",
    "print(\"Validation scores: \")\n",
    "print(\"recall: \", recall)\n",
    "print('precision: ', precision)    \n",
    "print('f5: ', f5_score)    \n"
   ]
  },
  {
   "cell_type": "code",
   "execution_count": 12,
   "id": "4e9479f5",
   "metadata": {
    "execution": {
     "iopub.execute_input": "2024-03-07T18:55:06.291785Z",
     "iopub.status.busy": "2024-03-07T18:55:06.291006Z",
     "iopub.status.idle": "2024-03-07T18:55:07.304814Z",
     "shell.execute_reply": "2024-03-07T18:55:07.303797Z"
    },
    "papermill": {
     "duration": 1.026786,
     "end_time": "2024-03-07T18:55:07.307114",
     "exception": false,
     "start_time": "2024-03-07T18:55:06.280328",
     "status": "completed"
    },
    "tags": []
   },
   "outputs": [
    {
     "data": {
      "text/html": [],
      "text/plain": [
       "<IPython.core.display.HTML object>"
      ]
     },
     "metadata": {},
     "output_type": "display_data"
    },
    {
     "name": "stdout",
     "output_type": "stream",
     "text": [
      "CPU times: user 1.36 s, sys: 36.2 ms, total: 1.39 s\n",
      "Wall time: 1.01 s\n"
     ]
    }
   ],
   "source": [
    "%%time\n",
    "#compitition\n",
    "preds_final_sub = predict_helper(\n",
    "    trainer,\n",
    "    sub_ds,\n",
    "    INFERENCE_MODEL_PATH,\n",
    "    threshold=0.9\n",
    ")"
   ]
  },
  {
   "cell_type": "code",
   "execution_count": 13,
   "id": "19811ff9",
   "metadata": {
    "execution": {
     "iopub.execute_input": "2024-03-07T18:55:07.332536Z",
     "iopub.status.busy": "2024-03-07T18:55:07.332230Z",
     "iopub.status.idle": "2024-03-07T18:55:07.337507Z",
     "shell.execute_reply": "2024-03-07T18:55:07.336599Z"
    },
    "papermill": {
     "duration": 0.020526,
     "end_time": "2024-03-07T18:55:07.339940",
     "exception": false,
     "start_time": "2024-03-07T18:55:07.319414",
     "status": "completed"
    },
    "tags": []
   },
   "outputs": [
    {
     "name": "stdout",
     "output_type": "stream",
     "text": [
      "10\n",
      "688\n"
     ]
    }
   ],
   "source": [
    "print(len(sub_ds))\n",
    "print(len(val_ds))"
   ]
  },
  {
   "cell_type": "markdown",
   "id": "dc86356c",
   "metadata": {
    "papermill": {
     "duration": 0.011585,
     "end_time": "2024-03-07T18:55:07.363244",
     "exception": false,
     "start_time": "2024-03-07T18:55:07.351659",
     "status": "completed"
    },
    "tags": []
   },
   "source": [
    "# Process preditions and submit"
   ]
  },
  {
   "cell_type": "code",
   "execution_count": 14,
   "id": "633b36ac",
   "metadata": {
    "execution": {
     "iopub.execute_input": "2024-03-07T18:55:07.387427Z",
     "iopub.status.busy": "2024-03-07T18:55:07.386945Z",
     "iopub.status.idle": "2024-03-07T18:55:07.397329Z",
     "shell.execute_reply": "2024-03-07T18:55:07.396503Z"
    },
    "papermill": {
     "duration": 0.024165,
     "end_time": "2024-03-07T18:55:07.399182",
     "exception": false,
     "start_time": "2024-03-07T18:55:07.375017",
     "status": "completed"
    },
    "tags": []
   },
   "outputs": [],
   "source": [
    "import pandas as pd\n",
    "\n",
    "def create_submission_df(preds_final_sub, sub_ds, id2label):\n",
    "    \"\"\"\n",
    "    Create a DataFrame of submission information.\n",
    "\n",
    "    Parameters:\n",
    "    - preds_final_sub (list): List of predictions.\n",
    "    - sub_ds (Dataset): Dataset containing the token maps, offset mappings, tokens, and documents.\n",
    "    - id2label (dict): Dictionary mapping label IDs to labels.\n",
    "\n",
    "    Returns:\n",
    "    - DataFrame: DataFrame containing the submission information.\n",
    "    \"\"\"\n",
    "    # Create lists of submission information\n",
    "    triplets = []\n",
    "    document, token, label, token_str = [], [], [], []\n",
    "\n",
    "    for p, token_map, offsets, tokens, doc in zip(preds_final_sub, sub_ds[\"token_map\"], sub_ds[\"offset_mapping\"], sub_ds[\"tokens\"], sub_ds[\"document\"]):\n",
    "        # Iterate through each prediction and its offset\n",
    "        for token_pred, (start_idx, end_idx) in zip(p, offsets):\n",
    "            label_pred = id2label[str(token_pred)]  # Predicted label\n",
    "\n",
    "            if start_idx + end_idx == 0: continue   # For special token or padding token\n",
    "\n",
    "            if token_map[start_idx] == -1:  # Label is for whitespace so go to next\n",
    "                start_idx += 1\n",
    "\n",
    "            # Ignore leading whitespace token \"\\n\\n\"\n",
    "            while start_idx < len(token_map) and tokens[token_map[start_idx]].isspace():\n",
    "                start_idx += 1\n",
    "            \n",
    "            # Break if index exceeds the length of token mapping\n",
    "            if start_idx >= len(token_map): break\n",
    "            \n",
    "            token_id = token_map[start_idx]  # Token ID at start of index\n",
    "\n",
    "            # Ignore \"O\" predictions and whitespace predictions\n",
    "            if label_pred != \"O\" and token_id != -1:\n",
    "                triplet = (label_pred, token_id, tokens[token_id])\n",
    "\n",
    "                # Add triplet if not in list of triplets\n",
    "                if triplet not in triplets:\n",
    "                    document.append(doc)\n",
    "                    token.append(token_id)\n",
    "                    label.append(label_pred)\n",
    "                    token_str.append(tokens[token_id])\n",
    "                    triplets.append(triplet)\n",
    "\n",
    "    # Create a DataFrame of submission information\n",
    "    df = pd.DataFrame({\n",
    "        \"document\": document,\n",
    "        \"token\": token,\n",
    "        \"label\": label,\n",
    "        \"token_str\": token_str\n",
    "    })\n",
    "\n",
    "    return df"
   ]
  },
  {
   "cell_type": "code",
   "execution_count": 15,
   "id": "428798ed",
   "metadata": {
    "execution": {
     "iopub.execute_input": "2024-03-07T18:55:07.420063Z",
     "iopub.status.busy": "2024-03-07T18:55:07.419824Z",
     "iopub.status.idle": "2024-03-07T18:55:07.517891Z",
     "shell.execute_reply": "2024-03-07T18:55:07.516971Z"
    },
    "papermill": {
     "duration": 0.11098,
     "end_time": "2024-03-07T18:55:07.519964",
     "exception": false,
     "start_time": "2024-03-07T18:55:07.408984",
     "status": "completed"
    },
    "tags": []
   },
   "outputs": [
    {
     "data": {
      "text/html": [
       "<div>\n",
       "<style scoped>\n",
       "    .dataframe tbody tr th:only-of-type {\n",
       "        vertical-align: middle;\n",
       "    }\n",
       "\n",
       "    .dataframe tbody tr th {\n",
       "        vertical-align: top;\n",
       "    }\n",
       "\n",
       "    .dataframe thead th {\n",
       "        text-align: right;\n",
       "    }\n",
       "</style>\n",
       "<table border=\"1\" class=\"dataframe\">\n",
       "  <thead>\n",
       "    <tr style=\"text-align: right;\">\n",
       "      <th></th>\n",
       "      <th>document</th>\n",
       "      <th>token</th>\n",
       "      <th>label</th>\n",
       "      <th>token_str</th>\n",
       "      <th>row_id</th>\n",
       "    </tr>\n",
       "  </thead>\n",
       "  <tbody>\n",
       "    <tr>\n",
       "      <th>0</th>\n",
       "      <td>7</td>\n",
       "      <td>9</td>\n",
       "      <td>B-NAME_STUDENT</td>\n",
       "      <td>Nathalie</td>\n",
       "      <td>0</td>\n",
       "    </tr>\n",
       "    <tr>\n",
       "      <th>1</th>\n",
       "      <td>7</td>\n",
       "      <td>10</td>\n",
       "      <td>I-NAME_STUDENT</td>\n",
       "      <td>Sylla</td>\n",
       "      <td>1</td>\n",
       "    </tr>\n",
       "    <tr>\n",
       "      <th>2</th>\n",
       "      <td>7</td>\n",
       "      <td>482</td>\n",
       "      <td>B-NAME_STUDENT</td>\n",
       "      <td>Nathalie</td>\n",
       "      <td>2</td>\n",
       "    </tr>\n",
       "    <tr>\n",
       "      <th>3</th>\n",
       "      <td>7</td>\n",
       "      <td>483</td>\n",
       "      <td>I-NAME_STUDENT</td>\n",
       "      <td>Sylla</td>\n",
       "      <td>3</td>\n",
       "    </tr>\n",
       "    <tr>\n",
       "      <th>4</th>\n",
       "      <td>7</td>\n",
       "      <td>741</td>\n",
       "      <td>B-NAME_STUDENT</td>\n",
       "      <td>Nathalie</td>\n",
       "      <td>4</td>\n",
       "    </tr>\n",
       "    <tr>\n",
       "      <th>5</th>\n",
       "      <td>7</td>\n",
       "      <td>742</td>\n",
       "      <td>I-NAME_STUDENT</td>\n",
       "      <td>Sylla</td>\n",
       "      <td>5</td>\n",
       "    </tr>\n",
       "    <tr>\n",
       "      <th>6</th>\n",
       "      <td>10</td>\n",
       "      <td>0</td>\n",
       "      <td>B-NAME_STUDENT</td>\n",
       "      <td>Diego</td>\n",
       "      <td>6</td>\n",
       "    </tr>\n",
       "    <tr>\n",
       "      <th>7</th>\n",
       "      <td>10</td>\n",
       "      <td>1</td>\n",
       "      <td>I-NAME_STUDENT</td>\n",
       "      <td>Estrada</td>\n",
       "      <td>7</td>\n",
       "    </tr>\n",
       "    <tr>\n",
       "      <th>8</th>\n",
       "      <td>10</td>\n",
       "      <td>464</td>\n",
       "      <td>B-NAME_STUDENT</td>\n",
       "      <td>Diego</td>\n",
       "      <td>8</td>\n",
       "    </tr>\n",
       "    <tr>\n",
       "      <th>9</th>\n",
       "      <td>10</td>\n",
       "      <td>465</td>\n",
       "      <td>I-NAME_STUDENT</td>\n",
       "      <td>Estrada</td>\n",
       "      <td>9</td>\n",
       "    </tr>\n",
       "  </tbody>\n",
       "</table>\n",
       "</div>"
      ],
      "text/plain": [
       "  document  token           label token_str  row_id\n",
       "0        7      9  B-NAME_STUDENT  Nathalie       0\n",
       "1        7     10  I-NAME_STUDENT     Sylla       1\n",
       "2        7    482  B-NAME_STUDENT  Nathalie       2\n",
       "3        7    483  I-NAME_STUDENT     Sylla       3\n",
       "4        7    741  B-NAME_STUDENT  Nathalie       4\n",
       "5        7    742  I-NAME_STUDENT     Sylla       5\n",
       "6       10      0  B-NAME_STUDENT     Diego       6\n",
       "7       10      1  I-NAME_STUDENT   Estrada       7\n",
       "8       10    464  B-NAME_STUDENT     Diego       8\n",
       "9       10    465  I-NAME_STUDENT   Estrada       9"
      ]
     },
     "metadata": {},
     "output_type": "display_data"
    }
   ],
   "source": [
    "df = create_submission_df(preds_final_sub, sub_ds, id2label)\n",
    "\n",
    "#assign each row a unique row id\n",
    "df[\"row_id\"] = list(range(len(df)))\n",
    "display(df.head(10))\n"
   ]
  },
  {
   "cell_type": "code",
   "execution_count": 16,
   "id": "720be6dd",
   "metadata": {
    "execution": {
     "iopub.execute_input": "2024-03-07T18:55:07.541703Z",
     "iopub.status.busy": "2024-03-07T18:55:07.541428Z",
     "iopub.status.idle": "2024-03-07T18:55:07.555890Z",
     "shell.execute_reply": "2024-03-07T18:55:07.555200Z"
    },
    "papermill": {
     "duration": 0.027469,
     "end_time": "2024-03-07T18:55:07.557787",
     "exception": false,
     "start_time": "2024-03-07T18:55:07.530318",
     "status": "completed"
    },
    "tags": []
   },
   "outputs": [],
   "source": [
    "df[[\"row_id\", \"document\", \"token\", \"label\"]].to_csv(\"submission.csv\", index=False)"
   ]
  },
  {
   "cell_type": "code",
   "execution_count": 17,
   "id": "b42b768a",
   "metadata": {
    "execution": {
     "iopub.execute_input": "2024-03-07T18:55:07.579976Z",
     "iopub.status.busy": "2024-03-07T18:55:07.579681Z",
     "iopub.status.idle": "2024-03-07T18:55:07.589814Z",
     "shell.execute_reply": "2024-03-07T18:55:07.589015Z"
    },
    "papermill": {
     "duration": 0.023575,
     "end_time": "2024-03-07T18:55:07.591610",
     "exception": false,
     "start_time": "2024-03-07T18:55:07.568035",
     "status": "completed"
    },
    "tags": []
   },
   "outputs": [],
   "source": [
    "#test Metrics\n",
    "def pii_metrics_score(pred_df, gt_df, beta=5):\n",
    "    \"\"\"\n",
    "    Calculate print the Precision, Recall and Micro F-beta score for predicted PII labels. Determines which were false negatives\n",
    "\n",
    "    Parameters:\n",
    "    - pred_df (DataFrame): DataFrame containing predicted PII labels [\"row_id\", \"document\", \"token\", \"label\"].\n",
    "    - gt_df (DataFrame): DataFrame containing ground truth PII labels [\"row_id\", \"document\", \"token\", \"label\"].\n",
    "    - beta (float): The beta parameter for the F-beta score, controlling the trade-off between precision and recall.\n",
    "\n",
    "    Returns:\n",
    "    - results (dict): Dictionary containing the precision, recall, and F-beta score.\n",
    "    \"\"\"   \n",
    "    # Merge the predicted and ground truth DataFrames on 'document' and 'token' columns\n",
    "    df = pred_df.merge(gt_df, how='outer', on=['document', \"token\"], suffixes=('_pred', '_gt'))\n",
    "\n",
    "    # Initialize a new column 'compare' with empty strings\n",
    "    df['compare'] = \"\"\n",
    "\n",
    "    # If the predicted label is missing or doesn't match the ground truth, it's a false negative\n",
    "    df.loc[df.label_pred.isna() | (df.label_gt != df.label_pred), 'compare'] = \"FN\"\n",
    "    \n",
    "    # If the ground truth label is missing, it's a false positive\n",
    "    df.loc[df.label_gt.isna(), 'compare'] = \"FP\"\n",
    "\n",
    "    # If the predicted label matches the ground truth, it's a true positive\n",
    "    df.loc[(df.label_pred.notna()) & (df.label_gt == df.label_pred), 'compare'] = \"TP\"\n",
    "    \n",
    "    # Count the number of false positives, false negatives, and true positives\n",
    "    FP = (df['compare'] == \"FP\").sum()\n",
    "    FN = (df['compare'] == \"FN\").sum()\n",
    "    TP = (df['compare'] == \"TP\").sum()\n",
    "\n",
    "\n",
    "    # Calculate the precision, recall, and F-beta score\n",
    "    precision = TP / (TP + FP) if TP + FP > 0 else 0\n",
    "    recall = TP / (TP + FN) if TP + FN > 0 else 0\n",
    "    fbeta_mircro_score = (1 + (beta**2)) * precision * recall / (((beta**2) * precision) + recall) if precision + recall > 0 else 0\n",
    "\n",
    "    # Get a DataFrame of false negatives\n",
    "    fn_df = df.loc[df.label_pred.isna() | (df.label_gt != df.label_pred)]\n",
    "    \n",
    "    # Print the precision, recall, and F-beta score\n",
    "    print(f\"Precision: {precision}\")\n",
    "    print(f\"Recall: {recall}\")\n",
    "    print(f\"F-beta score: {fbeta_mircro_score}\")\n",
    "    \n",
    "    return fn_df"
   ]
  },
  {
   "cell_type": "code",
   "execution_count": 18,
   "id": "ce9d19f4",
   "metadata": {
    "execution": {
     "iopub.execute_input": "2024-03-07T18:55:07.613256Z",
     "iopub.status.busy": "2024-03-07T18:55:07.612994Z",
     "iopub.status.idle": "2024-03-07T18:55:07.645914Z",
     "shell.execute_reply": "2024-03-07T18:55:07.644933Z"
    },
    "papermill": {
     "duration": 0.046056,
     "end_time": "2024-03-07T18:55:07.647932",
     "exception": false,
     "start_time": "2024-03-07T18:55:07.601876",
     "status": "completed"
    },
    "tags": []
   },
   "outputs": [
    {
     "name": "stdout",
     "output_type": "stream",
     "text": [
      "submission sample metrics:\n",
      "Precision: 0.9629629629629629\n",
      "Recall: 1.0\n",
      "F-beta score: 0.9985228951255539\n"
     ]
    },
    {
     "data": {
      "text/html": [
       "<div>\n",
       "<style scoped>\n",
       "    .dataframe tbody tr th:only-of-type {\n",
       "        vertical-align: middle;\n",
       "    }\n",
       "\n",
       "    .dataframe tbody tr th {\n",
       "        vertical-align: top;\n",
       "    }\n",
       "\n",
       "    .dataframe thead th {\n",
       "        text-align: right;\n",
       "    }\n",
       "</style>\n",
       "<table border=\"1\" class=\"dataframe\">\n",
       "  <thead>\n",
       "    <tr style=\"text-align: right;\">\n",
       "      <th></th>\n",
       "      <th>row_id_pred</th>\n",
       "      <th>document</th>\n",
       "      <th>token</th>\n",
       "      <th>label_pred</th>\n",
       "      <th>row_id_gt</th>\n",
       "      <th>label_gt</th>\n",
       "      <th>compare</th>\n",
       "    </tr>\n",
       "  </thead>\n",
       "  <tbody>\n",
       "    <tr>\n",
       "      <th>14</th>\n",
       "      <td>14</td>\n",
       "      <td>20</td>\n",
       "      <td>8</td>\n",
       "      <td>I-NAME_STUDENT</td>\n",
       "      <td>NaN</td>\n",
       "      <td>NaN</td>\n",
       "      <td>FP</td>\n",
       "    </tr>\n",
       "  </tbody>\n",
       "</table>\n",
       "</div>"
      ],
      "text/plain": [
       "    row_id_pred  document  token      label_pred  row_id_gt label_gt compare\n",
       "14           14        20      8  I-NAME_STUDENT        NaN      NaN      FP"
      ]
     },
     "execution_count": 18,
     "metadata": {},
     "output_type": "execute_result"
    }
   ],
   "source": [
    "print(\"submission sample metrics:\")\n",
    "pred_df = pd.read_csv('/kaggle/working/submission.csv')\n",
    "gt_df= pd.read_csv('/kaggle/input/pii-detection-removal-from-educational-data/sample_submission.csv')\n",
    "fn_df = pii_metrics_score(pred_df, gt_df, beta=5)\n",
    "\n",
    "fn_df.head()"
   ]
  },
  {
   "cell_type": "code",
   "execution_count": 19,
   "id": "dcf89ba2",
   "metadata": {
    "execution": {
     "iopub.execute_input": "2024-03-07T18:55:07.670629Z",
     "iopub.status.busy": "2024-03-07T18:55:07.670364Z",
     "iopub.status.idle": "2024-03-07T18:55:07.680301Z",
     "shell.execute_reply": "2024-03-07T18:55:07.679504Z"
    },
    "papermill": {
     "duration": 0.02344,
     "end_time": "2024-03-07T18:55:07.682203",
     "exception": false,
     "start_time": "2024-03-07T18:55:07.658763",
     "status": "completed"
    },
    "tags": []
   },
   "outputs": [],
   "source": [
    "import pandas as pd\n",
    "\n",
    "def create_sub_format_val_df(ds):\n",
    "    \"\"\"\n",
    "    Create a DataFrame of submission information.\n",
    "\n",
    "    Parameters:\n",
    "    - ds (Dataset): Dataset containing the token maps, offset mappings, tokens, and documents.\n",
    "\n",
    "    Returns:\n",
    "    - DataFrame: DataFrame containing the submission information.\n",
    "    \"\"\"\n",
    "    # Create lists of submission information\n",
    "    triplets = []\n",
    "    document, token, label, token_str = [], [], [], []\n",
    "\n",
    "    for p, token_map, offsets, tokens, doc in zip(ds[\"provided_labels\"], ds[\"token_map\"], ds[\"offset_mapping\"], ds[\"tokens\"], ds[\"document\"]):\n",
    "        # Iterate through each label and its offset\n",
    "        for label_pred, (start_idx, end_idx) in zip(p, offsets):\n",
    "\n",
    "            if start_idx + end_idx == 0: continue   # For special token or padding token\n",
    "\n",
    "            if token_map[start_idx] == -1:  # Label is for whitespace so go to next\n",
    "                start_idx += 1\n",
    "\n",
    "            # Ignore leading whitespace token \"\\n\\n\"\n",
    "            while start_idx < len(token_map) and tokens[token_map[start_idx]].isspace():\n",
    "                start_idx += 1\n",
    "            \n",
    "            # Break if index exceeds the length of token mapping\n",
    "            if start_idx >= len(token_map): break\n",
    "            \n",
    "            token_id = token_map[start_idx]  # Token ID at start of index\n",
    "\n",
    "            # Ignore \"O\" labels and whitespace labels\n",
    "            if label_pred != \"O\" and token_id != -1:\n",
    "                triplet = (label_pred, token_id, tokens[token_id])\n",
    "\n",
    "                # Add triplet if not in list of triplets\n",
    "                if triplet not in triplets:\n",
    "                    document.append(doc)\n",
    "                    token.append(token_id)\n",
    "                    label.append(label_pred)\n",
    "                    token_str.append(tokens[token_id])\n",
    "                    triplets.append(triplet)\n",
    "\n",
    "    # Create a DataFrame of submission information\n",
    "    df = pd.DataFrame({\n",
    "        \"document\": document,\n",
    "        \"token\": token,\n",
    "        \"label\": label,\n",
    "        \"token_str\": token_str\n",
    "    })\n",
    "\n",
    "    return df"
   ]
  },
  {
   "cell_type": "code",
   "execution_count": 20,
   "id": "3ffe34c1",
   "metadata": {
    "execution": {
     "iopub.execute_input": "2024-03-07T18:55:07.704807Z",
     "iopub.status.busy": "2024-03-07T18:55:07.704515Z",
     "iopub.status.idle": "2024-03-07T18:55:19.905847Z",
     "shell.execute_reply": "2024-03-07T18:55:19.905008Z"
    },
    "papermill": {
     "duration": 12.215072,
     "end_time": "2024-03-07T18:55:19.908212",
     "exception": false,
     "start_time": "2024-03-07T18:55:07.693140",
     "status": "completed"
    },
    "tags": []
   },
   "outputs": [
    {
     "name": "stdout",
     "output_type": "stream",
     "text": [
      "submission sample metrics:\n"
     ]
    }
   ],
   "source": [
    "print(\"submission sample metrics:\")\n",
    "val_pred_df=create_submission_df(preds_final_val, val_ds, id2label)\n",
    "gt_df= create_sub_format_val_df(val_gt_ds)\n"
   ]
  },
  {
   "cell_type": "code",
   "execution_count": 21,
   "id": "763a9faa",
   "metadata": {
    "execution": {
     "iopub.execute_input": "2024-03-07T18:55:19.932181Z",
     "iopub.status.busy": "2024-03-07T18:55:19.931644Z",
     "iopub.status.idle": "2024-03-07T18:55:19.941476Z",
     "shell.execute_reply": "2024-03-07T18:55:19.940639Z"
    },
    "papermill": {
     "duration": 0.023634,
     "end_time": "2024-03-07T18:55:19.943393",
     "exception": false,
     "start_time": "2024-03-07T18:55:19.919759",
     "status": "completed"
    },
    "tags": []
   },
   "outputs": [
    {
     "data": {
      "text/html": [
       "<div>\n",
       "<style scoped>\n",
       "    .dataframe tbody tr th:only-of-type {\n",
       "        vertical-align: middle;\n",
       "    }\n",
       "\n",
       "    .dataframe tbody tr th {\n",
       "        vertical-align: top;\n",
       "    }\n",
       "\n",
       "    .dataframe thead th {\n",
       "        text-align: right;\n",
       "    }\n",
       "</style>\n",
       "<table border=\"1\" class=\"dataframe\">\n",
       "  <thead>\n",
       "    <tr style=\"text-align: right;\">\n",
       "      <th></th>\n",
       "      <th>document</th>\n",
       "      <th>token</th>\n",
       "      <th>label</th>\n",
       "      <th>token_str</th>\n",
       "    </tr>\n",
       "  </thead>\n",
       "  <tbody>\n",
       "    <tr>\n",
       "      <th>0</th>\n",
       "      <td>11144</td>\n",
       "      <td>5</td>\n",
       "      <td>B-NAME_STUDENT</td>\n",
       "      <td>Paola</td>\n",
       "    </tr>\n",
       "    <tr>\n",
       "      <th>1</th>\n",
       "      <td>11144</td>\n",
       "      <td>6</td>\n",
       "      <td>I-NAME_STUDENT</td>\n",
       "      <td>Garcia</td>\n",
       "    </tr>\n",
       "    <tr>\n",
       "      <th>2</th>\n",
       "      <td>10494</td>\n",
       "      <td>0</td>\n",
       "      <td>B-NAME_STUDENT</td>\n",
       "      <td>Ahmed</td>\n",
       "    </tr>\n",
       "    <tr>\n",
       "      <th>3</th>\n",
       "      <td>10494</td>\n",
       "      <td>1</td>\n",
       "      <td>I-NAME_STUDENT</td>\n",
       "      <td>Elnemr</td>\n",
       "    </tr>\n",
       "    <tr>\n",
       "      <th>4</th>\n",
       "      <td>8593</td>\n",
       "      <td>0</td>\n",
       "      <td>B-NAME_STUDENT</td>\n",
       "      <td>Tony</td>\n",
       "    </tr>\n",
       "  </tbody>\n",
       "</table>\n",
       "</div>"
      ],
      "text/plain": [
       "  document  token           label token_str\n",
       "0    11144      5  B-NAME_STUDENT     Paola\n",
       "1    11144      6  I-NAME_STUDENT    Garcia\n",
       "2    10494      0  B-NAME_STUDENT     Ahmed\n",
       "3    10494      1  I-NAME_STUDENT    Elnemr\n",
       "4     8593      0  B-NAME_STUDENT      Tony"
      ]
     },
     "execution_count": 21,
     "metadata": {},
     "output_type": "execute_result"
    }
   ],
   "source": [
    "val_pred_df.head()\n"
   ]
  },
  {
   "cell_type": "code",
   "execution_count": 22,
   "id": "0ced3d6c",
   "metadata": {
    "execution": {
     "iopub.execute_input": "2024-03-07T18:55:19.966800Z",
     "iopub.status.busy": "2024-03-07T18:55:19.966154Z",
     "iopub.status.idle": "2024-03-07T18:55:19.975538Z",
     "shell.execute_reply": "2024-03-07T18:55:19.974542Z"
    },
    "papermill": {
     "duration": 0.022719,
     "end_time": "2024-03-07T18:55:19.977508",
     "exception": false,
     "start_time": "2024-03-07T18:55:19.954789",
     "status": "completed"
    },
    "tags": []
   },
   "outputs": [
    {
     "data": {
      "text/html": [
       "<div>\n",
       "<style scoped>\n",
       "    .dataframe tbody tr th:only-of-type {\n",
       "        vertical-align: middle;\n",
       "    }\n",
       "\n",
       "    .dataframe tbody tr th {\n",
       "        vertical-align: top;\n",
       "    }\n",
       "\n",
       "    .dataframe thead th {\n",
       "        text-align: right;\n",
       "    }\n",
       "</style>\n",
       "<table border=\"1\" class=\"dataframe\">\n",
       "  <thead>\n",
       "    <tr style=\"text-align: right;\">\n",
       "      <th></th>\n",
       "      <th>document</th>\n",
       "      <th>token</th>\n",
       "      <th>label</th>\n",
       "      <th>token_str</th>\n",
       "    </tr>\n",
       "  </thead>\n",
       "  <tbody>\n",
       "    <tr>\n",
       "      <th>0</th>\n",
       "      <td>11144</td>\n",
       "      <td>5</td>\n",
       "      <td>B-NAME_STUDENT</td>\n",
       "      <td>Paola</td>\n",
       "    </tr>\n",
       "    <tr>\n",
       "      <th>1</th>\n",
       "      <td>11144</td>\n",
       "      <td>6</td>\n",
       "      <td>I-NAME_STUDENT</td>\n",
       "      <td>Garcia</td>\n",
       "    </tr>\n",
       "    <tr>\n",
       "      <th>2</th>\n",
       "      <td>10494</td>\n",
       "      <td>0</td>\n",
       "      <td>I-NAME_STUDENT</td>\n",
       "      <td>Ahmed</td>\n",
       "    </tr>\n",
       "    <tr>\n",
       "      <th>3</th>\n",
       "      <td>8593</td>\n",
       "      <td>0</td>\n",
       "      <td>I-NAME_STUDENT</td>\n",
       "      <td>Tony</td>\n",
       "    </tr>\n",
       "    <tr>\n",
       "      <th>4</th>\n",
       "      <td>8593</td>\n",
       "      <td>569</td>\n",
       "      <td>B-NAME_STUDENT</td>\n",
       "      <td>I</td>\n",
       "    </tr>\n",
       "  </tbody>\n",
       "</table>\n",
       "</div>"
      ],
      "text/plain": [
       "  document  token           label token_str\n",
       "0    11144      5  B-NAME_STUDENT     Paola\n",
       "1    11144      6  I-NAME_STUDENT    Garcia\n",
       "2    10494      0  I-NAME_STUDENT     Ahmed\n",
       "3     8593      0  I-NAME_STUDENT      Tony\n",
       "4     8593    569  B-NAME_STUDENT         I"
      ]
     },
     "execution_count": 22,
     "metadata": {},
     "output_type": "execute_result"
    }
   ],
   "source": [
    "gt_df.head()"
   ]
  },
  {
   "cell_type": "code",
   "execution_count": 23,
   "id": "cbddf16f",
   "metadata": {
    "execution": {
     "iopub.execute_input": "2024-03-07T18:55:20.000276Z",
     "iopub.status.busy": "2024-03-07T18:55:20.000034Z",
     "iopub.status.idle": "2024-03-07T18:55:20.027057Z",
     "shell.execute_reply": "2024-03-07T18:55:20.026188Z"
    },
    "papermill": {
     "duration": 0.040907,
     "end_time": "2024-03-07T18:55:20.029252",
     "exception": false,
     "start_time": "2024-03-07T18:55:19.988345",
     "status": "completed"
    },
    "tags": []
   },
   "outputs": [
    {
     "name": "stdout",
     "output_type": "stream",
     "text": [
      "Precision: 0.17647058823529413\n",
      "Recall: 0.18972332015810275\n",
      "F-beta score: 0.18917689859026832\n"
     ]
    },
    {
     "data": {
      "text/html": [
       "<div>\n",
       "<style scoped>\n",
       "    .dataframe tbody tr th:only-of-type {\n",
       "        vertical-align: middle;\n",
       "    }\n",
       "\n",
       "    .dataframe tbody tr th {\n",
       "        vertical-align: top;\n",
       "    }\n",
       "\n",
       "    .dataframe thead th {\n",
       "        text-align: right;\n",
       "    }\n",
       "</style>\n",
       "<table border=\"1\" class=\"dataframe\">\n",
       "  <thead>\n",
       "    <tr style=\"text-align: right;\">\n",
       "      <th></th>\n",
       "      <th>document</th>\n",
       "      <th>token</th>\n",
       "      <th>label_pred</th>\n",
       "      <th>token_str_pred</th>\n",
       "      <th>label_gt</th>\n",
       "      <th>token_str_gt</th>\n",
       "      <th>compare</th>\n",
       "    </tr>\n",
       "  </thead>\n",
       "  <tbody>\n",
       "    <tr>\n",
       "      <th>0</th>\n",
       "      <td>10220</td>\n",
       "      <td>562</td>\n",
       "      <td>B-NAME_STUDENT</td>\n",
       "      <td>Paolina</td>\n",
       "      <td>NaN</td>\n",
       "      <td>NaN</td>\n",
       "      <td>FP</td>\n",
       "    </tr>\n",
       "    <tr>\n",
       "      <th>1</th>\n",
       "      <td>10220</td>\n",
       "      <td>736</td>\n",
       "      <td>B-NAME_STUDENT</td>\n",
       "      <td>Maria</td>\n",
       "      <td>NaN</td>\n",
       "      <td>NaN</td>\n",
       "      <td>FP</td>\n",
       "    </tr>\n",
       "    <tr>\n",
       "      <th>2</th>\n",
       "      <td>10220</td>\n",
       "      <td>795</td>\n",
       "      <td>B-NAME_STUDENT</td>\n",
       "      <td>Maria</td>\n",
       "      <td>NaN</td>\n",
       "      <td>NaN</td>\n",
       "      <td>FP</td>\n",
       "    </tr>\n",
       "    <tr>\n",
       "      <th>4</th>\n",
       "      <td>10418</td>\n",
       "      <td>98</td>\n",
       "      <td>B-URL_PERSONAL</td>\n",
       "      <td>http://beck-calhoun.biz/bloghome.jsp</td>\n",
       "      <td>NaN</td>\n",
       "      <td>NaN</td>\n",
       "      <td>FP</td>\n",
       "    </tr>\n",
       "    <tr>\n",
       "      <th>5</th>\n",
       "      <td>10472</td>\n",
       "      <td>0</td>\n",
       "      <td>B-NAME_STUDENT</td>\n",
       "      <td>Cardo</td>\n",
       "      <td>I-NAME_STUDENT</td>\n",
       "      <td>Cardo</td>\n",
       "      <td>FN</td>\n",
       "    </tr>\n",
       "  </tbody>\n",
       "</table>\n",
       "</div>"
      ],
      "text/plain": [
       "  document  token      label_pred                        token_str_pred  \\\n",
       "0    10220    562  B-NAME_STUDENT                               Paolina   \n",
       "1    10220    736  B-NAME_STUDENT                                 Maria   \n",
       "2    10220    795  B-NAME_STUDENT                                 Maria   \n",
       "4    10418     98  B-URL_PERSONAL  http://beck-calhoun.biz/bloghome.jsp   \n",
       "5    10472      0  B-NAME_STUDENT                                 Cardo   \n",
       "\n",
       "         label_gt token_str_gt compare  \n",
       "0             NaN          NaN      FP  \n",
       "1             NaN          NaN      FP  \n",
       "2             NaN          NaN      FP  \n",
       "4             NaN          NaN      FP  \n",
       "5  I-NAME_STUDENT        Cardo      FN  "
      ]
     },
     "execution_count": 23,
     "metadata": {},
     "output_type": "execute_result"
    }
   ],
   "source": [
    "fn_df = pii_metrics_score(val_pred_df, gt_df, beta=5)\n",
    "\n",
    "fn_df.head()"
   ]
  }
 ],
 "metadata": {
  "kaggle": {
   "accelerator": "nvidiaTeslaT4",
   "dataSources": [
    {
     "databundleVersionId": 7500999,
     "sourceId": 66653,
     "sourceType": "competition"
    },
    {
     "sourceId": 165909577,
     "sourceType": "kernelVersion"
    },
    {
     "sourceId": 165911307,
     "sourceType": "kernelVersion"
    }
   ],
   "dockerImageVersionId": 30665,
   "isGpuEnabled": true,
   "isInternetEnabled": false,
   "language": "python",
   "sourceType": "notebook"
  },
  "kernelspec": {
   "display_name": "Python 3",
   "language": "python",
   "name": "python3"
  },
  "language_info": {
   "codemirror_mode": {
    "name": "ipython",
    "version": 3
   },
   "file_extension": ".py",
   "mimetype": "text/x-python",
   "name": "python",
   "nbconvert_exporter": "python",
   "pygments_lexer": "ipython3",
   "version": "3.10.13"
  },
  "papermill": {
   "default_parameters": {},
   "duration": 168.447874,
   "end_time": "2024-03-07T18:55:22.932131",
   "environment_variables": {},
   "exception": null,
   "input_path": "__notebook__.ipynb",
   "output_path": "__notebook__.ipynb",
   "parameters": {},
   "start_time": "2024-03-07T18:52:34.484257",
   "version": "2.5.0"
  },
  "widgets": {
   "application/vnd.jupyter.widget-state+json": {
    "state": {
     "0409589894f04f3699b74a189f160d97": {
      "model_module": "@jupyter-widgets/controls",
      "model_module_version": "1.5.0",
      "model_name": "HTMLModel",
      "state": {
       "_dom_classes": [],
       "_model_module": "@jupyter-widgets/controls",
       "_model_module_version": "1.5.0",
       "_model_name": "HTMLModel",
       "_view_count": null,
       "_view_module": "@jupyter-widgets/controls",
       "_view_module_version": "1.5.0",
       "_view_name": "HTMLView",
       "description": "",
       "description_tooltip": null,
       "layout": "IPY_MODEL_ec4ca232e659402282102d3bb8ecd2cd",
       "placeholder": "​",
       "style": "IPY_MODEL_5ea8c173e6274c0187709ca8c8c25b35",
       "value": "#0: 100%"
      }
     },
     "11a89e1223e64f7bb02e1c1a7eee3e72": {
      "model_module": "@jupyter-widgets/base",
      "model_module_version": "1.2.0",
      "model_name": "LayoutModel",
      "state": {
       "_model_module": "@jupyter-widgets/base",
       "_model_module_version": "1.2.0",
       "_model_name": "LayoutModel",
       "_view_count": null,
       "_view_module": "@jupyter-widgets/base",
       "_view_module_version": "1.2.0",
       "_view_name": "LayoutView",
       "align_content": null,
       "align_items": null,
       "align_self": null,
       "border": null,
       "bottom": null,
       "display": null,
       "flex": null,
       "flex_flow": null,
       "grid_area": null,
       "grid_auto_columns": null,
       "grid_auto_flow": null,
       "grid_auto_rows": null,
       "grid_column": null,
       "grid_gap": null,
       "grid_row": null,
       "grid_template_areas": null,
       "grid_template_columns": null,
       "grid_template_rows": null,
       "height": null,
       "justify_content": null,
       "justify_items": null,
       "left": null,
       "margin": null,
       "max_height": null,
       "max_width": null,
       "min_height": null,
       "min_width": null,
       "object_fit": null,
       "object_position": null,
       "order": null,
       "overflow": null,
       "overflow_x": null,
       "overflow_y": null,
       "padding": null,
       "right": null,
       "top": null,
       "visibility": null,
       "width": null
      }
     },
     "1aa6d30e82c244aa83e137cdd988991a": {
      "model_module": "@jupyter-widgets/controls",
      "model_module_version": "1.5.0",
      "model_name": "ProgressStyleModel",
      "state": {
       "_model_module": "@jupyter-widgets/controls",
       "_model_module_version": "1.5.0",
       "_model_name": "ProgressStyleModel",
       "_view_count": null,
       "_view_module": "@jupyter-widgets/base",
       "_view_module_version": "1.2.0",
       "_view_name": "StyleView",
       "bar_color": null,
       "description_width": ""
      }
     },
     "1b1d605b64fd4a54a94dedf638e2c16a": {
      "model_module": "@jupyter-widgets/base",
      "model_module_version": "1.2.0",
      "model_name": "LayoutModel",
      "state": {
       "_model_module": "@jupyter-widgets/base",
       "_model_module_version": "1.2.0",
       "_model_name": "LayoutModel",
       "_view_count": null,
       "_view_module": "@jupyter-widgets/base",
       "_view_module_version": "1.2.0",
       "_view_name": "LayoutView",
       "align_content": null,
       "align_items": null,
       "align_self": null,
       "border": null,
       "bottom": null,
       "display": null,
       "flex": null,
       "flex_flow": null,
       "grid_area": null,
       "grid_auto_columns": null,
       "grid_auto_flow": null,
       "grid_auto_rows": null,
       "grid_column": null,
       "grid_gap": null,
       "grid_row": null,
       "grid_template_areas": null,
       "grid_template_columns": null,
       "grid_template_rows": null,
       "height": null,
       "justify_content": null,
       "justify_items": null,
       "left": null,
       "margin": null,
       "max_height": null,
       "max_width": null,
       "min_height": null,
       "min_width": null,
       "object_fit": null,
       "object_position": null,
       "order": null,
       "overflow": null,
       "overflow_x": null,
       "overflow_y": null,
       "padding": null,
       "right": null,
       "top": null,
       "visibility": null,
       "width": null
      }
     },
     "23d60bbc0b62443e86b254d1245a172a": {
      "model_module": "@jupyter-widgets/controls",
      "model_module_version": "1.5.0",
      "model_name": "ProgressStyleModel",
      "state": {
       "_model_module": "@jupyter-widgets/controls",
       "_model_module_version": "1.5.0",
       "_model_name": "ProgressStyleModel",
       "_view_count": null,
       "_view_module": "@jupyter-widgets/base",
       "_view_module_version": "1.2.0",
       "_view_name": "StyleView",
       "bar_color": null,
       "description_width": ""
      }
     },
     "249aa66de9074b13a41b6d481b935477": {
      "model_module": "@jupyter-widgets/controls",
      "model_module_version": "1.5.0",
      "model_name": "HTMLModel",
      "state": {
       "_dom_classes": [],
       "_model_module": "@jupyter-widgets/controls",
       "_model_module_version": "1.5.0",
       "_model_name": "HTMLModel",
       "_view_count": null,
       "_view_module": "@jupyter-widgets/controls",
       "_view_module_version": "1.5.0",
       "_view_name": "HTMLView",
       "description": "",
       "description_tooltip": null,
       "layout": "IPY_MODEL_baa13be246154de087e0789024583e6c",
       "placeholder": "​",
       "style": "IPY_MODEL_a2479ecadf154f348726d4eaf8e70a49",
       "value": " 344/344 [00:02&lt;00:00, 161.38ex/s]"
      }
     },
     "368a2b87d9f04e1fa4c56b8003e1e55f": {
      "model_module": "@jupyter-widgets/base",
      "model_module_version": "1.2.0",
      "model_name": "LayoutModel",
      "state": {
       "_model_module": "@jupyter-widgets/base",
       "_model_module_version": "1.2.0",
       "_model_name": "LayoutModel",
       "_view_count": null,
       "_view_module": "@jupyter-widgets/base",
       "_view_module_version": "1.2.0",
       "_view_name": "LayoutView",
       "align_content": null,
       "align_items": null,
       "align_self": null,
       "border": null,
       "bottom": null,
       "display": null,
       "flex": null,
       "flex_flow": null,
       "grid_area": null,
       "grid_auto_columns": null,
       "grid_auto_flow": null,
       "grid_auto_rows": null,
       "grid_column": null,
       "grid_gap": null,
       "grid_row": null,
       "grid_template_areas": null,
       "grid_template_columns": null,
       "grid_template_rows": null,
       "height": null,
       "justify_content": null,
       "justify_items": null,
       "left": null,
       "margin": null,
       "max_height": null,
       "max_width": null,
       "min_height": null,
       "min_width": null,
       "object_fit": null,
       "object_position": null,
       "order": null,
       "overflow": null,
       "overflow_x": null,
       "overflow_y": null,
       "padding": null,
       "right": null,
       "top": null,
       "visibility": null,
       "width": null
      }
     },
     "3a0d694148434ffc89b642c854a46e7e": {
      "model_module": "@jupyter-widgets/controls",
      "model_module_version": "1.5.0",
      "model_name": "ProgressStyleModel",
      "state": {
       "_model_module": "@jupyter-widgets/controls",
       "_model_module_version": "1.5.0",
       "_model_name": "ProgressStyleModel",
       "_view_count": null,
       "_view_module": "@jupyter-widgets/base",
       "_view_module_version": "1.2.0",
       "_view_name": "StyleView",
       "bar_color": null,
       "description_width": ""
      }
     },
     "4b4495f9fa494a0a812b4c316f815515": {
      "model_module": "@jupyter-widgets/controls",
      "model_module_version": "1.5.0",
      "model_name": "HTMLModel",
      "state": {
       "_dom_classes": [],
       "_model_module": "@jupyter-widgets/controls",
       "_model_module_version": "1.5.0",
       "_model_name": "HTMLModel",
       "_view_count": null,
       "_view_module": "@jupyter-widgets/controls",
       "_view_module_version": "1.5.0",
       "_view_name": "HTMLView",
       "description": "",
       "description_tooltip": null,
       "layout": "IPY_MODEL_71f3dbf0c2d243d0954b54f2fe6b0877",
       "placeholder": "​",
       "style": "IPY_MODEL_7fdc3f754b7c4613a9a57e99e6373275",
       "value": " 5/5 [00:00&lt;00:00, 59.65ex/s]"
      }
     },
     "520b68f7f440494abf47f633865534ce": {
      "model_module": "@jupyter-widgets/controls",
      "model_module_version": "1.5.0",
      "model_name": "DescriptionStyleModel",
      "state": {
       "_model_module": "@jupyter-widgets/controls",
       "_model_module_version": "1.5.0",
       "_model_name": "DescriptionStyleModel",
       "_view_count": null,
       "_view_module": "@jupyter-widgets/base",
       "_view_module_version": "1.2.0",
       "_view_name": "StyleView",
       "description_width": ""
      }
     },
     "524bc45fff2d4f43bfa0ef16b4fcd3a4": {
      "model_module": "@jupyter-widgets/controls",
      "model_module_version": "1.5.0",
      "model_name": "HTMLModel",
      "state": {
       "_dom_classes": [],
       "_model_module": "@jupyter-widgets/controls",
       "_model_module_version": "1.5.0",
       "_model_name": "HTMLModel",
       "_view_count": null,
       "_view_module": "@jupyter-widgets/controls",
       "_view_module_version": "1.5.0",
       "_view_name": "HTMLView",
       "description": "",
       "description_tooltip": null,
       "layout": "IPY_MODEL_e790a827234344379dd21da610f7eefe",
       "placeholder": "​",
       "style": "IPY_MODEL_79c2fc52cde440c494327346fa68385f",
       "value": "#1: 100%"
      }
     },
     "5ea8c173e6274c0187709ca8c8c25b35": {
      "model_module": "@jupyter-widgets/controls",
      "model_module_version": "1.5.0",
      "model_name": "DescriptionStyleModel",
      "state": {
       "_model_module": "@jupyter-widgets/controls",
       "_model_module_version": "1.5.0",
       "_model_name": "DescriptionStyleModel",
       "_view_count": null,
       "_view_module": "@jupyter-widgets/base",
       "_view_module_version": "1.2.0",
       "_view_name": "StyleView",
       "description_width": ""
      }
     },
     "62907af03e744f6abdee856eb14bc83e": {
      "model_module": "@jupyter-widgets/base",
      "model_module_version": "1.2.0",
      "model_name": "LayoutModel",
      "state": {
       "_model_module": "@jupyter-widgets/base",
       "_model_module_version": "1.2.0",
       "_model_name": "LayoutModel",
       "_view_count": null,
       "_view_module": "@jupyter-widgets/base",
       "_view_module_version": "1.2.0",
       "_view_name": "LayoutView",
       "align_content": null,
       "align_items": null,
       "align_self": null,
       "border": null,
       "bottom": null,
       "display": null,
       "flex": null,
       "flex_flow": null,
       "grid_area": null,
       "grid_auto_columns": null,
       "grid_auto_flow": null,
       "grid_auto_rows": null,
       "grid_column": null,
       "grid_gap": null,
       "grid_row": null,
       "grid_template_areas": null,
       "grid_template_columns": null,
       "grid_template_rows": null,
       "height": null,
       "justify_content": null,
       "justify_items": null,
       "left": null,
       "margin": null,
       "max_height": null,
       "max_width": null,
       "min_height": null,
       "min_width": null,
       "object_fit": null,
       "object_position": null,
       "order": null,
       "overflow": null,
       "overflow_x": null,
       "overflow_y": null,
       "padding": null,
       "right": null,
       "top": null,
       "visibility": null,
       "width": null
      }
     },
     "631c8adec8e14716bc2493de503135ca": {
      "model_module": "@jupyter-widgets/base",
      "model_module_version": "1.2.0",
      "model_name": "LayoutModel",
      "state": {
       "_model_module": "@jupyter-widgets/base",
       "_model_module_version": "1.2.0",
       "_model_name": "LayoutModel",
       "_view_count": null,
       "_view_module": "@jupyter-widgets/base",
       "_view_module_version": "1.2.0",
       "_view_name": "LayoutView",
       "align_content": null,
       "align_items": null,
       "align_self": null,
       "border": null,
       "bottom": null,
       "display": null,
       "flex": null,
       "flex_flow": null,
       "grid_area": null,
       "grid_auto_columns": null,
       "grid_auto_flow": null,
       "grid_auto_rows": null,
       "grid_column": null,
       "grid_gap": null,
       "grid_row": null,
       "grid_template_areas": null,
       "grid_template_columns": null,
       "grid_template_rows": null,
       "height": null,
       "justify_content": null,
       "justify_items": null,
       "left": null,
       "margin": null,
       "max_height": null,
       "max_width": null,
       "min_height": null,
       "min_width": null,
       "object_fit": null,
       "object_position": null,
       "order": null,
       "overflow": null,
       "overflow_x": null,
       "overflow_y": null,
       "padding": null,
       "right": null,
       "top": null,
       "visibility": null,
       "width": null
      }
     },
     "65c99478fb614b4f918298493e73e0d9": {
      "model_module": "@jupyter-widgets/base",
      "model_module_version": "1.2.0",
      "model_name": "LayoutModel",
      "state": {
       "_model_module": "@jupyter-widgets/base",
       "_model_module_version": "1.2.0",
       "_model_name": "LayoutModel",
       "_view_count": null,
       "_view_module": "@jupyter-widgets/base",
       "_view_module_version": "1.2.0",
       "_view_name": "LayoutView",
       "align_content": null,
       "align_items": null,
       "align_self": null,
       "border": null,
       "bottom": null,
       "display": null,
       "flex": null,
       "flex_flow": null,
       "grid_area": null,
       "grid_auto_columns": null,
       "grid_auto_flow": null,
       "grid_auto_rows": null,
       "grid_column": null,
       "grid_gap": null,
       "grid_row": null,
       "grid_template_areas": null,
       "grid_template_columns": null,
       "grid_template_rows": null,
       "height": null,
       "justify_content": null,
       "justify_items": null,
       "left": null,
       "margin": null,
       "max_height": null,
       "max_width": null,
       "min_height": null,
       "min_width": null,
       "object_fit": null,
       "object_position": null,
       "order": null,
       "overflow": null,
       "overflow_x": null,
       "overflow_y": null,
       "padding": null,
       "right": null,
       "top": null,
       "visibility": null,
       "width": null
      }
     },
     "6a7d790907a2412c9145f23f278fa7a3": {
      "model_module": "@jupyter-widgets/controls",
      "model_module_version": "1.5.0",
      "model_name": "FloatProgressModel",
      "state": {
       "_dom_classes": [],
       "_model_module": "@jupyter-widgets/controls",
       "_model_module_version": "1.5.0",
       "_model_name": "FloatProgressModel",
       "_view_count": null,
       "_view_module": "@jupyter-widgets/controls",
       "_view_module_version": "1.5.0",
       "_view_name": "ProgressView",
       "bar_style": "success",
       "description": "",
       "description_tooltip": null,
       "layout": "IPY_MODEL_11a89e1223e64f7bb02e1c1a7eee3e72",
       "max": 5.0,
       "min": 0.0,
       "orientation": "horizontal",
       "style": "IPY_MODEL_1aa6d30e82c244aa83e137cdd988991a",
       "value": 5.0
      }
     },
     "6e60d9a4995f449cb3612f9c3b7b9704": {
      "model_module": "@jupyter-widgets/controls",
      "model_module_version": "1.5.0",
      "model_name": "FloatProgressModel",
      "state": {
       "_dom_classes": [],
       "_model_module": "@jupyter-widgets/controls",
       "_model_module_version": "1.5.0",
       "_model_name": "FloatProgressModel",
       "_view_count": null,
       "_view_module": "@jupyter-widgets/controls",
       "_view_module_version": "1.5.0",
       "_view_name": "ProgressView",
       "bar_style": "success",
       "description": "",
       "description_tooltip": null,
       "layout": "IPY_MODEL_65c99478fb614b4f918298493e73e0d9",
       "max": 344.0,
       "min": 0.0,
       "orientation": "horizontal",
       "style": "IPY_MODEL_e7b0ce636e2b46d2b9f3ba7a9aa10037",
       "value": 344.0
      }
     },
     "703ed8a5d0ff4287b13ddaf3801118f2": {
      "model_module": "@jupyter-widgets/controls",
      "model_module_version": "1.5.0",
      "model_name": "DescriptionStyleModel",
      "state": {
       "_model_module": "@jupyter-widgets/controls",
       "_model_module_version": "1.5.0",
       "_model_name": "DescriptionStyleModel",
       "_view_count": null,
       "_view_module": "@jupyter-widgets/base",
       "_view_module_version": "1.2.0",
       "_view_name": "StyleView",
       "description_width": ""
      }
     },
     "71f3dbf0c2d243d0954b54f2fe6b0877": {
      "model_module": "@jupyter-widgets/base",
      "model_module_version": "1.2.0",
      "model_name": "LayoutModel",
      "state": {
       "_model_module": "@jupyter-widgets/base",
       "_model_module_version": "1.2.0",
       "_model_name": "LayoutModel",
       "_view_count": null,
       "_view_module": "@jupyter-widgets/base",
       "_view_module_version": "1.2.0",
       "_view_name": "LayoutView",
       "align_content": null,
       "align_items": null,
       "align_self": null,
       "border": null,
       "bottom": null,
       "display": null,
       "flex": null,
       "flex_flow": null,
       "grid_area": null,
       "grid_auto_columns": null,
       "grid_auto_flow": null,
       "grid_auto_rows": null,
       "grid_column": null,
       "grid_gap": null,
       "grid_row": null,
       "grid_template_areas": null,
       "grid_template_columns": null,
       "grid_template_rows": null,
       "height": null,
       "justify_content": null,
       "justify_items": null,
       "left": null,
       "margin": null,
       "max_height": null,
       "max_width": null,
       "min_height": null,
       "min_width": null,
       "object_fit": null,
       "object_position": null,
       "order": null,
       "overflow": null,
       "overflow_x": null,
       "overflow_y": null,
       "padding": null,
       "right": null,
       "top": null,
       "visibility": null,
       "width": null
      }
     },
     "73c17474427a4d3686bfa4e8d85e8018": {
      "model_module": "@jupyter-widgets/controls",
      "model_module_version": "1.5.0",
      "model_name": "HTMLModel",
      "state": {
       "_dom_classes": [],
       "_model_module": "@jupyter-widgets/controls",
       "_model_module_version": "1.5.0",
       "_model_name": "HTMLModel",
       "_view_count": null,
       "_view_module": "@jupyter-widgets/controls",
       "_view_module_version": "1.5.0",
       "_view_name": "HTMLView",
       "description": "",
       "description_tooltip": null,
       "layout": "IPY_MODEL_368a2b87d9f04e1fa4c56b8003e1e55f",
       "placeholder": "​",
       "style": "IPY_MODEL_520b68f7f440494abf47f633865534ce",
       "value": " 5/5 [00:00&lt;00:00, 77.42ex/s]"
      }
     },
     "77abf83a1bde4602a99b2cff4866924e": {
      "model_module": "@jupyter-widgets/base",
      "model_module_version": "1.2.0",
      "model_name": "LayoutModel",
      "state": {
       "_model_module": "@jupyter-widgets/base",
       "_model_module_version": "1.2.0",
       "_model_name": "LayoutModel",
       "_view_count": null,
       "_view_module": "@jupyter-widgets/base",
       "_view_module_version": "1.2.0",
       "_view_name": "LayoutView",
       "align_content": null,
       "align_items": null,
       "align_self": null,
       "border": null,
       "bottom": null,
       "display": null,
       "flex": null,
       "flex_flow": null,
       "grid_area": null,
       "grid_auto_columns": null,
       "grid_auto_flow": null,
       "grid_auto_rows": null,
       "grid_column": null,
       "grid_gap": null,
       "grid_row": null,
       "grid_template_areas": null,
       "grid_template_columns": null,
       "grid_template_rows": null,
       "height": null,
       "justify_content": null,
       "justify_items": null,
       "left": null,
       "margin": null,
       "max_height": null,
       "max_width": null,
       "min_height": null,
       "min_width": null,
       "object_fit": null,
       "object_position": null,
       "order": null,
       "overflow": null,
       "overflow_x": null,
       "overflow_y": null,
       "padding": null,
       "right": null,
       "top": null,
       "visibility": null,
       "width": null
      }
     },
     "79c2fc52cde440c494327346fa68385f": {
      "model_module": "@jupyter-widgets/controls",
      "model_module_version": "1.5.0",
      "model_name": "DescriptionStyleModel",
      "state": {
       "_model_module": "@jupyter-widgets/controls",
       "_model_module_version": "1.5.0",
       "_model_name": "DescriptionStyleModel",
       "_view_count": null,
       "_view_module": "@jupyter-widgets/base",
       "_view_module_version": "1.2.0",
       "_view_name": "StyleView",
       "description_width": ""
      }
     },
     "7d476a70116845269874c5c1a2d790ea": {
      "model_module": "@jupyter-widgets/controls",
      "model_module_version": "1.5.0",
      "model_name": "HBoxModel",
      "state": {
       "_dom_classes": [],
       "_model_module": "@jupyter-widgets/controls",
       "_model_module_version": "1.5.0",
       "_model_name": "HBoxModel",
       "_view_count": null,
       "_view_module": "@jupyter-widgets/controls",
       "_view_module_version": "1.5.0",
       "_view_name": "HBoxView",
       "box_style": "",
       "children": [
        "IPY_MODEL_524bc45fff2d4f43bfa0ef16b4fcd3a4",
        "IPY_MODEL_91eda31a42fb42c7bcdff6bb10148fa3",
        "IPY_MODEL_73c17474427a4d3686bfa4e8d85e8018"
       ],
       "layout": "IPY_MODEL_cb0e7da0b28f4124994ba07cadcc5010"
      }
     },
     "7fdc3f754b7c4613a9a57e99e6373275": {
      "model_module": "@jupyter-widgets/controls",
      "model_module_version": "1.5.0",
      "model_name": "DescriptionStyleModel",
      "state": {
       "_model_module": "@jupyter-widgets/controls",
       "_model_module_version": "1.5.0",
       "_model_name": "DescriptionStyleModel",
       "_view_count": null,
       "_view_module": "@jupyter-widgets/base",
       "_view_module_version": "1.2.0",
       "_view_name": "StyleView",
       "description_width": ""
      }
     },
     "8430101f9c5d420e8034c050ca8f3b81": {
      "model_module": "@jupyter-widgets/controls",
      "model_module_version": "1.5.0",
      "model_name": "HBoxModel",
      "state": {
       "_dom_classes": [],
       "_model_module": "@jupyter-widgets/controls",
       "_model_module_version": "1.5.0",
       "_model_name": "HBoxModel",
       "_view_count": null,
       "_view_module": "@jupyter-widgets/controls",
       "_view_module_version": "1.5.0",
       "_view_name": "HBoxView",
       "box_style": "",
       "children": [
        "IPY_MODEL_c780447724e3464e97b499a149f51228",
        "IPY_MODEL_6e60d9a4995f449cb3612f9c3b7b9704",
        "IPY_MODEL_249aa66de9074b13a41b6d481b935477"
       ],
       "layout": "IPY_MODEL_f34900db25274db681898d25a175b57b"
      }
     },
     "91eda31a42fb42c7bcdff6bb10148fa3": {
      "model_module": "@jupyter-widgets/controls",
      "model_module_version": "1.5.0",
      "model_name": "FloatProgressModel",
      "state": {
       "_dom_classes": [],
       "_model_module": "@jupyter-widgets/controls",
       "_model_module_version": "1.5.0",
       "_model_name": "FloatProgressModel",
       "_view_count": null,
       "_view_module": "@jupyter-widgets/controls",
       "_view_module_version": "1.5.0",
       "_view_name": "ProgressView",
       "bar_style": "success",
       "description": "",
       "description_tooltip": null,
       "layout": "IPY_MODEL_f60e48a5734b40b1831c7ad49640e6cb",
       "max": 5.0,
       "min": 0.0,
       "orientation": "horizontal",
       "style": "IPY_MODEL_3a0d694148434ffc89b642c854a46e7e",
       "value": 5.0
      }
     },
     "a2479ecadf154f348726d4eaf8e70a49": {
      "model_module": "@jupyter-widgets/controls",
      "model_module_version": "1.5.0",
      "model_name": "DescriptionStyleModel",
      "state": {
       "_model_module": "@jupyter-widgets/controls",
       "_model_module_version": "1.5.0",
       "_model_name": "DescriptionStyleModel",
       "_view_count": null,
       "_view_module": "@jupyter-widgets/base",
       "_view_module_version": "1.2.0",
       "_view_name": "StyleView",
       "description_width": ""
      }
     },
     "acf7afa786ed4e1a97eabca211f3cde3": {
      "model_module": "@jupyter-widgets/controls",
      "model_module_version": "1.5.0",
      "model_name": "HBoxModel",
      "state": {
       "_dom_classes": [],
       "_model_module": "@jupyter-widgets/controls",
       "_model_module_version": "1.5.0",
       "_model_name": "HBoxModel",
       "_view_count": null,
       "_view_module": "@jupyter-widgets/controls",
       "_view_module_version": "1.5.0",
       "_view_name": "HBoxView",
       "box_style": "",
       "children": [
        "IPY_MODEL_0409589894f04f3699b74a189f160d97",
        "IPY_MODEL_6a7d790907a2412c9145f23f278fa7a3",
        "IPY_MODEL_4b4495f9fa494a0a812b4c316f815515"
       ],
       "layout": "IPY_MODEL_fdb88812ff0b461fa7435a1c3ea8bdd3"
      }
     },
     "adc9de342fcf43faa7f3e36b39ffdd57": {
      "model_module": "@jupyter-widgets/base",
      "model_module_version": "1.2.0",
      "model_name": "LayoutModel",
      "state": {
       "_model_module": "@jupyter-widgets/base",
       "_model_module_version": "1.2.0",
       "_model_name": "LayoutModel",
       "_view_count": null,
       "_view_module": "@jupyter-widgets/base",
       "_view_module_version": "1.2.0",
       "_view_name": "LayoutView",
       "align_content": null,
       "align_items": null,
       "align_self": null,
       "border": null,
       "bottom": null,
       "display": null,
       "flex": null,
       "flex_flow": null,
       "grid_area": null,
       "grid_auto_columns": null,
       "grid_auto_flow": null,
       "grid_auto_rows": null,
       "grid_column": null,
       "grid_gap": null,
       "grid_row": null,
       "grid_template_areas": null,
       "grid_template_columns": null,
       "grid_template_rows": null,
       "height": null,
       "justify_content": null,
       "justify_items": null,
       "left": null,
       "margin": null,
       "max_height": null,
       "max_width": null,
       "min_height": null,
       "min_width": null,
       "object_fit": null,
       "object_position": null,
       "order": null,
       "overflow": null,
       "overflow_x": null,
       "overflow_y": null,
       "padding": null,
       "right": null,
       "top": null,
       "visibility": null,
       "width": null
      }
     },
     "baa13be246154de087e0789024583e6c": {
      "model_module": "@jupyter-widgets/base",
      "model_module_version": "1.2.0",
      "model_name": "LayoutModel",
      "state": {
       "_model_module": "@jupyter-widgets/base",
       "_model_module_version": "1.2.0",
       "_model_name": "LayoutModel",
       "_view_count": null,
       "_view_module": "@jupyter-widgets/base",
       "_view_module_version": "1.2.0",
       "_view_name": "LayoutView",
       "align_content": null,
       "align_items": null,
       "align_self": null,
       "border": null,
       "bottom": null,
       "display": null,
       "flex": null,
       "flex_flow": null,
       "grid_area": null,
       "grid_auto_columns": null,
       "grid_auto_flow": null,
       "grid_auto_rows": null,
       "grid_column": null,
       "grid_gap": null,
       "grid_row": null,
       "grid_template_areas": null,
       "grid_template_columns": null,
       "grid_template_rows": null,
       "height": null,
       "justify_content": null,
       "justify_items": null,
       "left": null,
       "margin": null,
       "max_height": null,
       "max_width": null,
       "min_height": null,
       "min_width": null,
       "object_fit": null,
       "object_position": null,
       "order": null,
       "overflow": null,
       "overflow_x": null,
       "overflow_y": null,
       "padding": null,
       "right": null,
       "top": null,
       "visibility": null,
       "width": null
      }
     },
     "c05fe75ab54d446797b55a99c17e3b15": {
      "model_module": "@jupyter-widgets/controls",
      "model_module_version": "1.5.0",
      "model_name": "HTMLModel",
      "state": {
       "_dom_classes": [],
       "_model_module": "@jupyter-widgets/controls",
       "_model_module_version": "1.5.0",
       "_model_name": "HTMLModel",
       "_view_count": null,
       "_view_module": "@jupyter-widgets/controls",
       "_view_module_version": "1.5.0",
       "_view_name": "HTMLView",
       "description": "",
       "description_tooltip": null,
       "layout": "IPY_MODEL_adc9de342fcf43faa7f3e36b39ffdd57",
       "placeholder": "​",
       "style": "IPY_MODEL_efe8b8b738e04e5e899bc4bc3d5b5257",
       "value": "#0: 100%"
      }
     },
     "c1b0c556222347c08f431c0429f0987c": {
      "model_module": "@jupyter-widgets/controls",
      "model_module_version": "1.5.0",
      "model_name": "HTMLModel",
      "state": {
       "_dom_classes": [],
       "_model_module": "@jupyter-widgets/controls",
       "_model_module_version": "1.5.0",
       "_model_name": "HTMLModel",
       "_view_count": null,
       "_view_module": "@jupyter-widgets/controls",
       "_view_module_version": "1.5.0",
       "_view_name": "HTMLView",
       "description": "",
       "description_tooltip": null,
       "layout": "IPY_MODEL_631c8adec8e14716bc2493de503135ca",
       "placeholder": "​",
       "style": "IPY_MODEL_703ed8a5d0ff4287b13ddaf3801118f2",
       "value": " 344/344 [00:02&lt;00:00, 169.16ex/s]"
      }
     },
     "c780447724e3464e97b499a149f51228": {
      "model_module": "@jupyter-widgets/controls",
      "model_module_version": "1.5.0",
      "model_name": "HTMLModel",
      "state": {
       "_dom_classes": [],
       "_model_module": "@jupyter-widgets/controls",
       "_model_module_version": "1.5.0",
       "_model_name": "HTMLModel",
       "_view_count": null,
       "_view_module": "@jupyter-widgets/controls",
       "_view_module_version": "1.5.0",
       "_view_name": "HTMLView",
       "description": "",
       "description_tooltip": null,
       "layout": "IPY_MODEL_62907af03e744f6abdee856eb14bc83e",
       "placeholder": "​",
       "style": "IPY_MODEL_ef53534c27c54d058a0cd24e597bc152",
       "value": "#1: 100%"
      }
     },
     "cb0e7da0b28f4124994ba07cadcc5010": {
      "model_module": "@jupyter-widgets/base",
      "model_module_version": "1.2.0",
      "model_name": "LayoutModel",
      "state": {
       "_model_module": "@jupyter-widgets/base",
       "_model_module_version": "1.2.0",
       "_model_name": "LayoutModel",
       "_view_count": null,
       "_view_module": "@jupyter-widgets/base",
       "_view_module_version": "1.2.0",
       "_view_name": "LayoutView",
       "align_content": null,
       "align_items": null,
       "align_self": null,
       "border": null,
       "bottom": null,
       "display": null,
       "flex": null,
       "flex_flow": null,
       "grid_area": null,
       "grid_auto_columns": null,
       "grid_auto_flow": null,
       "grid_auto_rows": null,
       "grid_column": null,
       "grid_gap": null,
       "grid_row": null,
       "grid_template_areas": null,
       "grid_template_columns": null,
       "grid_template_rows": null,
       "height": null,
       "justify_content": null,
       "justify_items": null,
       "left": null,
       "margin": null,
       "max_height": null,
       "max_width": null,
       "min_height": null,
       "min_width": null,
       "object_fit": null,
       "object_position": null,
       "order": null,
       "overflow": null,
       "overflow_x": null,
       "overflow_y": null,
       "padding": null,
       "right": null,
       "top": null,
       "visibility": null,
       "width": null
      }
     },
     "d50d84bfc94748d4a3a583ffa3d2909e": {
      "model_module": "@jupyter-widgets/controls",
      "model_module_version": "1.5.0",
      "model_name": "HBoxModel",
      "state": {
       "_dom_classes": [],
       "_model_module": "@jupyter-widgets/controls",
       "_model_module_version": "1.5.0",
       "_model_name": "HBoxModel",
       "_view_count": null,
       "_view_module": "@jupyter-widgets/controls",
       "_view_module_version": "1.5.0",
       "_view_name": "HBoxView",
       "box_style": "",
       "children": [
        "IPY_MODEL_c05fe75ab54d446797b55a99c17e3b15",
        "IPY_MODEL_d8182961e27d47e19045f28da2a25f9f",
        "IPY_MODEL_c1b0c556222347c08f431c0429f0987c"
       ],
       "layout": "IPY_MODEL_1b1d605b64fd4a54a94dedf638e2c16a"
      }
     },
     "d8182961e27d47e19045f28da2a25f9f": {
      "model_module": "@jupyter-widgets/controls",
      "model_module_version": "1.5.0",
      "model_name": "FloatProgressModel",
      "state": {
       "_dom_classes": [],
       "_model_module": "@jupyter-widgets/controls",
       "_model_module_version": "1.5.0",
       "_model_name": "FloatProgressModel",
       "_view_count": null,
       "_view_module": "@jupyter-widgets/controls",
       "_view_module_version": "1.5.0",
       "_view_name": "ProgressView",
       "bar_style": "success",
       "description": "",
       "description_tooltip": null,
       "layout": "IPY_MODEL_77abf83a1bde4602a99b2cff4866924e",
       "max": 344.0,
       "min": 0.0,
       "orientation": "horizontal",
       "style": "IPY_MODEL_23d60bbc0b62443e86b254d1245a172a",
       "value": 344.0
      }
     },
     "e790a827234344379dd21da610f7eefe": {
      "model_module": "@jupyter-widgets/base",
      "model_module_version": "1.2.0",
      "model_name": "LayoutModel",
      "state": {
       "_model_module": "@jupyter-widgets/base",
       "_model_module_version": "1.2.0",
       "_model_name": "LayoutModel",
       "_view_count": null,
       "_view_module": "@jupyter-widgets/base",
       "_view_module_version": "1.2.0",
       "_view_name": "LayoutView",
       "align_content": null,
       "align_items": null,
       "align_self": null,
       "border": null,
       "bottom": null,
       "display": null,
       "flex": null,
       "flex_flow": null,
       "grid_area": null,
       "grid_auto_columns": null,
       "grid_auto_flow": null,
       "grid_auto_rows": null,
       "grid_column": null,
       "grid_gap": null,
       "grid_row": null,
       "grid_template_areas": null,
       "grid_template_columns": null,
       "grid_template_rows": null,
       "height": null,
       "justify_content": null,
       "justify_items": null,
       "left": null,
       "margin": null,
       "max_height": null,
       "max_width": null,
       "min_height": null,
       "min_width": null,
       "object_fit": null,
       "object_position": null,
       "order": null,
       "overflow": null,
       "overflow_x": null,
       "overflow_y": null,
       "padding": null,
       "right": null,
       "top": null,
       "visibility": null,
       "width": null
      }
     },
     "e7b0ce636e2b46d2b9f3ba7a9aa10037": {
      "model_module": "@jupyter-widgets/controls",
      "model_module_version": "1.5.0",
      "model_name": "ProgressStyleModel",
      "state": {
       "_model_module": "@jupyter-widgets/controls",
       "_model_module_version": "1.5.0",
       "_model_name": "ProgressStyleModel",
       "_view_count": null,
       "_view_module": "@jupyter-widgets/base",
       "_view_module_version": "1.2.0",
       "_view_name": "StyleView",
       "bar_color": null,
       "description_width": ""
      }
     },
     "ec4ca232e659402282102d3bb8ecd2cd": {
      "model_module": "@jupyter-widgets/base",
      "model_module_version": "1.2.0",
      "model_name": "LayoutModel",
      "state": {
       "_model_module": "@jupyter-widgets/base",
       "_model_module_version": "1.2.0",
       "_model_name": "LayoutModel",
       "_view_count": null,
       "_view_module": "@jupyter-widgets/base",
       "_view_module_version": "1.2.0",
       "_view_name": "LayoutView",
       "align_content": null,
       "align_items": null,
       "align_self": null,
       "border": null,
       "bottom": null,
       "display": null,
       "flex": null,
       "flex_flow": null,
       "grid_area": null,
       "grid_auto_columns": null,
       "grid_auto_flow": null,
       "grid_auto_rows": null,
       "grid_column": null,
       "grid_gap": null,
       "grid_row": null,
       "grid_template_areas": null,
       "grid_template_columns": null,
       "grid_template_rows": null,
       "height": null,
       "justify_content": null,
       "justify_items": null,
       "left": null,
       "margin": null,
       "max_height": null,
       "max_width": null,
       "min_height": null,
       "min_width": null,
       "object_fit": null,
       "object_position": null,
       "order": null,
       "overflow": null,
       "overflow_x": null,
       "overflow_y": null,
       "padding": null,
       "right": null,
       "top": null,
       "visibility": null,
       "width": null
      }
     },
     "ef53534c27c54d058a0cd24e597bc152": {
      "model_module": "@jupyter-widgets/controls",
      "model_module_version": "1.5.0",
      "model_name": "DescriptionStyleModel",
      "state": {
       "_model_module": "@jupyter-widgets/controls",
       "_model_module_version": "1.5.0",
       "_model_name": "DescriptionStyleModel",
       "_view_count": null,
       "_view_module": "@jupyter-widgets/base",
       "_view_module_version": "1.2.0",
       "_view_name": "StyleView",
       "description_width": ""
      }
     },
     "efe8b8b738e04e5e899bc4bc3d5b5257": {
      "model_module": "@jupyter-widgets/controls",
      "model_module_version": "1.5.0",
      "model_name": "DescriptionStyleModel",
      "state": {
       "_model_module": "@jupyter-widgets/controls",
       "_model_module_version": "1.5.0",
       "_model_name": "DescriptionStyleModel",
       "_view_count": null,
       "_view_module": "@jupyter-widgets/base",
       "_view_module_version": "1.2.0",
       "_view_name": "StyleView",
       "description_width": ""
      }
     },
     "f34900db25274db681898d25a175b57b": {
      "model_module": "@jupyter-widgets/base",
      "model_module_version": "1.2.0",
      "model_name": "LayoutModel",
      "state": {
       "_model_module": "@jupyter-widgets/base",
       "_model_module_version": "1.2.0",
       "_model_name": "LayoutModel",
       "_view_count": null,
       "_view_module": "@jupyter-widgets/base",
       "_view_module_version": "1.2.0",
       "_view_name": "LayoutView",
       "align_content": null,
       "align_items": null,
       "align_self": null,
       "border": null,
       "bottom": null,
       "display": null,
       "flex": null,
       "flex_flow": null,
       "grid_area": null,
       "grid_auto_columns": null,
       "grid_auto_flow": null,
       "grid_auto_rows": null,
       "grid_column": null,
       "grid_gap": null,
       "grid_row": null,
       "grid_template_areas": null,
       "grid_template_columns": null,
       "grid_template_rows": null,
       "height": null,
       "justify_content": null,
       "justify_items": null,
       "left": null,
       "margin": null,
       "max_height": null,
       "max_width": null,
       "min_height": null,
       "min_width": null,
       "object_fit": null,
       "object_position": null,
       "order": null,
       "overflow": null,
       "overflow_x": null,
       "overflow_y": null,
       "padding": null,
       "right": null,
       "top": null,
       "visibility": null,
       "width": null
      }
     },
     "f60e48a5734b40b1831c7ad49640e6cb": {
      "model_module": "@jupyter-widgets/base",
      "model_module_version": "1.2.0",
      "model_name": "LayoutModel",
      "state": {
       "_model_module": "@jupyter-widgets/base",
       "_model_module_version": "1.2.0",
       "_model_name": "LayoutModel",
       "_view_count": null,
       "_view_module": "@jupyter-widgets/base",
       "_view_module_version": "1.2.0",
       "_view_name": "LayoutView",
       "align_content": null,
       "align_items": null,
       "align_self": null,
       "border": null,
       "bottom": null,
       "display": null,
       "flex": null,
       "flex_flow": null,
       "grid_area": null,
       "grid_auto_columns": null,
       "grid_auto_flow": null,
       "grid_auto_rows": null,
       "grid_column": null,
       "grid_gap": null,
       "grid_row": null,
       "grid_template_areas": null,
       "grid_template_columns": null,
       "grid_template_rows": null,
       "height": null,
       "justify_content": null,
       "justify_items": null,
       "left": null,
       "margin": null,
       "max_height": null,
       "max_width": null,
       "min_height": null,
       "min_width": null,
       "object_fit": null,
       "object_position": null,
       "order": null,
       "overflow": null,
       "overflow_x": null,
       "overflow_y": null,
       "padding": null,
       "right": null,
       "top": null,
       "visibility": null,
       "width": null
      }
     },
     "fdb88812ff0b461fa7435a1c3ea8bdd3": {
      "model_module": "@jupyter-widgets/base",
      "model_module_version": "1.2.0",
      "model_name": "LayoutModel",
      "state": {
       "_model_module": "@jupyter-widgets/base",
       "_model_module_version": "1.2.0",
       "_model_name": "LayoutModel",
       "_view_count": null,
       "_view_module": "@jupyter-widgets/base",
       "_view_module_version": "1.2.0",
       "_view_name": "LayoutView",
       "align_content": null,
       "align_items": null,
       "align_self": null,
       "border": null,
       "bottom": null,
       "display": null,
       "flex": null,
       "flex_flow": null,
       "grid_area": null,
       "grid_auto_columns": null,
       "grid_auto_flow": null,
       "grid_auto_rows": null,
       "grid_column": null,
       "grid_gap": null,
       "grid_row": null,
       "grid_template_areas": null,
       "grid_template_columns": null,
       "grid_template_rows": null,
       "height": null,
       "justify_content": null,
       "justify_items": null,
       "left": null,
       "margin": null,
       "max_height": null,
       "max_width": null,
       "min_height": null,
       "min_width": null,
       "object_fit": null,
       "object_position": null,
       "order": null,
       "overflow": null,
       "overflow_x": null,
       "overflow_y": null,
       "padding": null,
       "right": null,
       "top": null,
       "visibility": null,
       "width": null
      }
     }
    },
    "version_major": 2,
    "version_minor": 0
   }
  }
 },
 "nbformat": 4,
 "nbformat_minor": 5
}
