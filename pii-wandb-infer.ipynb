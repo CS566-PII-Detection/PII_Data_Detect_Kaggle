{
 "cells": [
  {
   "cell_type": "markdown",
   "id": "300c82ad",
   "metadata": {
    "papermill": {
     "duration": 0.007421,
     "end_time": "2024-04-10T05:14:52.652983",
     "exception": false,
     "start_time": "2024-04-10T05:14:52.645562",
     "status": "completed"
    },
    "tags": []
   },
   "source": [
    "# PII W and B Inference\n",
    "REference https://www.kaggle.com/code/thedrcat/pii-data-detection-infer-with-w-b"
   ]
  },
  {
   "cell_type": "markdown",
   "id": "285b1706",
   "metadata": {
    "papermill": {
     "duration": 0.006378,
     "end_time": "2024-04-10T05:14:52.666195",
     "exception": false,
     "start_time": "2024-04-10T05:14:52.659817",
     "status": "completed"
    },
    "tags": []
   },
   "source": [
    "# Config"
   ]
  },
  {
   "cell_type": "code",
   "execution_count": 1,
   "id": "d660b9ba",
   "metadata": {
    "execution": {
     "iopub.execute_input": "2024-04-10T05:14:52.681433Z",
     "iopub.status.busy": "2024-04-10T05:14:52.681052Z",
     "iopub.status.idle": "2024-04-10T05:14:52.693588Z",
     "shell.execute_reply": "2024-04-10T05:14:52.692770Z"
    },
    "papermill": {
     "duration": 0.022548,
     "end_time": "2024-04-10T05:14:52.695770",
     "exception": false,
     "start_time": "2024-04-10T05:14:52.673222",
     "status": "completed"
    },
    "tags": []
   },
   "outputs": [],
   "source": [
    "INFERENCE_MODEL_PATH = '/kaggle/input/pii-wandb-training/pii002'\n",
    "DATA_PATH = '../input/pii-detection-removal-from-educational-data'\n",
    "INFERENCE_MAX_LENGTH = 1024\n",
    "OUTPUT_DIR = \"/kaggle/working/\"\n",
    "THRESHOLD=0.9"
   ]
  },
  {
   "cell_type": "markdown",
   "id": "46e5f552",
   "metadata": {
    "papermill": {
     "duration": 0.006618,
     "end_time": "2024-04-10T05:14:52.709051",
     "exception": false,
     "start_time": "2024-04-10T05:14:52.702433",
     "status": "completed"
    },
    "tags": []
   },
   "source": [
    "# Imports"
   ]
  },
  {
   "cell_type": "code",
   "execution_count": 2,
   "id": "71a775cf",
   "metadata": {
    "execution": {
     "iopub.execute_input": "2024-04-10T05:14:52.723624Z",
     "iopub.status.busy": "2024-04-10T05:14:52.722791Z",
     "iopub.status.idle": "2024-04-10T05:15:13.957732Z",
     "shell.execute_reply": "2024-04-10T05:15:13.956700Z"
    },
    "papermill": {
     "duration": 21.245406,
     "end_time": "2024-04-10T05:15:13.960795",
     "exception": false,
     "start_time": "2024-04-10T05:14:52.715389",
     "status": "completed"
    },
    "tags": []
   },
   "outputs": [
    {
     "name": "stderr",
     "output_type": "stream",
     "text": [
      "2024-04-10 05:15:03.693651: E external/local_xla/xla/stream_executor/cuda/cuda_dnn.cc:9261] Unable to register cuDNN factory: Attempting to register factory for plugin cuDNN when one has already been registered\n",
      "2024-04-10 05:15:03.693750: E external/local_xla/xla/stream_executor/cuda/cuda_fft.cc:607] Unable to register cuFFT factory: Attempting to register factory for plugin cuFFT when one has already been registered\n",
      "2024-04-10 05:15:03.842175: E external/local_xla/xla/stream_executor/cuda/cuda_blas.cc:1515] Unable to register cuBLAS factory: Attempting to register factory for plugin cuBLAS when one has already been registered\n"
     ]
    }
   ],
   "source": [
    "from pathlib import Path\n",
    "import os\n",
    "import json\n",
    "import torch\n",
    "from transformers import AutoTokenizer, Trainer, TrainingArguments\n",
    "from transformers import AutoModelForTokenClassification, DataCollatorForTokenClassification\n",
    "from datasets import Dataset, features\n",
    "import numpy as np\n",
    "import pandas as pd"
   ]
  },
  {
   "cell_type": "markdown",
   "id": "a4185293",
   "metadata": {
    "papermill": {
     "duration": 0.006058,
     "end_time": "2024-04-10T05:15:13.973229",
     "exception": false,
     "start_time": "2024-04-10T05:15:13.967171",
     "status": "completed"
    },
    "tags": []
   },
   "source": [
    "# Util Functions"
   ]
  },
  {
   "cell_type": "markdown",
   "id": "e514b058",
   "metadata": {
    "papermill": {
     "duration": 0.005828,
     "end_time": "2024-04-10T05:15:13.985134",
     "exception": false,
     "start_time": "2024-04-10T05:15:13.979306",
     "status": "completed"
    },
    "tags": []
   },
   "source": []
  },
  {
   "cell_type": "markdown",
   "id": "22eaf503",
   "metadata": {
    "papermill": {
     "duration": 0.006247,
     "end_time": "2024-04-10T05:15:13.997815",
     "exception": false,
     "start_time": "2024-04-10T05:15:13.991568",
     "status": "completed"
    },
    "tags": []
   },
   "source": [
    "# data Functions"
   ]
  },
  {
   "cell_type": "code",
   "execution_count": 3,
   "id": "be343b3a",
   "metadata": {
    "execution": {
     "iopub.execute_input": "2024-04-10T05:15:14.012107Z",
     "iopub.status.busy": "2024-04-10T05:15:14.011537Z",
     "iopub.status.idle": "2024-04-10T05:15:14.016248Z",
     "shell.execute_reply": "2024-04-10T05:15:14.015342Z"
    },
    "papermill": {
     "duration": 0.013924,
     "end_time": "2024-04-10T05:15:14.018123",
     "exception": false,
     "start_time": "2024-04-10T05:15:14.004199",
     "status": "completed"
    },
    "tags": []
   },
   "outputs": [],
   "source": [
    "def add_token_indices(doc_tokens):\n",
    "    token_indices = list(range(len(doc_tokens)))\n",
    "    return token_indices"
   ]
  },
  {
   "cell_type": "markdown",
   "id": "348182bd",
   "metadata": {
    "papermill": {
     "duration": 0.007287,
     "end_time": "2024-04-10T05:15:14.031471",
     "exception": false,
     "start_time": "2024-04-10T05:15:14.024184",
     "status": "completed"
    },
    "tags": []
   },
   "source": [
    "# helpers"
   ]
  },
  {
   "cell_type": "code",
   "execution_count": null,
   "id": "4ca35793",
   "metadata": {
    "papermill": {
     "duration": 0.00557,
     "end_time": "2024-04-10T05:15:14.042952",
     "exception": false,
     "start_time": "2024-04-10T05:15:14.037382",
     "status": "completed"
    },
    "tags": []
   },
   "outputs": [],
   "source": []
  },
  {
   "cell_type": "markdown",
   "id": "6c49c2e4",
   "metadata": {
    "papermill": {
     "duration": 0.005901,
     "end_time": "2024-04-10T05:15:14.054667",
     "exception": false,
     "start_time": "2024-04-10T05:15:14.048766",
     "status": "completed"
    },
    "tags": []
   },
   "source": [
    "# From Training Helpers\n"
   ]
  },
  {
   "cell_type": "code",
   "execution_count": 4,
   "id": "adcfc104",
   "metadata": {
    "execution": {
     "iopub.execute_input": "2024-04-10T05:15:14.068214Z",
     "iopub.status.busy": "2024-04-10T05:15:14.067942Z",
     "iopub.status.idle": "2024-04-10T05:15:14.078154Z",
     "shell.execute_reply": "2024-04-10T05:15:14.077326Z"
    },
    "papermill": {
     "duration": 0.019209,
     "end_time": "2024-04-10T05:15:14.080007",
     "exception": false,
     "start_time": "2024-04-10T05:15:14.060798",
     "status": "completed"
    },
    "tags": []
   },
   "outputs": [],
   "source": [
    "def infer_tokenize(example, tokenizer):\n",
    "    \"\"\"\n",
    "    Tokenize an example for NER using the given tokenizer.\n",
    "\n",
    "    Args:\n",
    "        example (dict): A dictionary containing \"tokens\" and \"trailing_whitespace\" lists.\n",
    "            - \"tokens\": A list of token strings.\n",
    "            - \"trailing_whitespace\": A list of boolean values indicating whether each token has trailing whitespace.\n",
    "        tokenizer: The tokenizer to use for tokenization.\n",
    "        label2id (dict): A dictionary mapping labels to their corresponding ids.\n",
    "        max_length (int): The maximum length of the tokenized text.\n",
    "\n",
    "    Returns:\n",
    "        dict: A dictionary containing tokenized output, including offsets mapping and token map.\n",
    "            - \"input_ids\": List of token IDs.\n",
    "            - \"attention_mask\": List of attention mask values.\n",
    "            - \"offset_mapping\": List of character offsets for each token.\n",
    "            - \"token_map\": List mapping each input token to its original position in the example.\n",
    "            \n",
    "    Reference: https://www.kaggle.com/code/valentinwerner/893-deberta3base-Inference\n",
    "    \"\"\"\n",
    "    #empty list to store text and tokens in respective map\n",
    "    text = []\n",
    "    token_map = []\n",
    "    \n",
    "    #keep track of tokens\n",
    "    idx = 0\n",
    "    \n",
    "    #for the example go through tokens and whitespace\n",
    "    for t, ws in zip(example[\"tokens\"], example[\"trailing_whitespace\"]):\n",
    "        \n",
    "        #add token to text\n",
    "        text.append(t)\n",
    "        #extend token length number of idx\n",
    "        token_map.extend([idx]*len(t))\n",
    "        #for whitespace add a space to text and label -1 in token map\n",
    "        if ws:\n",
    "            text.append(\" \")\n",
    "            token_map.append(-1)\n",
    "            \n",
    "        idx += 1\n",
    "        \n",
    "    #Tokenize the text and return offset mapping with the token map    \n",
    "    tokenized = tokenizer(\"\".join(text), return_offsets_mapping=True, truncation=True, max_length=INFERENCE_MAX_LENGTH)\n",
    "    length = len(tokenized.input_ids)\n",
    "        \n",
    "    return {\n",
    "        **tokenized,\n",
    "        \"length\": length,\n",
    "        \"token_map\": token_map,\n",
    "    }\n",
    "\n",
    "def create_dataset(data, tokenizer, max_length):\n",
    "    ds = Dataset.from_dict({\n",
    "        \"full_text\": data.full_text.tolist(),\n",
    "        \"document\": data.document.tolist(),\n",
    "        \"tokens\": data.tokens.tolist(),\n",
    "        \"trailing_whitespace\": data.trailing_whitespace.tolist(),\n",
    "        \"token_indices\": data.token_indices.tolist(),\n",
    "    })\n",
    "    ds = ds.map(\n",
    "        infer_tokenize,\n",
    "        fn_kwargs={\"tokenizer\": tokenizer,\n",
    "                   # \"max_length\": max_length #CHECK\n",
    "                  }, \n",
    "        num_proc=3\n",
    "    )\n",
    "    return ds"
   ]
  },
  {
   "cell_type": "markdown",
   "id": "eca815fe",
   "metadata": {
    "papermill": {
     "duration": 0.005665,
     "end_time": "2024-04-10T05:15:14.091811",
     "exception": false,
     "start_time": "2024-04-10T05:15:14.086146",
     "status": "completed"
    },
    "tags": []
   },
   "source": [
    "# Load and predict"
   ]
  },
  {
   "cell_type": "code",
   "execution_count": 5,
   "id": "f4367125",
   "metadata": {
    "execution": {
     "iopub.execute_input": "2024-04-10T05:15:14.104741Z",
     "iopub.status.busy": "2024-04-10T05:15:14.104406Z",
     "iopub.status.idle": "2024-04-10T05:15:16.655214Z",
     "shell.execute_reply": "2024-04-10T05:15:16.654323Z"
    },
    "papermill": {
     "duration": 2.559936,
     "end_time": "2024-04-10T05:15:16.657714",
     "exception": false,
     "start_time": "2024-04-10T05:15:14.097778",
     "status": "completed"
    },
    "tags": []
   },
   "outputs": [],
   "source": [
    "tokenizer = AutoTokenizer.from_pretrained(INFERENCE_MODEL_PATH)\n",
    "model = AutoModelForTokenClassification.from_pretrained(INFERENCE_MODEL_PATH)\n",
    "collator = DataCollatorForTokenClassification(tokenizer, pad_to_multiple_of=16)\n",
    "\n",
    "# Load id2label configuration from model\n",
    "config = json.load(open(INFERENCE_MODEL_PATH + \"/config.json\"))\n",
    "id2label = config[\"id2label\"]"
   ]
  },
  {
   "cell_type": "code",
   "execution_count": 6,
   "id": "cb07d527",
   "metadata": {
    "execution": {
     "iopub.execute_input": "2024-04-10T05:15:16.672989Z",
     "iopub.status.busy": "2024-04-10T05:15:16.672652Z",
     "iopub.status.idle": "2024-04-10T05:15:17.684342Z",
     "shell.execute_reply": "2024-04-10T05:15:17.683409Z"
    },
    "papermill": {
     "duration": 1.022157,
     "end_time": "2024-04-10T05:15:17.686742",
     "exception": false,
     "start_time": "2024-04-10T05:15:16.664585",
     "status": "completed"
    },
    "tags": []
   },
   "outputs": [
    {
     "data": {
      "application/vnd.jupyter.widget-view+json": {
       "model_id": "c417ff2c15424295960a416021da845a",
       "version_major": 2,
       "version_minor": 0
      },
      "text/plain": [
       "Map (num_proc=3):   0%|          | 0/10 [00:00<?, ? examples/s]"
      ]
     },
     "metadata": {},
     "output_type": "display_data"
    }
   ],
   "source": [
    "import json\n",
    "import pandas as pd\n",
    "\n",
    "test_data = json.load(open(DATA_PATH + \"/test.json\"))\n",
    "sub_df = pd.DataFrame(test_data)\n",
    "\n",
    "sub_df['token_indices'] = sub_df['tokens'].apply(add_token_indices)\n",
    "sub_ds = create_dataset(sub_df, tokenizer, INFERENCE_MAX_LENGTH)"
   ]
  },
  {
   "cell_type": "code",
   "execution_count": 7,
   "id": "6b35e800",
   "metadata": {
    "execution": {
     "iopub.execute_input": "2024-04-10T05:15:17.701393Z",
     "iopub.status.busy": "2024-04-10T05:15:17.701080Z",
     "iopub.status.idle": "2024-04-10T05:15:22.449179Z",
     "shell.execute_reply": "2024-04-10T05:15:22.448091Z"
    },
    "papermill": {
     "duration": 4.758259,
     "end_time": "2024-04-10T05:15:22.451946",
     "exception": false,
     "start_time": "2024-04-10T05:15:17.693687",
     "status": "completed"
    },
    "tags": []
   },
   "outputs": [
    {
     "name": "stderr",
     "output_type": "stream",
     "text": [
      "/opt/conda/lib/python3.10/site-packages/accelerate/accelerator.py:432: FutureWarning: Passing the following arguments to `Accelerator` is deprecated and will be removed in version 1.0 of Accelerate: dict_keys(['dispatch_batches', 'split_batches', 'even_batches', 'use_seedable_sampler']). Please pass an `accelerate.DataLoaderConfiguration` instead: \n",
      "dataloader_config = DataLoaderConfiguration(dispatch_batches=None, split_batches=False, even_batches=True, use_seedable_sampler=True)\n",
      "  warnings.warn(\n"
     ]
    },
    {
     "data": {
      "text/html": [],
      "text/plain": [
       "<IPython.core.display.HTML object>"
      ]
     },
     "metadata": {},
     "output_type": "display_data"
    }
   ],
   "source": [
    "from transformers import Trainer\n",
    "\n",
    "#CHECK no training_args\n",
    "trainer = Trainer(\n",
    "    model=model, \n",
    "    data_collator=collator, \n",
    "    tokenizer=tokenizer,\n",
    ")\n",
    "\n",
    "preds = trainer.predict(sub_ds)"
   ]
  },
  {
   "cell_type": "markdown",
   "id": "85b7d26f",
   "metadata": {
    "papermill": {
     "duration": 0.006928,
     "end_time": "2024-04-10T05:15:22.467067",
     "exception": false,
     "start_time": "2024-04-10T05:15:22.460139",
     "status": "completed"
    },
    "tags": []
   },
   "source": [
    "# Post Process"
   ]
  },
  {
   "cell_type": "code",
   "execution_count": 8,
   "id": "e67d02f5",
   "metadata": {
    "execution": {
     "iopub.execute_input": "2024-04-10T05:15:22.482563Z",
     "iopub.status.busy": "2024-04-10T05:15:22.482221Z",
     "iopub.status.idle": "2024-04-10T05:15:22.496708Z",
     "shell.execute_reply": "2024-04-10T05:15:22.495786Z"
    },
    "papermill": {
     "duration": 0.024833,
     "end_time": "2024-04-10T05:15:22.498828",
     "exception": false,
     "start_time": "2024-04-10T05:15:22.473995",
     "status": "completed"
    },
    "tags": []
   },
   "outputs": [],
   "source": [
    "#helper\n",
    "#note need to update softmax\n",
    "import numpy as np\n",
    "import pandas as pd\n",
    "from scipy.special import softmax\n",
    "def parse_predictions(predictions, id2label, ds, threshold=0.9):\n",
    "    \n",
    "    pred_softmax = np.exp(predictions) / np.sum(np.exp(predictions), axis = 2).reshape(predictions.shape[0],predictions.shape[1],1)\n",
    "    preds = predictions.argmax(-1)\n",
    "    preds_without_O = pred_softmax[:,:,:12].argmax(-1)\n",
    "    O_preds = pred_softmax[:,:,12]\n",
    "    preds_final = np.where(O_preds < threshold, preds_without_O , preds)\n",
    "\n",
    "    triplets = set()\n",
    "    row, document, token, label, token_str = [], [], [], [], []\n",
    "    for i, (p, token_map, offsets, tokens, doc, indices) in enumerate(zip(preds_final, ds[\"token_map\"], ds[\"offset_mapping\"], ds[\"tokens\"], ds[\"document\"], ds[\"token_indices\"])):\n",
    "\n",
    "        for token_pred, (start_idx, end_idx) in zip(p, offsets):\n",
    "            label_pred = id2label[str(token_pred)]\n",
    "\n",
    "            if start_idx + end_idx == 0: continue\n",
    "\n",
    "            if token_map[start_idx] == -1:\n",
    "                start_idx += 1\n",
    "\n",
    "            # ignore \"\\n\\n\"\n",
    "            while start_idx < len(token_map) and tokens[token_map[start_idx]].isspace():\n",
    "                start_idx += 1\n",
    "\n",
    "            if start_idx >= len(token_map): break\n",
    "\n",
    "            #CHECK\n",
    "            token_id = token_map[start_idx] #token ID at the start of the index\n",
    "#             original_token_id = token_map[start_idx]\n",
    "#             token_id = indices[original_token_id]\n",
    "\n",
    "            # ignore \"O\" predictions and whitespace preds\n",
    "            if label_pred != \"O\" and token_id != -1:\n",
    "                triplet = (label_pred, token_id, tokens[token_id])\n",
    "\n",
    "                if triplet not in triplets:\n",
    "                    row.append(i)\n",
    "                    document.append(doc)\n",
    "                    token.append(token_id)\n",
    "                    label.append(label_pred)\n",
    "                    token_str.append(tokens[token_id])\n",
    "                    triplets.add(triplet)\n",
    "\n",
    "    df = pd.DataFrame({\n",
    "        \"eval_row\": row,\n",
    "        \"document\": document,\n",
    "        \"token\": token,\n",
    "        \"label\": label,\n",
    "        \"token_str\": token_str\n",
    "    })\n",
    "\n",
    "    df = df.drop_duplicates().reset_index(drop=True)\n",
    "\n",
    "    df[\"row_id\"] = list(range(len(df)))\n",
    "    return df"
   ]
  },
  {
   "cell_type": "code",
   "execution_count": 9,
   "id": "101ad202",
   "metadata": {
    "execution": {
     "iopub.execute_input": "2024-04-10T05:15:22.513528Z",
     "iopub.status.busy": "2024-04-10T05:15:22.513214Z",
     "iopub.status.idle": "2024-04-10T05:15:22.519003Z",
     "shell.execute_reply": "2024-04-10T05:15:22.517985Z"
    },
    "papermill": {
     "duration": 0.015645,
     "end_time": "2024-04-10T05:15:22.521215",
     "exception": false,
     "start_time": "2024-04-10T05:15:22.505570",
     "status": "completed"
    },
    "tags": []
   },
   "outputs": [
    {
     "data": {
      "text/plain": [
       "dict_keys(['0', '1', '2', '3', '4', '5', '6', '7', '8', '9', '10', '11', '12'])"
      ]
     },
     "execution_count": 9,
     "metadata": {},
     "output_type": "execute_result"
    }
   ],
   "source": [
    "id2label.keys()"
   ]
  },
  {
   "cell_type": "code",
   "execution_count": 10,
   "id": "f9e4acc9",
   "metadata": {
    "execution": {
     "iopub.execute_input": "2024-04-10T05:15:22.536313Z",
     "iopub.status.busy": "2024-04-10T05:15:22.536024Z",
     "iopub.status.idle": "2024-04-10T05:15:22.657129Z",
     "shell.execute_reply": "2024-04-10T05:15:22.656046Z"
    },
    "papermill": {
     "duration": 0.131279,
     "end_time": "2024-04-10T05:15:22.659544",
     "exception": false,
     "start_time": "2024-04-10T05:15:22.528265",
     "status": "completed"
    },
    "tags": []
   },
   "outputs": [
    {
     "data": {
      "text/html": [
       "<div>\n",
       "<style scoped>\n",
       "    .dataframe tbody tr th:only-of-type {\n",
       "        vertical-align: middle;\n",
       "    }\n",
       "\n",
       "    .dataframe tbody tr th {\n",
       "        vertical-align: top;\n",
       "    }\n",
       "\n",
       "    .dataframe thead th {\n",
       "        text-align: right;\n",
       "    }\n",
       "</style>\n",
       "<table border=\"1\" class=\"dataframe\">\n",
       "  <thead>\n",
       "    <tr style=\"text-align: right;\">\n",
       "      <th></th>\n",
       "      <th>eval_row</th>\n",
       "      <th>document</th>\n",
       "      <th>token</th>\n",
       "      <th>label</th>\n",
       "      <th>token_str</th>\n",
       "      <th>row_id</th>\n",
       "    </tr>\n",
       "  </thead>\n",
       "  <tbody>\n",
       "    <tr>\n",
       "      <th>0</th>\n",
       "      <td>0</td>\n",
       "      <td>7</td>\n",
       "      <td>60</td>\n",
       "      <td>B-ID_NUM</td>\n",
       "      <td>Dessine</td>\n",
       "      <td>0</td>\n",
       "    </tr>\n",
       "    <tr>\n",
       "      <th>1</th>\n",
       "      <td>1</td>\n",
       "      <td>10</td>\n",
       "      <td>356</td>\n",
       "      <td>B-NAME_STUDENT</td>\n",
       "      <td>…</td>\n",
       "      <td>1</td>\n",
       "    </tr>\n",
       "    <tr>\n",
       "      <th>2</th>\n",
       "      <td>2</td>\n",
       "      <td>16</td>\n",
       "      <td>5</td>\n",
       "      <td>B-ID_NUM</td>\n",
       "      <td>Gamboa</td>\n",
       "      <td>2</td>\n",
       "    </tr>\n",
       "    <tr>\n",
       "      <th>3</th>\n",
       "      <td>2</td>\n",
       "      <td>16</td>\n",
       "      <td>527</td>\n",
       "      <td>B-ID_NUM</td>\n",
       "      <td>’s</td>\n",
       "      <td>3</td>\n",
       "    </tr>\n",
       "    <tr>\n",
       "      <th>4</th>\n",
       "      <td>3</td>\n",
       "      <td>20</td>\n",
       "      <td>5</td>\n",
       "      <td>B-ID_NUM</td>\n",
       "      <td>Sindy</td>\n",
       "      <td>4</td>\n",
       "    </tr>\n",
       "  </tbody>\n",
       "</table>\n",
       "</div>"
      ],
      "text/plain": [
       "   eval_row  document  token           label token_str  row_id\n",
       "0         0         7     60        B-ID_NUM   Dessine       0\n",
       "1         1        10    356  B-NAME_STUDENT         …       1\n",
       "2         2        16      5        B-ID_NUM    Gamboa       2\n",
       "3         2        16    527        B-ID_NUM        ’s       3\n",
       "4         3        20      5        B-ID_NUM     Sindy       4"
      ]
     },
     "metadata": {},
     "output_type": "display_data"
    }
   ],
   "source": [
    "#CHECK why preds.predictions\n",
    "preds_df = parse_predictions(preds.predictions, id2label, sub_ds, threshold=THRESHOLD)\n",
    "\n",
    "#look at to see\n",
    "display(preds_df.head(5))"
   ]
  },
  {
   "cell_type": "code",
   "execution_count": 11,
   "id": "08bb544a",
   "metadata": {
    "execution": {
     "iopub.execute_input": "2024-04-10T05:15:22.676113Z",
     "iopub.status.busy": "2024-04-10T05:15:22.675762Z",
     "iopub.status.idle": "2024-04-10T05:15:22.690913Z",
     "shell.execute_reply": "2024-04-10T05:15:22.690104Z"
    },
    "papermill": {
     "duration": 0.025713,
     "end_time": "2024-04-10T05:15:22.692953",
     "exception": false,
     "start_time": "2024-04-10T05:15:22.667240",
     "status": "completed"
    },
    "tags": []
   },
   "outputs": [],
   "source": [
    "preds_df[[\"row_id\", \"document\", \"token\", \"label\"]].to_csv(\"submission.csv\", index=False)"
   ]
  },
  {
   "cell_type": "markdown",
   "id": "e6fd3dd8",
   "metadata": {
    "papermill": {
     "duration": 0.007278,
     "end_time": "2024-04-10T05:15:22.707637",
     "exception": false,
     "start_time": "2024-04-10T05:15:22.700359",
     "status": "completed"
    },
    "tags": []
   },
   "source": [
    "# TODO\n",
    "- move helper functions to seperate script"
   ]
  }
 ],
 "metadata": {
  "kaggle": {
   "accelerator": "nvidiaTeslaT4",
   "dataSources": [
    {
     "databundleVersionId": 7500999,
     "sourceId": 66653,
     "sourceType": "competition"
    },
    {
     "sourceId": 171266604,
     "sourceType": "kernelVersion"
    }
   ],
   "dockerImageVersionId": 30683,
   "isGpuEnabled": true,
   "isInternetEnabled": false,
   "language": "python",
   "sourceType": "notebook"
  },
  "kernelspec": {
   "display_name": "Python 3",
   "language": "python",
   "name": "python3"
  },
  "language_info": {
   "codemirror_mode": {
    "name": "ipython",
    "version": 3
   },
   "file_extension": ".py",
   "mimetype": "text/x-python",
   "name": "python",
   "nbconvert_exporter": "python",
   "pygments_lexer": "ipython3",
   "version": "3.10.13"
  },
  "papermill": {
   "default_parameters": {},
   "duration": 36.340125,
   "end_time": "2024-04-10T05:15:25.965677",
   "environment_variables": {},
   "exception": null,
   "input_path": "__notebook__.ipynb",
   "output_path": "__notebook__.ipynb",
   "parameters": {},
   "start_time": "2024-04-10T05:14:49.625552",
   "version": "2.5.0"
  },
  "widgets": {
   "application/vnd.jupyter.widget-state+json": {
    "state": {
     "4589661710d340b49356a57f3de79f9f": {
      "model_module": "@jupyter-widgets/controls",
      "model_module_version": "1.5.0",
      "model_name": "DescriptionStyleModel",
      "state": {
       "_model_module": "@jupyter-widgets/controls",
       "_model_module_version": "1.5.0",
       "_model_name": "DescriptionStyleModel",
       "_view_count": null,
       "_view_module": "@jupyter-widgets/base",
       "_view_module_version": "1.2.0",
       "_view_name": "StyleView",
       "description_width": ""
      }
     },
     "5e24d7d3044c4dcbaac92817ea8559ed": {
      "model_module": "@jupyter-widgets/base",
      "model_module_version": "1.2.0",
      "model_name": "LayoutModel",
      "state": {
       "_model_module": "@jupyter-widgets/base",
       "_model_module_version": "1.2.0",
       "_model_name": "LayoutModel",
       "_view_count": null,
       "_view_module": "@jupyter-widgets/base",
       "_view_module_version": "1.2.0",
       "_view_name": "LayoutView",
       "align_content": null,
       "align_items": null,
       "align_self": null,
       "border": null,
       "bottom": null,
       "display": null,
       "flex": null,
       "flex_flow": null,
       "grid_area": null,
       "grid_auto_columns": null,
       "grid_auto_flow": null,
       "grid_auto_rows": null,
       "grid_column": null,
       "grid_gap": null,
       "grid_row": null,
       "grid_template_areas": null,
       "grid_template_columns": null,
       "grid_template_rows": null,
       "height": null,
       "justify_content": null,
       "justify_items": null,
       "left": null,
       "margin": null,
       "max_height": null,
       "max_width": null,
       "min_height": null,
       "min_width": null,
       "object_fit": null,
       "object_position": null,
       "order": null,
       "overflow": null,
       "overflow_x": null,
       "overflow_y": null,
       "padding": null,
       "right": null,
       "top": null,
       "visibility": null,
       "width": null
      }
     },
     "7f9f2f12603a477e98bccd8d13d1bbe4": {
      "model_module": "@jupyter-widgets/base",
      "model_module_version": "1.2.0",
      "model_name": "LayoutModel",
      "state": {
       "_model_module": "@jupyter-widgets/base",
       "_model_module_version": "1.2.0",
       "_model_name": "LayoutModel",
       "_view_count": null,
       "_view_module": "@jupyter-widgets/base",
       "_view_module_version": "1.2.0",
       "_view_name": "LayoutView",
       "align_content": null,
       "align_items": null,
       "align_self": null,
       "border": null,
       "bottom": null,
       "display": null,
       "flex": null,
       "flex_flow": null,
       "grid_area": null,
       "grid_auto_columns": null,
       "grid_auto_flow": null,
       "grid_auto_rows": null,
       "grid_column": null,
       "grid_gap": null,
       "grid_row": null,
       "grid_template_areas": null,
       "grid_template_columns": null,
       "grid_template_rows": null,
       "height": null,
       "justify_content": null,
       "justify_items": null,
       "left": null,
       "margin": null,
       "max_height": null,
       "max_width": null,
       "min_height": null,
       "min_width": null,
       "object_fit": null,
       "object_position": null,
       "order": null,
       "overflow": null,
       "overflow_x": null,
       "overflow_y": null,
       "padding": null,
       "right": null,
       "top": null,
       "visibility": null,
       "width": null
      }
     },
     "91b1b0f812af4e049f4da746636393b3": {
      "model_module": "@jupyter-widgets/base",
      "model_module_version": "1.2.0",
      "model_name": "LayoutModel",
      "state": {
       "_model_module": "@jupyter-widgets/base",
       "_model_module_version": "1.2.0",
       "_model_name": "LayoutModel",
       "_view_count": null,
       "_view_module": "@jupyter-widgets/base",
       "_view_module_version": "1.2.0",
       "_view_name": "LayoutView",
       "align_content": null,
       "align_items": null,
       "align_self": null,
       "border": null,
       "bottom": null,
       "display": null,
       "flex": null,
       "flex_flow": null,
       "grid_area": null,
       "grid_auto_columns": null,
       "grid_auto_flow": null,
       "grid_auto_rows": null,
       "grid_column": null,
       "grid_gap": null,
       "grid_row": null,
       "grid_template_areas": null,
       "grid_template_columns": null,
       "grid_template_rows": null,
       "height": null,
       "justify_content": null,
       "justify_items": null,
       "left": null,
       "margin": null,
       "max_height": null,
       "max_width": null,
       "min_height": null,
       "min_width": null,
       "object_fit": null,
       "object_position": null,
       "order": null,
       "overflow": null,
       "overflow_x": null,
       "overflow_y": null,
       "padding": null,
       "right": null,
       "top": null,
       "visibility": null,
       "width": null
      }
     },
     "977d97795989484489f26a8a21bd9171": {
      "model_module": "@jupyter-widgets/controls",
      "model_module_version": "1.5.0",
      "model_name": "FloatProgressModel",
      "state": {
       "_dom_classes": [],
       "_model_module": "@jupyter-widgets/controls",
       "_model_module_version": "1.5.0",
       "_model_name": "FloatProgressModel",
       "_view_count": null,
       "_view_module": "@jupyter-widgets/controls",
       "_view_module_version": "1.5.0",
       "_view_name": "ProgressView",
       "bar_style": "success",
       "description": "",
       "description_tooltip": null,
       "layout": "IPY_MODEL_bdd1f07feacb44a7b9b3901e2e4f194c",
       "max": 10.0,
       "min": 0.0,
       "orientation": "horizontal",
       "style": "IPY_MODEL_e8c4135c763c4bc7be2486cd9ed795a6",
       "value": 10.0
      }
     },
     "bdd1f07feacb44a7b9b3901e2e4f194c": {
      "model_module": "@jupyter-widgets/base",
      "model_module_version": "1.2.0",
      "model_name": "LayoutModel",
      "state": {
       "_model_module": "@jupyter-widgets/base",
       "_model_module_version": "1.2.0",
       "_model_name": "LayoutModel",
       "_view_count": null,
       "_view_module": "@jupyter-widgets/base",
       "_view_module_version": "1.2.0",
       "_view_name": "LayoutView",
       "align_content": null,
       "align_items": null,
       "align_self": null,
       "border": null,
       "bottom": null,
       "display": null,
       "flex": null,
       "flex_flow": null,
       "grid_area": null,
       "grid_auto_columns": null,
       "grid_auto_flow": null,
       "grid_auto_rows": null,
       "grid_column": null,
       "grid_gap": null,
       "grid_row": null,
       "grid_template_areas": null,
       "grid_template_columns": null,
       "grid_template_rows": null,
       "height": null,
       "justify_content": null,
       "justify_items": null,
       "left": null,
       "margin": null,
       "max_height": null,
       "max_width": null,
       "min_height": null,
       "min_width": null,
       "object_fit": null,
       "object_position": null,
       "order": null,
       "overflow": null,
       "overflow_x": null,
       "overflow_y": null,
       "padding": null,
       "right": null,
       "top": null,
       "visibility": null,
       "width": null
      }
     },
     "bf5f256784f64639aa254b976a1eb3d2": {
      "model_module": "@jupyter-widgets/controls",
      "model_module_version": "1.5.0",
      "model_name": "HTMLModel",
      "state": {
       "_dom_classes": [],
       "_model_module": "@jupyter-widgets/controls",
       "_model_module_version": "1.5.0",
       "_model_name": "HTMLModel",
       "_view_count": null,
       "_view_module": "@jupyter-widgets/controls",
       "_view_module_version": "1.5.0",
       "_view_name": "HTMLView",
       "description": "",
       "description_tooltip": null,
       "layout": "IPY_MODEL_5e24d7d3044c4dcbaac92817ea8559ed",
       "placeholder": "​",
       "style": "IPY_MODEL_e0c3715ce8f9437aa46d4e4095d5a5a3",
       "value": "Map (num_proc=3): 100%"
      }
     },
     "c03eafcb973e4fecb65be2307ec25a5b": {
      "model_module": "@jupyter-widgets/controls",
      "model_module_version": "1.5.0",
      "model_name": "HTMLModel",
      "state": {
       "_dom_classes": [],
       "_model_module": "@jupyter-widgets/controls",
       "_model_module_version": "1.5.0",
       "_model_name": "HTMLModel",
       "_view_count": null,
       "_view_module": "@jupyter-widgets/controls",
       "_view_module_version": "1.5.0",
       "_view_name": "HTMLView",
       "description": "",
       "description_tooltip": null,
       "layout": "IPY_MODEL_91b1b0f812af4e049f4da746636393b3",
       "placeholder": "​",
       "style": "IPY_MODEL_4589661710d340b49356a57f3de79f9f",
       "value": " 10/10 [00:00&lt;00:00, 17.42 examples/s]"
      }
     },
     "c417ff2c15424295960a416021da845a": {
      "model_module": "@jupyter-widgets/controls",
      "model_module_version": "1.5.0",
      "model_name": "HBoxModel",
      "state": {
       "_dom_classes": [],
       "_model_module": "@jupyter-widgets/controls",
       "_model_module_version": "1.5.0",
       "_model_name": "HBoxModel",
       "_view_count": null,
       "_view_module": "@jupyter-widgets/controls",
       "_view_module_version": "1.5.0",
       "_view_name": "HBoxView",
       "box_style": "",
       "children": [
        "IPY_MODEL_bf5f256784f64639aa254b976a1eb3d2",
        "IPY_MODEL_977d97795989484489f26a8a21bd9171",
        "IPY_MODEL_c03eafcb973e4fecb65be2307ec25a5b"
       ],
       "layout": "IPY_MODEL_7f9f2f12603a477e98bccd8d13d1bbe4"
      }
     },
     "e0c3715ce8f9437aa46d4e4095d5a5a3": {
      "model_module": "@jupyter-widgets/controls",
      "model_module_version": "1.5.0",
      "model_name": "DescriptionStyleModel",
      "state": {
       "_model_module": "@jupyter-widgets/controls",
       "_model_module_version": "1.5.0",
       "_model_name": "DescriptionStyleModel",
       "_view_count": null,
       "_view_module": "@jupyter-widgets/base",
       "_view_module_version": "1.2.0",
       "_view_name": "StyleView",
       "description_width": ""
      }
     },
     "e8c4135c763c4bc7be2486cd9ed795a6": {
      "model_module": "@jupyter-widgets/controls",
      "model_module_version": "1.5.0",
      "model_name": "ProgressStyleModel",
      "state": {
       "_model_module": "@jupyter-widgets/controls",
       "_model_module_version": "1.5.0",
       "_model_name": "ProgressStyleModel",
       "_view_count": null,
       "_view_module": "@jupyter-widgets/base",
       "_view_module_version": "1.2.0",
       "_view_name": "StyleView",
       "bar_color": null,
       "description_width": ""
      }
     }
    },
    "version_major": 2,
    "version_minor": 0
   }
  }
 },
 "nbformat": 4,
 "nbformat_minor": 5
}
