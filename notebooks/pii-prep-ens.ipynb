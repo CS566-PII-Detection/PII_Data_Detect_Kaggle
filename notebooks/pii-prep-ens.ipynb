{
 "cells": [
  {
   "cell_type": "markdown",
   "id": "0ead19e7",
   "metadata": {
    "papermill": {
     "duration": 0.011442,
     "end_time": "2024-05-03T18:41:20.422765",
     "exception": false,
     "start_time": "2024-05-03T18:41:20.411323",
     "status": "completed"
    },
    "tags": []
   },
   "source": [
    "# PII Data Prep with W and B\n",
    "This notebook creates supporting datasets for PII detection training and validation. Datasets are logged as artificats using W&B to document dataset orgin and version for later model training. Outputs are .parquet but can be changed to json as needed.  Specifically this notebook will create the following datasets. \n",
    "\n",
    "This notebook is written to be run on kaggle and needs to be modifed for use elsewhere. \n",
    "\n",
    "- Validation set from orginal training data\n",
    "- Non overlapping training split of orginal training data\n",
    "- Miniset from orginal training data\n",
    "- datasets split by sequence length\n",
    "- dataset from sythetic generation\n",
    "- datasets split by labels present in document\n",
    "- datasets split using weighted bagging\n",
    "\n",
    "### Reference\n",
    "Thank you to the following for ideas, supporting functions, and sythetic data generation\n",
    "1. https://www.kaggle.com/code/thedrcat/pii-data-preparation-cv-stride-viz-and-w-b#Share-your-findings\n",
    "2. https://www.kaggle.com/code/valentinwerner/fix-punctuation-tokenization-external-dataset/output\n",
    "3. https://www.kaggle.com/code/neslihanozeryildiz/creating-mini-data-sets-and-validation-data-set#Examining-Original-Data-Set"
   ]
  },
  {
   "cell_type": "markdown",
   "id": "13ffe870",
   "metadata": {
    "papermill": {
     "duration": 0.009416,
     "end_time": "2024-05-03T18:41:20.442028",
     "exception": false,
     "start_time": "2024-05-03T18:41:20.432612",
     "status": "completed"
    },
    "tags": []
   },
   "source": [
    "# Config and Import"
   ]
  },
  {
   "cell_type": "code",
   "execution_count": 1,
   "id": "6886d236",
   "metadata": {
    "execution": {
     "iopub.execute_input": "2024-05-03T18:41:20.463031Z",
     "iopub.status.busy": "2024-05-03T18:41:20.461989Z",
     "iopub.status.idle": "2024-05-03T18:41:34.367287Z",
     "shell.execute_reply": "2024-05-03T18:41:34.366161Z"
    },
    "papermill": {
     "duration": 13.918415,
     "end_time": "2024-05-03T18:41:34.369725",
     "exception": false,
     "start_time": "2024-05-03T18:41:20.451310",
     "status": "completed"
    },
    "tags": []
   },
   "outputs": [],
   "source": [
    "!pip install wandb -q"
   ]
  },
  {
   "cell_type": "code",
   "execution_count": 2,
   "id": "b1799269",
   "metadata": {
    "_cell_guid": "b1076dfc-b9ad-4769-8c92-a6c4dae69d19",
    "_uuid": "8f2839f25d086af736a60e9eeb907d3b93b6e0e5",
    "execution": {
     "iopub.execute_input": "2024-05-03T18:41:34.390394Z",
     "iopub.status.busy": "2024-05-03T18:41:34.390081Z",
     "iopub.status.idle": "2024-05-03T18:41:35.156314Z",
     "shell.execute_reply": "2024-05-03T18:41:35.155471Z"
    },
    "papermill": {
     "duration": 0.780121,
     "end_time": "2024-05-03T18:41:35.159438",
     "exception": false,
     "start_time": "2024-05-03T18:41:34.379317",
     "status": "completed"
    },
    "tags": []
   },
   "outputs": [],
   "source": [
    "from pathlib import Path\n",
    "import os\n",
    "\n",
    "import json\n",
    "import itertools\n",
    "import numpy as np\n",
    "import pandas as pd\n",
    "import matplotlib.pyplot as plt\n",
    "\n",
    "import warnings"
   ]
  },
  {
   "cell_type": "code",
   "execution_count": 3,
   "id": "292743b7",
   "metadata": {
    "execution": {
     "iopub.execute_input": "2024-05-03T18:41:35.179705Z",
     "iopub.status.busy": "2024-05-03T18:41:35.179295Z",
     "iopub.status.idle": "2024-05-03T18:41:35.182886Z",
     "shell.execute_reply": "2024-05-03T18:41:35.182232Z"
    },
    "papermill": {
     "duration": 0.015991,
     "end_time": "2024-05-03T18:41:35.184864",
     "exception": false,
     "start_time": "2024-05-03T18:41:35.168873",
     "status": "completed"
    },
    "tags": []
   },
   "outputs": [],
   "source": [
    "DATA_PATH = '../input/pii-detection-removal-from-educational-data'\n",
    "OUTPUT_DIR = '/kaggle/working/'"
   ]
  },
  {
   "cell_type": "markdown",
   "id": "2f46c089",
   "metadata": {
    "papermill": {
     "duration": 0.009217,
     "end_time": "2024-05-03T18:41:35.204033",
     "exception": false,
     "start_time": "2024-05-03T18:41:35.194816",
     "status": "completed"
    },
    "tags": []
   },
   "source": [
    "# Helper functions"
   ]
  },
  {
   "cell_type": "code",
   "execution_count": 4,
   "id": "990066e5",
   "metadata": {
    "execution": {
     "iopub.execute_input": "2024-05-03T18:41:35.225421Z",
     "iopub.status.busy": "2024-05-03T18:41:35.225100Z",
     "iopub.status.idle": "2024-05-03T18:41:35.231460Z",
     "shell.execute_reply": "2024-05-03T18:41:35.230575Z"
    },
    "papermill": {
     "duration": 0.018747,
     "end_time": "2024-05-03T18:41:35.233312",
     "exception": false,
     "start_time": "2024-05-03T18:41:35.214565",
     "status": "completed"
    },
    "tags": []
   },
   "outputs": [],
   "source": [
    "#split data into training and validation set\n",
    "def PIId2_split_by_sampling(df, test_ratio):\n",
    "    \"\"\"Split PII data into training and test set. \n",
    "\n",
    "    Args:\n",
    "        df (pd.DataFrame): The input DataFrame.\n",
    "        test_ratio (float, default=0.2): \n",
    "            The proportion of the dataset to include in the test split.\n",
    "\n",
    "    Returns:\n",
    "        train_df, test_df: Training and test splits of the input DataFrame.\n",
    "    \"\"\"\n",
    "    # Get the number of rows in the DataFrame\n",
    "    num_rows = len(df)\n",
    "    \n",
    "    # Get the split index\n",
    "    split_idx = int(num_rows * test_ratio)\n",
    "    \n",
    "    # Shuffle the DataFrame rows\n",
    "    df_shuffled = df.sample(frac=1, random_state=42)\n",
    "    \n",
    "    # Split the DataFrame into train and test\n",
    "    train_df = df_shuffled.iloc[split_idx:]\n",
    "    test_df = df_shuffled.iloc[:split_idx]\n",
    "    \n",
    "    \n",
    "    return train_df, test_df"
   ]
  },
  {
   "cell_type": "code",
   "execution_count": 5,
   "id": "d797c89e",
   "metadata": {
    "execution": {
     "iopub.execute_input": "2024-05-03T18:41:35.253989Z",
     "iopub.status.busy": "2024-05-03T18:41:35.253689Z",
     "iopub.status.idle": "2024-05-03T18:41:35.260036Z",
     "shell.execute_reply": "2024-05-03T18:41:35.259395Z"
    },
    "papermill": {
     "duration": 0.018886,
     "end_time": "2024-05-03T18:41:35.261673",
     "exception": false,
     "start_time": "2024-05-03T18:41:35.242787",
     "status": "completed"
    },
    "tags": []
   },
   "outputs": [],
   "source": [
    "def move_missing_labels(to_df, from_df):\n",
    "    \"\"\"\n",
    "    Move documents containing missing labels from the extra DataFrame to the desired DataFrame.\n",
    "\n",
    "    Parameters:\n",
    "    - to_df (DataFrame): DataFrame where the documents should be moved to.\n",
    "    - from_df (DataFrame): DataFrame where the documents should be moved from.\n",
    "\n",
    "    Returns:\n",
    "    - desired_df, extra_df: Updated DataFrames.\n",
    "    \"\"\"\n",
    "    # Find the labels that are missing from the to_df DataFrame\n",
    "    missing_labels = set(from_df['labels'].explode().unique()) - set(to_df['labels'].explode().unique())\n",
    "\n",
    "    # For each missing label, move a document from the extra DataFrame to the desired DataFrame\n",
    "    for label in missing_labels:\n",
    "        if label in from_df['labels'].explode().unique():\n",
    "            document = from_df[from_df['labels'].apply(lambda x: label in x)].sample(n=1)\n",
    "            to_df = pd.concat([to_df, document])\n",
    "            from_df = from_df.drop(document.index)\n",
    "\n",
    "    return to_df, from_df"
   ]
  },
  {
   "cell_type": "code",
   "execution_count": 6,
   "id": "03a62ec6",
   "metadata": {
    "execution": {
     "iopub.execute_input": "2024-05-03T18:41:35.281738Z",
     "iopub.status.busy": "2024-05-03T18:41:35.281230Z",
     "iopub.status.idle": "2024-05-03T18:41:35.291966Z",
     "shell.execute_reply": "2024-05-03T18:41:35.291353Z"
    },
    "papermill": {
     "duration": 0.022974,
     "end_time": "2024-05-03T18:41:35.293701",
     "exception": false,
     "start_time": "2024-05-03T18:41:35.270727",
     "status": "completed"
    },
    "tags": []
   },
   "outputs": [],
   "source": [
    "import matplotlib.pyplot as plt\n",
    "\n",
    "def graph_label_compare(left_df, right_df, left_title, right_title):\n",
    "    \"\"\"\n",
    "    Compare the label distributions of two DataFrames.\n",
    "\n",
    "    Parameters:\n",
    "    - left_df (DataFrame): First DataFrame to compare.\n",
    "    - right_df (DataFrame): Second DataFrame to compare.\n",
    "    - left_title (str): Title for the first DataFrame's plot.\n",
    "    - right_title (str): Title for the second DataFrame's plot.\n",
    "    \"\"\"\n",
    "    # Calculate the distribution of labels in the left DataFrame\n",
    "    left_labels = left_df['labels'].explode()\n",
    "    left_labels = left_labels[left_labels != 'O']  # Exclude 'O' labels\n",
    "    left_label_distribution = left_labels.value_counts(normalize=True) * 100\n",
    "\n",
    "    # Calculate the distribution of labels in the right DataFrame\n",
    "    right_labels = right_df['labels'].explode()\n",
    "    right_labels = right_labels[right_labels != 'O']  # Exclude 'O' labels\n",
    "    right_label_distribution = right_labels.value_counts(normalize=True) * 100\n",
    "\n",
    "    # Create the figure for the plots\n",
    "    plt.figure(figsize=(10, 4))\n",
    "\n",
    "    # Create a bar plot for the left DataFrame label distribution\n",
    "    plt.subplot(1, 2, 1)\n",
    "    left_label_distribution.plot(kind='bar', color='blue', alpha=0.5, label=left_title)\n",
    "    for i in range(len(left_label_distribution)):\n",
    "        plt.text(i, left_label_distribution.iloc[i] + 0.5, f\"{left_label_distribution.iloc[i]:.2f}%\", ha='center', va='bottom')\n",
    "    plt.title(f'{left_title} Label Distribution')\n",
    "    plt.xlabel('Labels')\n",
    "    plt.ylabel('%')\n",
    "    plt.legend()\n",
    "\n",
    "    # Create a bar plot for the right DataFrame label distribution\n",
    "    plt.subplot(1, 2, 2)\n",
    "    right_label_distribution.plot(kind='bar', color='pink', alpha=0.5, label=right_title)\n",
    "    for i in range(len(right_label_distribution)):\n",
    "        plt.text(i, right_label_distribution.iloc[i] + 0.5, f\"{right_label_distribution.iloc[i]:.2f}%\", ha='center', va='bottom')\n",
    "    plt.title(f'{right_title} Label Distribution')\n",
    "    plt.xlabel('Labels')\n",
    "    plt.ylabel('%')\n",
    "    plt.legend()\n",
    "\n",
    "    # Display the plots\n",
    "    plt.tight_layout()\n",
    "    plt.show()"
   ]
  },
  {
   "cell_type": "code",
   "execution_count": 7,
   "id": "27b90a6e",
   "metadata": {
    "execution": {
     "iopub.execute_input": "2024-05-03T18:41:35.313768Z",
     "iopub.status.busy": "2024-05-03T18:41:35.313305Z",
     "iopub.status.idle": "2024-05-03T18:41:35.318690Z",
     "shell.execute_reply": "2024-05-03T18:41:35.318042Z"
    },
    "papermill": {
     "duration": 0.017571,
     "end_time": "2024-05-03T18:41:35.320456",
     "exception": false,
     "start_time": "2024-05-03T18:41:35.302885",
     "status": "completed"
    },
    "tags": []
   },
   "outputs": [],
   "source": [
    "from collections import Counter\n",
    "from itertools import chain\n",
    "\n",
    "def analyze_labels(df):\n",
    "    \"\"\"\n",
    "    Analyze the distribution of labels in a DataFrame.\n",
    "\n",
    "    Parameters:\n",
    "    - df (DataFrame): DataFrame with a 'labels' column that contains lists of labels.\n",
    "\n",
    "    Returns:\n",
    "    - None\n",
    "    \"\"\"\n",
    "    df.info()\n",
    "    # Count the number of documents that contain each label\n",
    "    label_counts = df['labels'].apply(set).explode().value_counts()\n",
    "\n",
    "    # Count the total number of documents\n",
    "    total_count = len(df)\n",
    "\n",
    "    # Count the number of documents that contain entities (i.e., labels other than 'O')\n",
    "    entity_count = total_count - label_counts['O']\n",
    "\n",
    "    print(f'total documents {total_count} \\n documents with entities {entity_count}')\n",
    "\n",
    "    # Print the counts\n",
    "    for label, count in label_counts.items():\n",
    "        print(f'{label}: {count} documents')"
   ]
  },
  {
   "cell_type": "code",
   "execution_count": 8,
   "id": "88e20dd7",
   "metadata": {
    "execution": {
     "iopub.execute_input": "2024-05-03T18:41:35.339671Z",
     "iopub.status.busy": "2024-05-03T18:41:35.339386Z",
     "iopub.status.idle": "2024-05-03T18:41:35.344567Z",
     "shell.execute_reply": "2024-05-03T18:41:35.343732Z"
    },
    "papermill": {
     "duration": 0.017022,
     "end_time": "2024-05-03T18:41:35.346588",
     "exception": false,
     "start_time": "2024-05-03T18:41:35.329566",
     "status": "completed"
    },
    "tags": []
   },
   "outputs": [],
   "source": [
    "def add_token_indices(doc_tokens):\n",
    "    token_indices = list(range(len(doc_tokens)))\n",
    "    return token_indices\n",
    "\n",
    "def load_from_json(json_path):\n",
    "    data= json.load(open(json_path))\n",
    "    df= pd.DataFrame(data)\n",
    "    df['token_indices'] = df['tokens'].apply(add_token_indices)\n",
    "    \n",
    "    return df"
   ]
  },
  {
   "cell_type": "code",
   "execution_count": 9,
   "id": "df99d425",
   "metadata": {
    "execution": {
     "iopub.execute_input": "2024-05-03T18:41:35.365807Z",
     "iopub.status.busy": "2024-05-03T18:41:35.365552Z",
     "iopub.status.idle": "2024-05-03T18:41:35.374857Z",
     "shell.execute_reply": "2024-05-03T18:41:35.373999Z"
    },
    "papermill": {
     "duration": 0.021228,
     "end_time": "2024-05-03T18:41:35.376824",
     "exception": false,
     "start_time": "2024-05-03T18:41:35.355596",
     "status": "completed"
    },
    "tags": []
   },
   "outputs": [],
   "source": [
    "def move_rare_labels(to_df, from_df):\n",
    "    \"\"\"\n",
    "    Move documents containing missing labels from the extra DataFrame to the desired DataFrame.\n",
    "\n",
    "    Parameters:\n",
    "    - to_df (DataFrame): DataFrame where the documents should be moved to.\n",
    "    - from_df (DataFrame): DataFrame where the documents should be moved from.\n",
    "\n",
    "    Returns:\n",
    "    - desired_df, extra_df: Updated DataFrames.\n",
    "    \"\"\"\n",
    "    # Find the labels that are missing from the to_df DataFrame\n",
    "    labels = set(from_df['labels'].explode().unique())\n",
    "\n",
    "    # For each missing label, move documents from the extra DataFrame to the desired DataFrame\n",
    "    for label in labels:\n",
    "        if label in from_df['labels'].explode().unique():\n",
    "            # Get all documents with the current label\n",
    "            documents = from_df[from_df['labels'].apply(lambda x: label in x)]\n",
    "            \n",
    "            # If there are less than 5 documents with the current label in to_df, move documents from from_df to to_df\n",
    "            if len(to_df[to_df['labels'].apply(lambda x: label in x)]) < 5:\n",
    "                # Calculate how many documents need to be moved\n",
    "                num_docs_to_move = 5 - len(to_df[to_df['labels'].apply(lambda x: label in x)])\n",
    "                \n",
    "                # If there are enough documents in from_df, move the required number of documents\n",
    "                if len(documents) >= num_docs_to_move:\n",
    "                    documents_to_move = documents.sample(n=num_docs_to_move)\n",
    "                    to_df = pd.concat([to_df, documents_to_move])\n",
    "                    from_df = from_df.drop(documents_to_move.index)\n",
    "                # If there are not enough documents in from_df, move all available documents\n",
    "                else:\n",
    "                    to_df = pd.concat([to_df, documents])\n",
    "                    from_df = from_df.drop(documents.index)\n",
    "\n",
    "    return to_df, from_df"
   ]
  },
  {
   "cell_type": "markdown",
   "id": "a7697cf7",
   "metadata": {
    "papermill": {
     "duration": 0.008773,
     "end_time": "2024-05-03T18:41:35.395006",
     "exception": false,
     "start_time": "2024-05-03T18:41:35.386233",
     "status": "completed"
    },
    "tags": []
   },
   "source": [
    "# Load Competition data and make validation set"
   ]
  },
  {
   "cell_type": "code",
   "execution_count": 10,
   "id": "36cff41b",
   "metadata": {
    "execution": {
     "iopub.execute_input": "2024-05-03T18:41:35.415326Z",
     "iopub.status.busy": "2024-05-03T18:41:35.415001Z",
     "iopub.status.idle": "2024-05-03T18:41:39.246655Z",
     "shell.execute_reply": "2024-05-03T18:41:39.245611Z"
    },
    "papermill": {
     "duration": 3.844696,
     "end_time": "2024-05-03T18:41:39.249201",
     "exception": false,
     "start_time": "2024-05-03T18:41:35.404505",
     "status": "completed"
    },
    "tags": []
   },
   "outputs": [],
   "source": [
    "#load competition data\n",
    "base_df= load_from_json('/kaggle/input/pii-detection-removal-from-educational-data/train.json')\n"
   ]
  },
  {
   "cell_type": "code",
   "execution_count": 11,
   "id": "83ae6ee6",
   "metadata": {
    "execution": {
     "iopub.execute_input": "2024-05-03T18:41:39.270090Z",
     "iopub.status.busy": "2024-05-03T18:41:39.269733Z",
     "iopub.status.idle": "2024-05-03T18:41:39.300449Z",
     "shell.execute_reply": "2024-05-03T18:41:39.299814Z"
    },
    "papermill": {
     "duration": 0.043059,
     "end_time": "2024-05-03T18:41:39.302422",
     "exception": false,
     "start_time": "2024-05-03T18:41:39.259363",
     "status": "completed"
    },
    "tags": []
   },
   "outputs": [
    {
     "name": "stdout",
     "output_type": "stream",
     "text": [
      "Number of samples with label length over 3000: 3\n",
      "Number of samples with label length between 2000 and 2999: 29\n",
      "Number of samples with label length between 1000 and 1999: 1087\n",
      "Number of samples with label length under 1000: 5688\n"
     ]
    }
   ],
   "source": [
    "#get longest documents for troubleshooting pipeline\n",
    "\n",
    "#initialize empty dataframe\n",
    "docs_over_3000 = pd.DataFrame()\n",
    "docs_2000_2999 = pd.DataFrame()\n",
    "docs_1000_1999 = pd.DataFrame()\n",
    "docs_under_1000 = pd.DataFrame()\n",
    "\n",
    "#make dataframe based on length \n",
    "docs_over_3000 = base_df[base_df['labels'].apply(lambda x: len(x) > 3000)]\n",
    "docs_2000_2999 = base_df[base_df['labels'].apply(lambda x: 2000 <= len(x) <= 2999)]\n",
    "docs_1000_1999 = base_df[base_df['labels'].apply(lambda x: 1000 <= len(x) < 2000)]\n",
    "docs_under_1000 = base_df[base_df['labels'].apply(lambda x: len(x) < 1000)]\n",
    "\n",
    "print(f\"Number of samples with label length over 3000: {len(docs_over_3000)}\")\n",
    "print(f\"Number of samples with label length between 2000 and 2999: {len(docs_2000_2999)}\")\n",
    "print(f\"Number of samples with label length between 1000 and 1999: {len(docs_1000_1999)}\")\n",
    "print(f\"Number of samples with label length under 1000: {len(docs_under_1000)}\")"
   ]
  },
  {
   "cell_type": "code",
   "execution_count": 12,
   "id": "e18a0918",
   "metadata": {
    "execution": {
     "iopub.execute_input": "2024-05-03T18:41:39.324793Z",
     "iopub.status.busy": "2024-05-03T18:41:39.324156Z",
     "iopub.status.idle": "2024-05-03T18:41:47.731797Z",
     "shell.execute_reply": "2024-05-03T18:41:47.730781Z"
    },
    "papermill": {
     "duration": 8.420861,
     "end_time": "2024-05-03T18:41:47.734111",
     "exception": false,
     "start_time": "2024-05-03T18:41:39.313250",
     "status": "completed"
    },
    "tags": []
   },
   "outputs": [
    {
     "name": "stdout",
     "output_type": "stream",
     "text": [
      "<class 'pandas.core.frame.DataFrame'>\n",
      "Index: 3406 entries, 4624 to 1887\n",
      "Data columns (total 6 columns):\n",
      " #   Column               Non-Null Count  Dtype \n",
      "---  ------               --------------  ----- \n",
      " 0   document             3406 non-null   int64 \n",
      " 1   full_text            3406 non-null   object\n",
      " 2   tokens               3406 non-null   object\n",
      " 3   trailing_whitespace  3406 non-null   object\n",
      " 4   labels               3406 non-null   object\n",
      " 5   token_indices        3406 non-null   object\n",
      "dtypes: int64(1), object(5)\n",
      "memory usage: 186.3+ KB\n",
      "total documents 3406 \n",
      " documents with entities 0\n",
      "O: 3406 documents\n",
      "B-NAME_STUDENT: 454 documents\n",
      "I-NAME_STUDENT: 414 documents\n",
      "B-URL_PERSONAL: 47 documents\n",
      "B-ID_NUM: 19 documents\n",
      "B-EMAIL: 14 documents\n",
      "B-USERNAME: 5 documents\n",
      "B-PHONE_NUM: 4 documents\n",
      "I-PHONE_NUM: 3 documents\n",
      "I-STREET_ADDRESS: 2 documents\n",
      "B-STREET_ADDRESS: 2 documents\n",
      "I-URL_PERSONAL: 1 documents\n",
      "I-ID_NUM: 1 documents\n",
      "size of base:  6807\n",
      "size of val_df:  3406\n"
     ]
    },
    {
     "data": {
      "image/png": "[encoded data removed]",
      "text/plain": [
       "<Figure size 1000x400 with 2 Axes>"
      ]
     },
     "metadata": {},
     "output_type": "display_data"
    },
    {
     "data": {
      "image/png": "[encoded data removed]",
      "text/plain": [
       "<Figure size 1000x400 with 2 Axes>"
      ]
     },
     "metadata": {},
     "output_type": "display_data"
    }
   ],
   "source": [
    "train2_df, val2_df = PIId2_split_by_sampling(base_df, .5)\n",
    "\n",
    "val2_df, train2_df = move_rare_labels(val2_df, train2_df)\n",
    "\n",
    "#train total\n",
    "total_train_df = train2_df.copy()\n",
    "\n",
    "analyze_labels(val2_df)\n",
    "\n",
    "# Save the DataFrame to a JSON file \n",
    "val2_df.to_json(OUTPUT_DIR + \"/val2.json\", orient=\"records\")\n",
    "# train2_df.to_json(OUTPUT_DIR + \"/train2_fromval.json\", orient=\"records\")\n",
    "\n",
    "print(\"size of base: \", len(base_df))\n",
    "print(\"size of val_df: \", len(val2_df))\n",
    "\n",
    "graph_label_compare(base_df, val2_df, \"base\", \"val\")\n",
    "graph_label_compare(base_df, train2_df, \"base\", \"train without overlap\")"
   ]
  },
  {
   "cell_type": "markdown",
   "id": "9891487e",
   "metadata": {
    "papermill": {
     "duration": 0.010795,
     "end_time": "2024-05-03T18:41:47.757390",
     "exception": false,
     "start_time": "2024-05-03T18:41:47.746595",
     "status": "completed"
    },
    "tags": []
   },
   "source": [
    "## Miniset\n",
    "mini_no_overlap, no_overlap_extra= PIId2_split_by_sampling(train2_df, .7)\n",
    "mini_no_overlap, no_overlap_extra= move_missing_labels(mini_no_overlap, no_overlap_extra)\n",
    "\n",
    "print(\"size of base: \", len(base_df))\n",
    "print(\"size of mini_no_overlap: \", len(mini_no_overlap))\n",
    "graph_label_compare(base_df, mini_no_overlap, \"base\", \"train without overlap\")"
   ]
  },
  {
   "cell_type": "markdown",
   "id": "cceb5a06",
   "metadata": {
    "papermill": {
     "duration": 0.011153,
     "end_time": "2024-05-03T18:41:47.779687",
     "exception": false,
     "start_time": "2024-05-03T18:41:47.768534",
     "status": "completed"
    },
    "tags": []
   },
   "source": [
    "# More data\n",
    "https://www.kaggle.com/code/valentinwerner/fix-punctuation-tokenization-external-dataset/output\n",
    "\n",
    "valentinwerner fix of \n",
    "https://www.kaggle.com/datasets/alejopaullier/pii-external-dataset/data?select=pii_dataset.csv\n",
    "https://www.kaggle.com/datasets/pjmathematician/pii-detection-dataset-gpt"
   ]
  },
  {
   "cell_type": "code",
   "execution_count": 13,
   "id": "24a8c707",
   "metadata": {
    "execution": {
     "iopub.execute_input": "2024-05-03T18:41:47.804432Z",
     "iopub.status.busy": "2024-05-03T18:41:47.804096Z",
     "iopub.status.idle": "2024-05-03T18:41:50.425567Z",
     "shell.execute_reply": "2024-05-03T18:41:50.424517Z"
    },
    "papermill": {
     "duration": 2.636826,
     "end_time": "2024-05-03T18:41:50.428186",
     "exception": false,
     "start_time": "2024-05-03T18:41:47.791360",
     "status": "completed"
    },
    "tags": []
   },
   "outputs": [
    {
     "name": "stdout",
     "output_type": "stream",
     "text": [
      "                                           full_text  \\\n",
      "0  Ryan Gallagher is a student who is currently e...   \n",
      "\n",
      "                                              tokens  \\\n",
      "0  [Ryan, Gallagher, is, a, student, who, is, cur...   \n",
      "\n",
      "                                 trailing_whitespace  \\\n",
      "0  [True, True, True, True, True, True, True, Tru...   \n",
      "\n",
      "                                              labels  \\\n",
      "0  [B-NAME_STUDENT, I-NAME_STUDENT, O, O, O, O, O...   \n",
      "\n",
      "                                       token_indices  \n",
      "0  [0, 1, 2, 3, 4, 5, 6, 7, 8, 9, 10, 11, 12, 13,...  \n",
      "      document                                          full_text  \\\n",
      "3759     15694  Hello,\\n\\nThanks in advance for reviewing my s...   \n",
      "\n",
      "                                                 tokens  \\\n",
      "3759  [Hello, ,, \\n\\n, Thanks, in, advance, for, rev...   \n",
      "\n",
      "                                    trailing_whitespace  \\\n",
      "3759  [False, False, False, True, True, True, True, ...   \n",
      "\n",
      "                                                 labels  \\\n",
      "3759  [O, O, O, O, O, O, O, O, O, O, O, O, O, O, O, ...   \n",
      "\n",
      "                                          token_indices  \n",
      "3759  [0, 1, 2, 3, 4, 5, 6, 7, 8, 9, 10, 11, 12, 13,...  \n"
     ]
    }
   ],
   "source": [
    "#load external data\n",
    "\n",
    "moredata_dataset_fixed_df = load_from_json('/kaggle/input/fix-punctuation-tokenization-external-dataset/moredata_dataset_fixed.json')\n",
    "pii_dataset_fixed_df = load_from_json('/kaggle/input/fix-punctuation-tokenization-external-dataset/pii_dataset_fixed.json')\n",
    "data_more2_fixed_df = load_from_json('/kaggle/input/data3-fixed/datamore2_fixed.json')\n",
    "data_more3_fixed_df = load_from_json('/kaggle/input/data3-fixed/datamore3_fixed.json')\n",
    "\n",
    "print(data_more2_fixed_df.head(1))\n",
    "print(train2_df.head(1))\n",
    "\n",
    "# Convert and standardize documents and add indices\n",
    "ext_dfs = [moredata_dataset_fixed_df, pii_dataset_fixed_df, data_more2_fixed_df, data_more3_fixed_df]\n",
    "ext_doc_numbering_seed = [100000 * (i + 1) for i in range(len(ext_dfs))]\n",
    "for df, seed in zip(ext_dfs, ext_doc_numbering_seed):\n",
    "    # Check if 'document' column exists\n",
    "    if 'document' not in df.columns:\n",
    "        # If not, add 'document' column\n",
    "        df['document'] = range(seed, seed + len(df))\n",
    "    else:\n",
    "        # If 'document' column exists, convert it to int\n",
    "        df['document'] = range(seed, seed + len(df['document']))\n",
    "    total_train_df =  pd.concat([total_train_df, df], ignore_index=True)\n",
    "\n",
    "# moredata_dataset_fixed_df.to_json(OUTPUT_DIR + \"/moredata_dataset_fixed.json\", orient=\"records\")\n",
    "# pii_dataset_fixed_df.to_json(OUTPUT_DIR + \"/pii_dataset_fixed.json\", orient=\"records\")\n",
    "# data_more2_fixed_df.to_json(OUTPUT_DIR + \"/data_more2_fixed.json\", orient=\"records\")"
   ]
  },
  {
   "cell_type": "code",
   "execution_count": 14,
   "id": "062b53b9",
   "metadata": {
    "execution": {
     "iopub.execute_input": "2024-05-03T18:41:50.453129Z",
     "iopub.status.busy": "2024-05-03T18:41:50.452779Z",
     "iopub.status.idle": "2024-05-03T18:41:50.485180Z",
     "shell.execute_reply": "2024-05-03T18:41:50.483576Z"
    },
    "papermill": {
     "duration": 0.047284,
     "end_time": "2024-05-03T18:41:50.487447",
     "exception": false,
     "start_time": "2024-05-03T18:41:50.440163",
     "status": "completed"
    },
    "tags": []
   },
   "outputs": [
    {
     "name": "stdout",
     "output_type": "stream",
     "text": [
      "<class 'pandas.core.frame.DataFrame'>\n",
      "Index: 3401 entries, 3759 to 860\n",
      "Data columns (total 6 columns):\n",
      " #   Column               Non-Null Count  Dtype \n",
      "---  ------               --------------  ----- \n",
      " 0   document             3401 non-null   int64 \n",
      " 1   full_text            3401 non-null   object\n",
      " 2   tokens               3401 non-null   object\n",
      " 3   trailing_whitespace  3401 non-null   object\n",
      " 4   labels               3401 non-null   object\n",
      " 5   token_indices        3401 non-null   object\n",
      "dtypes: int64(1), object(5)\n",
      "memory usage: 186.0+ KB\n",
      "train info None\n",
      "<class 'pandas.core.frame.DataFrame'>\n",
      "RangeIndex: 4434 entries, 0 to 4433\n",
      "Data columns (total 6 columns):\n",
      " #   Column               Non-Null Count  Dtype \n",
      "---  ------               --------------  ----- \n",
      " 0   document             4434 non-null   int64 \n",
      " 1   full_text            4434 non-null   object\n",
      " 2   tokens               4434 non-null   object\n",
      " 3   trailing_whitespace  4434 non-null   object\n",
      " 4   labels               4434 non-null   object\n",
      " 5   token_indices        4434 non-null   object\n",
      "dtypes: int64(1), object(5)\n",
      "memory usage: 208.0+ KB\n",
      "piifixed info None\n",
      "<class 'pandas.core.frame.DataFrame'>\n",
      "RangeIndex: 2000 entries, 0 to 1999\n",
      "Data columns (total 6 columns):\n",
      " #   Column               Non-Null Count  Dtype \n",
      "---  ------               --------------  ----- \n",
      " 0   document             2000 non-null   int64 \n",
      " 1   full_text            2000 non-null   object\n",
      " 2   tokens               2000 non-null   object\n",
      " 3   trailing_whitespace  2000 non-null   object\n",
      " 4   labels               2000 non-null   object\n",
      " 5   token_indices        2000 non-null   object\n",
      "dtypes: int64(1), object(5)\n",
      "memory usage: 93.9+ KB\n",
      "moredata info None\n",
      "<class 'pandas.core.frame.DataFrame'>\n",
      "RangeIndex: 361 entries, 0 to 360\n",
      "Data columns (total 6 columns):\n",
      " #   Column               Non-Null Count  Dtype \n",
      "---  ------               --------------  ----- \n",
      " 0   full_text            361 non-null    object\n",
      " 1   tokens               361 non-null    object\n",
      " 2   trailing_whitespace  361 non-null    object\n",
      " 3   labels               361 non-null    object\n",
      " 4   token_indices        361 non-null    object\n",
      " 5   document             361 non-null    int64 \n",
      "dtypes: int64(1), object(5)\n",
      "memory usage: 17.0+ KB\n",
      "data_more2_fixed_df info None\n"
     ]
    }
   ],
   "source": [
    "\n",
    "\n",
    "print(\"train info\", train2_df.info())\n",
    "print(\"piifixed info\", pii_dataset_fixed_df.info())\n",
    "print(\"moredata info\", moredata_dataset_fixed_df.info())\n",
    "print(\"data_more2_fixed_df info\", data_more2_fixed_df.info())"
   ]
  },
  {
   "cell_type": "code",
   "execution_count": 15,
   "id": "6e3d49a9",
   "metadata": {
    "execution": {
     "iopub.execute_input": "2024-05-03T18:41:50.512586Z",
     "iopub.status.busy": "2024-05-03T18:41:50.512242Z",
     "iopub.status.idle": "2024-05-03T18:41:50.516596Z",
     "shell.execute_reply": "2024-05-03T18:41:50.515736Z"
    },
    "papermill": {
     "duration": 0.019631,
     "end_time": "2024-05-03T18:41:50.518593",
     "exception": false,
     "start_time": "2024-05-03T18:41:50.498962",
     "status": "completed"
    },
    "tags": []
   },
   "outputs": [],
   "source": [
    "# total_train_df.to_json(OUTPUT_DIR + \"/total_train.json\", orient=\"records\")"
   ]
  },
  {
   "cell_type": "markdown",
   "id": "f85538f6",
   "metadata": {
    "papermill": {
     "duration": 0.011719,
     "end_time": "2024-05-03T18:41:50.542525",
     "exception": false,
     "start_time": "2024-05-03T18:41:50.530806",
     "status": "completed"
    },
    "tags": []
   },
   "source": [
    "# Ensemble training sets"
   ]
  },
  {
   "cell_type": "code",
   "execution_count": 16,
   "id": "51d0004b",
   "metadata": {
    "execution": {
     "iopub.execute_input": "2024-05-03T18:41:50.567910Z",
     "iopub.status.busy": "2024-05-03T18:41:50.567399Z",
     "iopub.status.idle": "2024-05-03T18:41:50.573878Z",
     "shell.execute_reply": "2024-05-03T18:41:50.573207Z"
    },
    "papermill": {
     "duration": 0.021124,
     "end_time": "2024-05-03T18:41:50.575709",
     "exception": false,
     "start_time": "2024-05-03T18:41:50.554585",
     "status": "completed"
    },
    "tags": []
   },
   "outputs": [],
   "source": [
    "#helper for split\n",
    "\n",
    "def do_downsample(train_df, percent):\n",
    "    '''\n",
    "        Down sample negative examples\n",
    "        percent- how much of the negative samples to keep- 0:none, 1:all\n",
    "        \n",
    "        return: \n",
    "        df- downsampled df\n",
    "        n_remaining- n not used in downsampled df\n",
    "    '''\n",
    "    # Separate positive and negative samples\n",
    "    p = train_df[train_df['labels'].apply(lambda x: any(label != \"O\" for label in x))]\n",
    "    n = train_df[train_df['labels'].apply(lambda x: all(label == \"O\" for label in x))]\n",
    "\n",
    "    # Downsample negative samples\n",
    "    n = n.sample(int(len(n) * percent))\n",
    "    n_percent, n_remaining = PIId2_split_by_sampling(n, percent)\n",
    "\n",
    "    # Combine positive and downsampled negative samples\n",
    "    df = pd.concat([p, n], ignore_index=True)\n",
    "    \n",
    "    return df, n_remaining"
   ]
  },
  {
   "cell_type": "code",
   "execution_count": 17,
   "id": "f25d2dc8",
   "metadata": {
    "execution": {
     "iopub.execute_input": "2024-05-03T18:41:50.600577Z",
     "iopub.status.busy": "2024-05-03T18:41:50.600077Z",
     "iopub.status.idle": "2024-05-03T18:41:50.939554Z",
     "shell.execute_reply": "2024-05-03T18:41:50.938597Z"
    },
    "papermill": {
     "duration": 0.354691,
     "end_time": "2024-05-03T18:41:50.941965",
     "exception": false,
     "start_time": "2024-05-03T18:41:50.587274",
     "status": "completed"
    },
    "tags": []
   },
   "outputs": [
    {
     "data": {
      "text/plain": [
       "7712"
      ]
     },
     "execution_count": 17,
     "metadata": {},
     "output_type": "execute_result"
    }
   ],
   "source": [
    "all_downsampled_train, n_remaining_train = do_downsample(total_train_df, .1)\n",
    "len(all_downsampled_train)"
   ]
  },
  {
   "cell_type": "code",
   "execution_count": 18,
   "id": "797fbe94",
   "metadata": {
    "execution": {
     "iopub.execute_input": "2024-05-03T18:41:50.967107Z",
     "iopub.status.busy": "2024-05-03T18:41:50.966777Z",
     "iopub.status.idle": "2024-05-03T18:41:50.973192Z",
     "shell.execute_reply": "2024-05-03T18:41:50.972279Z"
    },
    "papermill": {
     "duration": 0.021284,
     "end_time": "2024-05-03T18:41:50.975108",
     "exception": false,
     "start_time": "2024-05-03T18:41:50.953824",
     "status": "completed"
    },
    "tags": []
   },
   "outputs": [],
   "source": [
    "#Bagging\n",
    "\n",
    "def create_bags(train_df, num_bags, bag_size, o_doc_weight,w_replace = True):\n",
    "    '''\n",
    "    o_doc_weigth = 1 if equal to all other classes\n",
    "    '''\n",
    "    bag_dfs ={}\n",
    "    \n",
    "    row_weights = train_df['labels'].apply(lambda x: o_doc_weight if all(label == \"O\" for label in x) else 1)\n",
    "    \n",
    "    for i in range(num_bags):\n",
    "        \n",
    "        bag_df = df.sample(n = bag_size, replace =w_replace, weights=row_weights)\n",
    "#         bag_df.to_json(OUTPUT_DIR + f'train_bag{i}.json', orient=\"records\")\n",
    "        bag_dfs[f'train_bag{i}'] = bag_df\n",
    "        \n",
    "    return bag_dfs"
   ]
  },
  {
   "cell_type": "code",
   "execution_count": 19,
   "id": "763341f6",
   "metadata": {
    "execution": {
     "iopub.execute_input": "2024-05-03T18:41:50.999408Z",
     "iopub.status.busy": "2024-05-03T18:41:50.999104Z",
     "iopub.status.idle": "2024-05-03T18:41:51.003790Z",
     "shell.execute_reply": "2024-05-03T18:41:51.002814Z"
    },
    "papermill": {
     "duration": 0.019908,
     "end_time": "2024-05-03T18:41:51.006667",
     "exception": false,
     "start_time": "2024-05-03T18:41:50.986759",
     "status": "completed"
    },
    "tags": []
   },
   "outputs": [
    {
     "name": "stdout",
     "output_type": "stream",
     "text": [
      "10379\n"
     ]
    }
   ],
   "source": [
    "print(len(total_train_df))"
   ]
  },
  {
   "cell_type": "code",
   "execution_count": 20,
   "id": "7cb7f55d",
   "metadata": {
    "execution": {
     "iopub.execute_input": "2024-05-03T18:41:51.031797Z",
     "iopub.status.busy": "2024-05-03T18:41:51.031489Z",
     "iopub.status.idle": "2024-05-03T18:41:51.220631Z",
     "shell.execute_reply": "2024-05-03T18:41:51.219604Z"
    },
    "papermill": {
     "duration": 0.204697,
     "end_time": "2024-05-03T18:41:51.222971",
     "exception": false,
     "start_time": "2024-05-03T18:41:51.018274",
     "status": "completed"
    },
    "tags": []
   },
   "outputs": [
    {
     "name": "stdout",
     "output_type": "stream",
     "text": [
      "13785\n"
     ]
    }
   ],
   "source": [
    "total_train_df_overlap = pd.concat([total_train_df, val2_df], ignore_index=True)\n",
    "print(len(total_train_df_overlap))\n",
    "\n",
    "#TODO try submission with total_train_df_overlap\n",
    "ens_train_dfs = create_bags(total_train_df, 10, 6000, 1, True)"
   ]
  },
  {
   "cell_type": "markdown",
   "id": "657bdbea",
   "metadata": {
    "papermill": {
     "duration": 0.011946,
     "end_time": "2024-05-03T18:41:51.247496",
     "exception": false,
     "start_time": "2024-05-03T18:41:51.235550",
     "status": "completed"
    },
    "tags": []
   },
   "source": [
    "# split by class"
   ]
  },
  {
   "cell_type": "code",
   "execution_count": 21,
   "id": "48477016",
   "metadata": {
    "execution": {
     "iopub.execute_input": "2024-05-03T18:41:51.273128Z",
     "iopub.status.busy": "2024-05-03T18:41:51.272462Z",
     "iopub.status.idle": "2024-05-03T18:41:57.267818Z",
     "shell.execute_reply": "2024-05-03T18:41:57.266472Z"
    },
    "papermill": {
     "duration": 6.011025,
     "end_time": "2024-05-03T18:41:57.270465",
     "exception": false,
     "start_time": "2024-05-03T18:41:51.259440",
     "status": "completed"
    },
    "tags": []
   },
   "outputs": [
    {
     "name": "stdout",
     "output_type": "stream",
     "text": [
      "['B-EMAIL', 'B-ID_NUM', 'B-NAME_STUDENT', 'B-PHONE_NUM', 'B-STREET_ADDRESS', 'B-URL_PERSONAL', 'B-USERNAME', 'I-ID_NUM', 'I-NAME_STUDENT', 'I-PHONE_NUM', 'I-STREET_ADDRESS', 'I-URL_PERSONAL', 'O']\n"
     ]
    }
   ],
   "source": [
    "total_train_df_overlap \n",
    "\n",
    "#get all possible labels\n",
    "all_labels = sorted(list(set(chain(*val2_df.labels.values))))\n",
    "\n",
    "print(all_labels)\n",
    "\n",
    "entity_dfs = {}\n",
    "for entity in all_labels:\n",
    "    df = total_train_df_overlap[total_train_df_overlap['labels'].apply(lambda x: any(label == entity for label in x))]\n",
    "    entity_dfs[f'by_class_{entity}'] = df"
   ]
  },
  {
   "cell_type": "markdown",
   "id": "a53e29a1",
   "metadata": {
    "papermill": {
     "duration": 0.012647,
     "end_time": "2024-05-03T18:41:57.295825",
     "exception": false,
     "start_time": "2024-05-03T18:41:57.283178",
     "status": "completed"
    },
    "tags": []
   },
   "source": [
    "# Save to W and B\n",
    "\n",
    "Running code below needs to have WANDB_API_KEY secret in kaggle secrets. Access api token through add-ons in notebook\n",
    "\n"
   ]
  },
  {
   "cell_type": "code",
   "execution_count": 22,
   "id": "0f33d1d4",
   "metadata": {
    "execution": {
     "iopub.execute_input": "2024-05-03T18:41:57.321585Z",
     "iopub.status.busy": "2024-05-03T18:41:57.321206Z",
     "iopub.status.idle": "2024-05-03T18:42:16.682290Z",
     "shell.execute_reply": "2024-05-03T18:42:16.681029Z"
    },
    "papermill": {
     "duration": 19.376159,
     "end_time": "2024-05-03T18:42:16.684253",
     "exception": false,
     "start_time": "2024-05-03T18:41:57.308094",
     "status": "completed"
    },
    "tags": []
   },
   "outputs": [
    {
     "name": "stderr",
     "output_type": "stream",
     "text": [
      "\u001b[34m\u001b[1mwandb\u001b[0m: W&B API key is configured. Use \u001b[1m`wandb login --relogin`\u001b[0m to force relogin\n",
      "\u001b[34m\u001b[1mwandb\u001b[0m: \u001b[33mWARNING\u001b[0m If you're specifying your api key in code, ensure this code is not shared publicly.\n",
      "\u001b[34m\u001b[1mwandb\u001b[0m: \u001b[33mWARNING\u001b[0m Consider setting the WANDB_API_KEY environment variable, or running `wandb login` from the command line.\n",
      "\u001b[34m\u001b[1mwandb\u001b[0m: Appending key for api.wandb.ai to your netrc file: /root/.netrc\n",
      "\u001b[34m\u001b[1mwandb\u001b[0m: Currently logged in as: \u001b[33mkasprisi\u001b[0m (\u001b[33mcsci566sp24\u001b[0m). Use \u001b[1m`wandb login --relogin`\u001b[0m to force relogin\n",
      "\u001b[34m\u001b[1mwandb\u001b[0m: wandb version 0.16.6 is available!  To upgrade, please run:\n",
      "\u001b[34m\u001b[1mwandb\u001b[0m:  $ pip install wandb --upgrade\n",
      "\u001b[34m\u001b[1mwandb\u001b[0m: Tracking run with wandb version 0.16.5\n",
      "\u001b[34m\u001b[1mwandb\u001b[0m: Run data is saved locally in \u001b[35m\u001b[1m/kaggle/working/wandb/run-20240503_184200-5fy3e0r4\u001b[0m\n",
      "\u001b[34m\u001b[1mwandb\u001b[0m: Run \u001b[1m`wandb offline`\u001b[0m to turn off syncing.\n",
      "\u001b[34m\u001b[1mwandb\u001b[0m: Syncing run \u001b[33mzany-blaze-57\u001b[0m\n",
      "\u001b[34m\u001b[1mwandb\u001b[0m: ⭐️ View project at \u001b[34m\u001b[4mhttps://wandb.ai/csci566sp24/piiV2\u001b[0m\n",
      "\u001b[34m\u001b[1mwandb\u001b[0m: 🚀 View run at \u001b[34m\u001b[4mhttps://wandb.ai/csci566sp24/piiV2/runs/5fy3e0r4/workspace\u001b[0m\n"
     ]
    },
    {
     "data": {
      "text/html": [
       "<button onClick=\"this.nextSibling.style.display='block';this.style.display='none';\">Display W&B run</button><iframe src='https://wandb.ai/csci566sp24/piiV2/runs/5fy3e0r4?jupyter=true' style='border:none;width:100%;height:420px;display:none;'></iframe>"
      ],
      "text/plain": [
       "<wandb.sdk.wandb_run.Run at 0x78d0dc284ac0>"
      ]
     },
     "execution_count": 22,
     "metadata": {},
     "output_type": "execute_result"
    }
   ],
   "source": [
    "from kaggle_secrets import UserSecretsClient\n",
    "user_secrets = UserSecretsClient()\n",
    "wandb_api_key = user_secrets.get_secret(\"WANDB_API_KEY\")\n",
    "\n",
    "\n",
    "\n",
    "import wandb\n",
    "wandb.login(key=wandb_api_key)\n",
    "wandb.init(project='piiV2', job_type='preprocessing')"
   ]
  },
  {
   "cell_type": "code",
   "execution_count": 23,
   "id": "74005fcb",
   "metadata": {
    "execution": {
     "iopub.execute_input": "2024-05-03T18:42:16.714446Z",
     "iopub.status.busy": "2024-05-03T18:42:16.713508Z",
     "iopub.status.idle": "2024-05-03T18:42:16.719284Z",
     "shell.execute_reply": "2024-05-03T18:42:16.718631Z"
    },
    "papermill": {
     "duration": 0.023306,
     "end_time": "2024-05-03T18:42:16.721381",
     "exception": false,
     "start_time": "2024-05-03T18:42:16.698075",
     "status": "completed"
    },
    "tags": []
   },
   "outputs": [],
   "source": [
    "def log_dataframe_as_artifact(df, name, directory):\n",
    "    \"\"\"\n",
    "    Save a DataFrame to a Parquet file and log it as a Weights & Biases artifact.\n",
    "\n",
    "    Parameters:\n",
    "    - df (DataFrame): The DataFrame to log.\n",
    "    - name (str): The name to use for the Parquet file and the artifact.\n",
    "    - directory (str): The directory to save the Parquet file.\n",
    "    \"\"\"\n",
    "    # Create the full file path\n",
    "    file_path = os.path.join(directory, f'{name}.parquet')\n",
    "\n",
    "    # Save the DataFrame to a Parquet file\n",
    "    df.to_parquet(file_path, index=False)\n",
    "\n",
    "    # Create a new artifact\n",
    "    artifact = wandb.Artifact(name, type=\"dataset\")\n",
    "\n",
    "    # Add the Parquet file to the artifact\n",
    "    artifact.add_file(file_path)\n",
    "\n",
    "    # Log the artifact\n",
    "    wandb.log_artifact(artifact)"
   ]
  },
  {
   "cell_type": "code",
   "execution_count": 24,
   "id": "9d7fe00d",
   "metadata": {
    "execution": {
     "iopub.execute_input": "2024-05-03T18:42:16.750957Z",
     "iopub.status.busy": "2024-05-03T18:42:16.750361Z",
     "iopub.status.idle": "2024-05-03T18:42:52.121891Z",
     "shell.execute_reply": "2024-05-03T18:42:52.120843Z"
    },
    "papermill": {
     "duration": 35.38919,
     "end_time": "2024-05-03T18:42:52.124674",
     "exception": false,
     "start_time": "2024-05-03T18:42:16.735484",
     "status": "completed"
    },
    "tags": []
   },
   "outputs": [],
   "source": [
    "# Create the 'artifacts' directory if it doesn't exist\n",
    "if not os.path.exists('artifacts'):\n",
    "    os.makedirs('artifacts')\n",
    "\n",
    "#train\n",
    "log_dataframe_as_artifact(moredata_dataset_fixed_df, 'moredata_dataset_fixed', 'artifacts')\n",
    "log_dataframe_as_artifact(pii_dataset_fixed_df, 'pii_dataset_fixed', 'artifacts')\n",
    "log_dataframe_as_artifact(data_more2_fixed_df, 'data_more2_fixed', 'artifacts')\n",
    "log_dataframe_as_artifact(data_more3_fixed_df, 'data_more3_fixed', 'artifacts')\n",
    "\n",
    "log_dataframe_as_artifact(docs_over_3000, 'docs_over_3000', 'artifacts')\n",
    "log_dataframe_as_artifact(docs_2000_2999, 'docs_2000_2999', 'artifacts')\n",
    "log_dataframe_as_artifact(docs_1000_1999, 'docs_1000_1999', 'artifacts')\n",
    "log_dataframe_as_artifact(docs_under_1000, 'docs_under_1000', 'artifacts')\n",
    "\n",
    "log_dataframe_as_artifact(val2_df, 'val2', 'artifacts')\n",
    "log_dataframe_as_artifact(train2_df, 'train2_fromval', 'artifacts')\n",
    "log_dataframe_as_artifact(total_train_df,'total_train', 'artifacts')\n",
    "\n",
    "#log bagging dfs\n",
    "for k,v in ens_train_dfs.items():\n",
    "    log_dataframe_as_artifact(v,k, 'artifacts')\n",
    "    \n",
    "#log class dfs\n",
    "\n",
    "for k,v in entity_dfs.items():\n",
    "    log_dataframe_as_artifact(v,k, 'artifacts')"
   ]
  },
  {
   "cell_type": "code",
   "execution_count": 25,
   "id": "4d223560",
   "metadata": {
    "execution": {
     "iopub.execute_input": "2024-05-03T18:42:52.154336Z",
     "iopub.status.busy": "2024-05-03T18:42:52.154006Z",
     "iopub.status.idle": "2024-05-03T18:42:56.564346Z",
     "shell.execute_reply": "2024-05-03T18:42:56.563378Z"
    },
    "papermill": {
     "duration": 4.427741,
     "end_time": "2024-05-03T18:42:56.566810",
     "exception": false,
     "start_time": "2024-05-03T18:42:52.139069",
     "status": "completed"
    },
    "tags": []
   },
   "outputs": [
    {
     "name": "stderr",
     "output_type": "stream",
     "text": [
      "\u001b[34m\u001b[1mwandb\u001b[0m:                                                                                \n",
      "\u001b[34m\u001b[1mwandb\u001b[0m: 🚀 View run \u001b[33mzany-blaze-57\u001b[0m at: \u001b[34m\u001b[4mhttps://wandb.ai/csci566sp24/piiV2/runs/5fy3e0r4/workspace\u001b[0m\n",
      "\u001b[34m\u001b[1mwandb\u001b[0m: Synced 4 W&B file(s), 0 media file(s), 12 artifact file(s) and 0 other file(s)\n",
      "\u001b[34m\u001b[1mwandb\u001b[0m: Find logs at: \u001b[35m\u001b[1m./wandb/run-20240503_184200-5fy3e0r4/logs\u001b[0m\n"
     ]
    }
   ],
   "source": [
    "# Finish W&B run\n",
    "wandb.finish()"
   ]
  }
 ],
 "metadata": {
  "kaggle": {
   "accelerator": "none",
   "dataSources": [
    {
     "databundleVersionId": 7500999,
     "sourceId": 66653,
     "sourceType": "competition"
    },
    {
     "datasetId": 4832595,
     "sourceId": 8197549,
     "sourceType": "datasetVersion"
    },
    {
     "sourceId": 163088908,
     "sourceType": "kernelVersion"
    }
   ],
   "dockerImageVersionId": 30684,
   "isGpuEnabled": false,
   "isInternetEnabled": true,
   "language": "python",
   "sourceType": "notebook"
  },
  "kernelspec": {
   "display_name": "Python 3",
   "language": "python",
   "name": "python3"
  },
  "language_info": {
   "codemirror_mode": {
    "name": "ipython",
    "version": 3
   },
   "file_extension": ".py",
   "mimetype": "text/x-python",
   "name": "python",
   "nbconvert_exporter": "python",
   "pygments_lexer": "ipython3",
   "version": "3.10.13"
  },
  "papermill": {
   "default_parameters": {},
   "duration": 101.424047,
   "end_time": "2024-05-03T18:42:59.201080",
   "environment_variables": {},
   "exception": null,
   "input_path": "__notebook__.ipynb",
   "output_path": "__notebook__.ipynb",
   "parameters": {},
   "start_time": "2024-05-03T18:41:17.777033",
   "version": "2.5.0"
  }
 },
 "nbformat": 4,
 "nbformat_minor": 5
}
