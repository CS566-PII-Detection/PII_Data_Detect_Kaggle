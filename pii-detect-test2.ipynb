{
 "cells": [
  {
   "cell_type": "code",
   "execution_count": 1,
   "id": "faa871fd",
   "metadata": {
    "_cell_guid": "b1076dfc-b9ad-4769-8c92-a6c4dae69d19",
    "_uuid": "8f2839f25d086af736a60e9eeb907d3b93b6e0e5",
    "execution": {
     "iopub.execute_input": "2024-02-07T02:24:57.402648Z",
     "iopub.status.busy": "2024-02-07T02:24:57.402034Z",
     "iopub.status.idle": "2024-02-07T02:24:57.409111Z",
     "shell.execute_reply": "2024-02-07T02:24:57.408052Z"
    },
    "papermill": {
     "duration": 0.015933,
     "end_time": "2024-02-07T02:24:57.411938",
     "exception": false,
     "start_time": "2024-02-07T02:24:57.396005",
     "status": "completed"
    },
    "tags": []
   },
   "outputs": [],
   "source": [
    "#Kaggle notes:\n",
    "\n",
    "# This Python 3 environment comes with many helpful analytics libraries installed\n",
    "# It is defined by the kaggle/python Docker image: https://github.com/kaggle/docker-python\n",
    "\n",
    "# You can write up to 20GB to the current directory (/kaggle/working/) that gets preserved as output when you create a version using \"Save & Run All\" \n",
    "# You can also write temporary files to /kaggle/temp/, but they won't be saved outside of the current session"
   ]
  },
  {
   "cell_type": "markdown",
   "id": "acb359ef",
   "metadata": {
    "papermill": {
     "duration": 0.002469,
     "end_time": "2024-02-07T02:24:57.417879",
     "exception": false,
     "start_time": "2024-02-07T02:24:57.415410",
     "status": "completed"
    },
    "tags": []
   },
   "source": [
    "If not running on Kaggle, will need to install Kaggle API with !pip install kaggle"
   ]
  },
  {
   "cell_type": "code",
   "execution_count": 2,
   "id": "68f5bba4",
   "metadata": {
    "execution": {
     "iopub.execute_input": "2024-02-07T02:24:57.425760Z",
     "iopub.status.busy": "2024-02-07T02:24:57.425293Z",
     "iopub.status.idle": "2024-02-07T02:24:57.441684Z",
     "shell.execute_reply": "2024-02-07T02:24:57.440587Z"
    },
    "papermill": {
     "duration": 0.024374,
     "end_time": "2024-02-07T02:24:57.445152",
     "exception": false,
     "start_time": "2024-02-07T02:24:57.420778",
     "status": "completed"
    },
    "tags": []
   },
   "outputs": [],
   "source": [
    "from pathlib import Path\n",
    "import os\n",
    "\n",
    "def download_data():\n",
    "    \"\"\"\n",
    "    Downloads the required dataset based on the environment.\n",
    "    \n",
    "    If running on Kaggle, the dataset is downloaded from the input folder.\n",
    "    If running locally, the dataset is downloaded from Kaggle competition.\n",
    "    Reference: https://www.kaggle.com/code/jhoward/iterate-like-a-grandmaster\n",
    "    \"\"\"\n",
    "    iskaggle = os.environ.get('KAGGLE_KERNEL_RUN_TYPE', '')\n",
    "    if iskaggle:\n",
    "        path = Path('../input/pii-detection-removal-from-educational-data')\n",
    "#        ! pip install -q []\n",
    "    else:\n",
    "        import zipfile,kaggle\n",
    "        path = Path('pii-detection-removal-from-educational-data')\n",
    "        kaggle.api.competition_download_cli(str(path))\n",
    "        zipfile.ZipFile(f'{path}.zip').extractall(path)\n",
    "\n",
    "    return path"
   ]
  },
  {
   "cell_type": "code",
   "execution_count": 3,
   "id": "665bcbbc",
   "metadata": {
    "execution": {
     "iopub.execute_input": "2024-02-07T02:24:57.455127Z",
     "iopub.status.busy": "2024-02-07T02:24:57.454144Z",
     "iopub.status.idle": "2024-02-07T02:24:57.462121Z",
     "shell.execute_reply": "2024-02-07T02:24:57.460867Z"
    },
    "papermill": {
     "duration": 0.01691,
     "end_time": "2024-02-07T02:24:57.465667",
     "exception": false,
     "start_time": "2024-02-07T02:24:57.448757",
     "status": "completed"
    },
    "tags": []
   },
   "outputs": [
    {
     "name": "stdout",
     "output_type": "stream",
     "text": [
      "../input/pii-detection-removal-from-educational-data/sample_submission.csv\n",
      "../input/pii-detection-removal-from-educational-data/train.json\n",
      "../input/pii-detection-removal-from-educational-data/test.json\n"
     ]
    }
   ],
   "source": [
    "#Print files in path from download data\n",
    "path = download_data()\n",
    "for dirname, _, filenames in os.walk(path):\n",
    "    for filename in filenames:\n",
    "        print(os.path.join(dirname, filename))\n"
   ]
  }
 ],
 "metadata": {
  "kaggle": {
   "accelerator": "none",
   "dataSources": [
    {
     "databundleVersionId": 7500999,
     "sourceId": 66653,
     "sourceType": "competition"
    }
   ],
   "dockerImageVersionId": 30646,
   "isGpuEnabled": false,
   "isInternetEnabled": true,
   "language": "python",
   "sourceType": "notebook"
  },
  "kernelspec": {
   "display_name": "Python 3",
   "language": "python",
   "name": "python3"
  },
  "language_info": {
   "codemirror_mode": {
    "name": "ipython",
    "version": 3
   },
   "file_extension": ".py",
   "mimetype": "text/x-python",
   "name": "python",
   "nbconvert_exporter": "python",
   "pygments_lexer": "ipython3",
   "version": "3.10.13"
  },
  "papermill": {
   "default_parameters": {},
   "duration": 4.038603,
   "end_time": "2024-02-07T02:24:57.891535",
   "environment_variables": {},
   "exception": null,
   "input_path": "__notebook__.ipynb",
   "output_path": "__notebook__.ipynb",
   "parameters": {},
   "start_time": "2024-02-07T02:24:53.852932",
   "version": "2.5.0"
  }
 },
 "nbformat": 4,
 "nbformat_minor": 5
}
