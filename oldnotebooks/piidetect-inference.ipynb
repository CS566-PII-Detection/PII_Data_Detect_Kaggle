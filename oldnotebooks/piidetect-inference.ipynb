{
 "cells": [
  {
   "cell_type": "markdown",
   "id": "d111bcec",
   "metadata": {
    "papermill": {
     "duration": 0.009066,
     "end_time": "2024-03-08T22:58:36.757457",
     "exception": false,
     "start_time": "2024-03-08T22:58:36.748391",
     "status": "completed"
    },
    "tags": []
   },
   "source": [
    "# Training Notebook\n",
    "​\n",
    "# Overview\n",
    "    - Make sure to check input notebooks updated\n",
    "    - Ran on kaggle GPU\n",
    "    - deberta_xsmall_Model fined using Mini_no overlap\n",
    "## To try\n",
    "\n",
    "## Credit\n",
    "- https://www.kaggle.com/code/valentinwerner/915-deberta3base-inference"
   ]
  },
  {
   "cell_type": "markdown",
   "id": "8598626c",
   "metadata": {
    "papermill": {
     "duration": 0.008135,
     "end_time": "2024-03-08T22:58:36.774622",
     "exception": false,
     "start_time": "2024-03-08T22:58:36.766487",
     "status": "completed"
    },
    "tags": []
   },
   "source": [
    "## Imports"
   ]
  },
  {
   "cell_type": "code",
   "execution_count": 1,
   "id": "a3704d8e",
   "metadata": {
    "execution": {
     "iopub.execute_input": "2024-03-08T22:58:36.793901Z",
     "iopub.status.busy": "2024-03-08T22:58:36.793076Z",
     "iopub.status.idle": "2024-03-08T22:59:15.577557Z",
     "shell.execute_reply": "2024-03-08T22:59:15.576281Z"
    },
    "papermill": {
     "duration": 38.797325,
     "end_time": "2024-03-08T22:59:15.580100",
     "exception": false,
     "start_time": "2024-03-08T22:58:36.782775",
     "status": "completed"
    },
    "tags": []
   },
   "outputs": [],
   "source": [
    "#offline installs (need to have from training notebook)\n",
    "!pip install /kaggle/input/piidetect-training-mini/seqeval-1.2.2.tar.gz -q"
   ]
  },
  {
   "cell_type": "code",
   "execution_count": 2,
   "id": "e1a7e7d8",
   "metadata": {
    "execution": {
     "iopub.execute_input": "2024-03-08T22:59:15.599052Z",
     "iopub.status.busy": "2024-03-08T22:59:15.598730Z",
     "iopub.status.idle": "2024-03-08T22:59:48.481653Z",
     "shell.execute_reply": "2024-03-08T22:59:48.480786Z"
    },
    "papermill": {
     "duration": 32.894916,
     "end_time": "2024-03-08T22:59:48.484139",
     "exception": false,
     "start_time": "2024-03-08T22:59:15.589223",
     "status": "completed"
    },
    "tags": []
   },
   "outputs": [
    {
     "name": "stderr",
     "output_type": "stream",
     "text": [
      "2024-03-08 22:59:34.272309: E external/local_xla/xla/stream_executor/cuda/cuda_dnn.cc:9261] Unable to register cuDNN factory: Attempting to register factory for plugin cuDNN when one has already been registered\n",
      "2024-03-08 22:59:34.272454: E external/local_xla/xla/stream_executor/cuda/cuda_fft.cc:607] Unable to register cuFFT factory: Attempting to register factory for plugin cuFFT when one has already been registered\n",
      "2024-03-08 22:59:34.551953: E external/local_xla/xla/stream_executor/cuda/cuda_blas.cc:1515] Unable to register cuBLAS factory: Attempting to register factory for plugin cuBLAS when one has already been registered\n"
     ]
    }
   ],
   "source": [
    "from pathlib import Path\n",
    "import os\n",
    "\n",
    "import json\n",
    "import argparse\n",
    "from itertools import chain\n",
    "from functools import partial\n",
    "\n",
    "import torch\n",
    "from transformers import AutoTokenizer, Trainer, TrainingArguments\n",
    "from transformers import AutoModelForTokenClassification, DataCollatorForTokenClassification\n",
    "from datasets import Dataset, features\n",
    "import numpy as np\n",
    "import pandas as pd"
   ]
  },
  {
   "cell_type": "markdown",
   "id": "50231fba",
   "metadata": {
    "papermill": {
     "duration": 0.008522,
     "end_time": "2024-03-08T22:59:48.501670",
     "exception": false,
     "start_time": "2024-03-08T22:59:48.493148",
     "status": "completed"
    },
    "tags": []
   },
   "source": [
    "## Configuration"
   ]
  },
  {
   "cell_type": "code",
   "execution_count": 3,
   "id": "a2057b7c",
   "metadata": {
    "execution": {
     "iopub.execute_input": "2024-03-08T22:59:48.520804Z",
     "iopub.status.busy": "2024-03-08T22:59:48.520155Z",
     "iopub.status.idle": "2024-03-08T22:59:48.528130Z",
     "shell.execute_reply": "2024-03-08T22:59:48.527102Z"
    },
    "papermill": {
     "duration": 0.019893,
     "end_time": "2024-03-08T22:59:48.530299",
     "exception": false,
     "start_time": "2024-03-08T22:59:48.510406",
     "status": "completed"
    },
    "tags": []
   },
   "outputs": [
    {
     "name": "stdout",
     "output_type": "stream",
     "text": [
      "../input/pii-detection-removal-from-educational-data/sample_submission.csv\n",
      "../input/pii-detection-removal-from-educational-data/train.json\n",
      "../input/pii-detection-removal-from-educational-data/test.json\n"
     ]
    }
   ],
   "source": [
    "VAL = True #run validation checks\n",
    "\n",
    "DATA_PATH = '../input/pii-detection-removal-from-educational-data'\n",
    "VAL_PATH = '/kaggle/input/pii-detect-miniset-and-validation-ds/val.json'\n",
    "\n",
    "INFERENCE_MODEL_PATH = \"/kaggle/input/piidetect-training-mini/deberta3_xsmall_pii2d_1024_mini_v1\"\n",
    "INFERENCE_MAX_LENGTH = 1024\n",
    "OUTPUT_DIR = \"/kaggle/working/\"\n",
    "\n",
    "\n",
    "#print files with pathname\n",
    "for dirname, _, filenames in os.walk(DATA_PATH):\n",
    "    for filename in filenames:\n",
    "        print(os.path.join(dirname, filename))"
   ]
  },
  {
   "cell_type": "markdown",
   "id": "1f98e523",
   "metadata": {
    "papermill": {
     "duration": 0.008342,
     "end_time": "2024-03-08T22:59:48.548369",
     "exception": false,
     "start_time": "2024-03-08T22:59:48.540027",
     "status": "completed"
    },
    "tags": []
   },
   "source": [
    "## Helper functions"
   ]
  },
  {
   "cell_type": "markdown",
   "id": "adf072af",
   "metadata": {
    "papermill": {
     "duration": 0.008262,
     "end_time": "2024-03-08T22:59:48.565069",
     "exception": false,
     "start_time": "2024-03-08T22:59:48.556807",
     "status": "completed"
    },
    "tags": []
   },
   "source": [
    "# Tokenizer from Training"
   ]
  },
  {
   "cell_type": "code",
   "execution_count": 4,
   "id": "5313f4cc",
   "metadata": {
    "execution": {
     "iopub.execute_input": "2024-03-08T22:59:48.583701Z",
     "iopub.status.busy": "2024-03-08T22:59:48.583378Z",
     "iopub.status.idle": "2024-03-08T22:59:48.591756Z",
     "shell.execute_reply": "2024-03-08T22:59:48.590927Z"
    },
    "papermill": {
     "duration": 0.019904,
     "end_time": "2024-03-08T22:59:48.593658",
     "exception": false,
     "start_time": "2024-03-08T22:59:48.573754",
     "status": "completed"
    },
    "tags": []
   },
   "outputs": [],
   "source": [
    "def infer_tokenize(example, tokenizer):\n",
    "    \"\"\"\n",
    "    Tokenize an example for NER using the given tokenizer.\n",
    "\n",
    "    Args:\n",
    "        example (dict): A dictionary containing \"tokens\" and \"trailing_whitespace\" lists.\n",
    "            - \"tokens\": A list of token strings.\n",
    "            - \"trailing_whitespace\": A list of boolean values indicating whether each token has trailing whitespace.\n",
    "        tokenizer: The tokenizer to use for tokenization.\n",
    "\n",
    "    Returns:\n",
    "        dict: A dictionary containing tokenized output, including offsets mapping and token map.\n",
    "            - \"input_ids\": List of token IDs.\n",
    "            - \"attention_mask\": List of attention mask values.\n",
    "            - \"offset_mapping\": List of character offsets for each token.\n",
    "            - \"token_map\": List mapping each input token to its original position in the example.\n",
    "            \n",
    "    Reference: https://www.kaggle.com/code/valentinwerner/893-deberta3base-Inference\n",
    "    \"\"\"\n",
    "    #empty list to store text and tokens in respective map\n",
    "    text = []\n",
    "    token_map = []\n",
    "    \n",
    "    #keep track of tokens\n",
    "    idx = 0\n",
    "    \n",
    "    #for the example go through tokens and whitespace\n",
    "    for t, ws in zip(example[\"tokens\"], example[\"trailing_whitespace\"]):\n",
    "        \n",
    "        #add token to text\n",
    "        text.append(t)\n",
    "        #extend token length number of idx\n",
    "        token_map.extend([idx]*len(t))\n",
    "        #for whitespace add a space to text and label -1 in token map\n",
    "        if ws:\n",
    "            text.append(\" \")\n",
    "            token_map.append(-1)\n",
    "            \n",
    "        idx += 1\n",
    "        \n",
    "    #Tokenize the text and return offset mapping with the token map    \n",
    "    tokenized = tokenizer(\"\".join(text), return_offsets_mapping=True, truncation=True, max_length=INFERENCE_MAX_LENGTH)\n",
    "    \n",
    "        \n",
    "    return {\n",
    "        **tokenized,\n",
    "        \"token_map\": token_map,\n",
    "    }"
   ]
  },
  {
   "cell_type": "markdown",
   "id": "9b24b73e",
   "metadata": {
    "papermill": {
     "duration": 0.008515,
     "end_time": "2024-03-08T22:59:48.610684",
     "exception": false,
     "start_time": "2024-03-08T22:59:48.602169",
     "status": "completed"
    },
    "tags": []
   },
   "source": [
    "# Load Data and Model"
   ]
  },
  {
   "cell_type": "code",
   "execution_count": 5,
   "id": "177c76dc",
   "metadata": {
    "execution": {
     "iopub.execute_input": "2024-03-08T22:59:48.629263Z",
     "iopub.status.busy": "2024-03-08T22:59:48.628885Z",
     "iopub.status.idle": "2024-03-08T22:59:48.637765Z",
     "shell.execute_reply": "2024-03-08T22:59:48.636861Z"
    },
    "papermill": {
     "duration": 0.020768,
     "end_time": "2024-03-08T22:59:48.639890",
     "exception": false,
     "start_time": "2024-03-08T22:59:48.619122",
     "status": "completed"
    },
    "tags": []
   },
   "outputs": [],
   "source": [
    "#helper function for loading to dataset\n",
    "def load_process_ds_helper(json_path, tokenizer,val = False):\n",
    "    # Load data from JSON file\n",
    "    data = json.load(open(json_path))\n",
    "\n",
    "    if not val:\n",
    "        # Convert data to Hugging Face Dataset object\n",
    "        ds = Dataset.from_dict({\n",
    "            \"full_text\": [x[\"full_text\"] for x in data],\n",
    "            \"document\": [str(x[\"document\"]) for x in data],\n",
    "            \"tokens\": [x[\"tokens\"] for x in data],\n",
    "            \"trailing_whitespace\": [x[\"trailing_whitespace\"] for x in data]\n",
    "        })\n",
    "    #inlcude provided lables if val\n",
    "    else:\n",
    "        ds = Dataset.from_dict({\n",
    "            \"full_text\": [x[\"full_text\"] for x in data],\n",
    "            \"document\": [str(x[\"document\"]) for x in data],\n",
    "            \"tokens\": [x[\"tokens\"] for x in data],\n",
    "            \"trailing_whitespace\": [x[\"trailing_whitespace\"] for x in data],\n",
    "            \"labels\": [x[\"labels\"] for x in data]\n",
    "        })\n",
    "\n",
    "    # Map the tokenize function to the Dataset\n",
    "    ds = ds.map(\n",
    "        infer_tokenize,\n",
    "        fn_kwargs={      # pass keyword args\n",
    "            \"tokenizer\": tokenizer\n",
    "        }, \n",
    "        num_proc=2   #issue with multithreading so went with 2\n",
    "    )\n",
    "\n",
    "    return ds"
   ]
  },
  {
   "cell_type": "code",
   "execution_count": 6,
   "id": "e10f15d1",
   "metadata": {
    "execution": {
     "iopub.execute_input": "2024-03-08T22:59:48.658274Z",
     "iopub.status.busy": "2024-03-08T22:59:48.657966Z",
     "iopub.status.idle": "2024-03-08T22:59:51.966346Z",
     "shell.execute_reply": "2024-03-08T22:59:51.965446Z"
    },
    "papermill": {
     "duration": 3.320214,
     "end_time": "2024-03-08T22:59:51.968739",
     "exception": false,
     "start_time": "2024-03-08T22:59:48.648525",
     "status": "completed"
    },
    "tags": []
   },
   "outputs": [],
   "source": [
    "tokenizer = AutoTokenizer.from_pretrained(INFERENCE_MODEL_PATH)\n",
    "\n",
    "model = AutoModelForTokenClassification.from_pretrained(INFERENCE_MODEL_PATH)\n",
    "collator = DataCollatorForTokenClassification(tokenizer, pad_to_multiple_of=16)\n",
    "\n",
    "# Load id2label configuration from model\n",
    "config = json.load(open(INFERENCE_MODEL_PATH + \"/config.json\"))\n",
    "id2label = config[\"id2label\"]"
   ]
  },
  {
   "cell_type": "code",
   "execution_count": 7,
   "id": "2e58a77d",
   "metadata": {
    "execution": {
     "iopub.execute_input": "2024-03-08T22:59:51.988775Z",
     "iopub.status.busy": "2024-03-08T22:59:51.988466Z",
     "iopub.status.idle": "2024-03-08T23:00:04.936557Z",
     "shell.execute_reply": "2024-03-08T23:00:04.935466Z"
    },
    "papermill": {
     "duration": 12.960887,
     "end_time": "2024-03-08T23:00:04.939021",
     "exception": false,
     "start_time": "2024-03-08T22:59:51.978134",
     "status": "completed"
    },
    "tags": []
   },
   "outputs": [
    {
     "name": "stdout",
     "output_type": "stream",
     "text": [
      "   "
     ]
    },
    {
     "data": {
      "application/vnd.jupyter.widget-view+json": {
       "model_id": "fb081e53a8fa418cb692b5279d225501",
       "version_major": 2,
       "version_minor": 0
      },
      "text/plain": [
       "#0:   0%|          | 0/5 [00:00<?, ?ex/s]"
      ]
     },
     "metadata": {},
     "output_type": "display_data"
    },
    {
     "name": "stdout",
     "output_type": "stream",
     "text": [
      " "
     ]
    },
    {
     "data": {
      "application/vnd.jupyter.widget-view+json": {
       "model_id": "0a1aa4bc2e4547e4969528e223206654",
       "version_major": 2,
       "version_minor": 0
      },
      "text/plain": [
       "#1:   0%|          | 0/5 [00:00<?, ?ex/s]"
      ]
     },
     "metadata": {},
     "output_type": "display_data"
    },
    {
     "name": "stdout",
     "output_type": "stream",
     "text": [
      "   "
     ]
    },
    {
     "data": {
      "application/vnd.jupyter.widget-view+json": {
       "model_id": "aa530f4ae1554b2d807b20d66f8fb18d",
       "version_major": 2,
       "version_minor": 0
      },
      "text/plain": [
       "#0:   0%|          | 0/344 [00:00<?, ?ex/s]"
      ]
     },
     "metadata": {},
     "output_type": "display_data"
    },
    {
     "name": "stdout",
     "output_type": "stream",
     "text": [
      " "
     ]
    },
    {
     "data": {
      "application/vnd.jupyter.widget-view+json": {
       "model_id": "c709edffda6f4b21b9ff6172de6b2362",
       "version_major": 2,
       "version_minor": 0
      },
      "text/plain": [
       "#1:   0%|          | 0/343 [00:00<?, ?ex/s]"
      ]
     },
     "metadata": {},
     "output_type": "display_data"
    }
   ],
   "source": [
    "#load and proces (tokenize) data to dataset\n",
    "\n",
    "sub_ds =load_process_ds_helper((DATA_PATH+ \"/test.json\"), tokenizer)\n",
    "\n",
    "if VAL:\n",
    "    val_gt_ds =load_process_ds_helper(VAL_PATH, tokenizer, True)\n",
    "    val_labels = val_gt_ds[\"labels\"]\n",
    "    # Create val_ds with everything except \"provided_labels\" ->TODO:check if it affects predicting vs training\n",
    "    val_ds = val_gt_ds.remove_columns(\"labels\")"
   ]
  },
  {
   "cell_type": "code",
   "execution_count": 8,
   "id": "5c71803a",
   "metadata": {
    "execution": {
     "iopub.execute_input": "2024-03-08T23:00:04.961163Z",
     "iopub.status.busy": "2024-03-08T23:00:04.960827Z",
     "iopub.status.idle": "2024-03-08T23:00:05.321410Z",
     "shell.execute_reply": "2024-03-08T23:00:05.320303Z"
    },
    "papermill": {
     "duration": 0.374262,
     "end_time": "2024-03-08T23:00:05.323809",
     "exception": false,
     "start_time": "2024-03-08T23:00:04.949547",
     "status": "completed"
    },
    "tags": []
   },
   "outputs": [],
   "source": [
    "#Configure trainer\n",
    "training_args = TrainingArguments(\n",
    "    output_dir= OUTPUT_DIR,  # Directory to save checkpoints and logs\n",
    "    fp16 =False,               #mix-precision training on 16 bit to reduce memory and speed up training\n",
    "    report_to=\"none\",        #where training report progress, \"none\" prevents wandb login\n",
    "    per_device_eval_batch_size=1 \n",
    ")\n",
    "\n",
    "#inialize trainer for training and evaluation interface\n",
    "trainer = Trainer(\n",
    "    model=model, \n",
    "    args=training_args, \n",
    "    data_collator=collator, \n",
    "    tokenizer=tokenizer,\n",
    ")"
   ]
  },
  {
   "cell_type": "markdown",
   "id": "2c2b4956",
   "metadata": {
    "papermill": {
     "duration": 0.010207,
     "end_time": "2024-03-08T23:00:05.344463",
     "exception": false,
     "start_time": "2024-03-08T23:00:05.334256",
     "status": "completed"
    },
    "tags": []
   },
   "source": [
    "# Prediction"
   ]
  },
  {
   "cell_type": "code",
   "execution_count": 9,
   "id": "8492af8e",
   "metadata": {
    "execution": {
     "iopub.execute_input": "2024-03-08T23:00:05.365887Z",
     "iopub.status.busy": "2024-03-08T23:00:05.365548Z",
     "iopub.status.idle": "2024-03-08T23:00:05.371738Z",
     "shell.execute_reply": "2024-03-08T23:00:05.370732Z"
    },
    "papermill": {
     "duration": 0.019073,
     "end_time": "2024-03-08T23:00:05.373587",
     "exception": false,
     "start_time": "2024-03-08T23:00:05.354514",
     "status": "completed"
    },
    "tags": []
   },
   "outputs": [],
   "source": [
    "#prediction helper function\n",
    "from scipy.special import softmax\n",
    "import json\n",
    "import numpy as np\n",
    "\n",
    "def predict_helper(trainer, ds, model_path, threshold=0.9):\n",
    "    # Get predictions from model\n",
    "    predictions = trainer.predict(ds).predictions\n",
    "\n",
    "    # Scale long last dimension to probabilities for interpretability\n",
    "    pred_softmax = softmax(predictions, axis=-1)\n",
    "\n",
    "    #Choose label with max probability\n",
    "    preds_final = predictions.argmax(-1)\n",
    "\n",
    "    return preds_final"
   ]
  },
  {
   "cell_type": "code",
   "execution_count": 10,
   "id": "f5070c04",
   "metadata": {
    "execution": {
     "iopub.execute_input": "2024-03-08T23:00:05.395209Z",
     "iopub.status.busy": "2024-03-08T23:00:05.394878Z",
     "iopub.status.idle": "2024-03-08T23:00:39.917912Z",
     "shell.execute_reply": "2024-03-08T23:00:39.916461Z"
    },
    "papermill": {
     "duration": 34.536158,
     "end_time": "2024-03-08T23:00:39.920041",
     "exception": false,
     "start_time": "2024-03-08T23:00:05.383883",
     "status": "completed"
    },
    "tags": []
   },
   "outputs": [
    {
     "data": {
      "text/html": [],
      "text/plain": [
       "<IPython.core.display.HTML object>"
      ]
     },
     "metadata": {},
     "output_type": "display_data"
    },
    {
     "name": "stdout",
     "output_type": "stream",
     "text": [
      "CPU times: user 43.1 s, sys: 5.21 s, total: 48.3 s\n",
      "Wall time: 34.5 s\n"
     ]
    }
   ],
   "source": [
    "%%time\n",
    "#validation\n",
    "if VAL:\n",
    "    preds_final_val = predict_helper(\n",
    "        trainer,\n",
    "        val_ds,\n",
    "        INFERENCE_MODEL_PATH, \n",
    "        threshold=0.9\n",
    ")"
   ]
  },
  {
   "cell_type": "code",
   "execution_count": 11,
   "id": "bc9abcd7",
   "metadata": {
    "execution": {
     "iopub.execute_input": "2024-03-08T23:00:39.941943Z",
     "iopub.status.busy": "2024-03-08T23:00:39.941618Z",
     "iopub.status.idle": "2024-03-08T23:00:40.423135Z",
     "shell.execute_reply": "2024-03-08T23:00:40.422063Z"
    },
    "papermill": {
     "duration": 0.494907,
     "end_time": "2024-03-08T23:00:40.425320",
     "exception": false,
     "start_time": "2024-03-08T23:00:39.930413",
     "status": "completed"
    },
    "tags": []
   },
   "outputs": [
    {
     "data": {
      "text/html": [],
      "text/plain": [
       "<IPython.core.display.HTML object>"
      ]
     },
     "metadata": {},
     "output_type": "display_data"
    },
    {
     "name": "stdout",
     "output_type": "stream",
     "text": [
      "CPU times: user 598 ms, sys: 44.6 ms, total: 643 ms\n",
      "Wall time: 476 ms\n"
     ]
    }
   ],
   "source": [
    "%%time\n",
    "#compitition\n",
    "preds_final_sub = predict_helper(\n",
    "    trainer,\n",
    "    sub_ds,\n",
    "    INFERENCE_MODEL_PATH,\n",
    "    threshold=0.9\n",
    ")"
   ]
  },
  {
   "cell_type": "code",
   "execution_count": 12,
   "id": "9d7e73c9",
   "metadata": {
    "execution": {
     "iopub.execute_input": "2024-03-08T23:00:40.447963Z",
     "iopub.status.busy": "2024-03-08T23:00:40.447643Z",
     "iopub.status.idle": "2024-03-08T23:00:40.452626Z",
     "shell.execute_reply": "2024-03-08T23:00:40.451631Z"
    },
    "papermill": {
     "duration": 0.018834,
     "end_time": "2024-03-08T23:00:40.454904",
     "exception": false,
     "start_time": "2024-03-08T23:00:40.436070",
     "status": "completed"
    },
    "tags": []
   },
   "outputs": [
    {
     "name": "stdout",
     "output_type": "stream",
     "text": [
      "10\n",
      "687\n"
     ]
    }
   ],
   "source": [
    "print(len(sub_ds))\n",
    "print(len(val_ds))"
   ]
  },
  {
   "cell_type": "markdown",
   "id": "3396e8ec",
   "metadata": {
    "papermill": {
     "duration": 0.010217,
     "end_time": "2024-03-08T23:00:40.475255",
     "exception": false,
     "start_time": "2024-03-08T23:00:40.465038",
     "status": "completed"
    },
    "tags": []
   },
   "source": [
    "# Process preditions and submit"
   ]
  },
  {
   "cell_type": "code",
   "execution_count": 13,
   "id": "abbf529b",
   "metadata": {
    "execution": {
     "iopub.execute_input": "2024-03-08T23:00:40.497994Z",
     "iopub.status.busy": "2024-03-08T23:00:40.497311Z",
     "iopub.status.idle": "2024-03-08T23:00:40.508537Z",
     "shell.execute_reply": "2024-03-08T23:00:40.507538Z"
    },
    "papermill": {
     "duration": 0.025163,
     "end_time": "2024-03-08T23:00:40.510561",
     "exception": false,
     "start_time": "2024-03-08T23:00:40.485398",
     "status": "completed"
    },
    "tags": []
   },
   "outputs": [],
   "source": [
    "import pandas as pd\n",
    "\n",
    "def create_submission_df(preds_final_sub, sub_ds, id2label):\n",
    "    \"\"\"\n",
    "    Create a DataFrame of submission information.\n",
    "\n",
    "    Parameters:\n",
    "    - preds_final_sub (list): List of predictions.\n",
    "    - sub_ds (Dataset): Dataset containing the token maps, offset mappings, tokens, and documents.\n",
    "    - id2label (dict): Dictionary mapping label IDs to labels.\n",
    "\n",
    "    Returns:\n",
    "    - DataFrame: DataFrame containing the submission information.\n",
    "    \"\"\"\n",
    "    # Create lists of submission information\n",
    "    triplets = []\n",
    "    document, token, label, token_str = [], [], [], []\n",
    "\n",
    "    for p, token_map, offsets, tokens, doc in zip(preds_final_sub, sub_ds[\"token_map\"], sub_ds[\"offset_mapping\"], sub_ds[\"tokens\"], sub_ds[\"document\"]):\n",
    "        # Iterate through each prediction and its offset\n",
    "        for token_pred, (start_idx, end_idx) in zip(p, offsets):\n",
    "            label_pred = id2label[str(token_pred)]  # Predicted label\n",
    "\n",
    "            if start_idx + end_idx == 0: continue   # For special token or padding token\n",
    "\n",
    "            if token_map[start_idx] == -1:  # Label is for whitespace so go to next\n",
    "                start_idx += 1\n",
    "\n",
    "            # Ignore leading whitespace token \"\\n\\n\"\n",
    "            while start_idx < len(token_map) and tokens[token_map[start_idx]].isspace():\n",
    "                start_idx += 1\n",
    "            \n",
    "            # Break if index exceeds the length of token mapping\n",
    "            if start_idx >= len(token_map): break\n",
    "            \n",
    "            token_id = token_map[start_idx]  # Token ID at start of index\n",
    "\n",
    "            # Ignore \"O\" predictions and whitespace predictions\n",
    "            if label_pred != \"O\" and token_id != -1:\n",
    "                triplet = (label_pred, token_id, tokens[token_id])\n",
    "\n",
    "                # Add triplet if not in list of triplets\n",
    "                if triplet not in triplets:\n",
    "                    document.append(doc)\n",
    "                    token.append(token_id)\n",
    "                    label.append(label_pred)\n",
    "                    token_str.append(tokens[token_id])\n",
    "                    triplets.append(triplet)\n",
    "\n",
    "    # Create a DataFrame of submission information\n",
    "    df = pd.DataFrame({\n",
    "        \"document\": document,\n",
    "        \"token\": token,\n",
    "        \"label\": label,\n",
    "        \"token_str\": token_str\n",
    "    })\n",
    "\n",
    "    return df"
   ]
  },
  {
   "cell_type": "code",
   "execution_count": 14,
   "id": "ec3c6f79",
   "metadata": {
    "execution": {
     "iopub.execute_input": "2024-03-08T23:00:40.532992Z",
     "iopub.status.busy": "2024-03-08T23:00:40.532724Z",
     "iopub.status.idle": "2024-03-08T23:00:40.638134Z",
     "shell.execute_reply": "2024-03-08T23:00:40.637247Z"
    },
    "papermill": {
     "duration": 0.119028,
     "end_time": "2024-03-08T23:00:40.640280",
     "exception": false,
     "start_time": "2024-03-08T23:00:40.521252",
     "status": "completed"
    },
    "tags": []
   },
   "outputs": [
    {
     "data": {
      "text/html": [
       "<div>\n",
       "<style scoped>\n",
       "    .dataframe tbody tr th:only-of-type {\n",
       "        vertical-align: middle;\n",
       "    }\n",
       "\n",
       "    .dataframe tbody tr th {\n",
       "        vertical-align: top;\n",
       "    }\n",
       "\n",
       "    .dataframe thead th {\n",
       "        text-align: right;\n",
       "    }\n",
       "</style>\n",
       "<table border=\"1\" class=\"dataframe\">\n",
       "  <thead>\n",
       "    <tr style=\"text-align: right;\">\n",
       "      <th></th>\n",
       "      <th>document</th>\n",
       "      <th>token</th>\n",
       "      <th>label</th>\n",
       "      <th>token_str</th>\n",
       "      <th>row_id</th>\n",
       "    </tr>\n",
       "  </thead>\n",
       "  <tbody>\n",
       "    <tr>\n",
       "      <th>0</th>\n",
       "      <td>7</td>\n",
       "      <td>9</td>\n",
       "      <td>B-NAME_STUDENT</td>\n",
       "      <td>Nathalie</td>\n",
       "      <td>0</td>\n",
       "    </tr>\n",
       "    <tr>\n",
       "      <th>1</th>\n",
       "      <td>7</td>\n",
       "      <td>9</td>\n",
       "      <td>I-NAME_STUDENT</td>\n",
       "      <td>Nathalie</td>\n",
       "      <td>1</td>\n",
       "    </tr>\n",
       "    <tr>\n",
       "      <th>2</th>\n",
       "      <td>7</td>\n",
       "      <td>10</td>\n",
       "      <td>I-NAME_STUDENT</td>\n",
       "      <td>Sylla</td>\n",
       "      <td>2</td>\n",
       "    </tr>\n",
       "    <tr>\n",
       "      <th>3</th>\n",
       "      <td>7</td>\n",
       "      <td>482</td>\n",
       "      <td>B-NAME_STUDENT</td>\n",
       "      <td>Nathalie</td>\n",
       "      <td>3</td>\n",
       "    </tr>\n",
       "    <tr>\n",
       "      <th>4</th>\n",
       "      <td>7</td>\n",
       "      <td>482</td>\n",
       "      <td>I-NAME_STUDENT</td>\n",
       "      <td>Nathalie</td>\n",
       "      <td>4</td>\n",
       "    </tr>\n",
       "    <tr>\n",
       "      <th>5</th>\n",
       "      <td>7</td>\n",
       "      <td>483</td>\n",
       "      <td>B-NAME_STUDENT</td>\n",
       "      <td>Sylla</td>\n",
       "      <td>5</td>\n",
       "    </tr>\n",
       "    <tr>\n",
       "      <th>6</th>\n",
       "      <td>7</td>\n",
       "      <td>483</td>\n",
       "      <td>I-NAME_STUDENT</td>\n",
       "      <td>Sylla</td>\n",
       "      <td>6</td>\n",
       "    </tr>\n",
       "    <tr>\n",
       "      <th>7</th>\n",
       "      <td>7</td>\n",
       "      <td>741</td>\n",
       "      <td>B-NAME_STUDENT</td>\n",
       "      <td>Nathalie</td>\n",
       "      <td>7</td>\n",
       "    </tr>\n",
       "    <tr>\n",
       "      <th>8</th>\n",
       "      <td>7</td>\n",
       "      <td>741</td>\n",
       "      <td>I-NAME_STUDENT</td>\n",
       "      <td>Nathalie</td>\n",
       "      <td>8</td>\n",
       "    </tr>\n",
       "    <tr>\n",
       "      <th>9</th>\n",
       "      <td>7</td>\n",
       "      <td>742</td>\n",
       "      <td>I-NAME_STUDENT</td>\n",
       "      <td>Sylla</td>\n",
       "      <td>9</td>\n",
       "    </tr>\n",
       "  </tbody>\n",
       "</table>\n",
       "</div>"
      ],
      "text/plain": [
       "  document  token           label token_str  row_id\n",
       "0        7      9  B-NAME_STUDENT  Nathalie       0\n",
       "1        7      9  I-NAME_STUDENT  Nathalie       1\n",
       "2        7     10  I-NAME_STUDENT     Sylla       2\n",
       "3        7    482  B-NAME_STUDENT  Nathalie       3\n",
       "4        7    482  I-NAME_STUDENT  Nathalie       4\n",
       "5        7    483  B-NAME_STUDENT     Sylla       5\n",
       "6        7    483  I-NAME_STUDENT     Sylla       6\n",
       "7        7    741  B-NAME_STUDENT  Nathalie       7\n",
       "8        7    741  I-NAME_STUDENT  Nathalie       8\n",
       "9        7    742  I-NAME_STUDENT     Sylla       9"
      ]
     },
     "metadata": {},
     "output_type": "display_data"
    }
   ],
   "source": [
    "df = create_submission_df(preds_final_sub, sub_ds, id2label)\n",
    "\n",
    "#assign each row a unique row id\n",
    "df[\"row_id\"] = list(range(len(df)))\n",
    "display(df.head(10))\n"
   ]
  },
  {
   "cell_type": "code",
   "execution_count": 15,
   "id": "02d0e88d",
   "metadata": {
    "execution": {
     "iopub.execute_input": "2024-03-08T23:00:40.663479Z",
     "iopub.status.busy": "2024-03-08T23:00:40.663143Z",
     "iopub.status.idle": "2024-03-08T23:00:40.681721Z",
     "shell.execute_reply": "2024-03-08T23:00:40.681017Z"
    },
    "papermill": {
     "duration": 0.032333,
     "end_time": "2024-03-08T23:00:40.683646",
     "exception": false,
     "start_time": "2024-03-08T23:00:40.651313",
     "status": "completed"
    },
    "tags": []
   },
   "outputs": [],
   "source": [
    "df[[\"row_id\", \"document\", \"token\", \"label\"]].to_csv(\"submission.csv\", index=False)"
   ]
  },
  {
   "cell_type": "markdown",
   "id": "ea157945",
   "metadata": {
    "papermill": {
     "duration": 0.010403,
     "end_time": "2024-03-08T23:00:40.704889",
     "exception": false,
     "start_time": "2024-03-08T23:00:40.694486",
     "status": "completed"
    },
    "tags": []
   },
   "source": [
    "# Validation Checks"
   ]
  },
  {
   "cell_type": "code",
   "execution_count": 16,
   "id": "77c602bb",
   "metadata": {
    "execution": {
     "iopub.execute_input": "2024-03-08T23:00:40.728130Z",
     "iopub.status.busy": "2024-03-08T23:00:40.727487Z",
     "iopub.status.idle": "2024-03-08T23:00:40.738235Z",
     "shell.execute_reply": "2024-03-08T23:00:40.737341Z"
    },
    "papermill": {
     "duration": 0.024835,
     "end_time": "2024-03-08T23:00:40.740247",
     "exception": false,
     "start_time": "2024-03-08T23:00:40.715412",
     "status": "completed"
    },
    "tags": []
   },
   "outputs": [],
   "source": [
    "#test Metrics\n",
    "def pii_metrics_score(pred_df, gt_df, beta=5):\n",
    "    \"\"\"\n",
    "    Calculate print the Precision, Recall and Micro F-beta score for predicted PII labels. Determines which were false negatives\n",
    "\n",
    "    Parameters:\n",
    "    - pred_df (DataFrame): DataFrame containing predicted PII labels [\"row_id\", \"document\", \"token\", \"label\"].\n",
    "    - gt_df (DataFrame): DataFrame containing ground truth PII labels [\"row_id\", \"document\", \"token\", \"label\"].\n",
    "    - beta (float): The beta parameter for the F-beta score, controlling the trade-off between precision and recall.\n",
    "\n",
    "    Returns:\n",
    "    - results (dict): Dictionary containing the precision, recall, and F-beta score.\n",
    "    \"\"\"   \n",
    "    # Merge the predicted and ground truth DataFrames on 'document' and 'token' columns\n",
    "    df = pred_df.merge(gt_df, how='outer', on=['document', \"token\"], suffixes=('_pred', '_gt'))\n",
    "\n",
    "    # Initialize a new column 'compare' with empty strings\n",
    "    df['compare'] = \"\"\n",
    "\n",
    "    # If the predicted label is missing or doesn't match the ground truth, it's a false negative\n",
    "    df.loc[df.label_pred.isna() | (df.label_gt != df.label_pred), 'compare'] = \"FN\"\n",
    "    \n",
    "    # If the ground truth label is missing, it's a false positive\n",
    "    df.loc[df.label_gt.isna(), 'compare'] = \"FP\"\n",
    "\n",
    "    # If the predicted label matches the ground truth, it's a true positive\n",
    "    df.loc[(df.label_pred.notna()) & (df.label_gt == df.label_pred), 'compare'] = \"TP\"\n",
    "    \n",
    "    # Count the number of false positives, false negatives, and true positives\n",
    "    FP = (df['compare'] == \"FP\").sum()\n",
    "    FN = (df['compare'] == \"FN\").sum()\n",
    "    TP = (df['compare'] == \"TP\").sum()\n",
    "\n",
    "\n",
    "    # Calculate the precision, recall, and F-beta score\n",
    "    precision = TP / (TP + FP) if TP + FP > 0 else 0\n",
    "    recall = TP / (TP + FN) if TP + FN > 0 else 0\n",
    "    fbeta_mircro_score = (1 + (beta**2)) * precision * recall / (((beta**2) * precision) + recall) if precision + recall > 0 else 0\n",
    "\n",
    "    # Get a DataFrame of false negatives\n",
    "    fn_df = df.loc[df.label_pred.isna() | (df.label_gt != df.label_pred)]\n",
    "    \n",
    "    # Print the precision, recall, and F-beta score\n",
    "    print(f\"Precision: {precision}\")\n",
    "    print(f\"Recall: {recall}\")\n",
    "    print(f\"F-beta score: {fbeta_mircro_score}\")\n",
    "    \n",
    "    return fn_df"
   ]
  },
  {
   "cell_type": "code",
   "execution_count": 17,
   "id": "4edccc1f",
   "metadata": {
    "execution": {
     "iopub.execute_input": "2024-03-08T23:00:40.764088Z",
     "iopub.status.busy": "2024-03-08T23:00:40.763785Z",
     "iopub.status.idle": "2024-03-08T23:00:40.780195Z",
     "shell.execute_reply": "2024-03-08T23:00:40.779412Z"
    },
    "papermill": {
     "duration": 0.030709,
     "end_time": "2024-03-08T23:00:40.782116",
     "exception": false,
     "start_time": "2024-03-08T23:00:40.751407",
     "status": "completed"
    },
    "tags": []
   },
   "outputs": [],
   "source": [
    "import pandas as pd\n",
    "\n",
    "def determine_metrics_preds_gt(preds_final, gt_ds, id2label, beta=5):\n",
    "    \"\"\"\n",
    "    Create a DataFrame of submission information.\n",
    "\n",
    "    Parameters:\n",
    "    - preds_final (list): List of predictions.\n",
    "    - id2label (dict): Dictionary mapping label IDs to labels.\n",
    "    - gt_ds (Dataset): Dataset containing the token maps, offset mappings, tokens, gt_labels, and documents.\n",
    "\n",
    "    Returns:\n",
    "    - DataFrame: DataFrame containing the submission information.\n",
    "    \"\"\"\n",
    "    # Create lists of submission information\n",
    "    triplets = []\n",
    "    document, token, p_label, gt_label, token_str, compare = [], [], [], [], [], []\n",
    "\n",
    "    for p, gt_labels, token_map, offsets, tokens, doc in zip(preds_final, gt_ds[\"labels\"], gt_ds[\"token_map\"], gt_ds[\"offset_mapping\"], gt_ds[\"tokens\"], gt_ds[\"document\"]):\n",
    "        # Iterate through each label and its offset\n",
    "        for label_pred, label_gt, (start_idx, end_idx) in zip(p, gt_labels, offsets):\n",
    "            label_pred = id2label[str(label_pred)]  # Predicted label\n",
    "\n",
    "            if start_idx + end_idx == 0: continue   # For special token or padding token\n",
    "\n",
    "            if token_map[start_idx] == -1:  # Label is for whitespace so go to next\n",
    "                start_idx += 1\n",
    "\n",
    "            # Ignore leading whitespace token \"\\n\\n\"\n",
    "            while start_idx < len(token_map) and tokens[token_map[start_idx]].isspace():\n",
    "                start_idx += 1\n",
    "            \n",
    "            # Break if index exceeds the length of token mapping\n",
    "            if start_idx >= len(token_map): break\n",
    "            \n",
    "            token_id = token_map[start_idx]  # Token ID at start of index\n",
    "\n",
    "            # Ignore \"O\" labels and whitespace labels\n",
    "            if label_pred != \"O\" and token_id != -1:\n",
    "                triplet = (label_pred, token_id, tokens[token_id])\n",
    "                \n",
    "                # If the ground truth label is missing, it's a false positive\n",
    "                if label_gt == \"O\" and label_pred !=\"O\": match = \"FP\"\n",
    "                    \n",
    "                # If the predicted label is missing or doesn't match the ground truth, it's a false negative\n",
    "                elif (label_pred is None) or (label_gt != label_pred) : match = \"FN\"\n",
    "    \n",
    "                # If the ground truth label is missing, it's a false positive\n",
    "                elif label_gt == \"O\" and label_pred !=\"O\": match = \"FP\"\n",
    "\n",
    "                # If the predicted label matches the ground truth, it's a true positive\n",
    "                elif label_gt == label_pred : match = \"TP\"\n",
    "                    \n",
    "                else: match = \"?\"\n",
    "\n",
    "                # Add triplet if not in list of triplets\n",
    "                if triplet not in triplets:\n",
    "                    document.append(doc)\n",
    "                    token.append(token_id)\n",
    "                    p_label.append(label_pred)\n",
    "                    gt_label.append(label_gt)\n",
    "                    token_str.append(tokens[token_id])\n",
    "                    compare.append(match)\n",
    "                    triplets.append(triplet)\n",
    "\n",
    "    # Create a DataFrame of submission information\n",
    "    df = pd.DataFrame({\n",
    "        \"document\": document,\n",
    "        \"token\": token,\n",
    "        \"pred_label\": p_label,\n",
    "        \"gt_label\": gt_label,\n",
    "        \"token_str\": token_str,\n",
    "        \"compare\": compare\n",
    "    })\n",
    "    \n",
    "    # Count the number of false positives, false negatives, and true positives\n",
    "    FP = (df['compare'] == \"FP\").sum()\n",
    "    FN = (df['compare'] == \"FN\").sum()\n",
    "    TP = (df['compare'] == \"TP\").sum()\n",
    "    \n",
    "    # Calculate the precision, recall, and F-beta score\n",
    "    precision = TP / (TP + FP) if TP + FP > 0 else 0\n",
    "    recall = TP / (TP + FN) if TP + FN > 0 else 0\n",
    "    fbeta_mircro_score = (1 + (beta**2)) * precision * recall / (((beta**2) * precision) + recall) if precision + recall > 0 else 0\n",
    "    \n",
    "    # Print the precision, recall, and F-beta score\n",
    "    print(f\"Precision: {precision}\")\n",
    "    print(f\"Recall: {recall}\")\n",
    "    print(f\"F-beta score: {fbeta_mircro_score}\")\n",
    "    \n",
    "    return df"
   ]
  },
  {
   "cell_type": "code",
   "execution_count": 18,
   "id": "fc0e5c9f",
   "metadata": {
    "execution": {
     "iopub.execute_input": "2024-03-08T23:00:40.804899Z",
     "iopub.status.busy": "2024-03-08T23:00:40.804587Z",
     "iopub.status.idle": "2024-03-08T23:00:40.849251Z",
     "shell.execute_reply": "2024-03-08T23:00:40.848372Z"
    },
    "papermill": {
     "duration": 0.058322,
     "end_time": "2024-03-08T23:00:40.851201",
     "exception": false,
     "start_time": "2024-03-08T23:00:40.792879",
     "status": "completed"
    },
    "tags": []
   },
   "outputs": [
    {
     "name": "stdout",
     "output_type": "stream",
     "text": [
      "submission sample metrics:\n",
      "Precision: 0.8387096774193549\n",
      "Recall: 0.7878787878787878\n",
      "F-beta score: 0.7897196261682243\n"
     ]
    },
    {
     "data": {
      "text/html": [
       "<div>\n",
       "<style scoped>\n",
       "    .dataframe tbody tr th:only-of-type {\n",
       "        vertical-align: middle;\n",
       "    }\n",
       "\n",
       "    .dataframe tbody tr th {\n",
       "        vertical-align: top;\n",
       "    }\n",
       "\n",
       "    .dataframe thead th {\n",
       "        text-align: right;\n",
       "    }\n",
       "</style>\n",
       "<table border=\"1\" class=\"dataframe\">\n",
       "  <thead>\n",
       "    <tr style=\"text-align: right;\">\n",
       "      <th></th>\n",
       "      <th>row_id_pred</th>\n",
       "      <th>document</th>\n",
       "      <th>token</th>\n",
       "      <th>label_pred</th>\n",
       "      <th>row_id_gt</th>\n",
       "      <th>label_gt</th>\n",
       "      <th>compare</th>\n",
       "    </tr>\n",
       "  </thead>\n",
       "  <tbody>\n",
       "    <tr>\n",
       "      <th>1</th>\n",
       "      <td>1</td>\n",
       "      <td>7</td>\n",
       "      <td>9</td>\n",
       "      <td>I-NAME_STUDENT</td>\n",
       "      <td>0.0</td>\n",
       "      <td>B-NAME_STUDENT</td>\n",
       "      <td>FN</td>\n",
       "    </tr>\n",
       "    <tr>\n",
       "      <th>4</th>\n",
       "      <td>4</td>\n",
       "      <td>7</td>\n",
       "      <td>482</td>\n",
       "      <td>I-NAME_STUDENT</td>\n",
       "      <td>2.0</td>\n",
       "      <td>B-NAME_STUDENT</td>\n",
       "      <td>FN</td>\n",
       "    </tr>\n",
       "    <tr>\n",
       "      <th>5</th>\n",
       "      <td>5</td>\n",
       "      <td>7</td>\n",
       "      <td>483</td>\n",
       "      <td>B-NAME_STUDENT</td>\n",
       "      <td>3.0</td>\n",
       "      <td>I-NAME_STUDENT</td>\n",
       "      <td>FN</td>\n",
       "    </tr>\n",
       "    <tr>\n",
       "      <th>8</th>\n",
       "      <td>8</td>\n",
       "      <td>7</td>\n",
       "      <td>741</td>\n",
       "      <td>I-NAME_STUDENT</td>\n",
       "      <td>4.0</td>\n",
       "      <td>B-NAME_STUDENT</td>\n",
       "      <td>FN</td>\n",
       "    </tr>\n",
       "    <tr>\n",
       "      <th>17</th>\n",
       "      <td>17</td>\n",
       "      <td>20</td>\n",
       "      <td>5</td>\n",
       "      <td>I-NAME_STUDENT</td>\n",
       "      <td>12.0</td>\n",
       "      <td>B-NAME_STUDENT</td>\n",
       "      <td>FN</td>\n",
       "    </tr>\n",
       "  </tbody>\n",
       "</table>\n",
       "</div>"
      ],
      "text/plain": [
       "    row_id_pred  document  token      label_pred  row_id_gt        label_gt  \\\n",
       "1             1         7      9  I-NAME_STUDENT        0.0  B-NAME_STUDENT   \n",
       "4             4         7    482  I-NAME_STUDENT        2.0  B-NAME_STUDENT   \n",
       "5             5         7    483  B-NAME_STUDENT        3.0  I-NAME_STUDENT   \n",
       "8             8         7    741  I-NAME_STUDENT        4.0  B-NAME_STUDENT   \n",
       "17           17        20      5  I-NAME_STUDENT       12.0  B-NAME_STUDENT   \n",
       "\n",
       "   compare  \n",
       "1       FN  \n",
       "4       FN  \n",
       "5       FN  \n",
       "8       FN  \n",
       "17      FN  "
      ]
     },
     "execution_count": 18,
     "metadata": {},
     "output_type": "execute_result"
    }
   ],
   "source": [
    "print(\"submission sample metrics:\")\n",
    "pred_df = pd.read_csv('/kaggle/working/submission.csv')\n",
    "gt_df= pd.read_csv('/kaggle/input/pii-detection-removal-from-educational-data/sample_submission.csv')\n",
    "fn_df = pii_metrics_score(pred_df, gt_df, beta=5)\n",
    "\n",
    "fn_df.head()"
   ]
  },
  {
   "cell_type": "code",
   "execution_count": 19,
   "id": "ca43579b",
   "metadata": {
    "execution": {
     "iopub.execute_input": "2024-03-08T23:00:40.875201Z",
     "iopub.status.busy": "2024-03-08T23:00:40.874871Z",
     "iopub.status.idle": "2024-03-08T23:00:47.445472Z",
     "shell.execute_reply": "2024-03-08T23:00:47.444236Z"
    },
    "papermill": {
     "duration": 6.584468,
     "end_time": "2024-03-08T23:00:47.447693",
     "exception": false,
     "start_time": "2024-03-08T23:00:40.863225",
     "status": "completed"
    },
    "tags": []
   },
   "outputs": [
    {
     "name": "stdout",
     "output_type": "stream",
     "text": [
      "validation sample metrics:\n",
      "Precision: 0.16877637130801687\n",
      "Recall: 0.3883495145631068\n",
      "F-beta score: 0.36984352773826457\n"
     ]
    }
   ],
   "source": [
    "print(\"validation sample metrics:\")\n",
    "val_compare_df= determine_metrics_preds_gt(preds_final_val, val_gt_ds, id2label)"
   ]
  },
  {
   "cell_type": "code",
   "execution_count": 20,
   "id": "8c4f9801",
   "metadata": {
    "execution": {
     "iopub.execute_input": "2024-03-08T23:00:47.473254Z",
     "iopub.status.busy": "2024-03-08T23:00:47.472856Z",
     "iopub.status.idle": "2024-03-08T23:00:47.480333Z",
     "shell.execute_reply": "2024-03-08T23:00:47.479392Z"
    },
    "papermill": {
     "duration": 0.02306,
     "end_time": "2024-03-08T23:00:47.482765",
     "exception": false,
     "start_time": "2024-03-08T23:00:47.459705",
     "status": "completed"
    },
    "tags": []
   },
   "outputs": [
    {
     "name": "stdout",
     "output_type": "stream",
     "text": [
      "FP:  197\n",
      "FN:  63\n",
      "TP:  40\n",
      "?:  0\n"
     ]
    }
   ],
   "source": [
    "# Count the number of false positives, false negatives, and true positives\n",
    "print(\"FP: \", (val_compare_df['compare'] == \"FP\").sum()) \n",
    "print(\"FN: \", (val_compare_df['compare'] == \"FN\").sum()) \n",
    "print(\"TP: \", (val_compare_df['compare'] == \"TP\").sum())\n",
    "print(\"?: \", (val_compare_df['compare'] == \"?\").sum())"
   ]
  },
  {
   "cell_type": "code",
   "execution_count": 21,
   "id": "ee1b3b20",
   "metadata": {
    "execution": {
     "iopub.execute_input": "2024-03-08T23:00:47.507266Z",
     "iopub.status.busy": "2024-03-08T23:00:47.506938Z",
     "iopub.status.idle": "2024-03-08T23:00:47.519260Z",
     "shell.execute_reply": "2024-03-08T23:00:47.518406Z"
    },
    "papermill": {
     "duration": 0.026864,
     "end_time": "2024-03-08T23:00:47.521316",
     "exception": false,
     "start_time": "2024-03-08T23:00:47.494452",
     "status": "completed"
    },
    "tags": []
   },
   "outputs": [
    {
     "data": {
      "text/html": [
       "<div>\n",
       "<style scoped>\n",
       "    .dataframe tbody tr th:only-of-type {\n",
       "        vertical-align: middle;\n",
       "    }\n",
       "\n",
       "    .dataframe tbody tr th {\n",
       "        vertical-align: top;\n",
       "    }\n",
       "\n",
       "    .dataframe thead th {\n",
       "        text-align: right;\n",
       "    }\n",
       "</style>\n",
       "<table border=\"1\" class=\"dataframe\">\n",
       "  <thead>\n",
       "    <tr style=\"text-align: right;\">\n",
       "      <th></th>\n",
       "      <th>document</th>\n",
       "      <th>token</th>\n",
       "      <th>pred_label</th>\n",
       "      <th>gt_label</th>\n",
       "      <th>token_str</th>\n",
       "      <th>compare</th>\n",
       "    </tr>\n",
       "  </thead>\n",
       "  <tbody>\n",
       "    <tr>\n",
       "      <th>3</th>\n",
       "      <td>10494</td>\n",
       "      <td>1</td>\n",
       "      <td>I-NAME_STUDENT</td>\n",
       "      <td>O</td>\n",
       "      <td>Elnemr</td>\n",
       "      <td>FP</td>\n",
       "    </tr>\n",
       "    <tr>\n",
       "      <th>5</th>\n",
       "      <td>8593</td>\n",
       "      <td>1</td>\n",
       "      <td>I-NAME_STUDENT</td>\n",
       "      <td>O</td>\n",
       "      <td>Flores</td>\n",
       "      <td>FP</td>\n",
       "    </tr>\n",
       "    <tr>\n",
       "      <th>6</th>\n",
       "      <td>8593</td>\n",
       "      <td>547</td>\n",
       "      <td>B-NAME_STUDENT</td>\n",
       "      <td>O</td>\n",
       "      <td>Tony</td>\n",
       "      <td>FP</td>\n",
       "    </tr>\n",
       "    <tr>\n",
       "      <th>7</th>\n",
       "      <td>8593</td>\n",
       "      <td>548</td>\n",
       "      <td>I-NAME_STUDENT</td>\n",
       "      <td>O</td>\n",
       "      <td>Flores</td>\n",
       "      <td>FP</td>\n",
       "    </tr>\n",
       "    <tr>\n",
       "      <th>8</th>\n",
       "      <td>4899</td>\n",
       "      <td>7</td>\n",
       "      <td>B-NAME_STUDENT</td>\n",
       "      <td>O</td>\n",
       "      <td>Maria</td>\n",
       "      <td>FP</td>\n",
       "    </tr>\n",
       "  </tbody>\n",
       "</table>\n",
       "</div>"
      ],
      "text/plain": [
       "  document  token      pred_label gt_label token_str compare\n",
       "3    10494      1  I-NAME_STUDENT        O    Elnemr      FP\n",
       "5     8593      1  I-NAME_STUDENT        O    Flores      FP\n",
       "6     8593    547  B-NAME_STUDENT        O      Tony      FP\n",
       "7     8593    548  I-NAME_STUDENT        O    Flores      FP\n",
       "8     4899      7  B-NAME_STUDENT        O     Maria      FP"
      ]
     },
     "execution_count": 21,
     "metadata": {},
     "output_type": "execute_result"
    }
   ],
   "source": [
    "val_compare_df[val_compare_df['compare'] == \"FP\"].head()"
   ]
  },
  {
   "cell_type": "code",
   "execution_count": 22,
   "id": "c1bd56b9",
   "metadata": {
    "execution": {
     "iopub.execute_input": "2024-03-08T23:00:47.546277Z",
     "iopub.status.busy": "2024-03-08T23:00:47.545951Z",
     "iopub.status.idle": "2024-03-08T23:00:47.557585Z",
     "shell.execute_reply": "2024-03-08T23:00:47.556834Z"
    },
    "papermill": {
     "duration": 0.025686,
     "end_time": "2024-03-08T23:00:47.559391",
     "exception": false,
     "start_time": "2024-03-08T23:00:47.533705",
     "status": "completed"
    },
    "tags": []
   },
   "outputs": [
    {
     "data": {
      "text/html": [
       "<div>\n",
       "<style scoped>\n",
       "    .dataframe tbody tr th:only-of-type {\n",
       "        vertical-align: middle;\n",
       "    }\n",
       "\n",
       "    .dataframe tbody tr th {\n",
       "        vertical-align: top;\n",
       "    }\n",
       "\n",
       "    .dataframe thead th {\n",
       "        text-align: right;\n",
       "    }\n",
       "</style>\n",
       "<table border=\"1\" class=\"dataframe\">\n",
       "  <thead>\n",
       "    <tr style=\"text-align: right;\">\n",
       "      <th></th>\n",
       "      <th>document</th>\n",
       "      <th>token</th>\n",
       "      <th>pred_label</th>\n",
       "      <th>gt_label</th>\n",
       "      <th>token_str</th>\n",
       "      <th>compare</th>\n",
       "    </tr>\n",
       "  </thead>\n",
       "  <tbody>\n",
       "    <tr>\n",
       "      <th>2</th>\n",
       "      <td>10494</td>\n",
       "      <td>0</td>\n",
       "      <td>B-NAME_STUDENT</td>\n",
       "      <td>I-NAME_STUDENT</td>\n",
       "      <td>Ahmed</td>\n",
       "      <td>FN</td>\n",
       "    </tr>\n",
       "    <tr>\n",
       "      <th>4</th>\n",
       "      <td>8593</td>\n",
       "      <td>0</td>\n",
       "      <td>B-NAME_STUDENT</td>\n",
       "      <td>I-NAME_STUDENT</td>\n",
       "      <td>Tony</td>\n",
       "      <td>FN</td>\n",
       "    </tr>\n",
       "    <tr>\n",
       "      <th>12</th>\n",
       "      <td>13131</td>\n",
       "      <td>4</td>\n",
       "      <td>B-NAME_STUDENT</td>\n",
       "      <td>I-NAME_STUDENT</td>\n",
       "      <td>Andreas</td>\n",
       "      <td>FN</td>\n",
       "    </tr>\n",
       "    <tr>\n",
       "      <th>14</th>\n",
       "      <td>8612</td>\n",
       "      <td>6</td>\n",
       "      <td>B-NAME_STUDENT</td>\n",
       "      <td>I-NAME_STUDENT</td>\n",
       "      <td>Ana</td>\n",
       "      <td>FN</td>\n",
       "    </tr>\n",
       "    <tr>\n",
       "      <th>17</th>\n",
       "      <td>8229</td>\n",
       "      <td>0</td>\n",
       "      <td>B-NAME_STUDENT</td>\n",
       "      <td>I-NAME_STUDENT</td>\n",
       "      <td>Martina</td>\n",
       "      <td>FN</td>\n",
       "    </tr>\n",
       "  </tbody>\n",
       "</table>\n",
       "</div>"
      ],
      "text/plain": [
       "   document  token      pred_label        gt_label token_str compare\n",
       "2     10494      0  B-NAME_STUDENT  I-NAME_STUDENT     Ahmed      FN\n",
       "4      8593      0  B-NAME_STUDENT  I-NAME_STUDENT      Tony      FN\n",
       "12    13131      4  B-NAME_STUDENT  I-NAME_STUDENT   Andreas      FN\n",
       "14     8612      6  B-NAME_STUDENT  I-NAME_STUDENT       Ana      FN\n",
       "17     8229      0  B-NAME_STUDENT  I-NAME_STUDENT   Martina      FN"
      ]
     },
     "execution_count": 22,
     "metadata": {},
     "output_type": "execute_result"
    }
   ],
   "source": [
    "val_compare_df[val_compare_df['compare'] == \"FN\"].head()"
   ]
  },
  {
   "cell_type": "code",
   "execution_count": 23,
   "id": "67189c5d",
   "metadata": {
    "execution": {
     "iopub.execute_input": "2024-03-08T23:00:47.583717Z",
     "iopub.status.busy": "2024-03-08T23:00:47.583423Z",
     "iopub.status.idle": "2024-03-08T23:00:47.595148Z",
     "shell.execute_reply": "2024-03-08T23:00:47.594213Z"
    },
    "papermill": {
     "duration": 0.02631,
     "end_time": "2024-03-08T23:00:47.597304",
     "exception": false,
     "start_time": "2024-03-08T23:00:47.570994",
     "status": "completed"
    },
    "tags": []
   },
   "outputs": [
    {
     "data": {
      "text/html": [
       "<div>\n",
       "<style scoped>\n",
       "    .dataframe tbody tr th:only-of-type {\n",
       "        vertical-align: middle;\n",
       "    }\n",
       "\n",
       "    .dataframe tbody tr th {\n",
       "        vertical-align: top;\n",
       "    }\n",
       "\n",
       "    .dataframe thead th {\n",
       "        text-align: right;\n",
       "    }\n",
       "</style>\n",
       "<table border=\"1\" class=\"dataframe\">\n",
       "  <thead>\n",
       "    <tr style=\"text-align: right;\">\n",
       "      <th></th>\n",
       "      <th>document</th>\n",
       "      <th>token</th>\n",
       "      <th>pred_label</th>\n",
       "      <th>gt_label</th>\n",
       "      <th>token_str</th>\n",
       "      <th>compare</th>\n",
       "    </tr>\n",
       "  </thead>\n",
       "  <tbody>\n",
       "    <tr>\n",
       "      <th>0</th>\n",
       "      <td>11144</td>\n",
       "      <td>5</td>\n",
       "      <td>B-NAME_STUDENT</td>\n",
       "      <td>B-NAME_STUDENT</td>\n",
       "      <td>Paola</td>\n",
       "      <td>TP</td>\n",
       "    </tr>\n",
       "    <tr>\n",
       "      <th>1</th>\n",
       "      <td>11144</td>\n",
       "      <td>6</td>\n",
       "      <td>I-NAME_STUDENT</td>\n",
       "      <td>I-NAME_STUDENT</td>\n",
       "      <td>Garcia</td>\n",
       "      <td>TP</td>\n",
       "    </tr>\n",
       "    <tr>\n",
       "      <th>23</th>\n",
       "      <td>4936</td>\n",
       "      <td>5</td>\n",
       "      <td>B-NAME_STUDENT</td>\n",
       "      <td>B-NAME_STUDENT</td>\n",
       "      <td>Edjanio</td>\n",
       "      <td>TP</td>\n",
       "    </tr>\n",
       "    <tr>\n",
       "      <th>24</th>\n",
       "      <td>4936</td>\n",
       "      <td>5</td>\n",
       "      <td>I-NAME_STUDENT</td>\n",
       "      <td>I-NAME_STUDENT</td>\n",
       "      <td>Edjanio</td>\n",
       "      <td>TP</td>\n",
       "    </tr>\n",
       "    <tr>\n",
       "      <th>51</th>\n",
       "      <td>1325</td>\n",
       "      <td>14</td>\n",
       "      <td>I-NAME_STUDENT</td>\n",
       "      <td>I-NAME_STUDENT</td>\n",
       "      <td>Sjoerd</td>\n",
       "      <td>TP</td>\n",
       "    </tr>\n",
       "  </tbody>\n",
       "</table>\n",
       "</div>"
      ],
      "text/plain": [
       "   document  token      pred_label        gt_label token_str compare\n",
       "0     11144      5  B-NAME_STUDENT  B-NAME_STUDENT     Paola      TP\n",
       "1     11144      6  I-NAME_STUDENT  I-NAME_STUDENT    Garcia      TP\n",
       "23     4936      5  B-NAME_STUDENT  B-NAME_STUDENT   Edjanio      TP\n",
       "24     4936      5  I-NAME_STUDENT  I-NAME_STUDENT   Edjanio      TP\n",
       "51     1325     14  I-NAME_STUDENT  I-NAME_STUDENT    Sjoerd      TP"
      ]
     },
     "execution_count": 23,
     "metadata": {},
     "output_type": "execute_result"
    }
   ],
   "source": [
    "val_compare_df[val_compare_df['compare'] == \"TP\"].head()"
   ]
  }
 ],
 "metadata": {
  "kaggle": {
   "accelerator": "nvidiaTeslaT4",
   "dataSources": [
    {
     "databundleVersionId": 7500999,
     "sourceId": 66653,
     "sourceType": "competition"
    },
    {
     "sourceId": 165909577,
     "sourceType": "kernelVersion"
    },
    {
     "sourceId": 165911307,
     "sourceType": "kernelVersion"
    }
   ],
   "dockerImageVersionId": 30665,
   "isGpuEnabled": true,
   "isInternetEnabled": false,
   "language": "python",
   "sourceType": "notebook"
  },
  "kernelspec": {
   "display_name": "Python 3",
   "language": "python",
   "name": "python3"
  },
  "language_info": {
   "codemirror_mode": {
    "name": "ipython",
    "version": 3
   },
   "file_extension": ".py",
   "mimetype": "text/x-python",
   "name": "python",
   "nbconvert_exporter": "python",
   "pygments_lexer": "ipython3",
   "version": "3.10.13"
  },
  "papermill": {
   "default_parameters": {},
   "duration": 138.067699,
   "end_time": "2024-03-08T23:00:50.767753",
   "environment_variables": {},
   "exception": null,
   "input_path": "__notebook__.ipynb",
   "output_path": "__notebook__.ipynb",
   "parameters": {},
   "start_time": "2024-03-08T22:58:32.700054",
   "version": "2.5.0"
  },
  "widgets": {
   "application/vnd.jupyter.widget-state+json": {
    "state": {
     "0507fae63d5e46a6828d7e92edacb753": {
      "model_module": "@jupyter-widgets/base",
      "model_module_version": "1.2.0",
      "model_name": "LayoutModel",
      "state": {
       "_model_module": "@jupyter-widgets/base",
       "_model_module_version": "1.2.0",
       "_model_name": "LayoutModel",
       "_view_count": null,
       "_view_module": "@jupyter-widgets/base",
       "_view_module_version": "1.2.0",
       "_view_name": "LayoutView",
       "align_content": null,
       "align_items": null,
       "align_self": null,
       "border": null,
       "bottom": null,
       "display": null,
       "flex": null,
       "flex_flow": null,
       "grid_area": null,
       "grid_auto_columns": null,
       "grid_auto_flow": null,
       "grid_auto_rows": null,
       "grid_column": null,
       "grid_gap": null,
       "grid_row": null,
       "grid_template_areas": null,
       "grid_template_columns": null,
       "grid_template_rows": null,
       "height": null,
       "justify_content": null,
       "justify_items": null,
       "left": null,
       "margin": null,
       "max_height": null,
       "max_width": null,
       "min_height": null,
       "min_width": null,
       "object_fit": null,
       "object_position": null,
       "order": null,
       "overflow": null,
       "overflow_x": null,
       "overflow_y": null,
       "padding": null,
       "right": null,
       "top": null,
       "visibility": null,
       "width": null
      }
     },
     "08be8b55708c46da8d6b190c1015c8ab": {
      "model_module": "@jupyter-widgets/base",
      "model_module_version": "1.2.0",
      "model_name": "LayoutModel",
      "state": {
       "_model_module": "@jupyter-widgets/base",
       "_model_module_version": "1.2.0",
       "_model_name": "LayoutModel",
       "_view_count": null,
       "_view_module": "@jupyter-widgets/base",
       "_view_module_version": "1.2.0",
       "_view_name": "LayoutView",
       "align_content": null,
       "align_items": null,
       "align_self": null,
       "border": null,
       "bottom": null,
       "display": null,
       "flex": null,
       "flex_flow": null,
       "grid_area": null,
       "grid_auto_columns": null,
       "grid_auto_flow": null,
       "grid_auto_rows": null,
       "grid_column": null,
       "grid_gap": null,
       "grid_row": null,
       "grid_template_areas": null,
       "grid_template_columns": null,
       "grid_template_rows": null,
       "height": null,
       "justify_content": null,
       "justify_items": null,
       "left": null,
       "margin": null,
       "max_height": null,
       "max_width": null,
       "min_height": null,
       "min_width": null,
       "object_fit": null,
       "object_position": null,
       "order": null,
       "overflow": null,
       "overflow_x": null,
       "overflow_y": null,
       "padding": null,
       "right": null,
       "top": null,
       "visibility": null,
       "width": null
      }
     },
     "0a1aa4bc2e4547e4969528e223206654": {
      "model_module": "@jupyter-widgets/controls",
      "model_module_version": "1.5.0",
      "model_name": "HBoxModel",
      "state": {
       "_dom_classes": [],
       "_model_module": "@jupyter-widgets/controls",
       "_model_module_version": "1.5.0",
       "_model_name": "HBoxModel",
       "_view_count": null,
       "_view_module": "@jupyter-widgets/controls",
       "_view_module_version": "1.5.0",
       "_view_name": "HBoxView",
       "box_style": "",
       "children": [
        "IPY_MODEL_d25996e42acc42d5aa3fbfdc9f13a56a",
        "IPY_MODEL_f2b85b8cfc0b42d39f8df465a20e936f",
        "IPY_MODEL_f2c8c2c346d64f1eadc0dd21166eb037"
       ],
       "layout": "IPY_MODEL_5589c37b396c4a1894ed405c4fbd11e1"
      }
     },
     "0ae8a511a6c74b4dab5eb555de7a0a65": {
      "model_module": "@jupyter-widgets/base",
      "model_module_version": "1.2.0",
      "model_name": "LayoutModel",
      "state": {
       "_model_module": "@jupyter-widgets/base",
       "_model_module_version": "1.2.0",
       "_model_name": "LayoutModel",
       "_view_count": null,
       "_view_module": "@jupyter-widgets/base",
       "_view_module_version": "1.2.0",
       "_view_name": "LayoutView",
       "align_content": null,
       "align_items": null,
       "align_self": null,
       "border": null,
       "bottom": null,
       "display": null,
       "flex": null,
       "flex_flow": null,
       "grid_area": null,
       "grid_auto_columns": null,
       "grid_auto_flow": null,
       "grid_auto_rows": null,
       "grid_column": null,
       "grid_gap": null,
       "grid_row": null,
       "grid_template_areas": null,
       "grid_template_columns": null,
       "grid_template_rows": null,
       "height": null,
       "justify_content": null,
       "justify_items": null,
       "left": null,
       "margin": null,
       "max_height": null,
       "max_width": null,
       "min_height": null,
       "min_width": null,
       "object_fit": null,
       "object_position": null,
       "order": null,
       "overflow": null,
       "overflow_x": null,
       "overflow_y": null,
       "padding": null,
       "right": null,
       "top": null,
       "visibility": null,
       "width": null
      }
     },
     "181a6915a16d4e2eafc557c2aa90fa45": {
      "model_module": "@jupyter-widgets/base",
      "model_module_version": "1.2.0",
      "model_name": "LayoutModel",
      "state": {
       "_model_module": "@jupyter-widgets/base",
       "_model_module_version": "1.2.0",
       "_model_name": "LayoutModel",
       "_view_count": null,
       "_view_module": "@jupyter-widgets/base",
       "_view_module_version": "1.2.0",
       "_view_name": "LayoutView",
       "align_content": null,
       "align_items": null,
       "align_self": null,
       "border": null,
       "bottom": null,
       "display": null,
       "flex": null,
       "flex_flow": null,
       "grid_area": null,
       "grid_auto_columns": null,
       "grid_auto_flow": null,
       "grid_auto_rows": null,
       "grid_column": null,
       "grid_gap": null,
       "grid_row": null,
       "grid_template_areas": null,
       "grid_template_columns": null,
       "grid_template_rows": null,
       "height": null,
       "justify_content": null,
       "justify_items": null,
       "left": null,
       "margin": null,
       "max_height": null,
       "max_width": null,
       "min_height": null,
       "min_width": null,
       "object_fit": null,
       "object_position": null,
       "order": null,
       "overflow": null,
       "overflow_x": null,
       "overflow_y": null,
       "padding": null,
       "right": null,
       "top": null,
       "visibility": null,
       "width": null
      }
     },
     "1aafc58a104249168b7ccd6951794aa4": {
      "model_module": "@jupyter-widgets/controls",
      "model_module_version": "1.5.0",
      "model_name": "ProgressStyleModel",
      "state": {
       "_model_module": "@jupyter-widgets/controls",
       "_model_module_version": "1.5.0",
       "_model_name": "ProgressStyleModel",
       "_view_count": null,
       "_view_module": "@jupyter-widgets/base",
       "_view_module_version": "1.2.0",
       "_view_name": "StyleView",
       "bar_color": null,
       "description_width": ""
      }
     },
     "2891456e26aa4fce8868df2cec03b08d": {
      "model_module": "@jupyter-widgets/controls",
      "model_module_version": "1.5.0",
      "model_name": "HTMLModel",
      "state": {
       "_dom_classes": [],
       "_model_module": "@jupyter-widgets/controls",
       "_model_module_version": "1.5.0",
       "_model_name": "HTMLModel",
       "_view_count": null,
       "_view_module": "@jupyter-widgets/controls",
       "_view_module_version": "1.5.0",
       "_view_name": "HTMLView",
       "description": "",
       "description_tooltip": null,
       "layout": "IPY_MODEL_fedcedb02cb94e199b07a5538022177e",
       "placeholder": "​",
       "style": "IPY_MODEL_a4b819af5af84d9c865f454e4aae2357",
       "value": " 343/343 [00:02&lt;00:00, 134.65ex/s]"
      }
     },
     "2d6d1451332847ab86166c1d912e8744": {
      "model_module": "@jupyter-widgets/controls",
      "model_module_version": "1.5.0",
      "model_name": "DescriptionStyleModel",
      "state": {
       "_model_module": "@jupyter-widgets/controls",
       "_model_module_version": "1.5.0",
       "_model_name": "DescriptionStyleModel",
       "_view_count": null,
       "_view_module": "@jupyter-widgets/base",
       "_view_module_version": "1.2.0",
       "_view_name": "StyleView",
       "description_width": ""
      }
     },
     "2e7f55e625ae450db361ea55740e10fd": {
      "model_module": "@jupyter-widgets/base",
      "model_module_version": "1.2.0",
      "model_name": "LayoutModel",
      "state": {
       "_model_module": "@jupyter-widgets/base",
       "_model_module_version": "1.2.0",
       "_model_name": "LayoutModel",
       "_view_count": null,
       "_view_module": "@jupyter-widgets/base",
       "_view_module_version": "1.2.0",
       "_view_name": "LayoutView",
       "align_content": null,
       "align_items": null,
       "align_self": null,
       "border": null,
       "bottom": null,
       "display": null,
       "flex": null,
       "flex_flow": null,
       "grid_area": null,
       "grid_auto_columns": null,
       "grid_auto_flow": null,
       "grid_auto_rows": null,
       "grid_column": null,
       "grid_gap": null,
       "grid_row": null,
       "grid_template_areas": null,
       "grid_template_columns": null,
       "grid_template_rows": null,
       "height": null,
       "justify_content": null,
       "justify_items": null,
       "left": null,
       "margin": null,
       "max_height": null,
       "max_width": null,
       "min_height": null,
       "min_width": null,
       "object_fit": null,
       "object_position": null,
       "order": null,
       "overflow": null,
       "overflow_x": null,
       "overflow_y": null,
       "padding": null,
       "right": null,
       "top": null,
       "visibility": null,
       "width": null
      }
     },
     "33c53c2a3c9f4c88b56d8a5a3d5a8aa2": {
      "model_module": "@jupyter-widgets/base",
      "model_module_version": "1.2.0",
      "model_name": "LayoutModel",
      "state": {
       "_model_module": "@jupyter-widgets/base",
       "_model_module_version": "1.2.0",
       "_model_name": "LayoutModel",
       "_view_count": null,
       "_view_module": "@jupyter-widgets/base",
       "_view_module_version": "1.2.0",
       "_view_name": "LayoutView",
       "align_content": null,
       "align_items": null,
       "align_self": null,
       "border": null,
       "bottom": null,
       "display": null,
       "flex": null,
       "flex_flow": null,
       "grid_area": null,
       "grid_auto_columns": null,
       "grid_auto_flow": null,
       "grid_auto_rows": null,
       "grid_column": null,
       "grid_gap": null,
       "grid_row": null,
       "grid_template_areas": null,
       "grid_template_columns": null,
       "grid_template_rows": null,
       "height": null,
       "justify_content": null,
       "justify_items": null,
       "left": null,
       "margin": null,
       "max_height": null,
       "max_width": null,
       "min_height": null,
       "min_width": null,
       "object_fit": null,
       "object_position": null,
       "order": null,
       "overflow": null,
       "overflow_x": null,
       "overflow_y": null,
       "padding": null,
       "right": null,
       "top": null,
       "visibility": null,
       "width": null
      }
     },
     "382e1df98ac54ad2b9e4e9ba8813c47e": {
      "model_module": "@jupyter-widgets/controls",
      "model_module_version": "1.5.0",
      "model_name": "DescriptionStyleModel",
      "state": {
       "_model_module": "@jupyter-widgets/controls",
       "_model_module_version": "1.5.0",
       "_model_name": "DescriptionStyleModel",
       "_view_count": null,
       "_view_module": "@jupyter-widgets/base",
       "_view_module_version": "1.2.0",
       "_view_name": "StyleView",
       "description_width": ""
      }
     },
     "3d7510c7b3c84140806d58c1482b3487": {
      "model_module": "@jupyter-widgets/controls",
      "model_module_version": "1.5.0",
      "model_name": "FloatProgressModel",
      "state": {
       "_dom_classes": [],
       "_model_module": "@jupyter-widgets/controls",
       "_model_module_version": "1.5.0",
       "_model_name": "FloatProgressModel",
       "_view_count": null,
       "_view_module": "@jupyter-widgets/controls",
       "_view_module_version": "1.5.0",
       "_view_name": "ProgressView",
       "bar_style": "success",
       "description": "",
       "description_tooltip": null,
       "layout": "IPY_MODEL_bc3e658c12164c14a6289f9045e2f7c2",
       "max": 343.0,
       "min": 0.0,
       "orientation": "horizontal",
       "style": "IPY_MODEL_583ea76d464d4d458e37acd344640b16",
       "value": 343.0
      }
     },
     "4245bf6d3f654dd48129cbf5899b9c5f": {
      "model_module": "@jupyter-widgets/controls",
      "model_module_version": "1.5.0",
      "model_name": "HTMLModel",
      "state": {
       "_dom_classes": [],
       "_model_module": "@jupyter-widgets/controls",
       "_model_module_version": "1.5.0",
       "_model_name": "HTMLModel",
       "_view_count": null,
       "_view_module": "@jupyter-widgets/controls",
       "_view_module_version": "1.5.0",
       "_view_name": "HTMLView",
       "description": "",
       "description_tooltip": null,
       "layout": "IPY_MODEL_33c53c2a3c9f4c88b56d8a5a3d5a8aa2",
       "placeholder": "​",
       "style": "IPY_MODEL_d335b0f3f751482f9d9996e772e8f21e",
       "value": " 344/344 [00:02&lt;00:00, 138.92ex/s]"
      }
     },
     "4edded341c784f87bce581a537c14a9d": {
      "model_module": "@jupyter-widgets/controls",
      "model_module_version": "1.5.0",
      "model_name": "HTMLModel",
      "state": {
       "_dom_classes": [],
       "_model_module": "@jupyter-widgets/controls",
       "_model_module_version": "1.5.0",
       "_model_name": "HTMLModel",
       "_view_count": null,
       "_view_module": "@jupyter-widgets/controls",
       "_view_module_version": "1.5.0",
       "_view_name": "HTMLView",
       "description": "",
       "description_tooltip": null,
       "layout": "IPY_MODEL_514885c29a6b4528a1a66f1dde3343a8",
       "placeholder": "​",
       "style": "IPY_MODEL_aa7a77411a464adeba0c2ad5c13b6b4f",
       "value": " 5/5 [00:00&lt;00:00, 55.85ex/s]"
      }
     },
     "4fb311a6df6e4acfa46b6b3820e35346": {
      "model_module": "@jupyter-widgets/base",
      "model_module_version": "1.2.0",
      "model_name": "LayoutModel",
      "state": {
       "_model_module": "@jupyter-widgets/base",
       "_model_module_version": "1.2.0",
       "_model_name": "LayoutModel",
       "_view_count": null,
       "_view_module": "@jupyter-widgets/base",
       "_view_module_version": "1.2.0",
       "_view_name": "LayoutView",
       "align_content": null,
       "align_items": null,
       "align_self": null,
       "border": null,
       "bottom": null,
       "display": null,
       "flex": null,
       "flex_flow": null,
       "grid_area": null,
       "grid_auto_columns": null,
       "grid_auto_flow": null,
       "grid_auto_rows": null,
       "grid_column": null,
       "grid_gap": null,
       "grid_row": null,
       "grid_template_areas": null,
       "grid_template_columns": null,
       "grid_template_rows": null,
       "height": null,
       "justify_content": null,
       "justify_items": null,
       "left": null,
       "margin": null,
       "max_height": null,
       "max_width": null,
       "min_height": null,
       "min_width": null,
       "object_fit": null,
       "object_position": null,
       "order": null,
       "overflow": null,
       "overflow_x": null,
       "overflow_y": null,
       "padding": null,
       "right": null,
       "top": null,
       "visibility": null,
       "width": null
      }
     },
     "514885c29a6b4528a1a66f1dde3343a8": {
      "model_module": "@jupyter-widgets/base",
      "model_module_version": "1.2.0",
      "model_name": "LayoutModel",
      "state": {
       "_model_module": "@jupyter-widgets/base",
       "_model_module_version": "1.2.0",
       "_model_name": "LayoutModel",
       "_view_count": null,
       "_view_module": "@jupyter-widgets/base",
       "_view_module_version": "1.2.0",
       "_view_name": "LayoutView",
       "align_content": null,
       "align_items": null,
       "align_self": null,
       "border": null,
       "bottom": null,
       "display": null,
       "flex": null,
       "flex_flow": null,
       "grid_area": null,
       "grid_auto_columns": null,
       "grid_auto_flow": null,
       "grid_auto_rows": null,
       "grid_column": null,
       "grid_gap": null,
       "grid_row": null,
       "grid_template_areas": null,
       "grid_template_columns": null,
       "grid_template_rows": null,
       "height": null,
       "justify_content": null,
       "justify_items": null,
       "left": null,
       "margin": null,
       "max_height": null,
       "max_width": null,
       "min_height": null,
       "min_width": null,
       "object_fit": null,
       "object_position": null,
       "order": null,
       "overflow": null,
       "overflow_x": null,
       "overflow_y": null,
       "padding": null,
       "right": null,
       "top": null,
       "visibility": null,
       "width": null
      }
     },
     "5589c37b396c4a1894ed405c4fbd11e1": {
      "model_module": "@jupyter-widgets/base",
      "model_module_version": "1.2.0",
      "model_name": "LayoutModel",
      "state": {
       "_model_module": "@jupyter-widgets/base",
       "_model_module_version": "1.2.0",
       "_model_name": "LayoutModel",
       "_view_count": null,
       "_view_module": "@jupyter-widgets/base",
       "_view_module_version": "1.2.0",
       "_view_name": "LayoutView",
       "align_content": null,
       "align_items": null,
       "align_self": null,
       "border": null,
       "bottom": null,
       "display": null,
       "flex": null,
       "flex_flow": null,
       "grid_area": null,
       "grid_auto_columns": null,
       "grid_auto_flow": null,
       "grid_auto_rows": null,
       "grid_column": null,
       "grid_gap": null,
       "grid_row": null,
       "grid_template_areas": null,
       "grid_template_columns": null,
       "grid_template_rows": null,
       "height": null,
       "justify_content": null,
       "justify_items": null,
       "left": null,
       "margin": null,
       "max_height": null,
       "max_width": null,
       "min_height": null,
       "min_width": null,
       "object_fit": null,
       "object_position": null,
       "order": null,
       "overflow": null,
       "overflow_x": null,
       "overflow_y": null,
       "padding": null,
       "right": null,
       "top": null,
       "visibility": null,
       "width": null
      }
     },
     "583ea76d464d4d458e37acd344640b16": {
      "model_module": "@jupyter-widgets/controls",
      "model_module_version": "1.5.0",
      "model_name": "ProgressStyleModel",
      "state": {
       "_model_module": "@jupyter-widgets/controls",
       "_model_module_version": "1.5.0",
       "_model_name": "ProgressStyleModel",
       "_view_count": null,
       "_view_module": "@jupyter-widgets/base",
       "_view_module_version": "1.2.0",
       "_view_name": "StyleView",
       "bar_color": null,
       "description_width": ""
      }
     },
     "5ab3ef5630a74911b246374de26c4161": {
      "model_module": "@jupyter-widgets/controls",
      "model_module_version": "1.5.0",
      "model_name": "FloatProgressModel",
      "state": {
       "_dom_classes": [],
       "_model_module": "@jupyter-widgets/controls",
       "_model_module_version": "1.5.0",
       "_model_name": "FloatProgressModel",
       "_view_count": null,
       "_view_module": "@jupyter-widgets/controls",
       "_view_module_version": "1.5.0",
       "_view_name": "ProgressView",
       "bar_style": "success",
       "description": "",
       "description_tooltip": null,
       "layout": "IPY_MODEL_2e7f55e625ae450db361ea55740e10fd",
       "max": 5.0,
       "min": 0.0,
       "orientation": "horizontal",
       "style": "IPY_MODEL_1aafc58a104249168b7ccd6951794aa4",
       "value": 5.0
      }
     },
     "5e67107fda5144388a616f90f78daeaf": {
      "model_module": "@jupyter-widgets/base",
      "model_module_version": "1.2.0",
      "model_name": "LayoutModel",
      "state": {
       "_model_module": "@jupyter-widgets/base",
       "_model_module_version": "1.2.0",
       "_model_name": "LayoutModel",
       "_view_count": null,
       "_view_module": "@jupyter-widgets/base",
       "_view_module_version": "1.2.0",
       "_view_name": "LayoutView",
       "align_content": null,
       "align_items": null,
       "align_self": null,
       "border": null,
       "bottom": null,
       "display": null,
       "flex": null,
       "flex_flow": null,
       "grid_area": null,
       "grid_auto_columns": null,
       "grid_auto_flow": null,
       "grid_auto_rows": null,
       "grid_column": null,
       "grid_gap": null,
       "grid_row": null,
       "grid_template_areas": null,
       "grid_template_columns": null,
       "grid_template_rows": null,
       "height": null,
       "justify_content": null,
       "justify_items": null,
       "left": null,
       "margin": null,
       "max_height": null,
       "max_width": null,
       "min_height": null,
       "min_width": null,
       "object_fit": null,
       "object_position": null,
       "order": null,
       "overflow": null,
       "overflow_x": null,
       "overflow_y": null,
       "padding": null,
       "right": null,
       "top": null,
       "visibility": null,
       "width": null
      }
     },
     "5f8a6d4f39764868a2d9a4d7eb0948da": {
      "model_module": "@jupyter-widgets/controls",
      "model_module_version": "1.5.0",
      "model_name": "DescriptionStyleModel",
      "state": {
       "_model_module": "@jupyter-widgets/controls",
       "_model_module_version": "1.5.0",
       "_model_name": "DescriptionStyleModel",
       "_view_count": null,
       "_view_module": "@jupyter-widgets/base",
       "_view_module_version": "1.2.0",
       "_view_name": "StyleView",
       "description_width": ""
      }
     },
     "6bdc0118802b4e6d96ad2acbbf40620e": {
      "model_module": "@jupyter-widgets/controls",
      "model_module_version": "1.5.0",
      "model_name": "DescriptionStyleModel",
      "state": {
       "_model_module": "@jupyter-widgets/controls",
       "_model_module_version": "1.5.0",
       "_model_name": "DescriptionStyleModel",
       "_view_count": null,
       "_view_module": "@jupyter-widgets/base",
       "_view_module_version": "1.2.0",
       "_view_name": "StyleView",
       "description_width": ""
      }
     },
     "7e91656ee80b4b5cbe11947e7729f403": {
      "model_module": "@jupyter-widgets/base",
      "model_module_version": "1.2.0",
      "model_name": "LayoutModel",
      "state": {
       "_model_module": "@jupyter-widgets/base",
       "_model_module_version": "1.2.0",
       "_model_name": "LayoutModel",
       "_view_count": null,
       "_view_module": "@jupyter-widgets/base",
       "_view_module_version": "1.2.0",
       "_view_name": "LayoutView",
       "align_content": null,
       "align_items": null,
       "align_self": null,
       "border": null,
       "bottom": null,
       "display": null,
       "flex": null,
       "flex_flow": null,
       "grid_area": null,
       "grid_auto_columns": null,
       "grid_auto_flow": null,
       "grid_auto_rows": null,
       "grid_column": null,
       "grid_gap": null,
       "grid_row": null,
       "grid_template_areas": null,
       "grid_template_columns": null,
       "grid_template_rows": null,
       "height": null,
       "justify_content": null,
       "justify_items": null,
       "left": null,
       "margin": null,
       "max_height": null,
       "max_width": null,
       "min_height": null,
       "min_width": null,
       "object_fit": null,
       "object_position": null,
       "order": null,
       "overflow": null,
       "overflow_x": null,
       "overflow_y": null,
       "padding": null,
       "right": null,
       "top": null,
       "visibility": null,
       "width": null
      }
     },
     "839fcb07cd9444908184d2da5d0c9119": {
      "model_module": "@jupyter-widgets/base",
      "model_module_version": "1.2.0",
      "model_name": "LayoutModel",
      "state": {
       "_model_module": "@jupyter-widgets/base",
       "_model_module_version": "1.2.0",
       "_model_name": "LayoutModel",
       "_view_count": null,
       "_view_module": "@jupyter-widgets/base",
       "_view_module_version": "1.2.0",
       "_view_name": "LayoutView",
       "align_content": null,
       "align_items": null,
       "align_self": null,
       "border": null,
       "bottom": null,
       "display": null,
       "flex": null,
       "flex_flow": null,
       "grid_area": null,
       "grid_auto_columns": null,
       "grid_auto_flow": null,
       "grid_auto_rows": null,
       "grid_column": null,
       "grid_gap": null,
       "grid_row": null,
       "grid_template_areas": null,
       "grid_template_columns": null,
       "grid_template_rows": null,
       "height": null,
       "justify_content": null,
       "justify_items": null,
       "left": null,
       "margin": null,
       "max_height": null,
       "max_width": null,
       "min_height": null,
       "min_width": null,
       "object_fit": null,
       "object_position": null,
       "order": null,
       "overflow": null,
       "overflow_x": null,
       "overflow_y": null,
       "padding": null,
       "right": null,
       "top": null,
       "visibility": null,
       "width": null
      }
     },
     "a4983ade84b74ccc8102df34326ae89a": {
      "model_module": "@jupyter-widgets/base",
      "model_module_version": "1.2.0",
      "model_name": "LayoutModel",
      "state": {
       "_model_module": "@jupyter-widgets/base",
       "_model_module_version": "1.2.0",
       "_model_name": "LayoutModel",
       "_view_count": null,
       "_view_module": "@jupyter-widgets/base",
       "_view_module_version": "1.2.0",
       "_view_name": "LayoutView",
       "align_content": null,
       "align_items": null,
       "align_self": null,
       "border": null,
       "bottom": null,
       "display": null,
       "flex": null,
       "flex_flow": null,
       "grid_area": null,
       "grid_auto_columns": null,
       "grid_auto_flow": null,
       "grid_auto_rows": null,
       "grid_column": null,
       "grid_gap": null,
       "grid_row": null,
       "grid_template_areas": null,
       "grid_template_columns": null,
       "grid_template_rows": null,
       "height": null,
       "justify_content": null,
       "justify_items": null,
       "left": null,
       "margin": null,
       "max_height": null,
       "max_width": null,
       "min_height": null,
       "min_width": null,
       "object_fit": null,
       "object_position": null,
       "order": null,
       "overflow": null,
       "overflow_x": null,
       "overflow_y": null,
       "padding": null,
       "right": null,
       "top": null,
       "visibility": null,
       "width": null
      }
     },
     "a4b819af5af84d9c865f454e4aae2357": {
      "model_module": "@jupyter-widgets/controls",
      "model_module_version": "1.5.0",
      "model_name": "DescriptionStyleModel",
      "state": {
       "_model_module": "@jupyter-widgets/controls",
       "_model_module_version": "1.5.0",
       "_model_name": "DescriptionStyleModel",
       "_view_count": null,
       "_view_module": "@jupyter-widgets/base",
       "_view_module_version": "1.2.0",
       "_view_name": "StyleView",
       "description_width": ""
      }
     },
     "a7cebadc8aa5401ebb7ae8e060fe3e61": {
      "model_module": "@jupyter-widgets/controls",
      "model_module_version": "1.5.0",
      "model_name": "DescriptionStyleModel",
      "state": {
       "_model_module": "@jupyter-widgets/controls",
       "_model_module_version": "1.5.0",
       "_model_name": "DescriptionStyleModel",
       "_view_count": null,
       "_view_module": "@jupyter-widgets/base",
       "_view_module_version": "1.2.0",
       "_view_name": "StyleView",
       "description_width": ""
      }
     },
     "aa530f4ae1554b2d807b20d66f8fb18d": {
      "model_module": "@jupyter-widgets/controls",
      "model_module_version": "1.5.0",
      "model_name": "HBoxModel",
      "state": {
       "_dom_classes": [],
       "_model_module": "@jupyter-widgets/controls",
       "_model_module_version": "1.5.0",
       "_model_name": "HBoxModel",
       "_view_count": null,
       "_view_module": "@jupyter-widgets/controls",
       "_view_module_version": "1.5.0",
       "_view_name": "HBoxView",
       "box_style": "",
       "children": [
        "IPY_MODEL_bc51ca5cb2fa4a3692f64c527f13e4d7",
        "IPY_MODEL_fcf992ae5f8e44efa487dedc43124246",
        "IPY_MODEL_4245bf6d3f654dd48129cbf5899b9c5f"
       ],
       "layout": "IPY_MODEL_839fcb07cd9444908184d2da5d0c9119"
      }
     },
     "aa7a77411a464adeba0c2ad5c13b6b4f": {
      "model_module": "@jupyter-widgets/controls",
      "model_module_version": "1.5.0",
      "model_name": "DescriptionStyleModel",
      "state": {
       "_model_module": "@jupyter-widgets/controls",
       "_model_module_version": "1.5.0",
       "_model_name": "DescriptionStyleModel",
       "_view_count": null,
       "_view_module": "@jupyter-widgets/base",
       "_view_module_version": "1.2.0",
       "_view_name": "StyleView",
       "description_width": ""
      }
     },
     "bbb06d82cf4a41768dc86b8c126fd53f": {
      "model_module": "@jupyter-widgets/controls",
      "model_module_version": "1.5.0",
      "model_name": "HTMLModel",
      "state": {
       "_dom_classes": [],
       "_model_module": "@jupyter-widgets/controls",
       "_model_module_version": "1.5.0",
       "_model_name": "HTMLModel",
       "_view_count": null,
       "_view_module": "@jupyter-widgets/controls",
       "_view_module_version": "1.5.0",
       "_view_name": "HTMLView",
       "description": "",
       "description_tooltip": null,
       "layout": "IPY_MODEL_7e91656ee80b4b5cbe11947e7729f403",
       "placeholder": "​",
       "style": "IPY_MODEL_382e1df98ac54ad2b9e4e9ba8813c47e",
       "value": "#0: 100%"
      }
     },
     "bc3e658c12164c14a6289f9045e2f7c2": {
      "model_module": "@jupyter-widgets/base",
      "model_module_version": "1.2.0",
      "model_name": "LayoutModel",
      "state": {
       "_model_module": "@jupyter-widgets/base",
       "_model_module_version": "1.2.0",
       "_model_name": "LayoutModel",
       "_view_count": null,
       "_view_module": "@jupyter-widgets/base",
       "_view_module_version": "1.2.0",
       "_view_name": "LayoutView",
       "align_content": null,
       "align_items": null,
       "align_self": null,
       "border": null,
       "bottom": null,
       "display": null,
       "flex": null,
       "flex_flow": null,
       "grid_area": null,
       "grid_auto_columns": null,
       "grid_auto_flow": null,
       "grid_auto_rows": null,
       "grid_column": null,
       "grid_gap": null,
       "grid_row": null,
       "grid_template_areas": null,
       "grid_template_columns": null,
       "grid_template_rows": null,
       "height": null,
       "justify_content": null,
       "justify_items": null,
       "left": null,
       "margin": null,
       "max_height": null,
       "max_width": null,
       "min_height": null,
       "min_width": null,
       "object_fit": null,
       "object_position": null,
       "order": null,
       "overflow": null,
       "overflow_x": null,
       "overflow_y": null,
       "padding": null,
       "right": null,
       "top": null,
       "visibility": null,
       "width": null
      }
     },
     "bc51ca5cb2fa4a3692f64c527f13e4d7": {
      "model_module": "@jupyter-widgets/controls",
      "model_module_version": "1.5.0",
      "model_name": "HTMLModel",
      "state": {
       "_dom_classes": [],
       "_model_module": "@jupyter-widgets/controls",
       "_model_module_version": "1.5.0",
       "_model_name": "HTMLModel",
       "_view_count": null,
       "_view_module": "@jupyter-widgets/controls",
       "_view_module_version": "1.5.0",
       "_view_name": "HTMLView",
       "description": "",
       "description_tooltip": null,
       "layout": "IPY_MODEL_a4983ade84b74ccc8102df34326ae89a",
       "placeholder": "​",
       "style": "IPY_MODEL_a7cebadc8aa5401ebb7ae8e060fe3e61",
       "value": "#0: 100%"
      }
     },
     "c67401f0ce0e46f7b6d827edaf9e4e2c": {
      "model_module": "@jupyter-widgets/controls",
      "model_module_version": "1.5.0",
      "model_name": "HTMLModel",
      "state": {
       "_dom_classes": [],
       "_model_module": "@jupyter-widgets/controls",
       "_model_module_version": "1.5.0",
       "_model_name": "HTMLModel",
       "_view_count": null,
       "_view_module": "@jupyter-widgets/controls",
       "_view_module_version": "1.5.0",
       "_view_name": "HTMLView",
       "description": "",
       "description_tooltip": null,
       "layout": "IPY_MODEL_08be8b55708c46da8d6b190c1015c8ab",
       "placeholder": "​",
       "style": "IPY_MODEL_5f8a6d4f39764868a2d9a4d7eb0948da",
       "value": "#1: 100%"
      }
     },
     "c709edffda6f4b21b9ff6172de6b2362": {
      "model_module": "@jupyter-widgets/controls",
      "model_module_version": "1.5.0",
      "model_name": "HBoxModel",
      "state": {
       "_dom_classes": [],
       "_model_module": "@jupyter-widgets/controls",
       "_model_module_version": "1.5.0",
       "_model_name": "HBoxModel",
       "_view_count": null,
       "_view_module": "@jupyter-widgets/controls",
       "_view_module_version": "1.5.0",
       "_view_name": "HBoxView",
       "box_style": "",
       "children": [
        "IPY_MODEL_c67401f0ce0e46f7b6d827edaf9e4e2c",
        "IPY_MODEL_3d7510c7b3c84140806d58c1482b3487",
        "IPY_MODEL_2891456e26aa4fce8868df2cec03b08d"
       ],
       "layout": "IPY_MODEL_4fb311a6df6e4acfa46b6b3820e35346"
      }
     },
     "cd4fcf955b3a46f6b884aa0bdbceec95": {
      "model_module": "@jupyter-widgets/controls",
      "model_module_version": "1.5.0",
      "model_name": "ProgressStyleModel",
      "state": {
       "_model_module": "@jupyter-widgets/controls",
       "_model_module_version": "1.5.0",
       "_model_name": "ProgressStyleModel",
       "_view_count": null,
       "_view_module": "@jupyter-widgets/base",
       "_view_module_version": "1.2.0",
       "_view_name": "StyleView",
       "bar_color": null,
       "description_width": ""
      }
     },
     "d25996e42acc42d5aa3fbfdc9f13a56a": {
      "model_module": "@jupyter-widgets/controls",
      "model_module_version": "1.5.0",
      "model_name": "HTMLModel",
      "state": {
       "_dom_classes": [],
       "_model_module": "@jupyter-widgets/controls",
       "_model_module_version": "1.5.0",
       "_model_name": "HTMLModel",
       "_view_count": null,
       "_view_module": "@jupyter-widgets/controls",
       "_view_module_version": "1.5.0",
       "_view_name": "HTMLView",
       "description": "",
       "description_tooltip": null,
       "layout": "IPY_MODEL_0ae8a511a6c74b4dab5eb555de7a0a65",
       "placeholder": "​",
       "style": "IPY_MODEL_2d6d1451332847ab86166c1d912e8744",
       "value": "#1: 100%"
      }
     },
     "d335b0f3f751482f9d9996e772e8f21e": {
      "model_module": "@jupyter-widgets/controls",
      "model_module_version": "1.5.0",
      "model_name": "DescriptionStyleModel",
      "state": {
       "_model_module": "@jupyter-widgets/controls",
       "_model_module_version": "1.5.0",
       "_model_name": "DescriptionStyleModel",
       "_view_count": null,
       "_view_module": "@jupyter-widgets/base",
       "_view_module_version": "1.2.0",
       "_view_name": "StyleView",
       "description_width": ""
      }
     },
     "f16a126bba534acc9290edbe1cafa099": {
      "model_module": "@jupyter-widgets/controls",
      "model_module_version": "1.5.0",
      "model_name": "ProgressStyleModel",
      "state": {
       "_model_module": "@jupyter-widgets/controls",
       "_model_module_version": "1.5.0",
       "_model_name": "ProgressStyleModel",
       "_view_count": null,
       "_view_module": "@jupyter-widgets/base",
       "_view_module_version": "1.2.0",
       "_view_name": "StyleView",
       "bar_color": null,
       "description_width": ""
      }
     },
     "f2b85b8cfc0b42d39f8df465a20e936f": {
      "model_module": "@jupyter-widgets/controls",
      "model_module_version": "1.5.0",
      "model_name": "FloatProgressModel",
      "state": {
       "_dom_classes": [],
       "_model_module": "@jupyter-widgets/controls",
       "_model_module_version": "1.5.0",
       "_model_name": "FloatProgressModel",
       "_view_count": null,
       "_view_module": "@jupyter-widgets/controls",
       "_view_module_version": "1.5.0",
       "_view_name": "ProgressView",
       "bar_style": "success",
       "description": "",
       "description_tooltip": null,
       "layout": "IPY_MODEL_5e67107fda5144388a616f90f78daeaf",
       "max": 5.0,
       "min": 0.0,
       "orientation": "horizontal",
       "style": "IPY_MODEL_cd4fcf955b3a46f6b884aa0bdbceec95",
       "value": 5.0
      }
     },
     "f2c8c2c346d64f1eadc0dd21166eb037": {
      "model_module": "@jupyter-widgets/controls",
      "model_module_version": "1.5.0",
      "model_name": "HTMLModel",
      "state": {
       "_dom_classes": [],
       "_model_module": "@jupyter-widgets/controls",
       "_model_module_version": "1.5.0",
       "_model_name": "HTMLModel",
       "_view_count": null,
       "_view_module": "@jupyter-widgets/controls",
       "_view_module_version": "1.5.0",
       "_view_name": "HTMLView",
       "description": "",
       "description_tooltip": null,
       "layout": "IPY_MODEL_f8d04a16ca734905965f2f2eb551fddb",
       "placeholder": "​",
       "style": "IPY_MODEL_6bdc0118802b4e6d96ad2acbbf40620e",
       "value": " 5/5 [00:00&lt;00:00, 75.57ex/s]"
      }
     },
     "f8d04a16ca734905965f2f2eb551fddb": {
      "model_module": "@jupyter-widgets/base",
      "model_module_version": "1.2.0",
      "model_name": "LayoutModel",
      "state": {
       "_model_module": "@jupyter-widgets/base",
       "_model_module_version": "1.2.0",
       "_model_name": "LayoutModel",
       "_view_count": null,
       "_view_module": "@jupyter-widgets/base",
       "_view_module_version": "1.2.0",
       "_view_name": "LayoutView",
       "align_content": null,
       "align_items": null,
       "align_self": null,
       "border": null,
       "bottom": null,
       "display": null,
       "flex": null,
       "flex_flow": null,
       "grid_area": null,
       "grid_auto_columns": null,
       "grid_auto_flow": null,
       "grid_auto_rows": null,
       "grid_column": null,
       "grid_gap": null,
       "grid_row": null,
       "grid_template_areas": null,
       "grid_template_columns": null,
       "grid_template_rows": null,
       "height": null,
       "justify_content": null,
       "justify_items": null,
       "left": null,
       "margin": null,
       "max_height": null,
       "max_width": null,
       "min_height": null,
       "min_width": null,
       "object_fit": null,
       "object_position": null,
       "order": null,
       "overflow": null,
       "overflow_x": null,
       "overflow_y": null,
       "padding": null,
       "right": null,
       "top": null,
       "visibility": null,
       "width": null
      }
     },
     "fb081e53a8fa418cb692b5279d225501": {
      "model_module": "@jupyter-widgets/controls",
      "model_module_version": "1.5.0",
      "model_name": "HBoxModel",
      "state": {
       "_dom_classes": [],
       "_model_module": "@jupyter-widgets/controls",
       "_model_module_version": "1.5.0",
       "_model_name": "HBoxModel",
       "_view_count": null,
       "_view_module": "@jupyter-widgets/controls",
       "_view_module_version": "1.5.0",
       "_view_name": "HBoxView",
       "box_style": "",
       "children": [
        "IPY_MODEL_bbb06d82cf4a41768dc86b8c126fd53f",
        "IPY_MODEL_5ab3ef5630a74911b246374de26c4161",
        "IPY_MODEL_4edded341c784f87bce581a537c14a9d"
       ],
       "layout": "IPY_MODEL_181a6915a16d4e2eafc557c2aa90fa45"
      }
     },
     "fcf992ae5f8e44efa487dedc43124246": {
      "model_module": "@jupyter-widgets/controls",
      "model_module_version": "1.5.0",
      "model_name": "FloatProgressModel",
      "state": {
       "_dom_classes": [],
       "_model_module": "@jupyter-widgets/controls",
       "_model_module_version": "1.5.0",
       "_model_name": "FloatProgressModel",
       "_view_count": null,
       "_view_module": "@jupyter-widgets/controls",
       "_view_module_version": "1.5.0",
       "_view_name": "ProgressView",
       "bar_style": "success",
       "description": "",
       "description_tooltip": null,
       "layout": "IPY_MODEL_0507fae63d5e46a6828d7e92edacb753",
       "max": 344.0,
       "min": 0.0,
       "orientation": "horizontal",
       "style": "IPY_MODEL_f16a126bba534acc9290edbe1cafa099",
       "value": 344.0
      }
     },
     "fedcedb02cb94e199b07a5538022177e": {
      "model_module": "@jupyter-widgets/base",
      "model_module_version": "1.2.0",
      "model_name": "LayoutModel",
      "state": {
       "_model_module": "@jupyter-widgets/base",
       "_model_module_version": "1.2.0",
       "_model_name": "LayoutModel",
       "_view_count": null,
       "_view_module": "@jupyter-widgets/base",
       "_view_module_version": "1.2.0",
       "_view_name": "LayoutView",
       "align_content": null,
       "align_items": null,
       "align_self": null,
       "border": null,
       "bottom": null,
       "display": null,
       "flex": null,
       "flex_flow": null,
       "grid_area": null,
       "grid_auto_columns": null,
       "grid_auto_flow": null,
       "grid_auto_rows": null,
       "grid_column": null,
       "grid_gap": null,
       "grid_row": null,
       "grid_template_areas": null,
       "grid_template_columns": null,
       "grid_template_rows": null,
       "height": null,
       "justify_content": null,
       "justify_items": null,
       "left": null,
       "margin": null,
       "max_height": null,
       "max_width": null,
       "min_height": null,
       "min_width": null,
       "object_fit": null,
       "object_position": null,
       "order": null,
       "overflow": null,
       "overflow_x": null,
       "overflow_y": null,
       "padding": null,
       "right": null,
       "top": null,
       "visibility": null,
       "width": null
      }
     }
    },
    "version_major": 2,
    "version_minor": 0
   }
  }
 },
 "nbformat": 4,
 "nbformat_minor": 5
}
