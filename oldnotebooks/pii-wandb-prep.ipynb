{
 "cells": [
  {
   "cell_type": "markdown",
   "id": "04ad5765",
   "metadata": {
    "papermill": {
     "duration": 0.007389,
     "end_time": "2024-04-21T22:43:22.696670",
     "exception": false,
     "start_time": "2024-04-21T22:43:22.689281",
     "status": "completed"
    },
    "tags": []
   },
   "source": [
    "# PII Data Prep with W and B\n",
    "\n",
    "## Reference\n",
    "https://www.kaggle.com/code/thedrcat/pii-data-preparation-cv-stride-viz-and-w-b#Share-your-findings"
   ]
  },
  {
   "cell_type": "markdown",
   "id": "d9cca86f",
   "metadata": {
    "papermill": {
     "duration": 0.006446,
     "end_time": "2024-04-21T22:43:22.709929",
     "exception": false,
     "start_time": "2024-04-21T22:43:22.703483",
     "status": "completed"
    },
    "tags": []
   },
   "source": [
    "# Config and Import"
   ]
  },
  {
   "cell_type": "code",
   "execution_count": 1,
   "id": "1a93a380",
   "metadata": {
    "execution": {
     "iopub.execute_input": "2024-04-21T22:43:22.725499Z",
     "iopub.status.busy": "2024-04-21T22:43:22.725127Z",
     "iopub.status.idle": "2024-04-21T22:43:35.306232Z",
     "shell.execute_reply": "2024-04-21T22:43:35.304588Z"
    },
    "papermill": {
     "duration": 12.592047,
     "end_time": "2024-04-21T22:43:35.308671",
     "exception": false,
     "start_time": "2024-04-21T22:43:22.716624",
     "status": "completed"
    },
    "tags": []
   },
   "outputs": [],
   "source": [
    "!pip install wandb -q"
   ]
  },
  {
   "cell_type": "code",
   "execution_count": 2,
   "id": "9f8fc327",
   "metadata": {
    "_cell_guid": "b1076dfc-b9ad-4769-8c92-a6c4dae69d19",
    "_uuid": "8f2839f25d086af736a60e9eeb907d3b93b6e0e5",
    "execution": {
     "iopub.execute_input": "2024-04-21T22:43:35.324046Z",
     "iopub.status.busy": "2024-04-21T22:43:35.323685Z",
     "iopub.status.idle": "2024-04-21T22:43:36.333887Z",
     "shell.execute_reply": "2024-04-21T22:43:36.332937Z"
    },
    "papermill": {
     "duration": 1.02266,
     "end_time": "2024-04-21T22:43:36.338165",
     "exception": false,
     "start_time": "2024-04-21T22:43:35.315505",
     "status": "completed"
    },
    "tags": []
   },
   "outputs": [],
   "source": [
    "from pathlib import Path\n",
    "import os\n",
    "\n",
    "import json\n",
    "import itertools\n",
    "import numpy as np\n",
    "import pandas as pd\n",
    "import matplotlib.pyplot as plt\n",
    "\n",
    "import warnings"
   ]
  },
  {
   "cell_type": "code",
   "execution_count": 3,
   "id": "db9eb585",
   "metadata": {
    "execution": {
     "iopub.execute_input": "2024-04-21T22:43:36.357066Z",
     "iopub.status.busy": "2024-04-21T22:43:36.356574Z",
     "iopub.status.idle": "2024-04-21T22:43:36.361467Z",
     "shell.execute_reply": "2024-04-21T22:43:36.360250Z"
    },
    "papermill": {
     "duration": 0.016186,
     "end_time": "2024-04-21T22:43:36.363832",
     "exception": false,
     "start_time": "2024-04-21T22:43:36.347646",
     "status": "completed"
    },
    "tags": []
   },
   "outputs": [],
   "source": [
    "DATA_PATH = '../input/pii-detection-removal-from-educational-data'\n",
    "OUTPUT_DIR = '/kaggle/working/'"
   ]
  },
  {
   "cell_type": "markdown",
   "id": "c1e1e2ef",
   "metadata": {
    "papermill": {
     "duration": 0.007096,
     "end_time": "2024-04-21T22:43:36.378513",
     "exception": false,
     "start_time": "2024-04-21T22:43:36.371417",
     "status": "completed"
    },
    "tags": []
   },
   "source": [
    "# Helper functions"
   ]
  },
  {
   "cell_type": "code",
   "execution_count": 4,
   "id": "28a73e9b",
   "metadata": {
    "execution": {
     "iopub.execute_input": "2024-04-21T22:43:36.395456Z",
     "iopub.status.busy": "2024-04-21T22:43:36.395038Z",
     "iopub.status.idle": "2024-04-21T22:43:36.402177Z",
     "shell.execute_reply": "2024-04-21T22:43:36.401183Z"
    },
    "papermill": {
     "duration": 0.018093,
     "end_time": "2024-04-21T22:43:36.404575",
     "exception": false,
     "start_time": "2024-04-21T22:43:36.386482",
     "status": "completed"
    },
    "tags": []
   },
   "outputs": [],
   "source": [
    "#split data into training and validation set\n",
    "def PIId2_split_by_sampling(df, test_ratio):\n",
    "    \"\"\"Split PII data into training and test set. \n",
    "\n",
    "    Args:\n",
    "        df (pd.DataFrame): The input DataFrame.\n",
    "        test_ratio (float, default=0.2): \n",
    "            The proportion of the dataset to include in the test split.\n",
    "\n",
    "    Returns:\n",
    "        train_df, test_df: Training and test splits of the input DataFrame.\n",
    "    \"\"\"\n",
    "    # Get the number of rows in the DataFrame\n",
    "    num_rows = len(df)\n",
    "    \n",
    "    # Get the split index\n",
    "    split_idx = int(num_rows * test_ratio)\n",
    "    \n",
    "    # Shuffle the DataFrame rows\n",
    "    df_shuffled = df.sample(frac=1, random_state=42)\n",
    "    \n",
    "    # Split the DataFrame into train and test\n",
    "    train_df = df_shuffled.iloc[split_idx:]\n",
    "    test_df = df_shuffled.iloc[:split_idx]\n",
    "    \n",
    "#     #TEMP to test\n",
    "#     # Add a new column 'valid' with boolean values - need to modify the move missing if want to keep\n",
    "#     train_df['valid'] = False\n",
    "#     test_df['valid'] = True\n",
    "    \n",
    "    return train_df, test_df"
   ]
  },
  {
   "cell_type": "code",
   "execution_count": 5,
   "id": "ba24b485",
   "metadata": {
    "execution": {
     "iopub.execute_input": "2024-04-21T22:43:36.420271Z",
     "iopub.status.busy": "2024-04-21T22:43:36.419890Z",
     "iopub.status.idle": "2024-04-21T22:43:36.427509Z",
     "shell.execute_reply": "2024-04-21T22:43:36.426388Z"
    },
    "papermill": {
     "duration": 0.018182,
     "end_time": "2024-04-21T22:43:36.429992",
     "exception": false,
     "start_time": "2024-04-21T22:43:36.411810",
     "status": "completed"
    },
    "tags": []
   },
   "outputs": [],
   "source": [
    "def move_missing_labels(to_df, from_df):\n",
    "    \"\"\"\n",
    "    Move documents containing missing labels from the extra DataFrame to the desired DataFrame.\n",
    "\n",
    "    Parameters:\n",
    "    - to_df (DataFrame): DataFrame where the documents should be moved to.\n",
    "    - from_df (DataFrame): DataFrame where the documents should be moved from.\n",
    "\n",
    "    Returns:\n",
    "    - desired_df, extra_df: Updated DataFrames.\n",
    "    \"\"\"\n",
    "    # Find the labels that are missing from the to_df DataFrame\n",
    "    missing_labels = set(from_df['labels'].explode().unique()) - set(to_df['labels'].explode().unique())\n",
    "\n",
    "    # For each missing label, move a document from the extra DataFrame to the desired DataFrame\n",
    "    for label in missing_labels:\n",
    "        if label in from_df['labels'].explode().unique():\n",
    "            document = from_df[from_df['labels'].apply(lambda x: label in x)].sample(n=1)\n",
    "            to_df = pd.concat([to_df, document])\n",
    "            from_df = from_df.drop(document.index)\n",
    "\n",
    "    return to_df, from_df"
   ]
  },
  {
   "cell_type": "code",
   "execution_count": 6,
   "id": "eb2a71ed",
   "metadata": {
    "execution": {
     "iopub.execute_input": "2024-04-21T22:43:36.448943Z",
     "iopub.status.busy": "2024-04-21T22:43:36.448546Z",
     "iopub.status.idle": "2024-04-21T22:43:36.455448Z",
     "shell.execute_reply": "2024-04-21T22:43:36.454206Z"
    },
    "papermill": {
     "duration": 0.018755,
     "end_time": "2024-04-21T22:43:36.458049",
     "exception": false,
     "start_time": "2024-04-21T22:43:36.439294",
     "status": "completed"
    },
    "tags": []
   },
   "outputs": [],
   "source": [
    "from collections import Counter\n",
    "from itertools import chain\n",
    "\n",
    "def analyze_labels(df):\n",
    "    \"\"\"\n",
    "    Analyze the distribution of labels in a DataFrame.\n",
    "\n",
    "    Parameters:\n",
    "    - df (DataFrame): DataFrame with a 'labels' column that contains lists of labels.\n",
    "\n",
    "    Returns:\n",
    "    - None\n",
    "    \"\"\"\n",
    "    df.info()\n",
    "    # Count the number of documents that contain each label\n",
    "    label_counts = df['labels'].apply(set).explode().value_counts()\n",
    "\n",
    "    # Count the total number of documents\n",
    "    total_count = len(df)\n",
    "\n",
    "    # Count the number of documents that contain entities (i.e., labels other than 'O')\n",
    "    entity_count = total_count - label_counts['O']\n",
    "\n",
    "    print(f'total documents {total_count} \\n documents with entities {entity_count}')\n",
    "\n",
    "    # Print the counts\n",
    "    for label, count in label_counts.items():\n",
    "        print(f'{label}: {count} documents')"
   ]
  },
  {
   "cell_type": "markdown",
   "id": "ad1c0e40",
   "metadata": {
    "papermill": {
     "duration": 0.00658,
     "end_time": "2024-04-21T22:43:36.471625",
     "exception": false,
     "start_time": "2024-04-21T22:43:36.465045",
     "status": "completed"
    },
    "tags": []
   },
   "source": [
    "# Validation set and Miniset"
   ]
  },
  {
   "cell_type": "code",
   "execution_count": 7,
   "id": "fd030b47",
   "metadata": {
    "execution": {
     "iopub.execute_input": "2024-04-21T22:43:36.488149Z",
     "iopub.status.busy": "2024-04-21T22:43:36.487731Z",
     "iopub.status.idle": "2024-04-21T22:43:38.339005Z",
     "shell.execute_reply": "2024-04-21T22:43:38.337251Z"
    },
    "papermill": {
     "duration": 1.862275,
     "end_time": "2024-04-21T22:43:38.341331",
     "exception": false,
     "start_time": "2024-04-21T22:43:36.479056",
     "status": "completed"
    },
    "tags": []
   },
   "outputs": [],
   "source": [
    "comp_train= json.load(open(DATA_PATH +'/train.json'))\n",
    "\n",
    "#Convert to df for EDA\n",
    "base_df= pd.DataFrame(comp_train)"
   ]
  },
  {
   "cell_type": "code",
   "execution_count": 8,
   "id": "817d188e",
   "metadata": {
    "execution": {
     "iopub.execute_input": "2024-04-21T22:43:38.357846Z",
     "iopub.status.busy": "2024-04-21T22:43:38.357357Z",
     "iopub.status.idle": "2024-04-21T22:43:38.544049Z",
     "shell.execute_reply": "2024-04-21T22:43:38.543158Z"
    },
    "papermill": {
     "duration": 0.197281,
     "end_time": "2024-04-21T22:43:38.546277",
     "exception": false,
     "start_time": "2024-04-21T22:43:38.348996",
     "status": "completed"
    },
    "tags": []
   },
   "outputs": [],
   "source": [
    "#TODO see if can remove since only needed for stride, \n",
    "#note if remove adjust create_dataset in https://www.kaggle.com/code/jonathankasprisin/pii-wandb-training/edit\n",
    "def add_token_indices(doc_tokens):\n",
    "    token_indices = list(range(len(doc_tokens)))\n",
    "    return token_indices\n",
    "\n",
    "base_df['token_indices'] = base_df['tokens'].apply(add_token_indices)"
   ]
  },
  {
   "cell_type": "code",
   "execution_count": null,
   "id": "004f948b",
   "metadata": {
    "papermill": {
     "duration": 0.007312,
     "end_time": "2024-04-21T22:43:38.560622",
     "exception": false,
     "start_time": "2024-04-21T22:43:38.553310",
     "status": "completed"
    },
    "tags": []
   },
   "outputs": [],
   "source": []
  },
  {
   "cell_type": "code",
   "execution_count": 9,
   "id": "ce956367",
   "metadata": {
    "execution": {
     "iopub.execute_input": "2024-04-21T22:43:38.576244Z",
     "iopub.status.busy": "2024-04-21T22:43:38.575892Z",
     "iopub.status.idle": "2024-04-21T22:43:42.243212Z",
     "shell.execute_reply": "2024-04-21T22:43:42.241770Z"
    },
    "papermill": {
     "duration": 3.677795,
     "end_time": "2024-04-21T22:43:42.245551",
     "exception": false,
     "start_time": "2024-04-21T22:43:38.567756",
     "status": "completed"
    },
    "tags": []
   },
   "outputs": [],
   "source": [
    "train_df, val_df = PIId2_split_by_sampling(base_df, .1)\n",
    "train_df_overlap = train_df\n",
    "\n",
    "val_df, train_df = move_missing_labels(val_df, train_df)"
   ]
  },
  {
   "cell_type": "code",
   "execution_count": 10,
   "id": "9cb6519f",
   "metadata": {
    "execution": {
     "iopub.execute_input": "2024-04-21T22:43:42.262355Z",
     "iopub.status.busy": "2024-04-21T22:43:42.261923Z",
     "iopub.status.idle": "2024-04-21T22:43:44.733117Z",
     "shell.execute_reply": "2024-04-21T22:43:44.731229Z"
    },
    "papermill": {
     "duration": 2.483239,
     "end_time": "2024-04-21T22:43:44.735996",
     "exception": false,
     "start_time": "2024-04-21T22:43:42.252757",
     "status": "completed"
    },
    "tags": []
   },
   "outputs": [
    {
     "name": "stdout",
     "output_type": "stream",
     "text": [
      "size of base:  6807\n",
      "size of val_df:  688\n"
     ]
    }
   ],
   "source": [
    "# Save the DataFrame to a JSON file \n",
    "val_df.to_json(OUTPUT_DIR + \"/val.json\", orient=\"records\")\n",
    "train_df.to_json(OUTPUT_DIR + \"/train_df_fromval.json\", orient=\"records\")\n",
    "train_df_overlap.to_json(OUTPUT_DIR + \"/train_df_overlap_fromval.json\", orient=\"records\")\n",
    "\n",
    "print(\"size of base: \", len(base_df))\n",
    "print(\"size of val_df: \", len(val_df))"
   ]
  },
  {
   "cell_type": "code",
   "execution_count": 11,
   "id": "d71d3644",
   "metadata": {
    "execution": {
     "iopub.execute_input": "2024-04-21T22:43:44.752396Z",
     "iopub.status.busy": "2024-04-21T22:43:44.751919Z",
     "iopub.status.idle": "2024-04-21T22:43:47.224318Z",
     "shell.execute_reply": "2024-04-21T22:43:47.223093Z"
    },
    "papermill": {
     "duration": 2.483698,
     "end_time": "2024-04-21T22:43:47.227089",
     "exception": false,
     "start_time": "2024-04-21T22:43:44.743391",
     "status": "completed"
    },
    "tags": []
   },
   "outputs": [
    {
     "name": "stdout",
     "output_type": "stream",
     "text": [
      "size of base:  6807\n",
      "size of mini_overlap:  3066\n",
      "size of mini_no_overlap:  3061\n"
     ]
    }
   ],
   "source": [
    "mini_overlap, overlap_extra = PIId2_split_by_sampling(train_df_overlap, .5)\n",
    "mini_no_overlap, no_overlap_extra= PIId2_split_by_sampling(train_df, .5)\n",
    "\n",
    "\n",
    "mini_overlap, overlap_extra = move_missing_labels(mini_overlap, overlap_extra)\n",
    "mini_no_overlap, no_overlap_extra= move_missing_labels(mini_no_overlap, no_overlap_extra)\n",
    "\n",
    "# Save the DataFrame to a JSON file \n",
    "mini_overlap.to_json(OUTPUT_DIR + \"/mini_overlap.json\", orient=\"records\")\n",
    "mini_no_overlap.to_json(OUTPUT_DIR + \"/mini_no_overlap.json\", orient=\"records\")\n",
    "\n",
    "print(\"size of base: \", len(base_df))\n",
    "print(\"size of mini_overlap: \", len(mini_overlap))\n",
    "print(\"size of mini_no_overlap: \", len(mini_no_overlap))"
   ]
  },
  {
   "cell_type": "code",
   "execution_count": 12,
   "id": "26b8be8e",
   "metadata": {
    "execution": {
     "iopub.execute_input": "2024-04-21T22:43:47.242752Z",
     "iopub.status.busy": "2024-04-21T22:43:47.242369Z",
     "iopub.status.idle": "2024-04-21T22:43:47.276713Z",
     "shell.execute_reply": "2024-04-21T22:43:47.275328Z"
    },
    "papermill": {
     "duration": 0.044589,
     "end_time": "2024-04-21T22:43:47.278839",
     "exception": false,
     "start_time": "2024-04-21T22:43:47.234250",
     "status": "completed"
    },
    "tags": []
   },
   "outputs": [
    {
     "name": "stdout",
     "output_type": "stream",
     "text": [
      "<class 'pandas.core.frame.DataFrame'>\n",
      "Index: 688 entries, 4624 to 1887\n",
      "Data columns (total 6 columns):\n",
      " #   Column               Non-Null Count  Dtype \n",
      "---  ------               --------------  ----- \n",
      " 0   document             688 non-null    int64 \n",
      " 1   full_text            688 non-null    object\n",
      " 2   tokens               688 non-null    object\n",
      " 3   trailing_whitespace  688 non-null    object\n",
      " 4   labels               688 non-null    object\n",
      " 5   token_indices        688 non-null    object\n",
      "dtypes: int64(1), object(5)\n",
      "memory usage: 53.8+ KB\n",
      "total documents 688 \n",
      " documents with entities 0\n",
      "O: 688 documents\n",
      "B-NAME_STUDENT: 99 documents\n",
      "I-NAME_STUDENT: 93 documents\n",
      "B-URL_PERSONAL: 12 documents\n",
      "B-PHONE_NUM: 3 documents\n",
      "B-EMAIL: 3 documents\n",
      "B-ID_NUM: 2 documents\n",
      "I-PHONE_NUM: 2 documents\n",
      "I-STREET_ADDRESS: 2 documents\n",
      "B-STREET_ADDRESS: 2 documents\n",
      "B-USERNAME: 1 documents\n",
      "I-URL_PERSONAL: 1 documents\n",
      "I-ID_NUM: 1 documents\n"
     ]
    }
   ],
   "source": [
    "analyze_labels(val_df)"
   ]
  },
  {
   "cell_type": "markdown",
   "id": "24feac24",
   "metadata": {
    "papermill": {
     "duration": 0.007605,
     "end_time": "2024-04-21T22:43:47.294064",
     "exception": false,
     "start_time": "2024-04-21T22:43:47.286459",
     "status": "completed"
    },
    "tags": []
   },
   "source": [
    "# Val2\n",
    "- val set with with custom split"
   ]
  },
  {
   "cell_type": "code",
   "execution_count": 13,
   "id": "99f32665",
   "metadata": {
    "execution": {
     "iopub.execute_input": "2024-04-21T22:43:47.310217Z",
     "iopub.status.busy": "2024-04-21T22:43:47.309841Z",
     "iopub.status.idle": "2024-04-21T22:43:47.318158Z",
     "shell.execute_reply": "2024-04-21T22:43:47.317308Z"
    },
    "papermill": {
     "duration": 0.018651,
     "end_time": "2024-04-21T22:43:47.319940",
     "exception": false,
     "start_time": "2024-04-21T22:43:47.301289",
     "status": "completed"
    },
    "tags": []
   },
   "outputs": [],
   "source": [
    "def move_rare_labels(to_df, from_df):\n",
    "    \"\"\"\n",
    "    Move documents containing missing labels from the extra DataFrame to the desired DataFrame.\n",
    "\n",
    "    Parameters:\n",
    "    - to_df (DataFrame): DataFrame where the documents should be moved to.\n",
    "    - from_df (DataFrame): DataFrame where the documents should be moved from.\n",
    "\n",
    "    Returns:\n",
    "    - desired_df, extra_df: Updated DataFrames.\n",
    "    \"\"\"\n",
    "    # Find the labels that are missing from the to_df DataFrame\n",
    "    labels = set(from_df['labels'].explode().unique())\n",
    "\n",
    "    # For each missing label, move documents from the extra DataFrame to the desired DataFrame\n",
    "    for label in missing_labels:\n",
    "        if label in from_df['labels'].explode().unique():\n",
    "            # Get all documents with the current label\n",
    "            documents = from_df[from_df['labels'].apply(lambda x: label in x)]\n",
    "            \n",
    "            # If there are less than 5 documents with the current label in to_df, move documents from from_df to to_df\n",
    "            if len(to_df[to_df['labels'].apply(lambda x: label in x)]) < 5:\n",
    "                # Calculate how many documents need to be moved\n",
    "                num_docs_to_move = 5 - len(to_df[to_df['labels'].apply(lambda x: label in x)])\n",
    "                \n",
    "                # If there are enough documents in from_df, move the required number of documents\n",
    "                if len(documents) >= num_docs_to_move:\n",
    "                    documents_to_move = documents.sample(n=num_docs_to_move)\n",
    "                    to_df = pd.concat([to_df, documents_to_move])\n",
    "                    from_df = from_df.drop(documents_to_move.index)\n",
    "                # If there are not enough documents in from_df, move all available documents\n",
    "                else:\n",
    "                    to_df = pd.concat([to_df, documents])\n",
    "                    from_df = from_df.drop(documents.index)\n",
    "\n",
    "    return to_df, from_df"
   ]
  },
  {
   "cell_type": "code",
   "execution_count": 14,
   "id": "6666f090",
   "metadata": {
    "execution": {
     "iopub.execute_input": "2024-04-21T22:43:47.336215Z",
     "iopub.status.busy": "2024-04-21T22:43:47.335827Z",
     "iopub.status.idle": "2024-04-21T22:43:49.119608Z",
     "shell.execute_reply": "2024-04-21T22:43:49.118460Z"
    },
    "papermill": {
     "duration": 1.794687,
     "end_time": "2024-04-21T22:43:49.121731",
     "exception": false,
     "start_time": "2024-04-21T22:43:47.327044",
     "status": "completed"
    },
    "tags": []
   },
   "outputs": [
    {
     "name": "stdout",
     "output_type": "stream",
     "text": [
      "<class 'pandas.core.frame.DataFrame'>\n",
      "Index: 3403 entries, 4624 to 6149\n",
      "Data columns (total 6 columns):\n",
      " #   Column               Non-Null Count  Dtype \n",
      "---  ------               --------------  ----- \n",
      " 0   document             3403 non-null   int64 \n",
      " 1   full_text            3403 non-null   object\n",
      " 2   tokens               3403 non-null   object\n",
      " 3   trailing_whitespace  3403 non-null   object\n",
      " 4   labels               3403 non-null   object\n",
      " 5   token_indices        3403 non-null   object\n",
      "dtypes: int64(1), object(5)\n",
      "memory usage: 186.1+ KB\n",
      "total documents 3403 \n",
      " documents with entities 0\n",
      "O: 3403 documents\n",
      "B-NAME_STUDENT: 453 documents\n",
      "I-NAME_STUDENT: 413 documents\n",
      "B-URL_PERSONAL: 47 documents\n",
      "B-ID_NUM: 19 documents\n",
      "B-EMAIL: 13 documents\n",
      "B-PHONE_NUM: 4 documents\n",
      "I-PHONE_NUM: 3 documents\n",
      "B-USERNAME: 3 documents\n",
      "I-STREET_ADDRESS: 1 documents\n",
      "B-STREET_ADDRESS: 1 documents\n",
      "I-URL_PERSONAL: 1 documents\n",
      "I-ID_NUM: 1 documents\n"
     ]
    }
   ],
   "source": [
    "train2_df, val2_df = PIId2_split_by_sampling(base_df, .5)\n",
    "\n",
    "val2_df, train2_df = move_missing_labels(val2_df, train2_df)\n",
    "analyze_labels(val2_df)\n",
    "\n",
    "# Save the DataFrame to a JSON file \n",
    "val2_df.to_json(OUTPUT_DIR + \"/val2.json\", orient=\"records\")\n",
    "train2_df.to_json(OUTPUT_DIR + \"/train2_fromval.json\", orient=\"records\")"
   ]
  },
  {
   "cell_type": "markdown",
   "id": "ebe7c003",
   "metadata": {
    "papermill": {
     "duration": 0.006757,
     "end_time": "2024-04-21T22:43:49.135746",
     "exception": false,
     "start_time": "2024-04-21T22:43:49.128989",
     "status": "completed"
    },
    "tags": []
   },
   "source": [
    "# More data\n",
    "https://www.kaggle.com/code/valentinwerner/fix-punctuation-tokenization-external-dataset/output\n",
    "\n",
    "valentinwerner fix of \n",
    "https://www.kaggle.com/datasets/alejopaullier/pii-external-dataset/data?select=pii_dataset.csv\n",
    "https://www.kaggle.com/datasets/pjmathematician/pii-detection-dataset-gpt\n",
    "\n",
    "thoughts- https://www.kaggle.com/competitions/pii-detection-removal-from-educational-data/discussion/472560"
   ]
  },
  {
   "cell_type": "code",
   "execution_count": 15,
   "id": "46242974",
   "metadata": {
    "execution": {
     "iopub.execute_input": "2024-04-21T22:43:49.151875Z",
     "iopub.status.busy": "2024-04-21T22:43:49.151534Z",
     "iopub.status.idle": "2024-04-21T22:43:50.352688Z",
     "shell.execute_reply": "2024-04-21T22:43:50.351353Z"
    },
    "papermill": {
     "duration": 1.212743,
     "end_time": "2024-04-21T22:43:50.355699",
     "exception": false,
     "start_time": "2024-04-21T22:43:49.142956",
     "status": "completed"
    },
    "tags": []
   },
   "outputs": [],
   "source": [
    "train_df\n",
    "\n",
    "#TODO make into pipeline/function\n",
    "moredata_dataset_fixed= json.load(open('/kaggle/input/fix-punctuation-tokenization-external-dataset/moredata_dataset_fixed.json'))\n",
    "pii_dataset_fixed= json.load(open('/kaggle/input/fix-punctuation-tokenization-external-dataset/pii_dataset_fixed.json'))\n",
    "\n",
    "# Convert to df for EDA\n",
    "moredata_dataset_fixed_df = pd.DataFrame(moredata_dataset_fixed)\n",
    "pii_dataset_fixed_df = pd.DataFrame(pii_dataset_fixed)\n",
    "\n",
    "# Convert and standardize documents and add indices\n",
    "ext_dfs = [moredata_dataset_fixed_df, pii_dataset_fixed_df]\n",
    "ext_doc_numbering_seed = [100000 * (i + 1) for i in range(len(ext_dfs))]\n",
    "for df, seed in zip(ext_dfs, ext_doc_numbering_seed):\n",
    "    # Add token indices\n",
    "    df['token_indices'] = df['tokens'].apply(add_token_indices)\n",
    "    # Convert documents to int\n",
    "    df['document'] = range(seed, seed + len(df['document']))"
   ]
  },
  {
   "cell_type": "code",
   "execution_count": 16,
   "id": "af503364",
   "metadata": {
    "execution": {
     "iopub.execute_input": "2024-04-21T22:43:50.373158Z",
     "iopub.status.busy": "2024-04-21T22:43:50.372823Z",
     "iopub.status.idle": "2024-04-21T22:43:50.377873Z",
     "shell.execute_reply": "2024-04-21T22:43:50.376337Z"
    },
    "papermill": {
     "duration": 0.016541,
     "end_time": "2024-04-21T22:43:50.380396",
     "exception": false,
     "start_time": "2024-04-21T22:43:50.363855",
     "status": "completed"
    },
    "tags": []
   },
   "outputs": [],
   "source": [
    "# # Get the type of the first non-null element in the 'tokens' column\n",
    "# first_non_null_element = next(item for item in pii_dataset_fixed_df['tokens'] if item is not None)\n",
    "# print(\"token pii_dataset type\", type(first_non_null_element[0]))\n",
    "\n",
    "# first_non_null_element = next(item for item in moredata_dataset_fixed_df['tokens'] if item is not None)\n",
    "# print(\"token moredata type\", type(first_non_null_element[0]))\n",
    "\n",
    "# first_non_null_element = next(item for item in train_df['tokens'] if item is not None)\n",
    "# print(\"token train type\", type(first_non_null_element[0]))\n"
   ]
  },
  {
   "cell_type": "code",
   "execution_count": 17,
   "id": "c9ec0dd2",
   "metadata": {
    "execution": {
     "iopub.execute_input": "2024-04-21T22:43:50.397291Z",
     "iopub.status.busy": "2024-04-21T22:43:50.396913Z",
     "iopub.status.idle": "2024-04-21T22:43:50.402742Z",
     "shell.execute_reply": "2024-04-21T22:43:50.401027Z"
    },
    "papermill": {
     "duration": 0.017159,
     "end_time": "2024-04-21T22:43:50.405036",
     "exception": false,
     "start_time": "2024-04-21T22:43:50.387877",
     "status": "completed"
    },
    "tags": []
   },
   "outputs": [],
   "source": [
    "# # Get the type of the first non-null element in the 'tokens' column\n",
    "# first_non_null_element = next(item for item in pii_dataset_fixed_df['tokens'] if item is not None)\n",
    "# print(\"token pii_dataset type\", type(first_non_null_element[0]))\n",
    "\n",
    "# first_non_null_element = next(item for item in moredata_dataset_fixed_df['tokens'] if item is not None)\n",
    "# print(\"token moredata type\", type(first_non_null_element[0]))\n",
    "\n",
    "# first_non_null_element = next(item for item in train_df['tokens'] if item is not None)\n",
    "# print(\"token train type\", type(first_non_null_element[0]))"
   ]
  },
  {
   "cell_type": "code",
   "execution_count": 18,
   "id": "a3ee5020",
   "metadata": {
    "execution": {
     "iopub.execute_input": "2024-04-21T22:43:50.420441Z",
     "iopub.status.busy": "2024-04-21T22:43:50.420087Z",
     "iopub.status.idle": "2024-04-21T22:43:50.452760Z",
     "shell.execute_reply": "2024-04-21T22:43:50.451121Z"
    },
    "papermill": {
     "duration": 0.043152,
     "end_time": "2024-04-21T22:43:50.455310",
     "exception": false,
     "start_time": "2024-04-21T22:43:50.412158",
     "status": "completed"
    },
    "tags": []
   },
   "outputs": [
    {
     "name": "stdout",
     "output_type": "stream",
     "text": [
      "<class 'pandas.core.frame.DataFrame'>\n",
      "Index: 6119 entries, 2447 to 860\n",
      "Data columns (total 6 columns):\n",
      " #   Column               Non-Null Count  Dtype \n",
      "---  ------               --------------  ----- \n",
      " 0   document             6119 non-null   int64 \n",
      " 1   full_text            6119 non-null   object\n",
      " 2   tokens               6119 non-null   object\n",
      " 3   trailing_whitespace  6119 non-null   object\n",
      " 4   labels               6119 non-null   object\n",
      " 5   token_indices        6119 non-null   object\n",
      "dtypes: int64(1), object(5)\n",
      "memory usage: 463.7+ KB\n",
      "train info None\n",
      "<class 'pandas.core.frame.DataFrame'>\n",
      "RangeIndex: 4434 entries, 0 to 4433\n",
      "Data columns (total 6 columns):\n",
      " #   Column               Non-Null Count  Dtype \n",
      "---  ------               --------------  ----- \n",
      " 0   document             4434 non-null   int64 \n",
      " 1   full_text            4434 non-null   object\n",
      " 2   tokens               4434 non-null   object\n",
      " 3   trailing_whitespace  4434 non-null   object\n",
      " 4   labels               4434 non-null   object\n",
      " 5   token_indices        4434 non-null   object\n",
      "dtypes: int64(1), object(5)\n",
      "memory usage: 208.0+ KB\n",
      "piifixed info None\n",
      "<class 'pandas.core.frame.DataFrame'>\n",
      "RangeIndex: 2000 entries, 0 to 1999\n",
      "Data columns (total 6 columns):\n",
      " #   Column               Non-Null Count  Dtype \n",
      "---  ------               --------------  ----- \n",
      " 0   document             2000 non-null   int64 \n",
      " 1   full_text            2000 non-null   object\n",
      " 2   tokens               2000 non-null   object\n",
      " 3   trailing_whitespace  2000 non-null   object\n",
      " 4   labels               2000 non-null   object\n",
      " 5   token_indices        2000 non-null   object\n",
      "dtypes: int64(1), object(5)\n",
      "memory usage: 93.9+ KB\n",
      "moredata info None\n"
     ]
    }
   ],
   "source": [
    "print(\"train info\", train_df.info())\n",
    "print(\"piifixed info\", pii_dataset_fixed_df.info())\n",
    "print(\"moredata info\", moredata_dataset_fixed_df.info())"
   ]
  },
  {
   "cell_type": "markdown",
   "id": "a5bc2c8e",
   "metadata": {
    "papermill": {
     "duration": 0.007139,
     "end_time": "2024-04-21T22:43:50.469943",
     "exception": false,
     "start_time": "2024-04-21T22:43:50.462804",
     "status": "completed"
    },
    "tags": []
   },
   "source": [
    "# Visualization of an Essay\n",
    "credit : https://www.kaggle.com/code/sinchir0/visualization-code-using-displacy"
   ]
  },
  {
   "cell_type": "code",
   "execution_count": 19,
   "id": "f4ddbd86",
   "metadata": {
    "execution": {
     "iopub.execute_input": "2024-04-21T22:43:50.487040Z",
     "iopub.status.busy": "2024-04-21T22:43:50.486695Z",
     "iopub.status.idle": "2024-04-21T22:43:56.934250Z",
     "shell.execute_reply": "2024-04-21T22:43:56.933007Z"
    },
    "papermill": {
     "duration": 6.460006,
     "end_time": "2024-04-21T22:43:56.937519",
     "exception": false,
     "start_time": "2024-04-21T22:43:50.477513",
     "status": "completed"
    },
    "tags": []
   },
   "outputs": [],
   "source": [
    "#https://www.kaggle.com/code/sinchir0/visualization-code-using-displacy\n",
    "import spacy\n",
    "from spacy.tokens import Span\n",
    "from spacy import displacy\n",
    "\n",
    "nlp = spacy.blank(\"en\")\n",
    "\n",
    "options = {\n",
    "    \"colors\": {\n",
    "        \"B-NAME_STUDENT\": \"aqua\",\n",
    "        \"I-NAME_STUDENT\": \"skyblue\",\n",
    "        \"B-EMAIL\": \"limegreen\",\n",
    "        \"I-EMAIL\": \"lime\",\n",
    "        \"B-USERNAME\": \"hotpink\",\n",
    "        \"I-USERNAME\": \"lightpink\",\n",
    "        \"B-ID_NUM\": \"purple\",\n",
    "        \"I-ID_NUM\": \"rebeccapurple\",\n",
    "        \"B-PHONE_NUM\": \"red\",\n",
    "        \"I-PHONE_NUM\": \"salmon\",\n",
    "        \"B-URL_PERSONAL\": \"silver\",\n",
    "        \"I-URL_PERSONAL\": \"lightgray\",\n",
    "        \"B-STREET_ADDRESS\": \"brown\",\n",
    "        \"I-STREET_ADDRESS\": \"chocolate\",\n",
    "    }\n",
    "}\n",
    "\n",
    "def visualize(row):\n",
    "    doc = nlp(row.full_text)\n",
    "    doc.ents = [\n",
    "        Span(doc, idx, idx + 1, label=label)\n",
    "        for idx, label in enumerate(row.labels)\n",
    "        if label != \"O\"\n",
    "    ]\n",
    "    html = displacy.render(doc, style=\"ent\", jupyter=False, options=options)\n",
    "    return html"
   ]
  },
  {
   "cell_type": "code",
   "execution_count": 20,
   "id": "4a547480",
   "metadata": {
    "execution": {
     "iopub.execute_input": "2024-04-21T22:43:56.955964Z",
     "iopub.status.busy": "2024-04-21T22:43:56.954420Z",
     "iopub.status.idle": "2024-04-21T22:43:56.960997Z",
     "shell.execute_reply": "2024-04-21T22:43:56.959930Z"
    },
    "papermill": {
     "duration": 0.018025,
     "end_time": "2024-04-21T22:43:56.963491",
     "exception": false,
     "start_time": "2024-04-21T22:43:56.945466",
     "status": "completed"
    },
    "tags": []
   },
   "outputs": [
    {
     "name": "stderr",
     "output_type": "stream",
     "text": [
      "/tmp/ipykernel_18/2933016516.py:1: DeprecationWarning: Importing display from IPython.core.display is deprecated since IPython 7.14, please import from IPython display\n",
      "  from IPython.core.display import display, HTML\n"
     ]
    }
   ],
   "source": [
    "from IPython.core.display import display, HTML\n",
    "# html = visualize(base_df.loc[0])\n",
    "# display(HTML(html))"
   ]
  },
  {
   "cell_type": "markdown",
   "id": "1e7e26c3",
   "metadata": {
    "papermill": {
     "duration": 0.007386,
     "end_time": "2024-04-21T22:43:56.978648",
     "exception": false,
     "start_time": "2024-04-21T22:43:56.971262",
     "status": "completed"
    },
    "tags": []
   },
   "source": [
    "# Save to W and B\n",
    "\n",
    "Running code below needs to have WANDB_API_KEY secret in kaggle secrets. Access api token through add-ons in notebook\n",
    "\n"
   ]
  },
  {
   "cell_type": "code",
   "execution_count": 21,
   "id": "3cd58615",
   "metadata": {
    "execution": {
     "iopub.execute_input": "2024-04-21T22:43:56.996544Z",
     "iopub.status.busy": "2024-04-21T22:43:56.995052Z",
     "iopub.status.idle": "2024-04-21T22:44:16.745194Z",
     "shell.execute_reply": "2024-04-21T22:44:16.743813Z"
    },
    "papermill": {
     "duration": 19.761626,
     "end_time": "2024-04-21T22:44:16.748019",
     "exception": false,
     "start_time": "2024-04-21T22:43:56.986393",
     "status": "completed"
    },
    "tags": []
   },
   "outputs": [
    {
     "name": "stderr",
     "output_type": "stream",
     "text": [
      "\u001b[34m\u001b[1mwandb\u001b[0m: W&B API key is configured. Use \u001b[1m`wandb login --relogin`\u001b[0m to force relogin\n",
      "\u001b[34m\u001b[1mwandb\u001b[0m: \u001b[33mWARNING\u001b[0m If you're specifying your api key in code, ensure this code is not shared publicly.\n",
      "\u001b[34m\u001b[1mwandb\u001b[0m: \u001b[33mWARNING\u001b[0m Consider setting the WANDB_API_KEY environment variable, or running `wandb login` from the command line.\n",
      "\u001b[34m\u001b[1mwandb\u001b[0m: Appending key for api.wandb.ai to your netrc file: /root/.netrc\n",
      "\u001b[34m\u001b[1mwandb\u001b[0m: Currently logged in as: \u001b[33mkasprisi\u001b[0m (\u001b[33mcsci566sp24\u001b[0m). Use \u001b[1m`wandb login --relogin`\u001b[0m to force relogin\n",
      "\u001b[34m\u001b[1mwandb\u001b[0m: wandb version 0.16.6 is available!  To upgrade, please run:\n",
      "\u001b[34m\u001b[1mwandb\u001b[0m:  $ pip install wandb --upgrade\n",
      "\u001b[34m\u001b[1mwandb\u001b[0m: Tracking run with wandb version 0.16.5\n",
      "\u001b[34m\u001b[1mwandb\u001b[0m: Run data is saved locally in \u001b[35m\u001b[1m/kaggle/working/wandb/run-20240421_224400-mgf0jrcd\u001b[0m\n",
      "\u001b[34m\u001b[1mwandb\u001b[0m: Run \u001b[1m`wandb offline`\u001b[0m to turn off syncing.\n",
      "\u001b[34m\u001b[1mwandb\u001b[0m: Syncing run \u001b[33mroyal-bird-67\u001b[0m\n",
      "\u001b[34m\u001b[1mwandb\u001b[0m: ⭐️ View project at \u001b[34m\u001b[4mhttps://wandb.ai/csci566sp24/pii\u001b[0m\n",
      "\u001b[34m\u001b[1mwandb\u001b[0m: 🚀 View run at \u001b[34m\u001b[4mhttps://wandb.ai/csci566sp24/pii/runs/mgf0jrcd/workspace\u001b[0m\n"
     ]
    },
    {
     "data": {
      "text/html": [
       "<button onClick=\"this.nextSibling.style.display='block';this.style.display='none';\">Display W&B run</button><iframe src='https://wandb.ai/csci566sp24/pii/runs/mgf0jrcd?jupyter=true' style='border:none;width:100%;height:420px;display:none;'></iframe>"
      ],
      "text/plain": [
       "<wandb.sdk.wandb_run.Run at 0x7a1937724ca0>"
      ]
     },
     "execution_count": 21,
     "metadata": {},
     "output_type": "execute_result"
    }
   ],
   "source": [
    "from kaggle_secrets import UserSecretsClient\n",
    "user_secrets = UserSecretsClient()\n",
    "wandb_api_key = user_secrets.get_secret(\"WANDB_API_KEY\")\n",
    "\n",
    "\n",
    "\n",
    "import wandb\n",
    "wandb.login(key=wandb_api_key)\n",
    "wandb.init(project='pii', job_type='preprocessing')"
   ]
  },
  {
   "cell_type": "code",
   "execution_count": 22,
   "id": "84ea9419",
   "metadata": {
    "execution": {
     "iopub.execute_input": "2024-04-21T22:44:16.766228Z",
     "iopub.status.busy": "2024-04-21T22:44:16.765866Z",
     "iopub.status.idle": "2024-04-21T22:44:20.463170Z",
     "shell.execute_reply": "2024-04-21T22:44:20.461884Z"
    },
    "papermill": {
     "duration": 3.708996,
     "end_time": "2024-04-21T22:44:20.465467",
     "exception": false,
     "start_time": "2024-04-21T22:44:16.756471",
     "status": "completed"
    },
    "tags": []
   },
   "outputs": [
    {
     "data": {
      "text/plain": [
       "<Artifact val_data>"
      ]
     },
     "execution_count": 22,
     "metadata": {},
     "output_type": "execute_result"
    }
   ],
   "source": [
    "#log data as artifacts\n",
    "\n",
    "#Parquet is a columnar storage file format that is optimized for use with big data processing frameworks.\n",
    "#Steps\n",
    "# Save the base dataframe 'df' to a parquet file named 'base_data.parquet'\n",
    "# Create a new Weights & Biases artifact named 'base_data' of type 'dataset'\n",
    "# Create a new Weights & Biases artifact named 'base_data' of type 'dataset'\n",
    "# Add the 'base_data.parquet' file to the 'base_data' artifact\n",
    "# Log the 'raw_data' artifact to Weights & Biases, this will upload the artifact to the Weights & Biases servers\n",
    "\n",
    "#base data\n",
    "base_df.to_parquet('base_data.parquet', index=False)\n",
    "base_data = wandb.Artifact(name=\"base_data\", type=\"dataset\")\n",
    "base_data.add_file('base_data.parquet')\n",
    "wandb.log_artifact(base_data)\n",
    "\n",
    "#miniset data dataframe 'mini_no_overlap' \n",
    "mini_no_overlap.to_parquet('mini_no_overlap.parquet', index=False)\n",
    "mini_no_overlap_data = wandb.Artifact(name=\"mini_no_overlap_data\", type=\"dataset\")\n",
    "mini_no_overlap_data.add_file('mini_no_overlap.parquet')\n",
    "wandb.log_artifact(mini_no_overlap_data)\n",
    "\n",
    "#validation set dataframe 'val_df'\n",
    "val_df.to_parquet('val_data.parquet', index=False)\n",
    "val_data = wandb.Artifact(name=\"val_data\", type=\"dataset\")\n",
    "val_data.add_file('val_data.parquet')\n",
    "wandb.log_artifact(val_data)"
   ]
  },
  {
   "cell_type": "code",
   "execution_count": 23,
   "id": "5da2e94a",
   "metadata": {
    "execution": {
     "iopub.execute_input": "2024-04-21T22:44:20.483999Z",
     "iopub.status.busy": "2024-04-21T22:44:20.483661Z",
     "iopub.status.idle": "2024-04-21T22:44:22.741854Z",
     "shell.execute_reply": "2024-04-21T22:44:22.740482Z"
    },
    "papermill": {
     "duration": 2.270441,
     "end_time": "2024-04-21T22:44:22.744421",
     "exception": false,
     "start_time": "2024-04-21T22:44:20.473980",
     "status": "completed"
    },
    "tags": []
   },
   "outputs": [
    {
     "data": {
      "text/plain": [
       "<Artifact train2_df>"
      ]
     },
     "execution_count": 23,
     "metadata": {},
     "output_type": "execute_result"
    }
   ],
   "source": [
    "#validation set dataframe 'val2_df'\n",
    "val2_df.to_parquet('val2_data.parquet', index=False)\n",
    "val2_data = wandb.Artifact(name=\"val2_data\", type=\"dataset\")\n",
    "val2_data.add_file('val2_data.parquet')\n",
    "wandb.log_artifact(val2_data)\n",
    "\n",
    "# train_df - 100% comp data - val2 set\n",
    "train2_df.to_parquet('train2_df.parquet', index=False)\n",
    "train2_df_artifact = wandb.Artifact(name=\"train2_df\", type=\"dataset\")\n",
    "train2_df_artifact.add_file('train2_df.parquet')\n",
    "wandb.log_artifact(train2_df_artifact)"
   ]
  },
  {
   "cell_type": "code",
   "execution_count": 24,
   "id": "564b8fc1",
   "metadata": {
    "execution": {
     "iopub.execute_input": "2024-04-21T22:44:22.765015Z",
     "iopub.status.busy": "2024-04-21T22:44:22.764659Z",
     "iopub.status.idle": "2024-04-21T22:44:25.958003Z",
     "shell.execute_reply": "2024-04-21T22:44:25.956449Z"
    },
    "papermill": {
     "duration": 3.206832,
     "end_time": "2024-04-21T22:44:25.960885",
     "exception": false,
     "start_time": "2024-04-21T22:44:22.754053",
     "status": "completed"
    },
    "tags": []
   },
   "outputs": [
    {
     "data": {
      "text/plain": [
       "<Artifact train_df>"
      ]
     },
     "execution_count": 24,
     "metadata": {},
     "output_type": "execute_result"
    }
   ],
   "source": [
    "#more data logging - moth or nbroad?\n",
    "moredata_dataset_fixed_df.to_parquet('moredata_dataset_fixed.parquet', index=False)\n",
    "moredata_dataset_fixed_artifact = wandb.Artifact(name=\"moredata_dataset_fixed\", type=\"dataset\")\n",
    "moredata_dataset_fixed_artifact.add_file('moredata_dataset_fixed.parquet')\n",
    "wandb.log_artifact(moredata_dataset_fixed_artifact)\n",
    "\n",
    "# pii_dataset_fixed - moth or nbroad\n",
    "pii_dataset_fixed_df.to_parquet('pii_dataset_fixed.parquet', index=False)\n",
    "pii_dataset_fixed_artifact = wandb.Artifact(name=\"pii_dataset_fixed\", type=\"dataset\")\n",
    "pii_dataset_fixed_artifact.add_file('pii_dataset_fixed.parquet')\n",
    "wandb.log_artifact(pii_dataset_fixed_artifact)\n",
    "\n",
    "# train_df - 100% comp data - val set\n",
    "train_df.to_parquet('train_df.parquet', index=False)\n",
    "train_df_artifact = wandb.Artifact(name=\"train_df\", type=\"dataset\")\n",
    "train_df_artifact.add_file('train_df.parquet')\n",
    "wandb.log_artifact(train_df_artifact)"
   ]
  },
  {
   "cell_type": "code",
   "execution_count": 25,
   "id": "a035e09e",
   "metadata": {
    "execution": {
     "iopub.execute_input": "2024-04-21T22:44:25.979780Z",
     "iopub.status.busy": "2024-04-21T22:44:25.979416Z",
     "iopub.status.idle": "2024-04-21T22:44:25.984275Z",
     "shell.execute_reply": "2024-04-21T22:44:25.983022Z"
    },
    "papermill": {
     "duration": 0.017108,
     "end_time": "2024-04-21T22:44:25.986823",
     "exception": false,
     "start_time": "2024-04-21T22:44:25.969715",
     "status": "completed"
    },
    "tags": []
   },
   "outputs": [],
   "source": [
    "#TODO troubleshoot\n",
    "\n",
    "# # We will generate html viz for every mini_no_overlap essay, wrap it up in `wandb.Html` and create a W&B table to inspect it\n",
    "# df=mini_no_overlap\n",
    "\n",
    "# wandb_htmls = [wandb.Html(visualize(row)) for _, row in df.iterrows()]\n",
    "# df['visualization'] = wandb_htmls\n",
    "# table = wandb.Table(dataframe=df)\n",
    "# wandb.log({'original_dataset': table})"
   ]
  },
  {
   "cell_type": "code",
   "execution_count": 26,
   "id": "529a0100",
   "metadata": {
    "execution": {
     "iopub.execute_input": "2024-04-21T22:44:26.006360Z",
     "iopub.status.busy": "2024-04-21T22:44:26.005967Z",
     "iopub.status.idle": "2024-04-21T22:44:43.072834Z",
     "shell.execute_reply": "2024-04-21T22:44:43.071580Z"
    },
    "papermill": {
     "duration": 17.080041,
     "end_time": "2024-04-21T22:44:43.075499",
     "exception": false,
     "start_time": "2024-04-21T22:44:25.995458",
     "status": "completed"
    },
    "tags": []
   },
   "outputs": [
    {
     "name": "stderr",
     "output_type": "stream",
     "text": [
      "\u001b[34m\u001b[1mwandb\u001b[0m:                                                                                \n",
      "\u001b[34m\u001b[1mwandb\u001b[0m: 🚀 View run \u001b[33mroyal-bird-67\u001b[0m at: \u001b[34m\u001b[4mhttps://wandb.ai/csci566sp24/pii/runs/mgf0jrcd/workspace\u001b[0m\n",
      "\u001b[34m\u001b[1mwandb\u001b[0m: Synced 4 W&B file(s), 0 media file(s), 5 artifact file(s) and 0 other file(s)\n",
      "\u001b[34m\u001b[1mwandb\u001b[0m: Find logs at: \u001b[35m\u001b[1m./wandb/run-20240421_224400-mgf0jrcd/logs\u001b[0m\n"
     ]
    }
   ],
   "source": [
    "# Finish W&B run\n",
    "wandb.finish()"
   ]
  },
  {
   "cell_type": "markdown",
   "id": "c9d0c070",
   "metadata": {
    "papermill": {
     "duration": 0.009384,
     "end_time": "2024-04-21T22:44:43.094269",
     "exception": false,
     "start_time": "2024-04-21T22:44:43.084885",
     "status": "completed"
    },
    "tags": []
   },
   "source": [
    "# TO DOs\n",
    "- Truncation with Stride, tokenizers striding method?\n",
    "- add hyperparameters to config wandb.config.update"
   ]
  }
 ],
 "metadata": {
  "kaggle": {
   "accelerator": "none",
   "dataSources": [
    {
     "databundleVersionId": 7500999,
     "sourceId": 66653,
     "sourceType": "competition"
    },
    {
     "sourceId": 163088908,
     "sourceType": "kernelVersion"
    }
   ],
   "dockerImageVersionId": 30684,
   "isGpuEnabled": false,
   "isInternetEnabled": true,
   "language": "python",
   "sourceType": "notebook"
  },
  "kernelspec": {
   "display_name": "Python 3",
   "language": "python",
   "name": "python3"
  },
  "language_info": {
   "codemirror_mode": {
    "name": "ipython",
    "version": 3
   },
   "file_extension": ".py",
   "mimetype": "text/x-python",
   "name": "python",
   "nbconvert_exporter": "python",
   "pygments_lexer": "ipython3",
   "version": "3.10.13"
  },
  "papermill": {
   "default_parameters": {},
   "duration": 85.670823,
   "end_time": "2024-04-21T22:44:45.725974",
   "environment_variables": {},
   "exception": null,
   "input_path": "__notebook__.ipynb",
   "output_path": "__notebook__.ipynb",
   "parameters": {},
   "start_time": "2024-04-21T22:43:20.055151",
   "version": "2.5.0"
  }
 },
 "nbformat": 4,
 "nbformat_minor": 5
}
