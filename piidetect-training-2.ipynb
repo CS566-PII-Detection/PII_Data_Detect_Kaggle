{
 "cells": [
  {
   "cell_type": "markdown",
   "id": "7639fbfb",
   "metadata": {
    "papermill": {
     "duration": 0.006799,
     "end_time": "2024-03-05T23:45:18.267741",
     "exception": false,
     "start_time": "2024-03-05T23:45:18.260942",
     "status": "completed"
    },
    "tags": []
   },
   "source": [
    "## Training Notebook\n",
    "\n",
    "# Overview\n",
    "    - Trained on kaggle GPU t4 x2\n"
   ]
  },
  {
   "cell_type": "markdown",
   "id": "68e93ebc",
   "metadata": {
    "papermill": {
     "duration": 0.0058,
     "end_time": "2024-03-05T23:45:18.279919",
     "exception": false,
     "start_time": "2024-03-05T23:45:18.274119",
     "status": "completed"
    },
    "tags": []
   },
   "source": [
    "# Config and import\n",
    "\n",
    "- Try: max length adjust\n"
   ]
  },
  {
   "cell_type": "code",
   "execution_count": 1,
   "id": "27c75bc9",
   "metadata": {
    "execution": {
     "iopub.execute_input": "2024-03-05T23:45:18.293369Z",
     "iopub.status.busy": "2024-03-05T23:45:18.292987Z",
     "iopub.status.idle": "2024-03-05T23:45:37.241551Z",
     "shell.execute_reply": "2024-03-05T23:45:37.240505Z"
    },
    "papermill": {
     "duration": 18.958256,
     "end_time": "2024-03-05T23:45:37.244150",
     "exception": false,
     "start_time": "2024-03-05T23:45:18.285894",
     "status": "completed"
    },
    "tags": []
   },
   "outputs": [],
   "source": [
    "!pip install seqeval evaluate -q"
   ]
  },
  {
   "cell_type": "code",
   "execution_count": 2,
   "id": "565dea18",
   "metadata": {
    "execution": {
     "iopub.execute_input": "2024-03-05T23:45:37.258980Z",
     "iopub.status.busy": "2024-03-05T23:45:37.258647Z",
     "iopub.status.idle": "2024-03-05T23:46:02.768669Z",
     "shell.execute_reply": "2024-03-05T23:46:02.767568Z"
    },
    "papermill": {
     "duration": 25.520324,
     "end_time": "2024-03-05T23:46:02.771239",
     "exception": false,
     "start_time": "2024-03-05T23:45:37.250915",
     "status": "completed"
    },
    "tags": []
   },
   "outputs": [
    {
     "name": "stderr",
     "output_type": "stream",
     "text": [
      "2024-03-05 23:45:49.283609: E external/local_xla/xla/stream_executor/cuda/cuda_dnn.cc:9261] Unable to register cuDNN factory: Attempting to register factory for plugin cuDNN when one has already been registered\n",
      "2024-03-05 23:45:49.283732: E external/local_xla/xla/stream_executor/cuda/cuda_fft.cc:607] Unable to register cuFFT factory: Attempting to register factory for plugin cuFFT when one has already been registered\n",
      "2024-03-05 23:45:49.475648: E external/local_xla/xla/stream_executor/cuda/cuda_blas.cc:1515] Unable to register cuBLAS factory: Attempting to register factory for plugin cuBLAS when one has already been registered\n"
     ]
    }
   ],
   "source": [
    "from pathlib import Path\n",
    "import os\n",
    "\n",
    "import json\n",
    "import argparse\n",
    "from itertools import chain\n",
    "from functools import partial\n",
    "\n",
    "import torch\n",
    "from transformers import AutoTokenizer, Trainer, TrainingArguments\n",
    "from transformers import AutoModelForTokenClassification, DataCollatorForTokenClassification\n",
    "import evaluate\n",
    "from datasets import Dataset, features\n",
    "import numpy as np\n",
    "import pandas as pd"
   ]
  },
  {
   "cell_type": "code",
   "execution_count": 3,
   "id": "1a3c6228",
   "metadata": {
    "execution": {
     "iopub.execute_input": "2024-03-05T23:46:02.786392Z",
     "iopub.status.busy": "2024-03-05T23:46:02.785296Z",
     "iopub.status.idle": "2024-03-05T23:46:02.792098Z",
     "shell.execute_reply": "2024-03-05T23:46:02.791091Z"
    },
    "papermill": {
     "duration": 0.016086,
     "end_time": "2024-03-05T23:46:02.794033",
     "exception": false,
     "start_time": "2024-03-05T23:46:02.777947",
     "status": "completed"
    },
    "tags": []
   },
   "outputs": [
    {
     "name": "stdout",
     "output_type": "stream",
     "text": [
      "../input/pii-detection-removal-from-educational-data/sample_submission.csv\n",
      "../input/pii-detection-removal-from-educational-data/train.json\n",
      "../input/pii-detection-removal-from-educational-data/test.json\n"
     ]
    }
   ],
   "source": [
    "DATA_PATH = '../input/pii-detection-removal-from-educational-data'\n",
    "TRAINING_MODEL_PATH = \"microsoft/deberta-v3-base\" #/kaggle/input/deberta_v3/keras/deberta_v3_base_en/2\"\n",
    "TRAINING_MAX_LENGTH = 1024\n",
    "OUTPUT_DIR = \"/kaggle/working/\"\n",
    "\n",
    "#print files with pathname\n",
    "for dirname, _, filenames in os.walk(DATA_PATH):\n",
    "    for filename in filenames:\n",
    "        print(os.path.join(dirname, filename))"
   ]
  },
  {
   "cell_type": "markdown",
   "id": "f17057ee",
   "metadata": {
    "papermill": {
     "duration": 0.006148,
     "end_time": "2024-03-05T23:46:02.806715",
     "exception": false,
     "start_time": "2024-03-05T23:46:02.800567",
     "status": "completed"
    },
    "tags": []
   },
   "source": [
    "## Data Selection"
   ]
  },
  {
   "cell_type": "code",
   "execution_count": 4,
   "id": "d02f79f6",
   "metadata": {
    "_cell_guid": "b1076dfc-b9ad-4769-8c92-a6c4dae69d19",
    "_uuid": "8f2839f25d086af736a60e9eeb907d3b93b6e0e5",
    "execution": {
     "iopub.execute_input": "2024-03-05T23:46:02.820702Z",
     "iopub.status.busy": "2024-03-05T23:46:02.820415Z",
     "iopub.status.idle": "2024-03-05T23:46:05.530607Z",
     "shell.execute_reply": "2024-03-05T23:46:05.529602Z"
    },
    "papermill": {
     "duration": 2.71978,
     "end_time": "2024-03-05T23:46:05.532972",
     "exception": false,
     "start_time": "2024-03-05T23:46:02.813192",
     "status": "completed"
    },
    "tags": []
   },
   "outputs": [
    {
     "name": "stdout",
     "output_type": "stream",
     "text": [
      "Training Data:  6807\n"
     ]
    }
   ],
   "source": [
    "#data from orginal training json\n",
    "data = json.load(open(DATA_PATH+ \"/train.json\"))\n",
    "org_data_df = pd.DataFrame(data)\n",
    "base_df = org_data_df\n",
    "\n",
    "print(\"Training Data: \", len(data))\n",
    "\n",
    "\n",
    "#change base_df column labels to 'provided labels'\n",
    "base_df = base_df.rename(columns={'labels': 'provided_labels'})"
   ]
  },
  {
   "cell_type": "code",
   "execution_count": 5,
   "id": "048ca288",
   "metadata": {
    "execution": {
     "iopub.execute_input": "2024-03-05T23:46:05.548697Z",
     "iopub.status.busy": "2024-03-05T23:46:05.548389Z",
     "iopub.status.idle": "2024-03-05T23:46:05.554659Z",
     "shell.execute_reply": "2024-03-05T23:46:05.553894Z"
    },
    "papermill": {
     "duration": 0.016301,
     "end_time": "2024-03-05T23:46:05.556804",
     "exception": false,
     "start_time": "2024-03-05T23:46:05.540503",
     "status": "completed"
    },
    "tags": []
   },
   "outputs": [],
   "source": [
    "#split data into training and validation set\n",
    "def PIId2_split_by_sampling(df, test_ratio):\n",
    "    \"\"\"Split PII data into training and test set. \n",
    "\n",
    "    Args:\n",
    "        df (pd.DataFrame): The input DataFrame.\n",
    "        test_ratio (float, default=0.2): \n",
    "            The proportion of the dataset to include in the test split.\n",
    "\n",
    "    Returns:\n",
    "        train_df, test_df: Training and test splits of the input DataFrame.\n",
    "    \"\"\"\n",
    "    # Get the number of rows in the DataFrame\n",
    "    num_rows = len(df)\n",
    "    \n",
    "    # Get the split index\n",
    "    split_idx = int(num_rows * test_ratio)\n",
    "    \n",
    "    # Shuffle the DataFrame rows\n",
    "    df_shuffled = df.sample(frac=1, random_state=42)\n",
    "    \n",
    "    # Split the DataFrame into train and test\n",
    "    train_df = df_shuffled.iloc[split_idx:]\n",
    "    test_df = df_shuffled.iloc[:split_idx]\n",
    "    \n",
    "    return train_df, test_df"
   ]
  },
  {
   "cell_type": "code",
   "execution_count": 6,
   "id": "3a96f163",
   "metadata": {
    "execution": {
     "iopub.execute_input": "2024-03-05T23:46:05.573354Z",
     "iopub.status.busy": "2024-03-05T23:46:05.573009Z",
     "iopub.status.idle": "2024-03-05T23:46:05.585586Z",
     "shell.execute_reply": "2024-03-05T23:46:05.584860Z"
    },
    "papermill": {
     "duration": 0.023969,
     "end_time": "2024-03-05T23:46:05.587594",
     "exception": false,
     "start_time": "2024-03-05T23:46:05.563625",
     "status": "completed"
    },
    "tags": []
   },
   "outputs": [],
   "source": [
    "train_df, val_df = PIId2_split_by_sampling(base_df, .5)"
   ]
  },
  {
   "cell_type": "code",
   "execution_count": 7,
   "id": "8c231199",
   "metadata": {
    "execution": {
     "iopub.execute_input": "2024-03-05T23:46:05.602513Z",
     "iopub.status.busy": "2024-03-05T23:46:05.601975Z",
     "iopub.status.idle": "2024-03-05T23:46:08.302493Z",
     "shell.execute_reply": "2024-03-05T23:46:08.301653Z"
    },
    "papermill": {
     "duration": 2.710408,
     "end_time": "2024-03-05T23:46:08.304854",
     "exception": false,
     "start_time": "2024-03-05T23:46:05.594446",
     "status": "completed"
    },
    "tags": []
   },
   "outputs": [
    {
     "name": "stdout",
     "output_type": "stream",
     "text": [
      "train_df docs:  3404\n",
      "val_df docs:  3403\n",
      "Missing labels in base dataset: {'I-EMAIL'}\n",
      "Missing labels in training dataset: {'B-PHONE_NUM', 'I-ID_NUM', 'I-EMAIL', 'I-URL_PERSONAL', 'I-PHONE_NUM'}\n",
      "Missing labels in val dataset: {'I-EMAIL'}\n",
      "Swapped train_df and val_df due to more missing labels in train_df.\n"
     ]
    }
   ],
   "source": [
    "print(\"train_df docs: \", train_df.shape[0])\n",
    "print(\"val_df docs: \", val_df.shape[0])\n",
    "\n",
    "target = [\n",
    "    'B-NAME_STUDENT', 'B-EMAIL','B-USERNAME', 'B-ID_NUM', 'B-PHONE_NUM',\n",
    "    'B-URL_PERSONAL', 'B-STREET_ADDRESS',\n",
    "    'I-NAME_STUDENT', 'I-EMAIL','B-USERNAME', 'I-ID_NUM', 'I-PHONE_NUM',\n",
    "    'I-URL_PERSONAL', 'I-STREET_ADDRESS'\n",
    "]\n",
    "\n",
    "#find labels missing in training and validation set\n",
    "missing_base = set(target)- set(base_df['provided_labels'].explode().unique())\n",
    "missing_train = set(target)- set(train_df['provided_labels'].explode().unique())\n",
    "missing_val = set(target)- set(val_df['provided_labels'].explode().unique())\n",
    "\n",
    "print(\"Missing labels in base dataset:\", missing_base)\n",
    "print(\"Missing labels in training dataset:\", missing_train)\n",
    "print(\"Missing labels in val dataset:\", missing_val)\n",
    "\n",
    "# If more labels are missing in training than test, swap the two dataframes\n",
    "if len(missing_val) < len(missing_train):\n",
    "    train_df, val_df = val_df, train_df\n",
    "    print(\"Swapped train_df and val_df due to more missing labels in train_df.\")\n",
    "    \n",
    "# Save the DataFrame to a JSON file\n",
    "val_df.to_json(OUTPUT_DIR + \"/val.json\", orient=\"records\", lines=True)"
   ]
  },
  {
   "cell_type": "markdown",
   "id": "d78201c0",
   "metadata": {
    "papermill": {
     "duration": 0.006649,
     "end_time": "2024-03-05T23:46:08.318859",
     "exception": false,
     "start_time": "2024-03-05T23:46:08.312210",
     "status": "completed"
    },
    "tags": []
   },
   "source": [
    "# Tokenize Data"
   ]
  },
  {
   "cell_type": "code",
   "execution_count": 8,
   "id": "995f4737",
   "metadata": {
    "execution": {
     "iopub.execute_input": "2024-03-05T23:46:08.333627Z",
     "iopub.status.busy": "2024-03-05T23:46:08.333311Z",
     "iopub.status.idle": "2024-03-05T23:46:08.412806Z",
     "shell.execute_reply": "2024-03-05T23:46:08.411854Z"
    },
    "papermill": {
     "duration": 0.089203,
     "end_time": "2024-03-05T23:46:08.414739",
     "exception": false,
     "start_time": "2024-03-05T23:46:08.325536",
     "status": "completed"
    },
    "tags": []
   },
   "outputs": [
    {
     "name": "stdout",
     "output_type": "stream",
     "text": [
      "{0: 'B-EMAIL', 1: 'B-ID_NUM', 2: 'B-NAME_STUDENT', 3: 'B-PHONE_NUM', 4: 'B-STREET_ADDRESS', 5: 'B-URL_PERSONAL', 6: 'B-USERNAME', 7: 'I-ID_NUM', 8: 'I-NAME_STUDENT', 9: 'I-PHONE_NUM', 10: 'I-STREET_ADDRESS', 11: 'I-URL_PERSONAL', 12: 'O'}\n"
     ]
    }
   ],
   "source": [
    "#Set up labeling for NER with #Targets: B-Beginning entity, I-inside entity, O- outside entity\n",
    "\n",
    "#Extract all unique labels w/ list comprehension. Use chain to flatten list of lists\n",
    "all_labels = sorted(list(set(chain(*[x[\"labels\"] for x in data]))))\n",
    "\n",
    "#Create dictionary of label to id\n",
    "label2id = {l: i for i,l in enumerate(all_labels)}\n",
    "\n",
    "#Create dictionary of id to label\n",
    "id2label = {v:k for k,v in label2id.items()}\n",
    "\n",
    "#target labels identified in the training data- changed to all possible target labels\n",
    "target = [\n",
    "    'B-NAME_STUDENT', 'B-EMAIL','B-USERNAME', 'B-ID_NUM', 'B-PHONE_NUM',\n",
    "    'B-URL_PERSONAL', 'B-STREET_ADDRESS',\n",
    "    'I-NAME_STUDENT', 'I-EMAIL','B-USERNAME', 'I-ID_NUM', 'I-PHONE_NUM',\n",
    "    'I-URL_PERSONAL', 'I-STREET_ADDRESS'\n",
    "]\n",
    "\n",
    "print(id2label)"
   ]
  },
  {
   "cell_type": "code",
   "execution_count": 9,
   "id": "e93d39f0",
   "metadata": {
    "execution": {
     "iopub.execute_input": "2024-03-05T23:46:08.429872Z",
     "iopub.status.busy": "2024-03-05T23:46:08.429558Z",
     "iopub.status.idle": "2024-03-05T23:46:08.440154Z",
     "shell.execute_reply": "2024-03-05T23:46:08.439030Z"
    },
    "papermill": {
     "duration": 0.020311,
     "end_time": "2024-03-05T23:46:08.442236",
     "exception": false,
     "start_time": "2024-03-05T23:46:08.421925",
     "status": "completed"
    },
    "tags": []
   },
   "outputs": [],
   "source": [
    "#prep data for NER training by tokenize the text and align labels to tokens\n",
    "def tokenize(example, tokenizer, label2id, max_length):\n",
    "    \"\"\"This function ensures that the text is correctly tokenized and the labels \n",
    "    are correctly aligned with the tokens for NER training.\n",
    "\n",
    "    Args:\n",
    "        example (dict): The example containing the text and labels.\n",
    "        tokenizer (Tokenizer): The tokenizer used to tokenize the text.\n",
    "        label2id (dict): A dictionary mapping labels to their corresponding ids.\n",
    "        max_length (int): The maximum length of the tokenized text.\n",
    "\n",
    "    Returns:\n",
    "        dict: The tokenized example with aligned labels.\n",
    "\n",
    "    Reference: credit to https://www.kaggle.com/code/valentinwerner/915-deberta3base-training/notebook\n",
    "    \"\"\"\n",
    "\n",
    "    # rebuild text from tokens\n",
    "    text = []\n",
    "    labels = []\n",
    "\n",
    "    #iterate through tokens, labels, and trailing whitespace using zip to create tuple from three lists\n",
    "    for t, l, ws in zip(\n",
    "        example[\"tokens\"], example[\"provided_labels\"], example[\"trailing_whitespace\"]\n",
    "    ):\n",
    "        text.append(t)\n",
    "        \n",
    "        #extend so we can add multiple elements to end of list if ws\n",
    "        labels.extend([l] * len(t))\n",
    "        if ws:\n",
    "            text.append(\" \")\n",
    "            labels.append(\"O\")\n",
    "\n",
    "    #Tokenize text and return offsets for start and end character position. Limit length of tokenized text.\n",
    "    tokenized = tokenizer(\"\".join(text), return_offsets_mapping=True, max_length=max_length, truncation=True)\n",
    "\n",
    "    #convert to np array for indexing\n",
    "    labels = np.array(labels)\n",
    "\n",
    "    # join text list into a single string \n",
    "    text = \"\".join(text)\n",
    "    token_labels = []\n",
    "\n",
    "    #iterate through each tolken\n",
    "    for start_idx, end_idx in tokenized.offset_mapping:\n",
    "        #if special tolken (CLS token) then append O\n",
    "        #CLS : classification token added to the start of each sequence\n",
    "        if start_idx == 0 and end_idx == 0:\n",
    "            token_labels.append(label2id[\"O\"])\n",
    "            continue\n",
    "\n",
    "        # case when token starts with whitespace\n",
    "        if text[start_idx].isspace():\n",
    "            start_idx += 1\n",
    "\n",
    "        #append orginal label to token_labels\n",
    "        token_labels.append(label2id[labels[start_idx]])\n",
    "\n",
    "    length = len(tokenized.input_ids)\n",
    "\n",
    "    return {**tokenized, \"labels\": token_labels, \"length\": length}"
   ]
  },
  {
   "cell_type": "code",
   "execution_count": 10,
   "id": "5b6e0e25",
   "metadata": {
    "execution": {
     "iopub.execute_input": "2024-03-05T23:46:08.457228Z",
     "iopub.status.busy": "2024-03-05T23:46:08.456921Z",
     "iopub.status.idle": "2024-03-05T23:47:04.636274Z",
     "shell.execute_reply": "2024-03-05T23:47:04.635202Z"
    },
    "papermill": {
     "duration": 56.189267,
     "end_time": "2024-03-05T23:47:04.638563",
     "exception": false,
     "start_time": "2024-03-05T23:46:08.449296",
     "status": "completed"
    },
    "tags": []
   },
   "outputs": [
    {
     "data": {
      "application/vnd.jupyter.widget-view+json": {
       "model_id": "7bd28429e73e48b79b01b6946af9a449",
       "version_major": 2,
       "version_minor": 0
      },
      "text/plain": [
       "tokenizer_config.json:   0%|          | 0.00/52.0 [00:00<?, ?B/s]"
      ]
     },
     "metadata": {},
     "output_type": "display_data"
    },
    {
     "data": {
      "application/vnd.jupyter.widget-view+json": {
       "model_id": "51ba39e3466f453db4d3a61e1b57550c",
       "version_major": 2,
       "version_minor": 0
      },
      "text/plain": [
       "config.json:   0%|          | 0.00/579 [00:00<?, ?B/s]"
      ]
     },
     "metadata": {},
     "output_type": "display_data"
    },
    {
     "data": {
      "application/vnd.jupyter.widget-view+json": {
       "model_id": "ce71335af1304e1a8e235bc8d8eed316",
       "version_major": 2,
       "version_minor": 0
      },
      "text/plain": [
       "spm.model:   0%|          | 0.00/2.46M [00:00<?, ?B/s]"
      ]
     },
     "metadata": {},
     "output_type": "display_data"
    },
    {
     "name": "stderr",
     "output_type": "stream",
     "text": [
      "/opt/conda/lib/python3.10/site-packages/transformers/convert_slow_tokenizer.py:515: UserWarning: The sentencepiece tokenizer that you are converting to a fast tokenizer uses the byte fallback option which is not implemented in the fast tokenizers. In practice this means that the fast version of the tokenizer can produce unknown tokens whereas the sentencepiece version would have converted these unknown tokens into a sequence of byte tokens matching the original piece of text.\n",
      "  warnings.warn(\n"
     ]
    },
    {
     "name": "stdout",
     "output_type": "stream",
     "text": [
      "   "
     ]
    },
    {
     "data": {
      "application/vnd.jupyter.widget-view+json": {
       "model_id": "192bc71bf8ca4af99d39808725d706e3",
       "version_major": 2,
       "version_minor": 0
      },
      "text/plain": [
       "#0:   0%|          | 0/1702 [00:00<?, ?ex/s]"
      ]
     },
     "metadata": {},
     "output_type": "display_data"
    },
    {
     "name": "stdout",
     "output_type": "stream",
     "text": [
      " "
     ]
    },
    {
     "data": {
      "application/vnd.jupyter.widget-view+json": {
       "model_id": "47348114894144d5824c299e3e3fc253",
       "version_major": 2,
       "version_minor": 0
      },
      "text/plain": [
       "#1:   0%|          | 0/1701 [00:00<?, ?ex/s]"
      ]
     },
     "metadata": {},
     "output_type": "display_data"
    }
   ],
   "source": [
    "#load tokenizer based on pretrained model\n",
    "tokenizer = AutoTokenizer.from_pretrained(TRAINING_MODEL_PATH)\n",
    "\n",
    "#convert to hugging face Dataset object\n",
    "ds = Dataset.from_pandas(train_df)\n",
    "\n",
    "# Map the tokenize function to your dataset\n",
    "ds = ds.map(\n",
    "    tokenize,\n",
    "    fn_kwargs={      # pass keyword args\n",
    "        \"tokenizer\": tokenizer,\n",
    "        \"label2id\": label2id,\n",
    "        \"max_length\": TRAINING_MAX_LENGTH\n",
    "    }, \n",
    "    num_proc=2   #apply in paralell using 3 processes\n",
    ")\n",
    "\n",
    "#todo check for UNK token due to fast tokenizer"
   ]
  },
  {
   "cell_type": "code",
   "execution_count": 11,
   "id": "b87a2772",
   "metadata": {
    "execution": {
     "iopub.execute_input": "2024-03-05T23:47:04.656665Z",
     "iopub.status.busy": "2024-03-05T23:47:04.656324Z",
     "iopub.status.idle": "2024-03-05T23:47:04.668463Z",
     "shell.execute_reply": "2024-03-05T23:47:04.667468Z"
    },
    "papermill": {
     "duration": 0.023726,
     "end_time": "2024-03-05T23:47:04.670625",
     "exception": false,
     "start_time": "2024-03-05T23:47:04.646899",
     "status": "completed"
    },
    "tags": []
   },
   "outputs": [
    {
     "name": "stdout",
     "output_type": "stream",
     "text": [
      "**********\n"
     ]
    }
   ],
   "source": [
    "#TEMP check token and labels from first example before and after tokenzization \n",
    "\n",
    "#get first example from ds\n",
    "x = ds[0]\n",
    "\n",
    "# for before tokenization print all tokens that are not outside an entity\n",
    "for t,l in zip(x[\"tokens\"], x[\"provided_labels\"]):\n",
    "    if l != \"O\":\n",
    "        print((t,l))\n",
    "\n",
    "#print **** to seperate \n",
    "print(\"*\"*10)\n",
    "\n",
    "#print all tokens and label after tokenization\n",
    "for t, l in zip(tokenizer.convert_ids_to_tokens(x[\"input_ids\"]), x[\"labels\"]):\n",
    "    if id2label[l] != \"O\":\n",
    "        print((t,id2label[l]))"
   ]
  },
  {
   "cell_type": "markdown",
   "id": "3a86672f",
   "metadata": {
    "papermill": {
     "duration": 0.007541,
     "end_time": "2024-03-05T23:47:04.686075",
     "exception": false,
     "start_time": "2024-03-05T23:47:04.678534",
     "status": "completed"
    },
    "tags": []
   },
   "source": [
    "# Metrics and Training"
   ]
  },
  {
   "cell_type": "code",
   "execution_count": 12,
   "id": "a7b6b51e",
   "metadata": {
    "execution": {
     "iopub.execute_input": "2024-03-05T23:47:04.702751Z",
     "iopub.status.busy": "2024-03-05T23:47:04.702469Z",
     "iopub.status.idle": "2024-03-05T23:47:04.716205Z",
     "shell.execute_reply": "2024-03-05T23:47:04.715532Z"
    },
    "papermill": {
     "duration": 0.024181,
     "end_time": "2024-03-05T23:47:04.717965",
     "exception": false,
     "start_time": "2024-03-05T23:47:04.693784",
     "status": "completed"
    },
    "tags": []
   },
   "outputs": [],
   "source": [
    "from seqeval.metrics import recall_score, precision_score\n",
    "from seqeval.metrics import classification_report\n",
    "from seqeval.metrics import f1_score\n",
    "\n",
    "\n",
    "def compute_metrics(p, all_labels):\n",
    "    \"\"\"Compute the F1, recall, precision metrics for a NER task.\n",
    "\n",
    "    Args:\n",
    "        p (Tuple[np.ndarray, np.ndarray]): The predictions and labels.\n",
    "        all_labels (List[str]): The list of all possible labels.\n",
    "\n",
    "    Returns:\n",
    "        Dict[str, float]: The computed metrics (recall, precision, f1_score).\n",
    "    Ref: https://www.kaggle.com/code/valentinwerner/915-deberta3base-training/notebook\n",
    "    \"\"\"\n",
    "    #Note: seqeval framework for sequence labeling like NER\n",
    "    \n",
    "    # Unpack the predictions and labels\n",
    "    predictions, labels = p\n",
    "    predictions = np.argmax(predictions, axis=2)\n",
    "\n",
    "    # Remove ignored index (special tokens)\n",
    "    true_predictions = [\n",
    "        [all_labels[p] for (p, l) in zip(prediction, label) if l != -100]\n",
    "        for prediction, label in zip(predictions, labels)\n",
    "    ]\n",
    "    true_labels = [\n",
    "        [all_labels[l] for (p, l) in zip(prediction, label) if l != -100]\n",
    "        for prediction, label in zip(predictions, labels)\n",
    "    ]\n",
    "    \n",
    "    recall = recall_score(true_labels, true_predictions)\n",
    "    precision = precision_score(true_labels, true_predictions)\n",
    "    f5_score = (1 + 5*5) * recall * precision / (5*5*precision + recall)\n",
    "    \n",
    "    results = {\n",
    "        'recall': recall,\n",
    "        'precision': precision,\n",
    "        'f5': f5_score\n",
    "    }\n",
    "    return results"
   ]
  },
  {
   "cell_type": "code",
   "execution_count": 13,
   "id": "4fc0bdad",
   "metadata": {
    "execution": {
     "iopub.execute_input": "2024-03-05T23:47:04.735168Z",
     "iopub.status.busy": "2024-03-05T23:47:04.734864Z",
     "iopub.status.idle": "2024-03-05T23:47:09.299525Z",
     "shell.execute_reply": "2024-03-05T23:47:09.298561Z"
    },
    "papermill": {
     "duration": 4.575809,
     "end_time": "2024-03-05T23:47:09.301669",
     "exception": false,
     "start_time": "2024-03-05T23:47:04.725860",
     "status": "completed"
    },
    "tags": []
   },
   "outputs": [
    {
     "data": {
      "application/vnd.jupyter.widget-view+json": {
       "model_id": "c5590c90f6be47dda46ffad3ee3e2853",
       "version_major": 2,
       "version_minor": 0
      },
      "text/plain": [
       "pytorch_model.bin:   0%|          | 0.00/371M [00:00<?, ?B/s]"
      ]
     },
     "metadata": {},
     "output_type": "display_data"
    },
    {
     "name": "stderr",
     "output_type": "stream",
     "text": [
      "/opt/conda/lib/python3.10/site-packages/torch/_utils.py:831: UserWarning: TypedStorage is deprecated. It will be removed in the future and UntypedStorage will be the only storage class. This should only matter to you if you are using storages directly.  To access UntypedStorage directly, use tensor.untyped_storage() instead of tensor.storage()\n",
      "  return self.fget.__get__(instance, owner)()\n",
      "Some weights of DebertaV2ForTokenClassification were not initialized from the model checkpoint at microsoft/deberta-v3-base and are newly initialized: ['classifier.bias', 'classifier.weight']\n",
      "You should probably TRAIN this model on a down-stream task to be able to use it for predictions and inference.\n"
     ]
    }
   ],
   "source": [
    "#load\n",
    "model = AutoModelForTokenClassification.from_pretrained(\n",
    "    TRAINING_MODEL_PATH,        #pretrained model\n",
    "    num_labels=len(all_labels), #num of unique labels for finetuning\n",
    "    id2label=id2label,          #dicts for converting in fine tuning\n",
    "    label2id=label2id,\n",
    "    ignore_mismatched_sizes=True #pretrained model might have been trained on different num of labels\n",
    ")\n",
    "\n",
    "#collate list of sample from dataset into batches. 16 might be benefical for GPU architecture\n",
    "collator = DataCollatorForTokenClassification(tokenizer, pad_to_multiple_of=16)"
   ]
  },
  {
   "cell_type": "code",
   "execution_count": 14,
   "id": "f6ff5e78",
   "metadata": {
    "execution": {
     "iopub.execute_input": "2024-03-05T23:47:09.319875Z",
     "iopub.status.busy": "2024-03-05T23:47:09.319162Z",
     "iopub.status.idle": "2024-03-05T23:47:09.323182Z",
     "shell.execute_reply": "2024-03-05T23:47:09.322303Z"
    },
    "papermill": {
     "duration": 0.015073,
     "end_time": "2024-03-05T23:47:09.325131",
     "exception": false,
     "start_time": "2024-03-05T23:47:09.310058",
     "status": "completed"
    },
    "tags": []
   },
   "outputs": [],
   "source": [
    "#TODO - do we need evaluation set \n",
    "\n",
    "# final_ds = ds.train_test_split(test_size=0.2, seed=42) # cannot use stratify_by_column='group'\n",
    "# final_ds"
   ]
  },
  {
   "cell_type": "code",
   "execution_count": 15,
   "id": "d9330fca",
   "metadata": {
    "execution": {
     "iopub.execute_input": "2024-03-05T23:47:09.343642Z",
     "iopub.status.busy": "2024-03-05T23:47:09.343058Z",
     "iopub.status.idle": "2024-03-05T23:47:09.826791Z",
     "shell.execute_reply": "2024-03-05T23:47:09.825383Z"
    },
    "papermill": {
     "duration": 0.496275,
     "end_time": "2024-03-05T23:47:09.830050",
     "exception": false,
     "start_time": "2024-03-05T23:47:09.333775",
     "status": "completed"
    },
    "tags": []
   },
   "outputs": [],
   "source": [
    "#Configure training process\n",
    "#no validation set specified\n",
    "training_args = TrainingArguments(\n",
    "    output_dir= OUTPUT_DIR,  # Directory to save checkpoints and logs\n",
    "    fp16 =True,               #mix-precision training on 16 bit to reduce memory and speed up training\n",
    "    #learning_rate=2e-5,       # intial learning rate\n",
    "    gradient_accumulation_steps=2,  #how many batches to acculumate gradient before optimization if batch size limited by GPU memory\n",
    "    report_to=\"none\",        #where training report progress, \"none\" prevents wandb login\n",
    "    num_train_epochs=2,      # Number of training epochs\n",
    "    per_device_train_batch_size=4,  # Batch size based per GPU\n",
    "    #save_steps=500,          # Save model checkpoints every X steps\n",
    "    do_eval = False,          #whether or not to perform eval during training\n",
    "    evaluation_strategy=\"no\",    # When to evaluate during training {no, steps or epoch}\n",
    "    #eval_steps=100,          # Evaluate every X steps if stretegy is \"steps\"\n",
    "    #logging_dir=OUTPUT_DIR+\"/logs\",    # Directory to save training logs\n",
    "    logging_steps=100,       # Log training progress every X steps\n",
    "    #load_best_model_at_end=True,   # Load the best model at the end of training\n",
    "    metric_for_best_model=\"f5\",  # Metric to determine the best model (\"accuracy\", f1...)\n",
    "    #greater_is_better=True,      # if higher eval metric is better. True for f1 and acc\n",
    "    save_total_limit=1,      # how many checkpoints to keep at end (1 means most recent)\n",
    "    #lr_scheduler_type='cosine', #\n",
    "    #warmup_ratio=0.1,           #steps to gradually increase learning rate. can help stabalize training at begining\n",
    "    #weight_decay=0.01,          # l2 regularization to prevent overfitting\n",
    "    \n",
    ")\n",
    "\n",
    "#inialize trainer for training and evaluation interface\n",
    "trainer = Trainer(\n",
    "    model=model, \n",
    "    args=training_args, \n",
    "    train_dataset=ds,\n",
    "    data_collator=collator, \n",
    "    tokenizer=tokenizer,\n",
    "    compute_metrics=partial(compute_metrics, all_labels=all_labels), #partial to fix all_label argument\n",
    ")"
   ]
  },
  {
   "cell_type": "code",
   "execution_count": 16,
   "id": "917de6a2",
   "metadata": {
    "execution": {
     "iopub.execute_input": "2024-03-05T23:47:09.855426Z",
     "iopub.status.busy": "2024-03-05T23:47:09.855056Z",
     "iopub.status.idle": "2024-03-06T00:09:07.461682Z",
     "shell.execute_reply": "2024-03-06T00:09:07.460720Z"
    },
    "papermill": {
     "duration": 1317.62003,
     "end_time": "2024-03-06T00:09:07.463824",
     "exception": false,
     "start_time": "2024-03-05T23:47:09.843794",
     "status": "completed"
    },
    "tags": []
   },
   "outputs": [
    {
     "name": "stderr",
     "output_type": "stream",
     "text": [
      "/opt/conda/lib/python3.10/site-packages/torch/nn/parallel/_functions.py:68: UserWarning: Was asked to gather along dimension 0, but all input tensors were scalars; will instead unsqueeze and return a vector.\n",
      "  warnings.warn('Was asked to gather along dimension 0, but all '\n"
     ]
    },
    {
     "data": {
      "text/html": [
       "\n",
       "    <div>\n",
       "      \n",
       "      <progress value='426' max='426' style='width:300px; height:20px; vertical-align: middle;'></progress>\n",
       "      [426/426 21:50, Epoch 2/2]\n",
       "    </div>\n",
       "    <table border=\"1\" class=\"dataframe\">\n",
       "  <thead>\n",
       " <tr style=\"text-align: left;\">\n",
       "      <th>Step</th>\n",
       "      <th>Training Loss</th>\n",
       "    </tr>\n",
       "  </thead>\n",
       "  <tbody>\n",
       "    <tr>\n",
       "      <td>100</td>\n",
       "      <td>0.070700</td>\n",
       "    </tr>\n",
       "    <tr>\n",
       "      <td>200</td>\n",
       "      <td>0.003800</td>\n",
       "    </tr>\n",
       "    <tr>\n",
       "      <td>300</td>\n",
       "      <td>0.001800</td>\n",
       "    </tr>\n",
       "    <tr>\n",
       "      <td>400</td>\n",
       "      <td>0.001900</td>\n",
       "    </tr>\n",
       "  </tbody>\n",
       "</table><p>"
      ],
      "text/plain": [
       "<IPython.core.display.HTML object>"
      ]
     },
     "metadata": {},
     "output_type": "display_data"
    },
    {
     "name": "stdout",
     "output_type": "stream",
     "text": [
      "CPU times: user 22min 54s, sys: 8min 37s, total: 31min 32s\n",
      "Wall time: 21min 57s\n"
     ]
    },
    {
     "data": {
      "text/plain": [
       "TrainOutput(global_step=426, training_loss=0.018410504240315286, metrics={'train_runtime': 1317.0808, 'train_samples_per_second': 5.167, 'train_steps_per_second': 0.323, 'total_flos': 3403520690477856.0, 'train_loss': 0.018410504240315286, 'epoch': 2.0})"
      ]
     },
     "execution_count": 16,
     "metadata": {},
     "output_type": "execute_result"
    }
   ],
   "source": [
    "%%time\n",
    "\n",
    "#train model \n",
    "trainer.train()"
   ]
  },
  {
   "cell_type": "code",
   "execution_count": 17,
   "id": "292826b6",
   "metadata": {
    "execution": {
     "iopub.execute_input": "2024-03-06T00:09:07.484013Z",
     "iopub.status.busy": "2024-03-06T00:09:07.483739Z",
     "iopub.status.idle": "2024-03-06T00:09:09.108034Z",
     "shell.execute_reply": "2024-03-06T00:09:09.106957Z"
    },
    "papermill": {
     "duration": 1.6368,
     "end_time": "2024-03-06T00:09:09.110361",
     "exception": false,
     "start_time": "2024-03-06T00:09:07.473561",
     "status": "completed"
    },
    "tags": []
   },
   "outputs": [
    {
     "data": {
      "text/plain": [
       "('deberta3base_pii2d_1024_v1/tokenizer_config.json',\n",
       " 'deberta3base_pii2d_1024_v1/special_tokens_map.json',\n",
       " 'deberta3base_pii2d_1024_v1/spm.model',\n",
       " 'deberta3base_pii2d_1024_v1/added_tokens.json',\n",
       " 'deberta3base_pii2d_1024_v1/tokenizer.json')"
      ]
     },
     "execution_count": 17,
     "metadata": {},
     "output_type": "execute_result"
    }
   ],
   "source": [
    "trainer.save_model(\"deberta3base_pii2d_1024_v1\")\n",
    "tokenizer.save_pretrained(\"deberta3base_pii2d_1024_v1\")"
   ]
  }
 ],
 "metadata": {
  "kaggle": {
   "accelerator": "nvidiaTeslaT4",
   "dataSources": [
    {
     "databundleVersionId": 7500999,
     "sourceId": 66653,
     "sourceType": "competition"
    },
    {
     "modelInstanceId": 4686,
     "sourceId": 6065,
     "sourceType": "modelInstanceVersion"
    }
   ],
   "dockerImageVersionId": 30648,
   "isGpuEnabled": true,
   "isInternetEnabled": true,
   "language": "python",
   "sourceType": "notebook"
  },
  "kernelspec": {
   "display_name": "Python 3",
   "language": "python",
   "name": "python3"
  },
  "language_info": {
   "codemirror_mode": {
    "name": "ipython",
    "version": 3
   },
   "file_extension": ".py",
   "mimetype": "text/x-python",
   "name": "python",
   "nbconvert_exporter": "python",
   "pygments_lexer": "ipython3",
   "version": "3.10.13"
  },
  "papermill": {
   "default_parameters": {},
   "duration": 1437.07133,
   "end_time": "2024-03-06T00:09:12.244935",
   "environment_variables": {},
   "exception": null,
   "input_path": "__notebook__.ipynb",
   "output_path": "__notebook__.ipynb",
   "parameters": {},
   "start_time": "2024-03-05T23:45:15.173605",
   "version": "2.5.0"
  },
  "widgets": {
   "application/vnd.jupyter.widget-state+json": {
    "state": {
     "050f9e5a86bd45d887cb013080252c6f": {
      "model_module": "@jupyter-widgets/controls",
      "model_module_version": "1.5.0",
      "model_name": "FloatProgressModel",
      "state": {
       "_dom_classes": [],
       "_model_module": "@jupyter-widgets/controls",
       "_model_module_version": "1.5.0",
       "_model_name": "FloatProgressModel",
       "_view_count": null,
       "_view_module": "@jupyter-widgets/controls",
       "_view_module_version": "1.5.0",
       "_view_name": "ProgressView",
       "bar_style": "success",
       "description": "",
       "description_tooltip": null,
       "layout": "IPY_MODEL_770dd486c5e54e04bf629c1fae36273e",
       "max": 371146213.0,
       "min": 0.0,
       "orientation": "horizontal",
       "style": "IPY_MODEL_3683ebb865ec48778c13354dd641d469",
       "value": 371146213.0
      }
     },
     "0a25c88bdbaf4bb48e8b8293831e6236": {
      "model_module": "@jupyter-widgets/base",
      "model_module_version": "1.2.0",
      "model_name": "LayoutModel",
      "state": {
       "_model_module": "@jupyter-widgets/base",
       "_model_module_version": "1.2.0",
       "_model_name": "LayoutModel",
       "_view_count": null,
       "_view_module": "@jupyter-widgets/base",
       "_view_module_version": "1.2.0",
       "_view_name": "LayoutView",
       "align_content": null,
       "align_items": null,
       "align_self": null,
       "border": null,
       "bottom": null,
       "display": null,
       "flex": null,
       "flex_flow": null,
       "grid_area": null,
       "grid_auto_columns": null,
       "grid_auto_flow": null,
       "grid_auto_rows": null,
       "grid_column": null,
       "grid_gap": null,
       "grid_row": null,
       "grid_template_areas": null,
       "grid_template_columns": null,
       "grid_template_rows": null,
       "height": null,
       "justify_content": null,
       "justify_items": null,
       "left": null,
       "margin": null,
       "max_height": null,
       "max_width": null,
       "min_height": null,
       "min_width": null,
       "object_fit": null,
       "object_position": null,
       "order": null,
       "overflow": null,
       "overflow_x": null,
       "overflow_y": null,
       "padding": null,
       "right": null,
       "top": null,
       "visibility": null,
       "width": null
      }
     },
     "0bb543058eb7421e9afba38b2587c80f": {
      "model_module": "@jupyter-widgets/base",
      "model_module_version": "1.2.0",
      "model_name": "LayoutModel",
      "state": {
       "_model_module": "@jupyter-widgets/base",
       "_model_module_version": "1.2.0",
       "_model_name": "LayoutModel",
       "_view_count": null,
       "_view_module": "@jupyter-widgets/base",
       "_view_module_version": "1.2.0",
       "_view_name": "LayoutView",
       "align_content": null,
       "align_items": null,
       "align_self": null,
       "border": null,
       "bottom": null,
       "display": null,
       "flex": null,
       "flex_flow": null,
       "grid_area": null,
       "grid_auto_columns": null,
       "grid_auto_flow": null,
       "grid_auto_rows": null,
       "grid_column": null,
       "grid_gap": null,
       "grid_row": null,
       "grid_template_areas": null,
       "grid_template_columns": null,
       "grid_template_rows": null,
       "height": null,
       "justify_content": null,
       "justify_items": null,
       "left": null,
       "margin": null,
       "max_height": null,
       "max_width": null,
       "min_height": null,
       "min_width": null,
       "object_fit": null,
       "object_position": null,
       "order": null,
       "overflow": null,
       "overflow_x": null,
       "overflow_y": null,
       "padding": null,
       "right": null,
       "top": null,
       "visibility": null,
       "width": null
      }
     },
     "163dc986e74544c48c4385bb70a8ae9f": {
      "model_module": "@jupyter-widgets/controls",
      "model_module_version": "1.5.0",
      "model_name": "HTMLModel",
      "state": {
       "_dom_classes": [],
       "_model_module": "@jupyter-widgets/controls",
       "_model_module_version": "1.5.0",
       "_model_name": "HTMLModel",
       "_view_count": null,
       "_view_module": "@jupyter-widgets/controls",
       "_view_module_version": "1.5.0",
       "_view_name": "HTMLView",
       "description": "",
       "description_tooltip": null,
       "layout": "IPY_MODEL_26297340fbf84487b840a25501892975",
       "placeholder": "​",
       "style": "IPY_MODEL_f79c28cdd076435e97ffe10c926df6ed",
       "value": "spm.model: 100%"
      }
     },
     "192bc71bf8ca4af99d39808725d706e3": {
      "model_module": "@jupyter-widgets/controls",
      "model_module_version": "1.5.0",
      "model_name": "HBoxModel",
      "state": {
       "_dom_classes": [],
       "_model_module": "@jupyter-widgets/controls",
       "_model_module_version": "1.5.0",
       "_model_name": "HBoxModel",
       "_view_count": null,
       "_view_module": "@jupyter-widgets/controls",
       "_view_module_version": "1.5.0",
       "_view_name": "HBoxView",
       "box_style": "",
       "children": [
        "IPY_MODEL_62ec8b33b0ed4b5c869ef91c3b1c4b1c",
        "IPY_MODEL_86894c7ebaa24f87a2e16a1714359aef",
        "IPY_MODEL_4ae27d14a6fc41549f85cc9cea9ccc1d"
       ],
       "layout": "IPY_MODEL_2bf95029ec724b90beb4c0d7918fa648"
      }
     },
     "1d4ec16348e4409da88160f16ff30b47": {
      "model_module": "@jupyter-widgets/base",
      "model_module_version": "1.2.0",
      "model_name": "LayoutModel",
      "state": {
       "_model_module": "@jupyter-widgets/base",
       "_model_module_version": "1.2.0",
       "_model_name": "LayoutModel",
       "_view_count": null,
       "_view_module": "@jupyter-widgets/base",
       "_view_module_version": "1.2.0",
       "_view_name": "LayoutView",
       "align_content": null,
       "align_items": null,
       "align_self": null,
       "border": null,
       "bottom": null,
       "display": null,
       "flex": null,
       "flex_flow": null,
       "grid_area": null,
       "grid_auto_columns": null,
       "grid_auto_flow": null,
       "grid_auto_rows": null,
       "grid_column": null,
       "grid_gap": null,
       "grid_row": null,
       "grid_template_areas": null,
       "grid_template_columns": null,
       "grid_template_rows": null,
       "height": null,
       "justify_content": null,
       "justify_items": null,
       "left": null,
       "margin": null,
       "max_height": null,
       "max_width": null,
       "min_height": null,
       "min_width": null,
       "object_fit": null,
       "object_position": null,
       "order": null,
       "overflow": null,
       "overflow_x": null,
       "overflow_y": null,
       "padding": null,
       "right": null,
       "top": null,
       "visibility": null,
       "width": null
      }
     },
     "1edec086456f455d9831ce5db3318ac7": {
      "model_module": "@jupyter-widgets/controls",
      "model_module_version": "1.5.0",
      "model_name": "HTMLModel",
      "state": {
       "_dom_classes": [],
       "_model_module": "@jupyter-widgets/controls",
       "_model_module_version": "1.5.0",
       "_model_name": "HTMLModel",
       "_view_count": null,
       "_view_module": "@jupyter-widgets/controls",
       "_view_module_version": "1.5.0",
       "_view_name": "HTMLView",
       "description": "",
       "description_tooltip": null,
       "layout": "IPY_MODEL_6b9a243b01334b159a49848c3541b55c",
       "placeholder": "​",
       "style": "IPY_MODEL_52141ca0df614b9b9aafafb5357c92fe",
       "value": "config.json: 100%"
      }
     },
     "1f42ec907ecc44589f5fe858c2aa062f": {
      "model_module": "@jupyter-widgets/base",
      "model_module_version": "1.2.0",
      "model_name": "LayoutModel",
      "state": {
       "_model_module": "@jupyter-widgets/base",
       "_model_module_version": "1.2.0",
       "_model_name": "LayoutModel",
       "_view_count": null,
       "_view_module": "@jupyter-widgets/base",
       "_view_module_version": "1.2.0",
       "_view_name": "LayoutView",
       "align_content": null,
       "align_items": null,
       "align_self": null,
       "border": null,
       "bottom": null,
       "display": null,
       "flex": null,
       "flex_flow": null,
       "grid_area": null,
       "grid_auto_columns": null,
       "grid_auto_flow": null,
       "grid_auto_rows": null,
       "grid_column": null,
       "grid_gap": null,
       "grid_row": null,
       "grid_template_areas": null,
       "grid_template_columns": null,
       "grid_template_rows": null,
       "height": null,
       "justify_content": null,
       "justify_items": null,
       "left": null,
       "margin": null,
       "max_height": null,
       "max_width": null,
       "min_height": null,
       "min_width": null,
       "object_fit": null,
       "object_position": null,
       "order": null,
       "overflow": null,
       "overflow_x": null,
       "overflow_y": null,
       "padding": null,
       "right": null,
       "top": null,
       "visibility": null,
       "width": null
      }
     },
     "26297340fbf84487b840a25501892975": {
      "model_module": "@jupyter-widgets/base",
      "model_module_version": "1.2.0",
      "model_name": "LayoutModel",
      "state": {
       "_model_module": "@jupyter-widgets/base",
       "_model_module_version": "1.2.0",
       "_model_name": "LayoutModel",
       "_view_count": null,
       "_view_module": "@jupyter-widgets/base",
       "_view_module_version": "1.2.0",
       "_view_name": "LayoutView",
       "align_content": null,
       "align_items": null,
       "align_self": null,
       "border": null,
       "bottom": null,
       "display": null,
       "flex": null,
       "flex_flow": null,
       "grid_area": null,
       "grid_auto_columns": null,
       "grid_auto_flow": null,
       "grid_auto_rows": null,
       "grid_column": null,
       "grid_gap": null,
       "grid_row": null,
       "grid_template_areas": null,
       "grid_template_columns": null,
       "grid_template_rows": null,
       "height": null,
       "justify_content": null,
       "justify_items": null,
       "left": null,
       "margin": null,
       "max_height": null,
       "max_width": null,
       "min_height": null,
       "min_width": null,
       "object_fit": null,
       "object_position": null,
       "order": null,
       "overflow": null,
       "overflow_x": null,
       "overflow_y": null,
       "padding": null,
       "right": null,
       "top": null,
       "visibility": null,
       "width": null
      }
     },
     "290065de2af34e98ad669c1c668792b5": {
      "model_module": "@jupyter-widgets/controls",
      "model_module_version": "1.5.0",
      "model_name": "HTMLModel",
      "state": {
       "_dom_classes": [],
       "_model_module": "@jupyter-widgets/controls",
       "_model_module_version": "1.5.0",
       "_model_name": "HTMLModel",
       "_view_count": null,
       "_view_module": "@jupyter-widgets/controls",
       "_view_module_version": "1.5.0",
       "_view_name": "HTMLView",
       "description": "",
       "description_tooltip": null,
       "layout": "IPY_MODEL_2da0ffc5c7db438ca13b4918ec83e1b7",
       "placeholder": "​",
       "style": "IPY_MODEL_fedb7c711a5145dfb418946aca3a2674",
       "value": " 1701/1701 [00:37&lt;00:00, 113.15ex/s]"
      }
     },
     "2bf95029ec724b90beb4c0d7918fa648": {
      "model_module": "@jupyter-widgets/base",
      "model_module_version": "1.2.0",
      "model_name": "LayoutModel",
      "state": {
       "_model_module": "@jupyter-widgets/base",
       "_model_module_version": "1.2.0",
       "_model_name": "LayoutModel",
       "_view_count": null,
       "_view_module": "@jupyter-widgets/base",
       "_view_module_version": "1.2.0",
       "_view_name": "LayoutView",
       "align_content": null,
       "align_items": null,
       "align_self": null,
       "border": null,
       "bottom": null,
       "display": null,
       "flex": null,
       "flex_flow": null,
       "grid_area": null,
       "grid_auto_columns": null,
       "grid_auto_flow": null,
       "grid_auto_rows": null,
       "grid_column": null,
       "grid_gap": null,
       "grid_row": null,
       "grid_template_areas": null,
       "grid_template_columns": null,
       "grid_template_rows": null,
       "height": null,
       "justify_content": null,
       "justify_items": null,
       "left": null,
       "margin": null,
       "max_height": null,
       "max_width": null,
       "min_height": null,
       "min_width": null,
       "object_fit": null,
       "object_position": null,
       "order": null,
       "overflow": null,
       "overflow_x": null,
       "overflow_y": null,
       "padding": null,
       "right": null,
       "top": null,
       "visibility": null,
       "width": null
      }
     },
     "2da0ffc5c7db438ca13b4918ec83e1b7": {
      "model_module": "@jupyter-widgets/base",
      "model_module_version": "1.2.0",
      "model_name": "LayoutModel",
      "state": {
       "_model_module": "@jupyter-widgets/base",
       "_model_module_version": "1.2.0",
       "_model_name": "LayoutModel",
       "_view_count": null,
       "_view_module": "@jupyter-widgets/base",
       "_view_module_version": "1.2.0",
       "_view_name": "LayoutView",
       "align_content": null,
       "align_items": null,
       "align_self": null,
       "border": null,
       "bottom": null,
       "display": null,
       "flex": null,
       "flex_flow": null,
       "grid_area": null,
       "grid_auto_columns": null,
       "grid_auto_flow": null,
       "grid_auto_rows": null,
       "grid_column": null,
       "grid_gap": null,
       "grid_row": null,
       "grid_template_areas": null,
       "grid_template_columns": null,
       "grid_template_rows": null,
       "height": null,
       "justify_content": null,
       "justify_items": null,
       "left": null,
       "margin": null,
       "max_height": null,
       "max_width": null,
       "min_height": null,
       "min_width": null,
       "object_fit": null,
       "object_position": null,
       "order": null,
       "overflow": null,
       "overflow_x": null,
       "overflow_y": null,
       "padding": null,
       "right": null,
       "top": null,
       "visibility": null,
       "width": null
      }
     },
     "2df174ca009c4932a663c796ba6d1c8f": {
      "model_module": "@jupyter-widgets/base",
      "model_module_version": "1.2.0",
      "model_name": "LayoutModel",
      "state": {
       "_model_module": "@jupyter-widgets/base",
       "_model_module_version": "1.2.0",
       "_model_name": "LayoutModel",
       "_view_count": null,
       "_view_module": "@jupyter-widgets/base",
       "_view_module_version": "1.2.0",
       "_view_name": "LayoutView",
       "align_content": null,
       "align_items": null,
       "align_self": null,
       "border": null,
       "bottom": null,
       "display": null,
       "flex": null,
       "flex_flow": null,
       "grid_area": null,
       "grid_auto_columns": null,
       "grid_auto_flow": null,
       "grid_auto_rows": null,
       "grid_column": null,
       "grid_gap": null,
       "grid_row": null,
       "grid_template_areas": null,
       "grid_template_columns": null,
       "grid_template_rows": null,
       "height": null,
       "justify_content": null,
       "justify_items": null,
       "left": null,
       "margin": null,
       "max_height": null,
       "max_width": null,
       "min_height": null,
       "min_width": null,
       "object_fit": null,
       "object_position": null,
       "order": null,
       "overflow": null,
       "overflow_x": null,
       "overflow_y": null,
       "padding": null,
       "right": null,
       "top": null,
       "visibility": null,
       "width": null
      }
     },
     "31a7288749294cc88913cf4ad9ff71f8": {
      "model_module": "@jupyter-widgets/base",
      "model_module_version": "1.2.0",
      "model_name": "LayoutModel",
      "state": {
       "_model_module": "@jupyter-widgets/base",
       "_model_module_version": "1.2.0",
       "_model_name": "LayoutModel",
       "_view_count": null,
       "_view_module": "@jupyter-widgets/base",
       "_view_module_version": "1.2.0",
       "_view_name": "LayoutView",
       "align_content": null,
       "align_items": null,
       "align_self": null,
       "border": null,
       "bottom": null,
       "display": null,
       "flex": null,
       "flex_flow": null,
       "grid_area": null,
       "grid_auto_columns": null,
       "grid_auto_flow": null,
       "grid_auto_rows": null,
       "grid_column": null,
       "grid_gap": null,
       "grid_row": null,
       "grid_template_areas": null,
       "grid_template_columns": null,
       "grid_template_rows": null,
       "height": null,
       "justify_content": null,
       "justify_items": null,
       "left": null,
       "margin": null,
       "max_height": null,
       "max_width": null,
       "min_height": null,
       "min_width": null,
       "object_fit": null,
       "object_position": null,
       "order": null,
       "overflow": null,
       "overflow_x": null,
       "overflow_y": null,
       "padding": null,
       "right": null,
       "top": null,
       "visibility": null,
       "width": null
      }
     },
     "34676aea5db94834998fc3a1f8e7bfd2": {
      "model_module": "@jupyter-widgets/controls",
      "model_module_version": "1.5.0",
      "model_name": "DescriptionStyleModel",
      "state": {
       "_model_module": "@jupyter-widgets/controls",
       "_model_module_version": "1.5.0",
       "_model_name": "DescriptionStyleModel",
       "_view_count": null,
       "_view_module": "@jupyter-widgets/base",
       "_view_module_version": "1.2.0",
       "_view_name": "StyleView",
       "description_width": ""
      }
     },
     "3683ebb865ec48778c13354dd641d469": {
      "model_module": "@jupyter-widgets/controls",
      "model_module_version": "1.5.0",
      "model_name": "ProgressStyleModel",
      "state": {
       "_model_module": "@jupyter-widgets/controls",
       "_model_module_version": "1.5.0",
       "_model_name": "ProgressStyleModel",
       "_view_count": null,
       "_view_module": "@jupyter-widgets/base",
       "_view_module_version": "1.2.0",
       "_view_name": "StyleView",
       "bar_color": null,
       "description_width": ""
      }
     },
     "39b6525abbdb49bebb24e4b0fb755189": {
      "model_module": "@jupyter-widgets/controls",
      "model_module_version": "1.5.0",
      "model_name": "DescriptionStyleModel",
      "state": {
       "_model_module": "@jupyter-widgets/controls",
       "_model_module_version": "1.5.0",
       "_model_name": "DescriptionStyleModel",
       "_view_count": null,
       "_view_module": "@jupyter-widgets/base",
       "_view_module_version": "1.2.0",
       "_view_name": "StyleView",
       "description_width": ""
      }
     },
     "3ac51b9e8ad04ae0abe1e56563d496ae": {
      "model_module": "@jupyter-widgets/controls",
      "model_module_version": "1.5.0",
      "model_name": "FloatProgressModel",
      "state": {
       "_dom_classes": [],
       "_model_module": "@jupyter-widgets/controls",
       "_model_module_version": "1.5.0",
       "_model_name": "FloatProgressModel",
       "_view_count": null,
       "_view_module": "@jupyter-widgets/controls",
       "_view_module_version": "1.5.0",
       "_view_name": "ProgressView",
       "bar_style": "success",
       "description": "",
       "description_tooltip": null,
       "layout": "IPY_MODEL_7303e1f238074002a9792dff6ad1b2ba",
       "max": 1701.0,
       "min": 0.0,
       "orientation": "horizontal",
       "style": "IPY_MODEL_e61fd4431ff043629ab81dd1cc05e75e",
       "value": 1701.0
      }
     },
     "47348114894144d5824c299e3e3fc253": {
      "model_module": "@jupyter-widgets/controls",
      "model_module_version": "1.5.0",
      "model_name": "HBoxModel",
      "state": {
       "_dom_classes": [],
       "_model_module": "@jupyter-widgets/controls",
       "_model_module_version": "1.5.0",
       "_model_name": "HBoxModel",
       "_view_count": null,
       "_view_module": "@jupyter-widgets/controls",
       "_view_module_version": "1.5.0",
       "_view_name": "HBoxView",
       "box_style": "",
       "children": [
        "IPY_MODEL_9a5c4e76dbf2443cb8dafc1fd30894df",
        "IPY_MODEL_3ac51b9e8ad04ae0abe1e56563d496ae",
        "IPY_MODEL_290065de2af34e98ad669c1c668792b5"
       ],
       "layout": "IPY_MODEL_76ed109cf8144441b6e699b73721ec91"
      }
     },
     "4ae27d14a6fc41549f85cc9cea9ccc1d": {
      "model_module": "@jupyter-widgets/controls",
      "model_module_version": "1.5.0",
      "model_name": "HTMLModel",
      "state": {
       "_dom_classes": [],
       "_model_module": "@jupyter-widgets/controls",
       "_model_module_version": "1.5.0",
       "_model_name": "HTMLModel",
       "_view_count": null,
       "_view_module": "@jupyter-widgets/controls",
       "_view_module_version": "1.5.0",
       "_view_name": "HTMLView",
       "description": "",
       "description_tooltip": null,
       "layout": "IPY_MODEL_cfcec85f524541658d880329a360015c",
       "placeholder": "​",
       "style": "IPY_MODEL_deec8480efb44b90b1ace09464d63bb5",
       "value": " 1702/1702 [00:37&lt;00:00, 115.11ex/s]"
      }
     },
     "4fcfc71be8b74a47abc8ad807e93d71e": {
      "model_module": "@jupyter-widgets/controls",
      "model_module_version": "1.5.0",
      "model_name": "HTMLModel",
      "state": {
       "_dom_classes": [],
       "_model_module": "@jupyter-widgets/controls",
       "_model_module_version": "1.5.0",
       "_model_name": "HTMLModel",
       "_view_count": null,
       "_view_module": "@jupyter-widgets/controls",
       "_view_module_version": "1.5.0",
       "_view_name": "HTMLView",
       "description": "",
       "description_tooltip": null,
       "layout": "IPY_MODEL_d60a22b9472b4459b12a32077dee01da",
       "placeholder": "​",
       "style": "IPY_MODEL_39b6525abbdb49bebb24e4b0fb755189",
       "value": " 579/579 [00:00&lt;00:00, 51.5kB/s]"
      }
     },
     "506652086a484cc29c1819ef9f7c5ed5": {
      "model_module": "@jupyter-widgets/controls",
      "model_module_version": "1.5.0",
      "model_name": "HTMLModel",
      "state": {
       "_dom_classes": [],
       "_model_module": "@jupyter-widgets/controls",
       "_model_module_version": "1.5.0",
       "_model_name": "HTMLModel",
       "_view_count": null,
       "_view_module": "@jupyter-widgets/controls",
       "_view_module_version": "1.5.0",
       "_view_name": "HTMLView",
       "description": "",
       "description_tooltip": null,
       "layout": "IPY_MODEL_1f42ec907ecc44589f5fe858c2aa062f",
       "placeholder": "​",
       "style": "IPY_MODEL_d421e1b741ef42c394d7f191b6aba16b",
       "value": "tokenizer_config.json: 100%"
      }
     },
     "51ba39e3466f453db4d3a61e1b57550c": {
      "model_module": "@jupyter-widgets/controls",
      "model_module_version": "1.5.0",
      "model_name": "HBoxModel",
      "state": {
       "_dom_classes": [],
       "_model_module": "@jupyter-widgets/controls",
       "_model_module_version": "1.5.0",
       "_model_name": "HBoxModel",
       "_view_count": null,
       "_view_module": "@jupyter-widgets/controls",
       "_view_module_version": "1.5.0",
       "_view_name": "HBoxView",
       "box_style": "",
       "children": [
        "IPY_MODEL_1edec086456f455d9831ce5db3318ac7",
        "IPY_MODEL_bd0d4d04470140c6a428ac74c8e18fac",
        "IPY_MODEL_4fcfc71be8b74a47abc8ad807e93d71e"
       ],
       "layout": "IPY_MODEL_0a25c88bdbaf4bb48e8b8293831e6236"
      }
     },
     "52141ca0df614b9b9aafafb5357c92fe": {
      "model_module": "@jupyter-widgets/controls",
      "model_module_version": "1.5.0",
      "model_name": "DescriptionStyleModel",
      "state": {
       "_model_module": "@jupyter-widgets/controls",
       "_model_module_version": "1.5.0",
       "_model_name": "DescriptionStyleModel",
       "_view_count": null,
       "_view_module": "@jupyter-widgets/base",
       "_view_module_version": "1.2.0",
       "_view_name": "StyleView",
       "description_width": ""
      }
     },
     "53c28fd47c984cfa902d487fedef9748": {
      "model_module": "@jupyter-widgets/controls",
      "model_module_version": "1.5.0",
      "model_name": "HTMLModel",
      "state": {
       "_dom_classes": [],
       "_model_module": "@jupyter-widgets/controls",
       "_model_module_version": "1.5.0",
       "_model_name": "HTMLModel",
       "_view_count": null,
       "_view_module": "@jupyter-widgets/controls",
       "_view_module_version": "1.5.0",
       "_view_name": "HTMLView",
       "description": "",
       "description_tooltip": null,
       "layout": "IPY_MODEL_a16e5eaed7024117ac717b1fa28647a6",
       "placeholder": "​",
       "style": "IPY_MODEL_b3ae44c27bb9413b972da05797b665f8",
       "value": "pytorch_model.bin: 100%"
      }
     },
     "629e949a90ce4d3aa0db903fc7e4a683": {
      "model_module": "@jupyter-widgets/controls",
      "model_module_version": "1.5.0",
      "model_name": "ProgressStyleModel",
      "state": {
       "_model_module": "@jupyter-widgets/controls",
       "_model_module_version": "1.5.0",
       "_model_name": "ProgressStyleModel",
       "_view_count": null,
       "_view_module": "@jupyter-widgets/base",
       "_view_module_version": "1.2.0",
       "_view_name": "StyleView",
       "bar_color": null,
       "description_width": ""
      }
     },
     "62ec8b33b0ed4b5c869ef91c3b1c4b1c": {
      "model_module": "@jupyter-widgets/controls",
      "model_module_version": "1.5.0",
      "model_name": "HTMLModel",
      "state": {
       "_dom_classes": [],
       "_model_module": "@jupyter-widgets/controls",
       "_model_module_version": "1.5.0",
       "_model_name": "HTMLModel",
       "_view_count": null,
       "_view_module": "@jupyter-widgets/controls",
       "_view_module_version": "1.5.0",
       "_view_name": "HTMLView",
       "description": "",
       "description_tooltip": null,
       "layout": "IPY_MODEL_2df174ca009c4932a663c796ba6d1c8f",
       "placeholder": "​",
       "style": "IPY_MODEL_8d91691a56f74b3cb8177e8e3e846fdf",
       "value": "#0: 100%"
      }
     },
     "6b9a243b01334b159a49848c3541b55c": {
      "model_module": "@jupyter-widgets/base",
      "model_module_version": "1.2.0",
      "model_name": "LayoutModel",
      "state": {
       "_model_module": "@jupyter-widgets/base",
       "_model_module_version": "1.2.0",
       "_model_name": "LayoutModel",
       "_view_count": null,
       "_view_module": "@jupyter-widgets/base",
       "_view_module_version": "1.2.0",
       "_view_name": "LayoutView",
       "align_content": null,
       "align_items": null,
       "align_self": null,
       "border": null,
       "bottom": null,
       "display": null,
       "flex": null,
       "flex_flow": null,
       "grid_area": null,
       "grid_auto_columns": null,
       "grid_auto_flow": null,
       "grid_auto_rows": null,
       "grid_column": null,
       "grid_gap": null,
       "grid_row": null,
       "grid_template_areas": null,
       "grid_template_columns": null,
       "grid_template_rows": null,
       "height": null,
       "justify_content": null,
       "justify_items": null,
       "left": null,
       "margin": null,
       "max_height": null,
       "max_width": null,
       "min_height": null,
       "min_width": null,
       "object_fit": null,
       "object_position": null,
       "order": null,
       "overflow": null,
       "overflow_x": null,
       "overflow_y": null,
       "padding": null,
       "right": null,
       "top": null,
       "visibility": null,
       "width": null
      }
     },
     "7303e1f238074002a9792dff6ad1b2ba": {
      "model_module": "@jupyter-widgets/base",
      "model_module_version": "1.2.0",
      "model_name": "LayoutModel",
      "state": {
       "_model_module": "@jupyter-widgets/base",
       "_model_module_version": "1.2.0",
       "_model_name": "LayoutModel",
       "_view_count": null,
       "_view_module": "@jupyter-widgets/base",
       "_view_module_version": "1.2.0",
       "_view_name": "LayoutView",
       "align_content": null,
       "align_items": null,
       "align_self": null,
       "border": null,
       "bottom": null,
       "display": null,
       "flex": null,
       "flex_flow": null,
       "grid_area": null,
       "grid_auto_columns": null,
       "grid_auto_flow": null,
       "grid_auto_rows": null,
       "grid_column": null,
       "grid_gap": null,
       "grid_row": null,
       "grid_template_areas": null,
       "grid_template_columns": null,
       "grid_template_rows": null,
       "height": null,
       "justify_content": null,
       "justify_items": null,
       "left": null,
       "margin": null,
       "max_height": null,
       "max_width": null,
       "min_height": null,
       "min_width": null,
       "object_fit": null,
       "object_position": null,
       "order": null,
       "overflow": null,
       "overflow_x": null,
       "overflow_y": null,
       "padding": null,
       "right": null,
       "top": null,
       "visibility": null,
       "width": null
      }
     },
     "766ac2994fdd4292b89960207e85dea5": {
      "model_module": "@jupyter-widgets/base",
      "model_module_version": "1.2.0",
      "model_name": "LayoutModel",
      "state": {
       "_model_module": "@jupyter-widgets/base",
       "_model_module_version": "1.2.0",
       "_model_name": "LayoutModel",
       "_view_count": null,
       "_view_module": "@jupyter-widgets/base",
       "_view_module_version": "1.2.0",
       "_view_name": "LayoutView",
       "align_content": null,
       "align_items": null,
       "align_self": null,
       "border": null,
       "bottom": null,
       "display": null,
       "flex": null,
       "flex_flow": null,
       "grid_area": null,
       "grid_auto_columns": null,
       "grid_auto_flow": null,
       "grid_auto_rows": null,
       "grid_column": null,
       "grid_gap": null,
       "grid_row": null,
       "grid_template_areas": null,
       "grid_template_columns": null,
       "grid_template_rows": null,
       "height": null,
       "justify_content": null,
       "justify_items": null,
       "left": null,
       "margin": null,
       "max_height": null,
       "max_width": null,
       "min_height": null,
       "min_width": null,
       "object_fit": null,
       "object_position": null,
       "order": null,
       "overflow": null,
       "overflow_x": null,
       "overflow_y": null,
       "padding": null,
       "right": null,
       "top": null,
       "visibility": null,
       "width": null
      }
     },
     "76ed109cf8144441b6e699b73721ec91": {
      "model_module": "@jupyter-widgets/base",
      "model_module_version": "1.2.0",
      "model_name": "LayoutModel",
      "state": {
       "_model_module": "@jupyter-widgets/base",
       "_model_module_version": "1.2.0",
       "_model_name": "LayoutModel",
       "_view_count": null,
       "_view_module": "@jupyter-widgets/base",
       "_view_module_version": "1.2.0",
       "_view_name": "LayoutView",
       "align_content": null,
       "align_items": null,
       "align_self": null,
       "border": null,
       "bottom": null,
       "display": null,
       "flex": null,
       "flex_flow": null,
       "grid_area": null,
       "grid_auto_columns": null,
       "grid_auto_flow": null,
       "grid_auto_rows": null,
       "grid_column": null,
       "grid_gap": null,
       "grid_row": null,
       "grid_template_areas": null,
       "grid_template_columns": null,
       "grid_template_rows": null,
       "height": null,
       "justify_content": null,
       "justify_items": null,
       "left": null,
       "margin": null,
       "max_height": null,
       "max_width": null,
       "min_height": null,
       "min_width": null,
       "object_fit": null,
       "object_position": null,
       "order": null,
       "overflow": null,
       "overflow_x": null,
       "overflow_y": null,
       "padding": null,
       "right": null,
       "top": null,
       "visibility": null,
       "width": null
      }
     },
     "770dd486c5e54e04bf629c1fae36273e": {
      "model_module": "@jupyter-widgets/base",
      "model_module_version": "1.2.0",
      "model_name": "LayoutModel",
      "state": {
       "_model_module": "@jupyter-widgets/base",
       "_model_module_version": "1.2.0",
       "_model_name": "LayoutModel",
       "_view_count": null,
       "_view_module": "@jupyter-widgets/base",
       "_view_module_version": "1.2.0",
       "_view_name": "LayoutView",
       "align_content": null,
       "align_items": null,
       "align_self": null,
       "border": null,
       "bottom": null,
       "display": null,
       "flex": null,
       "flex_flow": null,
       "grid_area": null,
       "grid_auto_columns": null,
       "grid_auto_flow": null,
       "grid_auto_rows": null,
       "grid_column": null,
       "grid_gap": null,
       "grid_row": null,
       "grid_template_areas": null,
       "grid_template_columns": null,
       "grid_template_rows": null,
       "height": null,
       "justify_content": null,
       "justify_items": null,
       "left": null,
       "margin": null,
       "max_height": null,
       "max_width": null,
       "min_height": null,
       "min_width": null,
       "object_fit": null,
       "object_position": null,
       "order": null,
       "overflow": null,
       "overflow_x": null,
       "overflow_y": null,
       "padding": null,
       "right": null,
       "top": null,
       "visibility": null,
       "width": null
      }
     },
     "77d5a04dd33f43f68bde76ae92f73996": {
      "model_module": "@jupyter-widgets/controls",
      "model_module_version": "1.5.0",
      "model_name": "DescriptionStyleModel",
      "state": {
       "_model_module": "@jupyter-widgets/controls",
       "_model_module_version": "1.5.0",
       "_model_name": "DescriptionStyleModel",
       "_view_count": null,
       "_view_module": "@jupyter-widgets/base",
       "_view_module_version": "1.2.0",
       "_view_name": "StyleView",
       "description_width": ""
      }
     },
     "7bd28429e73e48b79b01b6946af9a449": {
      "model_module": "@jupyter-widgets/controls",
      "model_module_version": "1.5.0",
      "model_name": "HBoxModel",
      "state": {
       "_dom_classes": [],
       "_model_module": "@jupyter-widgets/controls",
       "_model_module_version": "1.5.0",
       "_model_name": "HBoxModel",
       "_view_count": null,
       "_view_module": "@jupyter-widgets/controls",
       "_view_module_version": "1.5.0",
       "_view_name": "HBoxView",
       "box_style": "",
       "children": [
        "IPY_MODEL_506652086a484cc29c1819ef9f7c5ed5",
        "IPY_MODEL_e77fb6fc083840e890225b4b2f704e7f",
        "IPY_MODEL_beea9576151e48f795d3a05b9632bec2"
       ],
       "layout": "IPY_MODEL_805e81876eaa46089988b3879592acd9"
      }
     },
     "805e81876eaa46089988b3879592acd9": {
      "model_module": "@jupyter-widgets/base",
      "model_module_version": "1.2.0",
      "model_name": "LayoutModel",
      "state": {
       "_model_module": "@jupyter-widgets/base",
       "_model_module_version": "1.2.0",
       "_model_name": "LayoutModel",
       "_view_count": null,
       "_view_module": "@jupyter-widgets/base",
       "_view_module_version": "1.2.0",
       "_view_name": "LayoutView",
       "align_content": null,
       "align_items": null,
       "align_self": null,
       "border": null,
       "bottom": null,
       "display": null,
       "flex": null,
       "flex_flow": null,
       "grid_area": null,
       "grid_auto_columns": null,
       "grid_auto_flow": null,
       "grid_auto_rows": null,
       "grid_column": null,
       "grid_gap": null,
       "grid_row": null,
       "grid_template_areas": null,
       "grid_template_columns": null,
       "grid_template_rows": null,
       "height": null,
       "justify_content": null,
       "justify_items": null,
       "left": null,
       "margin": null,
       "max_height": null,
       "max_width": null,
       "min_height": null,
       "min_width": null,
       "object_fit": null,
       "object_position": null,
       "order": null,
       "overflow": null,
       "overflow_x": null,
       "overflow_y": null,
       "padding": null,
       "right": null,
       "top": null,
       "visibility": null,
       "width": null
      }
     },
     "86894c7ebaa24f87a2e16a1714359aef": {
      "model_module": "@jupyter-widgets/controls",
      "model_module_version": "1.5.0",
      "model_name": "FloatProgressModel",
      "state": {
       "_dom_classes": [],
       "_model_module": "@jupyter-widgets/controls",
       "_model_module_version": "1.5.0",
       "_model_name": "FloatProgressModel",
       "_view_count": null,
       "_view_module": "@jupyter-widgets/controls",
       "_view_module_version": "1.5.0",
       "_view_name": "ProgressView",
       "bar_style": "success",
       "description": "",
       "description_tooltip": null,
       "layout": "IPY_MODEL_8bb003e2e0914aeca92bfa030749da0d",
       "max": 1702.0,
       "min": 0.0,
       "orientation": "horizontal",
       "style": "IPY_MODEL_9d00cf568be34adeb2e2fc0bc08b41fc",
       "value": 1702.0
      }
     },
     "8bb003e2e0914aeca92bfa030749da0d": {
      "model_module": "@jupyter-widgets/base",
      "model_module_version": "1.2.0",
      "model_name": "LayoutModel",
      "state": {
       "_model_module": "@jupyter-widgets/base",
       "_model_module_version": "1.2.0",
       "_model_name": "LayoutModel",
       "_view_count": null,
       "_view_module": "@jupyter-widgets/base",
       "_view_module_version": "1.2.0",
       "_view_name": "LayoutView",
       "align_content": null,
       "align_items": null,
       "align_self": null,
       "border": null,
       "bottom": null,
       "display": null,
       "flex": null,
       "flex_flow": null,
       "grid_area": null,
       "grid_auto_columns": null,
       "grid_auto_flow": null,
       "grid_auto_rows": null,
       "grid_column": null,
       "grid_gap": null,
       "grid_row": null,
       "grid_template_areas": null,
       "grid_template_columns": null,
       "grid_template_rows": null,
       "height": null,
       "justify_content": null,
       "justify_items": null,
       "left": null,
       "margin": null,
       "max_height": null,
       "max_width": null,
       "min_height": null,
       "min_width": null,
       "object_fit": null,
       "object_position": null,
       "order": null,
       "overflow": null,
       "overflow_x": null,
       "overflow_y": null,
       "padding": null,
       "right": null,
       "top": null,
       "visibility": null,
       "width": null
      }
     },
     "8d91691a56f74b3cb8177e8e3e846fdf": {
      "model_module": "@jupyter-widgets/controls",
      "model_module_version": "1.5.0",
      "model_name": "DescriptionStyleModel",
      "state": {
       "_model_module": "@jupyter-widgets/controls",
       "_model_module_version": "1.5.0",
       "_model_name": "DescriptionStyleModel",
       "_view_count": null,
       "_view_module": "@jupyter-widgets/base",
       "_view_module_version": "1.2.0",
       "_view_name": "StyleView",
       "description_width": ""
      }
     },
     "9846b5539fd1406db880812c82eb50e5": {
      "model_module": "@jupyter-widgets/controls",
      "model_module_version": "1.5.0",
      "model_name": "ProgressStyleModel",
      "state": {
       "_model_module": "@jupyter-widgets/controls",
       "_model_module_version": "1.5.0",
       "_model_name": "ProgressStyleModel",
       "_view_count": null,
       "_view_module": "@jupyter-widgets/base",
       "_view_module_version": "1.2.0",
       "_view_name": "StyleView",
       "bar_color": null,
       "description_width": ""
      }
     },
     "9a5c4e76dbf2443cb8dafc1fd30894df": {
      "model_module": "@jupyter-widgets/controls",
      "model_module_version": "1.5.0",
      "model_name": "HTMLModel",
      "state": {
       "_dom_classes": [],
       "_model_module": "@jupyter-widgets/controls",
       "_model_module_version": "1.5.0",
       "_model_name": "HTMLModel",
       "_view_count": null,
       "_view_module": "@jupyter-widgets/controls",
       "_view_module_version": "1.5.0",
       "_view_name": "HTMLView",
       "description": "",
       "description_tooltip": null,
       "layout": "IPY_MODEL_b36d9726a7ba4f69a3cef9ac7e8a63df",
       "placeholder": "​",
       "style": "IPY_MODEL_34676aea5db94834998fc3a1f8e7bfd2",
       "value": "#1: 100%"
      }
     },
     "9d00cf568be34adeb2e2fc0bc08b41fc": {
      "model_module": "@jupyter-widgets/controls",
      "model_module_version": "1.5.0",
      "model_name": "ProgressStyleModel",
      "state": {
       "_model_module": "@jupyter-widgets/controls",
       "_model_module_version": "1.5.0",
       "_model_name": "ProgressStyleModel",
       "_view_count": null,
       "_view_module": "@jupyter-widgets/base",
       "_view_module_version": "1.2.0",
       "_view_name": "StyleView",
       "bar_color": null,
       "description_width": ""
      }
     },
     "9dbe3cc5f3dc43d6863a56478e223e75": {
      "model_module": "@jupyter-widgets/controls",
      "model_module_version": "1.5.0",
      "model_name": "DescriptionStyleModel",
      "state": {
       "_model_module": "@jupyter-widgets/controls",
       "_model_module_version": "1.5.0",
       "_model_name": "DescriptionStyleModel",
       "_view_count": null,
       "_view_module": "@jupyter-widgets/base",
       "_view_module_version": "1.2.0",
       "_view_name": "StyleView",
       "description_width": ""
      }
     },
     "a02950152c4d443c820337deacaccac2": {
      "model_module": "@jupyter-widgets/controls",
      "model_module_version": "1.5.0",
      "model_name": "HTMLModel",
      "state": {
       "_dom_classes": [],
       "_model_module": "@jupyter-widgets/controls",
       "_model_module_version": "1.5.0",
       "_model_name": "HTMLModel",
       "_view_count": null,
       "_view_module": "@jupyter-widgets/controls",
       "_view_module_version": "1.5.0",
       "_view_name": "HTMLView",
       "description": "",
       "description_tooltip": null,
       "layout": "IPY_MODEL_d3fbc8eccf2d4870aec9e1ca46be3216",
       "placeholder": "​",
       "style": "IPY_MODEL_f0a2ea5849cb4511b40e377e096f7f88",
       "value": " 371M/371M [00:02&lt;00:00, 197MB/s]"
      }
     },
     "a16e5eaed7024117ac717b1fa28647a6": {
      "model_module": "@jupyter-widgets/base",
      "model_module_version": "1.2.0",
      "model_name": "LayoutModel",
      "state": {
       "_model_module": "@jupyter-widgets/base",
       "_model_module_version": "1.2.0",
       "_model_name": "LayoutModel",
       "_view_count": null,
       "_view_module": "@jupyter-widgets/base",
       "_view_module_version": "1.2.0",
       "_view_name": "LayoutView",
       "align_content": null,
       "align_items": null,
       "align_self": null,
       "border": null,
       "bottom": null,
       "display": null,
       "flex": null,
       "flex_flow": null,
       "grid_area": null,
       "grid_auto_columns": null,
       "grid_auto_flow": null,
       "grid_auto_rows": null,
       "grid_column": null,
       "grid_gap": null,
       "grid_row": null,
       "grid_template_areas": null,
       "grid_template_columns": null,
       "grid_template_rows": null,
       "height": null,
       "justify_content": null,
       "justify_items": null,
       "left": null,
       "margin": null,
       "max_height": null,
       "max_width": null,
       "min_height": null,
       "min_width": null,
       "object_fit": null,
       "object_position": null,
       "order": null,
       "overflow": null,
       "overflow_x": null,
       "overflow_y": null,
       "padding": null,
       "right": null,
       "top": null,
       "visibility": null,
       "width": null
      }
     },
     "b36d9726a7ba4f69a3cef9ac7e8a63df": {
      "model_module": "@jupyter-widgets/base",
      "model_module_version": "1.2.0",
      "model_name": "LayoutModel",
      "state": {
       "_model_module": "@jupyter-widgets/base",
       "_model_module_version": "1.2.0",
       "_model_name": "LayoutModel",
       "_view_count": null,
       "_view_module": "@jupyter-widgets/base",
       "_view_module_version": "1.2.0",
       "_view_name": "LayoutView",
       "align_content": null,
       "align_items": null,
       "align_self": null,
       "border": null,
       "bottom": null,
       "display": null,
       "flex": null,
       "flex_flow": null,
       "grid_area": null,
       "grid_auto_columns": null,
       "grid_auto_flow": null,
       "grid_auto_rows": null,
       "grid_column": null,
       "grid_gap": null,
       "grid_row": null,
       "grid_template_areas": null,
       "grid_template_columns": null,
       "grid_template_rows": null,
       "height": null,
       "justify_content": null,
       "justify_items": null,
       "left": null,
       "margin": null,
       "max_height": null,
       "max_width": null,
       "min_height": null,
       "min_width": null,
       "object_fit": null,
       "object_position": null,
       "order": null,
       "overflow": null,
       "overflow_x": null,
       "overflow_y": null,
       "padding": null,
       "right": null,
       "top": null,
       "visibility": null,
       "width": null
      }
     },
     "b3ae44c27bb9413b972da05797b665f8": {
      "model_module": "@jupyter-widgets/controls",
      "model_module_version": "1.5.0",
      "model_name": "DescriptionStyleModel",
      "state": {
       "_model_module": "@jupyter-widgets/controls",
       "_model_module_version": "1.5.0",
       "_model_name": "DescriptionStyleModel",
       "_view_count": null,
       "_view_module": "@jupyter-widgets/base",
       "_view_module_version": "1.2.0",
       "_view_name": "StyleView",
       "description_width": ""
      }
     },
     "bd0d4d04470140c6a428ac74c8e18fac": {
      "model_module": "@jupyter-widgets/controls",
      "model_module_version": "1.5.0",
      "model_name": "FloatProgressModel",
      "state": {
       "_dom_classes": [],
       "_model_module": "@jupyter-widgets/controls",
       "_model_module_version": "1.5.0",
       "_model_name": "FloatProgressModel",
       "_view_count": null,
       "_view_module": "@jupyter-widgets/controls",
       "_view_module_version": "1.5.0",
       "_view_name": "ProgressView",
       "bar_style": "success",
       "description": "",
       "description_tooltip": null,
       "layout": "IPY_MODEL_f3801f09362b42058f147d51ccfe6ecf",
       "max": 579.0,
       "min": 0.0,
       "orientation": "horizontal",
       "style": "IPY_MODEL_9846b5539fd1406db880812c82eb50e5",
       "value": 579.0
      }
     },
     "beea9576151e48f795d3a05b9632bec2": {
      "model_module": "@jupyter-widgets/controls",
      "model_module_version": "1.5.0",
      "model_name": "HTMLModel",
      "state": {
       "_dom_classes": [],
       "_model_module": "@jupyter-widgets/controls",
       "_model_module_version": "1.5.0",
       "_model_name": "HTMLModel",
       "_view_count": null,
       "_view_module": "@jupyter-widgets/controls",
       "_view_module_version": "1.5.0",
       "_view_name": "HTMLView",
       "description": "",
       "description_tooltip": null,
       "layout": "IPY_MODEL_c610e6e73baa4f09823a8486c33f7eec",
       "placeholder": "​",
       "style": "IPY_MODEL_77d5a04dd33f43f68bde76ae92f73996",
       "value": " 52.0/52.0 [00:00&lt;00:00, 4.27kB/s]"
      }
     },
     "c235af4a1e6042c9ace829c32cf00a2c": {
      "model_module": "@jupyter-widgets/base",
      "model_module_version": "1.2.0",
      "model_name": "LayoutModel",
      "state": {
       "_model_module": "@jupyter-widgets/base",
       "_model_module_version": "1.2.0",
       "_model_name": "LayoutModel",
       "_view_count": null,
       "_view_module": "@jupyter-widgets/base",
       "_view_module_version": "1.2.0",
       "_view_name": "LayoutView",
       "align_content": null,
       "align_items": null,
       "align_self": null,
       "border": null,
       "bottom": null,
       "display": null,
       "flex": null,
       "flex_flow": null,
       "grid_area": null,
       "grid_auto_columns": null,
       "grid_auto_flow": null,
       "grid_auto_rows": null,
       "grid_column": null,
       "grid_gap": null,
       "grid_row": null,
       "grid_template_areas": null,
       "grid_template_columns": null,
       "grid_template_rows": null,
       "height": null,
       "justify_content": null,
       "justify_items": null,
       "left": null,
       "margin": null,
       "max_height": null,
       "max_width": null,
       "min_height": null,
       "min_width": null,
       "object_fit": null,
       "object_position": null,
       "order": null,
       "overflow": null,
       "overflow_x": null,
       "overflow_y": null,
       "padding": null,
       "right": null,
       "top": null,
       "visibility": null,
       "width": null
      }
     },
     "c4eb14a558474f0eb5076e3f33706102": {
      "model_module": "@jupyter-widgets/controls",
      "model_module_version": "1.5.0",
      "model_name": "HTMLModel",
      "state": {
       "_dom_classes": [],
       "_model_module": "@jupyter-widgets/controls",
       "_model_module_version": "1.5.0",
       "_model_name": "HTMLModel",
       "_view_count": null,
       "_view_module": "@jupyter-widgets/controls",
       "_view_module_version": "1.5.0",
       "_view_name": "HTMLView",
       "description": "",
       "description_tooltip": null,
       "layout": "IPY_MODEL_0bb543058eb7421e9afba38b2587c80f",
       "placeholder": "​",
       "style": "IPY_MODEL_9dbe3cc5f3dc43d6863a56478e223e75",
       "value": " 2.46M/2.46M [00:00&lt;00:00, 26.1MB/s]"
      }
     },
     "c5590c90f6be47dda46ffad3ee3e2853": {
      "model_module": "@jupyter-widgets/controls",
      "model_module_version": "1.5.0",
      "model_name": "HBoxModel",
      "state": {
       "_dom_classes": [],
       "_model_module": "@jupyter-widgets/controls",
       "_model_module_version": "1.5.0",
       "_model_name": "HBoxModel",
       "_view_count": null,
       "_view_module": "@jupyter-widgets/controls",
       "_view_module_version": "1.5.0",
       "_view_name": "HBoxView",
       "box_style": "",
       "children": [
        "IPY_MODEL_53c28fd47c984cfa902d487fedef9748",
        "IPY_MODEL_050f9e5a86bd45d887cb013080252c6f",
        "IPY_MODEL_a02950152c4d443c820337deacaccac2"
       ],
       "layout": "IPY_MODEL_1d4ec16348e4409da88160f16ff30b47"
      }
     },
     "c610e6e73baa4f09823a8486c33f7eec": {
      "model_module": "@jupyter-widgets/base",
      "model_module_version": "1.2.0",
      "model_name": "LayoutModel",
      "state": {
       "_model_module": "@jupyter-widgets/base",
       "_model_module_version": "1.2.0",
       "_model_name": "LayoutModel",
       "_view_count": null,
       "_view_module": "@jupyter-widgets/base",
       "_view_module_version": "1.2.0",
       "_view_name": "LayoutView",
       "align_content": null,
       "align_items": null,
       "align_self": null,
       "border": null,
       "bottom": null,
       "display": null,
       "flex": null,
       "flex_flow": null,
       "grid_area": null,
       "grid_auto_columns": null,
       "grid_auto_flow": null,
       "grid_auto_rows": null,
       "grid_column": null,
       "grid_gap": null,
       "grid_row": null,
       "grid_template_areas": null,
       "grid_template_columns": null,
       "grid_template_rows": null,
       "height": null,
       "justify_content": null,
       "justify_items": null,
       "left": null,
       "margin": null,
       "max_height": null,
       "max_width": null,
       "min_height": null,
       "min_width": null,
       "object_fit": null,
       "object_position": null,
       "order": null,
       "overflow": null,
       "overflow_x": null,
       "overflow_y": null,
       "padding": null,
       "right": null,
       "top": null,
       "visibility": null,
       "width": null
      }
     },
     "ce71335af1304e1a8e235bc8d8eed316": {
      "model_module": "@jupyter-widgets/controls",
      "model_module_version": "1.5.0",
      "model_name": "HBoxModel",
      "state": {
       "_dom_classes": [],
       "_model_module": "@jupyter-widgets/controls",
       "_model_module_version": "1.5.0",
       "_model_name": "HBoxModel",
       "_view_count": null,
       "_view_module": "@jupyter-widgets/controls",
       "_view_module_version": "1.5.0",
       "_view_name": "HBoxView",
       "box_style": "",
       "children": [
        "IPY_MODEL_163dc986e74544c48c4385bb70a8ae9f",
        "IPY_MODEL_fa583a2faafe4d5283b8647d082623a7",
        "IPY_MODEL_c4eb14a558474f0eb5076e3f33706102"
       ],
       "layout": "IPY_MODEL_c235af4a1e6042c9ace829c32cf00a2c"
      }
     },
     "cfcec85f524541658d880329a360015c": {
      "model_module": "@jupyter-widgets/base",
      "model_module_version": "1.2.0",
      "model_name": "LayoutModel",
      "state": {
       "_model_module": "@jupyter-widgets/base",
       "_model_module_version": "1.2.0",
       "_model_name": "LayoutModel",
       "_view_count": null,
       "_view_module": "@jupyter-widgets/base",
       "_view_module_version": "1.2.0",
       "_view_name": "LayoutView",
       "align_content": null,
       "align_items": null,
       "align_self": null,
       "border": null,
       "bottom": null,
       "display": null,
       "flex": null,
       "flex_flow": null,
       "grid_area": null,
       "grid_auto_columns": null,
       "grid_auto_flow": null,
       "grid_auto_rows": null,
       "grid_column": null,
       "grid_gap": null,
       "grid_row": null,
       "grid_template_areas": null,
       "grid_template_columns": null,
       "grid_template_rows": null,
       "height": null,
       "justify_content": null,
       "justify_items": null,
       "left": null,
       "margin": null,
       "max_height": null,
       "max_width": null,
       "min_height": null,
       "min_width": null,
       "object_fit": null,
       "object_position": null,
       "order": null,
       "overflow": null,
       "overflow_x": null,
       "overflow_y": null,
       "padding": null,
       "right": null,
       "top": null,
       "visibility": null,
       "width": null
      }
     },
     "d3fbc8eccf2d4870aec9e1ca46be3216": {
      "model_module": "@jupyter-widgets/base",
      "model_module_version": "1.2.0",
      "model_name": "LayoutModel",
      "state": {
       "_model_module": "@jupyter-widgets/base",
       "_model_module_version": "1.2.0",
       "_model_name": "LayoutModel",
       "_view_count": null,
       "_view_module": "@jupyter-widgets/base",
       "_view_module_version": "1.2.0",
       "_view_name": "LayoutView",
       "align_content": null,
       "align_items": null,
       "align_self": null,
       "border": null,
       "bottom": null,
       "display": null,
       "flex": null,
       "flex_flow": null,
       "grid_area": null,
       "grid_auto_columns": null,
       "grid_auto_flow": null,
       "grid_auto_rows": null,
       "grid_column": null,
       "grid_gap": null,
       "grid_row": null,
       "grid_template_areas": null,
       "grid_template_columns": null,
       "grid_template_rows": null,
       "height": null,
       "justify_content": null,
       "justify_items": null,
       "left": null,
       "margin": null,
       "max_height": null,
       "max_width": null,
       "min_height": null,
       "min_width": null,
       "object_fit": null,
       "object_position": null,
       "order": null,
       "overflow": null,
       "overflow_x": null,
       "overflow_y": null,
       "padding": null,
       "right": null,
       "top": null,
       "visibility": null,
       "width": null
      }
     },
     "d421e1b741ef42c394d7f191b6aba16b": {
      "model_module": "@jupyter-widgets/controls",
      "model_module_version": "1.5.0",
      "model_name": "DescriptionStyleModel",
      "state": {
       "_model_module": "@jupyter-widgets/controls",
       "_model_module_version": "1.5.0",
       "_model_name": "DescriptionStyleModel",
       "_view_count": null,
       "_view_module": "@jupyter-widgets/base",
       "_view_module_version": "1.2.0",
       "_view_name": "StyleView",
       "description_width": ""
      }
     },
     "d60a22b9472b4459b12a32077dee01da": {
      "model_module": "@jupyter-widgets/base",
      "model_module_version": "1.2.0",
      "model_name": "LayoutModel",
      "state": {
       "_model_module": "@jupyter-widgets/base",
       "_model_module_version": "1.2.0",
       "_model_name": "LayoutModel",
       "_view_count": null,
       "_view_module": "@jupyter-widgets/base",
       "_view_module_version": "1.2.0",
       "_view_name": "LayoutView",
       "align_content": null,
       "align_items": null,
       "align_self": null,
       "border": null,
       "bottom": null,
       "display": null,
       "flex": null,
       "flex_flow": null,
       "grid_area": null,
       "grid_auto_columns": null,
       "grid_auto_flow": null,
       "grid_auto_rows": null,
       "grid_column": null,
       "grid_gap": null,
       "grid_row": null,
       "grid_template_areas": null,
       "grid_template_columns": null,
       "grid_template_rows": null,
       "height": null,
       "justify_content": null,
       "justify_items": null,
       "left": null,
       "margin": null,
       "max_height": null,
       "max_width": null,
       "min_height": null,
       "min_width": null,
       "object_fit": null,
       "object_position": null,
       "order": null,
       "overflow": null,
       "overflow_x": null,
       "overflow_y": null,
       "padding": null,
       "right": null,
       "top": null,
       "visibility": null,
       "width": null
      }
     },
     "de7764c7f7a64022b9dd82a5fbbce9ba": {
      "model_module": "@jupyter-widgets/controls",
      "model_module_version": "1.5.0",
      "model_name": "ProgressStyleModel",
      "state": {
       "_model_module": "@jupyter-widgets/controls",
       "_model_module_version": "1.5.0",
       "_model_name": "ProgressStyleModel",
       "_view_count": null,
       "_view_module": "@jupyter-widgets/base",
       "_view_module_version": "1.2.0",
       "_view_name": "StyleView",
       "bar_color": null,
       "description_width": ""
      }
     },
     "deec8480efb44b90b1ace09464d63bb5": {
      "model_module": "@jupyter-widgets/controls",
      "model_module_version": "1.5.0",
      "model_name": "DescriptionStyleModel",
      "state": {
       "_model_module": "@jupyter-widgets/controls",
       "_model_module_version": "1.5.0",
       "_model_name": "DescriptionStyleModel",
       "_view_count": null,
       "_view_module": "@jupyter-widgets/base",
       "_view_module_version": "1.2.0",
       "_view_name": "StyleView",
       "description_width": ""
      }
     },
     "e61fd4431ff043629ab81dd1cc05e75e": {
      "model_module": "@jupyter-widgets/controls",
      "model_module_version": "1.5.0",
      "model_name": "ProgressStyleModel",
      "state": {
       "_model_module": "@jupyter-widgets/controls",
       "_model_module_version": "1.5.0",
       "_model_name": "ProgressStyleModel",
       "_view_count": null,
       "_view_module": "@jupyter-widgets/base",
       "_view_module_version": "1.2.0",
       "_view_name": "StyleView",
       "bar_color": null,
       "description_width": ""
      }
     },
     "e77fb6fc083840e890225b4b2f704e7f": {
      "model_module": "@jupyter-widgets/controls",
      "model_module_version": "1.5.0",
      "model_name": "FloatProgressModel",
      "state": {
       "_dom_classes": [],
       "_model_module": "@jupyter-widgets/controls",
       "_model_module_version": "1.5.0",
       "_model_name": "FloatProgressModel",
       "_view_count": null,
       "_view_module": "@jupyter-widgets/controls",
       "_view_module_version": "1.5.0",
       "_view_name": "ProgressView",
       "bar_style": "success",
       "description": "",
       "description_tooltip": null,
       "layout": "IPY_MODEL_31a7288749294cc88913cf4ad9ff71f8",
       "max": 52.0,
       "min": 0.0,
       "orientation": "horizontal",
       "style": "IPY_MODEL_de7764c7f7a64022b9dd82a5fbbce9ba",
       "value": 52.0
      }
     },
     "f0a2ea5849cb4511b40e377e096f7f88": {
      "model_module": "@jupyter-widgets/controls",
      "model_module_version": "1.5.0",
      "model_name": "DescriptionStyleModel",
      "state": {
       "_model_module": "@jupyter-widgets/controls",
       "_model_module_version": "1.5.0",
       "_model_name": "DescriptionStyleModel",
       "_view_count": null,
       "_view_module": "@jupyter-widgets/base",
       "_view_module_version": "1.2.0",
       "_view_name": "StyleView",
       "description_width": ""
      }
     },
     "f3801f09362b42058f147d51ccfe6ecf": {
      "model_module": "@jupyter-widgets/base",
      "model_module_version": "1.2.0",
      "model_name": "LayoutModel",
      "state": {
       "_model_module": "@jupyter-widgets/base",
       "_model_module_version": "1.2.0",
       "_model_name": "LayoutModel",
       "_view_count": null,
       "_view_module": "@jupyter-widgets/base",
       "_view_module_version": "1.2.0",
       "_view_name": "LayoutView",
       "align_content": null,
       "align_items": null,
       "align_self": null,
       "border": null,
       "bottom": null,
       "display": null,
       "flex": null,
       "flex_flow": null,
       "grid_area": null,
       "grid_auto_columns": null,
       "grid_auto_flow": null,
       "grid_auto_rows": null,
       "grid_column": null,
       "grid_gap": null,
       "grid_row": null,
       "grid_template_areas": null,
       "grid_template_columns": null,
       "grid_template_rows": null,
       "height": null,
       "justify_content": null,
       "justify_items": null,
       "left": null,
       "margin": null,
       "max_height": null,
       "max_width": null,
       "min_height": null,
       "min_width": null,
       "object_fit": null,
       "object_position": null,
       "order": null,
       "overflow": null,
       "overflow_x": null,
       "overflow_y": null,
       "padding": null,
       "right": null,
       "top": null,
       "visibility": null,
       "width": null
      }
     },
     "f79c28cdd076435e97ffe10c926df6ed": {
      "model_module": "@jupyter-widgets/controls",
      "model_module_version": "1.5.0",
      "model_name": "DescriptionStyleModel",
      "state": {
       "_model_module": "@jupyter-widgets/controls",
       "_model_module_version": "1.5.0",
       "_model_name": "DescriptionStyleModel",
       "_view_count": null,
       "_view_module": "@jupyter-widgets/base",
       "_view_module_version": "1.2.0",
       "_view_name": "StyleView",
       "description_width": ""
      }
     },
     "fa583a2faafe4d5283b8647d082623a7": {
      "model_module": "@jupyter-widgets/controls",
      "model_module_version": "1.5.0",
      "model_name": "FloatProgressModel",
      "state": {
       "_dom_classes": [],
       "_model_module": "@jupyter-widgets/controls",
       "_model_module_version": "1.5.0",
       "_model_name": "FloatProgressModel",
       "_view_count": null,
       "_view_module": "@jupyter-widgets/controls",
       "_view_module_version": "1.5.0",
       "_view_name": "ProgressView",
       "bar_style": "success",
       "description": "",
       "description_tooltip": null,
       "layout": "IPY_MODEL_766ac2994fdd4292b89960207e85dea5",
       "max": 2464616.0,
       "min": 0.0,
       "orientation": "horizontal",
       "style": "IPY_MODEL_629e949a90ce4d3aa0db903fc7e4a683",
       "value": 2464616.0
      }
     },
     "fedb7c711a5145dfb418946aca3a2674": {
      "model_module": "@jupyter-widgets/controls",
      "model_module_version": "1.5.0",
      "model_name": "DescriptionStyleModel",
      "state": {
       "_model_module": "@jupyter-widgets/controls",
       "_model_module_version": "1.5.0",
       "_model_name": "DescriptionStyleModel",
       "_view_count": null,
       "_view_module": "@jupyter-widgets/base",
       "_view_module_version": "1.2.0",
       "_view_name": "StyleView",
       "description_width": ""
      }
     }
    },
    "version_major": 2,
    "version_minor": 0
   }
  }
 },
 "nbformat": 4,
 "nbformat_minor": 5
}
